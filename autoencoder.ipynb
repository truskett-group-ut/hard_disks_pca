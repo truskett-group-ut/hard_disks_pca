{
 "cells": [
  {
   "cell_type": "code",
   "execution_count": 1,
   "metadata": {},
   "outputs": [
    {
     "name": "stdout",
     "output_type": "stream",
     "text": [
      "The history saving thread hit an unexpected error (DatabaseError('database disk image is malformed',)).History will not be written to the database.\n"
     ]
    }
   ],
   "source": [
    "from analysis_tools.read_traj import ReadTraj\n",
    "from analysis_tools.feature_creation import FrameToFeaturesPosition, TrajectoryToFeaturesPosition\n",
    "from analysis_tools.feature_creation import FrameToFeaturesComposition, TrajectoryToFeaturesComposition\n",
    "from analysis_tools.radial_distribution_function import RDF, PositionalSuceptibility\n",
    "from analysis_tools.reservoir_sampler import ReservoirSampler\n",
    "from analysis_tools.defect_analysis import DefectStats\n",
    "from analysis_tools.pop2d import POP2D\n",
    "import gc\n",
    "from IPython.display import clear_output\n",
    "import h5py"
   ]
  },
  {
   "cell_type": "code",
   "execution_count": 2,
   "metadata": {
    "collapsed": true
   },
   "outputs": [],
   "source": [
    "%load_ext autoreload"
   ]
  },
  {
   "cell_type": "code",
   "execution_count": 3,
   "metadata": {
    "collapsed": true
   },
   "outputs": [],
   "source": [
    "%autoreload 2"
   ]
  },
  {
   "cell_type": "code",
   "execution_count": 4,
   "metadata": {
    "collapsed": true
   },
   "outputs": [],
   "source": [
    "def DownSampleFrames(frames, frame_samples):\n",
    "    return frames[0::max(len(frames)/frame_samples, 1)][0:frame_samples]"
   ]
  },
  {
   "cell_type": "markdown",
   "metadata": {},
   "source": [
    "## Specify the conditions"
   ]
  },
  {
   "cell_type": "code",
   "execution_count": 5,
   "metadata": {
    "collapsed": true
   },
   "outputs": [],
   "source": [
    "from numpy import arange, array"
   ]
  },
  {
   "cell_type": "code",
   "execution_count": null,
   "metadata": {
    "collapsed": true
   },
   "outputs": [],
   "source": [
    "#VERSION FOR PAPER I\n",
    "N_nn = 3200 #number of nearest neighbors for pca analysis\n",
    "split = 1 #chunks the data up so it can be processed by the pca tool if really large\n",
    "nn_inc = 10 #1 (full in paper) #reduces the number of nearest neighbors to include as features\n",
    "remove_types = []\n",
    "shuffle_data = True\n",
    "N_batch = 1\n",
    "batches_per_frame = 1 "
   ]
  },
  {
   "cell_type": "code",
   "execution_count": 275,
   "metadata": {
    "collapsed": true
   },
   "outputs": [],
   "source": [
    "#TEST\n",
    "N_nn = 29 #number of nearest neighbors for pca analysis\n",
    "split = 1 #chunks the data up so it can be processed by the pca tool if really large\n",
    "nn_inc = 1 #1 (full in paper) #reduces the number of nearest neighbors to include as features\n",
    "remove_types = []\n",
    "shuffle_data = True\n",
    "N_batch = 1\n",
    "batches_per_frame = 1 #10 #5"
   ]
  },
  {
   "cell_type": "code",
   "execution_count": 7,
   "metadata": {
    "collapsed": true
   },
   "outputs": [],
   "source": [
    "#specify what data to read in and process\n",
    "traj_type = 'gsd'\n",
    "file_data = [(arange(0.550, 0.690001, 0.005), '../hoomd_disks/trajectories_4000p', 400), \n",
    "             (arange(0.695, 0.820001, 0.005),'../hoomd_disks/trajectories_4000p_longer', 400)]"
   ]
  },
  {
   "cell_type": "code",
   "execution_count": 8,
   "metadata": {
    "collapsed": true
   },
   "outputs": [],
   "source": [
    "#actual data\n",
    "etas = []\n",
    "[etas.extend(etas_) for etas_, _, _ in file_data]\n",
    "etas = array(etas)\n",
    "color_ids = []\n",
    "[color_ids.extend(len(data[0])*[count]) for count, data in zip(range(len(file_data)), file_data)]\n",
    "color_ids = array(color_ids)"
   ]
  },
  {
   "cell_type": "markdown",
   "metadata": {},
   "source": [
    "## Read in the data"
   ]
  },
  {
   "cell_type": "code",
   "execution_count": 9,
   "metadata": {
    "collapsed": true
   },
   "outputs": [],
   "source": [
    "from numpy import array_split\n",
    "from sklearn.decomposition import IncrementalPCA"
   ]
  },
  {
   "cell_type": "code",
   "execution_count": 10,
   "metadata": {
    "scrolled": true
   },
   "outputs": [
    {
     "name": "stdout",
     "output_type": "stream",
     "text": [
      "COMPUTATION DETAILS\n",
      "file_base = ../hoomd_disks/trajectories_4000p\n",
      "eta = 0.55\n",
      "using 400 frames of 1000 total\n",
      "COMPUTATION DETAILS\n",
      "file_base = ../hoomd_disks/trajectories_4000p\n",
      "eta = 0.555\n",
      "using 400 frames of 1000 total\n",
      "COMPUTATION DETAILS\n",
      "file_base = ../hoomd_disks/trajectories_4000p\n",
      "eta = 0.56\n",
      "using 400 frames of 1000 total\n",
      "COMPUTATION DETAILS\n",
      "file_base = ../hoomd_disks/trajectories_4000p\n",
      "eta = 0.565\n",
      "using 400 frames of 1000 total\n",
      "COMPUTATION DETAILS\n",
      "file_base = ../hoomd_disks/trajectories_4000p\n",
      "eta = 0.57\n",
      "using 400 frames of 1000 total\n",
      "COMPUTATION DETAILS\n",
      "file_base = ../hoomd_disks/trajectories_4000p\n",
      "eta = 0.575\n",
      "using 400 frames of 1000 total\n",
      "COMPUTATION DETAILS\n",
      "file_base = ../hoomd_disks/trajectories_4000p\n",
      "eta = 0.58\n",
      "using 400 frames of 1000 total\n",
      "COMPUTATION DETAILS\n",
      "file_base = ../hoomd_disks/trajectories_4000p\n",
      "eta = 0.585\n",
      "using 400 frames of 1000 total\n",
      "COMPUTATION DETAILS\n",
      "file_base = ../hoomd_disks/trajectories_4000p\n",
      "eta = 0.59\n",
      "using 400 frames of 1000 total\n",
      "COMPUTATION DETAILS\n",
      "file_base = ../hoomd_disks/trajectories_4000p\n",
      "eta = 0.595\n",
      "using 400 frames of 1000 total\n",
      "COMPUTATION DETAILS\n",
      "file_base = ../hoomd_disks/trajectories_4000p\n",
      "eta = 0.6\n",
      "using 400 frames of 1000 total\n",
      "COMPUTATION DETAILS\n",
      "file_base = ../hoomd_disks/trajectories_4000p\n",
      "eta = 0.605\n",
      "using 400 frames of 1000 total\n",
      "COMPUTATION DETAILS\n",
      "file_base = ../hoomd_disks/trajectories_4000p\n",
      "eta = 0.61\n",
      "using 400 frames of 1000 total\n",
      "COMPUTATION DETAILS\n",
      "file_base = ../hoomd_disks/trajectories_4000p\n",
      "eta = 0.615\n",
      "using 400 frames of 1000 total\n",
      "COMPUTATION DETAILS\n",
      "file_base = ../hoomd_disks/trajectories_4000p\n",
      "eta = 0.62\n",
      "using 400 frames of 1000 total\n",
      "COMPUTATION DETAILS\n",
      "file_base = ../hoomd_disks/trajectories_4000p\n",
      "eta = 0.625\n",
      "using 400 frames of 1000 total\n",
      "COMPUTATION DETAILS\n",
      "file_base = ../hoomd_disks/trajectories_4000p\n",
      "eta = 0.63\n",
      "using 400 frames of 1000 total\n",
      "COMPUTATION DETAILS\n",
      "file_base = ../hoomd_disks/trajectories_4000p\n",
      "eta = 0.635\n",
      "using 400 frames of 1000 total\n",
      "COMPUTATION DETAILS\n",
      "file_base = ../hoomd_disks/trajectories_4000p\n",
      "eta = 0.64\n",
      "using 400 frames of 1000 total\n",
      "COMPUTATION DETAILS\n",
      "file_base = ../hoomd_disks/trajectories_4000p\n",
      "eta = 0.645\n",
      "using 400 frames of 1000 total\n",
      "COMPUTATION DETAILS\n",
      "file_base = ../hoomd_disks/trajectories_4000p\n",
      "eta = 0.65\n",
      "using 400 frames of 1000 total\n",
      "COMPUTATION DETAILS\n",
      "file_base = ../hoomd_disks/trajectories_4000p\n",
      "eta = 0.655\n",
      "using 400 frames of 1000 total\n",
      "COMPUTATION DETAILS\n",
      "file_base = ../hoomd_disks/trajectories_4000p\n",
      "eta = 0.66\n",
      "using 400 frames of 1000 total\n",
      "COMPUTATION DETAILS\n",
      "file_base = ../hoomd_disks/trajectories_4000p\n",
      "eta = 0.665\n",
      "using 400 frames of 1000 total\n",
      "COMPUTATION DETAILS\n",
      "file_base = ../hoomd_disks/trajectories_4000p\n",
      "eta = 0.67\n",
      "using 400 frames of 1000 total\n",
      "COMPUTATION DETAILS\n",
      "file_base = ../hoomd_disks/trajectories_4000p\n",
      "eta = 0.675\n",
      "using 400 frames of 1000 total\n",
      "COMPUTATION DETAILS\n",
      "file_base = ../hoomd_disks/trajectories_4000p\n",
      "eta = 0.68\n",
      "using 400 frames of 1000 total\n",
      "COMPUTATION DETAILS\n",
      "file_base = ../hoomd_disks/trajectories_4000p\n",
      "eta = 0.685\n",
      "using 400 frames of 1000 total\n",
      "COMPUTATION DETAILS\n",
      "file_base = ../hoomd_disks/trajectories_4000p\n",
      "eta = 0.69\n",
      "using 400 frames of 1000 total\n",
      "COMPUTATION DETAILS\n",
      "file_base = ../hoomd_disks/trajectories_4000p_longer\n",
      "eta = 0.695\n",
      "using 400 frames of 1000 total\n",
      "COMPUTATION DETAILS\n",
      "file_base = ../hoomd_disks/trajectories_4000p_longer\n",
      "eta = 0.7\n",
      "using 400 frames of 1000 total\n",
      "COMPUTATION DETAILS\n",
      "file_base = ../hoomd_disks/trajectories_4000p_longer\n",
      "eta = 0.705\n",
      "using 400 frames of 1000 total\n",
      "COMPUTATION DETAILS\n",
      "file_base = ../hoomd_disks/trajectories_4000p_longer\n",
      "eta = 0.71\n",
      "using 400 frames of 1000 total\n",
      "COMPUTATION DETAILS\n",
      "file_base = ../hoomd_disks/trajectories_4000p_longer\n",
      "eta = 0.715\n",
      "using 400 frames of 1000 total\n",
      "COMPUTATION DETAILS\n",
      "file_base = ../hoomd_disks/trajectories_4000p_longer\n",
      "eta = 0.72\n",
      "using 400 frames of 1000 total\n",
      "COMPUTATION DETAILS\n",
      "file_base = ../hoomd_disks/trajectories_4000p_longer\n",
      "eta = 0.725\n",
      "using 400 frames of 1000 total\n",
      "COMPUTATION DETAILS\n",
      "file_base = ../hoomd_disks/trajectories_4000p_longer\n",
      "eta = 0.73\n",
      "using 400 frames of 1000 total\n",
      "COMPUTATION DETAILS\n",
      "file_base = ../hoomd_disks/trajectories_4000p_longer\n",
      "eta = 0.735\n",
      "using 400 frames of 1000 total\n",
      "COMPUTATION DETAILS\n",
      "file_base = ../hoomd_disks/trajectories_4000p_longer\n",
      "eta = 0.74\n",
      "using 400 frames of 1000 total\n",
      "COMPUTATION DETAILS\n",
      "file_base = ../hoomd_disks/trajectories_4000p_longer\n",
      "eta = 0.745\n",
      "using 400 frames of 1000 total\n",
      "COMPUTATION DETAILS\n",
      "file_base = ../hoomd_disks/trajectories_4000p_longer\n",
      "eta = 0.75\n",
      "using 400 frames of 1000 total\n",
      "COMPUTATION DETAILS\n",
      "file_base = ../hoomd_disks/trajectories_4000p_longer\n",
      "eta = 0.755\n",
      "using 400 frames of 1000 total\n",
      "COMPUTATION DETAILS\n",
      "file_base = ../hoomd_disks/trajectories_4000p_longer\n",
      "eta = 0.76\n",
      "using 400 frames of 1000 total\n",
      "COMPUTATION DETAILS\n",
      "file_base = ../hoomd_disks/trajectories_4000p_longer\n",
      "eta = 0.765\n",
      "using 400 frames of 1000 total\n",
      "COMPUTATION DETAILS\n",
      "file_base = ../hoomd_disks/trajectories_4000p_longer\n",
      "eta = 0.77\n",
      "using 400 frames of 1000 total\n",
      "COMPUTATION DETAILS\n",
      "file_base = ../hoomd_disks/trajectories_4000p_longer\n",
      "eta = 0.775\n",
      "using 400 frames of 1000 total\n",
      "COMPUTATION DETAILS\n",
      "file_base = ../hoomd_disks/trajectories_4000p_longer\n",
      "eta = 0.78\n",
      "using 400 frames of 1000 total\n",
      "COMPUTATION DETAILS\n",
      "file_base = ../hoomd_disks/trajectories_4000p_longer\n",
      "eta = 0.785\n",
      "using 400 frames of 1000 total\n",
      "COMPUTATION DETAILS\n",
      "file_base = ../hoomd_disks/trajectories_4000p_longer\n",
      "eta = 0.79\n",
      "using 400 frames of 1000 total\n",
      "COMPUTATION DETAILS\n",
      "file_base = ../hoomd_disks/trajectories_4000p_longer\n",
      "eta = 0.795\n",
      "using 400 frames of 1000 total\n",
      "COMPUTATION DETAILS\n",
      "file_base = ../hoomd_disks/trajectories_4000p_longer\n",
      "eta = 0.8\n",
      "using 400 frames of 1000 total\n",
      "COMPUTATION DETAILS\n",
      "file_base = ../hoomd_disks/trajectories_4000p_longer\n",
      "eta = 0.805\n",
      "using 400 frames of 1000 total\n",
      "COMPUTATION DETAILS\n",
      "file_base = ../hoomd_disks/trajectories_4000p_longer\n",
      "eta = 0.81\n",
      "using 400 frames of 1000 total\n",
      "COMPUTATION DETAILS\n",
      "file_base = ../hoomd_disks/trajectories_4000p_longer\n",
      "eta = 0.815\n",
      "using 400 frames of 1000 total\n",
      "COMPUTATION DETAILS\n",
      "file_base = ../hoomd_disks/trajectories_4000p_longer\n",
      "eta = 0.82\n",
      "using 400 frames of 1000 total\n",
      "Fitting the whitener\n",
      "\n",
      "COMPUTATION DETAILS\n",
      "file_base = ../hoomd_disks/trajectories_4000p\n",
      "eta = 0.55\n",
      "using 400 frames of 1000 total\n",
      "COMPUTATION DETAILS\n",
      "file_base = ../hoomd_disks/trajectories_4000p\n",
      "eta = 0.555\n",
      "using 400 frames of 1000 total\n",
      "COMPUTATION DETAILS\n",
      "file_base = ../hoomd_disks/trajectories_4000p\n",
      "eta = 0.56\n",
      "using 400 frames of 1000 total\n",
      "COMPUTATION DETAILS\n",
      "file_base = ../hoomd_disks/trajectories_4000p\n",
      "eta = 0.565\n",
      "using 400 frames of 1000 total\n",
      "COMPUTATION DETAILS\n",
      "file_base = ../hoomd_disks/trajectories_4000p\n",
      "eta = 0.57\n",
      "using 400 frames of 1000 total\n",
      "COMPUTATION DETAILS\n",
      "file_base = ../hoomd_disks/trajectories_4000p\n",
      "eta = 0.575\n",
      "using 400 frames of 1000 total\n",
      "COMPUTATION DETAILS\n",
      "file_base = ../hoomd_disks/trajectories_4000p\n",
      "eta = 0.58\n",
      "using 400 frames of 1000 total\n",
      "COMPUTATION DETAILS\n",
      "file_base = ../hoomd_disks/trajectories_4000p\n",
      "eta = 0.585\n",
      "using 400 frames of 1000 total\n",
      "COMPUTATION DETAILS\n",
      "file_base = ../hoomd_disks/trajectories_4000p\n",
      "eta = 0.59\n",
      "using 400 frames of 1000 total\n",
      "COMPUTATION DETAILS\n",
      "file_base = ../hoomd_disks/trajectories_4000p\n",
      "eta = 0.595\n",
      "using 400 frames of 1000 total\n",
      "COMPUTATION DETAILS\n",
      "file_base = ../hoomd_disks/trajectories_4000p\n",
      "eta = 0.6\n",
      "using 400 frames of 1000 total\n",
      "COMPUTATION DETAILS\n",
      "file_base = ../hoomd_disks/trajectories_4000p\n",
      "eta = 0.605\n",
      "using 400 frames of 1000 total\n",
      "COMPUTATION DETAILS\n",
      "file_base = ../hoomd_disks/trajectories_4000p\n",
      "eta = 0.61\n",
      "using 400 frames of 1000 total\n",
      "COMPUTATION DETAILS\n",
      "file_base = ../hoomd_disks/trajectories_4000p\n",
      "eta = 0.615\n",
      "using 400 frames of 1000 total\n",
      "COMPUTATION DETAILS\n",
      "file_base = ../hoomd_disks/trajectories_4000p\n",
      "eta = 0.62\n",
      "using 400 frames of 1000 total\n",
      "COMPUTATION DETAILS\n",
      "file_base = ../hoomd_disks/trajectories_4000p\n",
      "eta = 0.625\n",
      "using 400 frames of 1000 total\n",
      "COMPUTATION DETAILS\n",
      "file_base = ../hoomd_disks/trajectories_4000p\n",
      "eta = 0.63\n",
      "using 400 frames of 1000 total\n",
      "COMPUTATION DETAILS\n",
      "file_base = ../hoomd_disks/trajectories_4000p\n",
      "eta = 0.635\n",
      "using 400 frames of 1000 total\n",
      "COMPUTATION DETAILS\n",
      "file_base = ../hoomd_disks/trajectories_4000p\n",
      "eta = 0.64\n"
     ]
    },
    {
     "name": "stdout",
     "output_type": "stream",
     "text": [
      "using 400 frames of 1000 total\n",
      "COMPUTATION DETAILS\n",
      "file_base = ../hoomd_disks/trajectories_4000p\n",
      "eta = 0.645\n",
      "using 400 frames of 1000 total\n",
      "COMPUTATION DETAILS\n",
      "file_base = ../hoomd_disks/trajectories_4000p\n",
      "eta = 0.65\n",
      "using 400 frames of 1000 total\n",
      "COMPUTATION DETAILS\n",
      "file_base = ../hoomd_disks/trajectories_4000p\n",
      "eta = 0.655\n",
      "using 400 frames of 1000 total\n",
      "COMPUTATION DETAILS\n",
      "file_base = ../hoomd_disks/trajectories_4000p\n",
      "eta = 0.66\n",
      "using 400 frames of 1000 total\n",
      "COMPUTATION DETAILS\n",
      "file_base = ../hoomd_disks/trajectories_4000p\n",
      "eta = 0.665\n",
      "using 400 frames of 1000 total\n",
      "COMPUTATION DETAILS\n",
      "file_base = ../hoomd_disks/trajectories_4000p\n",
      "eta = 0.67\n",
      "using 400 frames of 1000 total\n",
      "COMPUTATION DETAILS\n",
      "file_base = ../hoomd_disks/trajectories_4000p\n",
      "eta = 0.675\n",
      "using 400 frames of 1000 total\n",
      "COMPUTATION DETAILS\n",
      "file_base = ../hoomd_disks/trajectories_4000p\n",
      "eta = 0.68\n",
      "using 400 frames of 1000 total\n",
      "COMPUTATION DETAILS\n",
      "file_base = ../hoomd_disks/trajectories_4000p\n",
      "eta = 0.685\n",
      "using 400 frames of 1000 total\n",
      "COMPUTATION DETAILS\n",
      "file_base = ../hoomd_disks/trajectories_4000p\n",
      "eta = 0.69\n",
      "using 400 frames of 1000 total\n",
      "COMPUTATION DETAILS\n",
      "file_base = ../hoomd_disks/trajectories_4000p_longer\n",
      "eta = 0.695\n",
      "using 400 frames of 1000 total\n",
      "COMPUTATION DETAILS\n",
      "file_base = ../hoomd_disks/trajectories_4000p_longer\n",
      "eta = 0.7\n",
      "using 400 frames of 1000 total\n",
      "COMPUTATION DETAILS\n",
      "file_base = ../hoomd_disks/trajectories_4000p_longer\n",
      "eta = 0.705\n",
      "using 400 frames of 1000 total\n",
      "COMPUTATION DETAILS\n",
      "file_base = ../hoomd_disks/trajectories_4000p_longer\n",
      "eta = 0.71\n",
      "using 400 frames of 1000 total\n",
      "COMPUTATION DETAILS\n",
      "file_base = ../hoomd_disks/trajectories_4000p_longer\n",
      "eta = 0.715\n",
      "using 400 frames of 1000 total\n",
      "COMPUTATION DETAILS\n",
      "file_base = ../hoomd_disks/trajectories_4000p_longer\n",
      "eta = 0.72\n",
      "using 400 frames of 1000 total\n",
      "COMPUTATION DETAILS\n",
      "file_base = ../hoomd_disks/trajectories_4000p_longer\n",
      "eta = 0.725\n",
      "using 400 frames of 1000 total\n",
      "COMPUTATION DETAILS\n",
      "file_base = ../hoomd_disks/trajectories_4000p_longer\n",
      "eta = 0.73\n",
      "using 400 frames of 1000 total\n",
      "COMPUTATION DETAILS\n",
      "file_base = ../hoomd_disks/trajectories_4000p_longer\n",
      "eta = 0.735\n",
      "using 400 frames of 1000 total\n",
      "COMPUTATION DETAILS\n",
      "file_base = ../hoomd_disks/trajectories_4000p_longer\n",
      "eta = 0.74\n",
      "using 400 frames of 1000 total\n",
      "COMPUTATION DETAILS\n",
      "file_base = ../hoomd_disks/trajectories_4000p_longer\n",
      "eta = 0.745\n",
      "using 400 frames of 1000 total\n",
      "COMPUTATION DETAILS\n",
      "file_base = ../hoomd_disks/trajectories_4000p_longer\n",
      "eta = 0.75\n",
      "using 400 frames of 1000 total\n",
      "COMPUTATION DETAILS\n",
      "file_base = ../hoomd_disks/trajectories_4000p_longer\n",
      "eta = 0.755\n",
      "using 400 frames of 1000 total\n",
      "COMPUTATION DETAILS\n",
      "file_base = ../hoomd_disks/trajectories_4000p_longer\n",
      "eta = 0.76\n",
      "using 400 frames of 1000 total\n",
      "COMPUTATION DETAILS\n",
      "file_base = ../hoomd_disks/trajectories_4000p_longer\n",
      "eta = 0.765\n",
      "using 400 frames of 1000 total\n",
      "COMPUTATION DETAILS\n",
      "file_base = ../hoomd_disks/trajectories_4000p_longer\n",
      "eta = 0.77\n",
      "using 400 frames of 1000 total\n",
      "COMPUTATION DETAILS\n",
      "file_base = ../hoomd_disks/trajectories_4000p_longer\n",
      "eta = 0.775\n",
      "using 400 frames of 1000 total\n",
      "COMPUTATION DETAILS\n",
      "file_base = ../hoomd_disks/trajectories_4000p_longer\n",
      "eta = 0.78\n",
      "using 400 frames of 1000 total\n",
      "COMPUTATION DETAILS\n",
      "file_base = ../hoomd_disks/trajectories_4000p_longer\n",
      "eta = 0.785\n",
      "using 400 frames of 1000 total\n",
      "COMPUTATION DETAILS\n",
      "file_base = ../hoomd_disks/trajectories_4000p_longer\n",
      "eta = 0.79\n",
      "using 400 frames of 1000 total\n",
      "COMPUTATION DETAILS\n",
      "file_base = ../hoomd_disks/trajectories_4000p_longer\n",
      "eta = 0.795\n",
      "using 400 frames of 1000 total\n",
      "COMPUTATION DETAILS\n",
      "file_base = ../hoomd_disks/trajectories_4000p_longer\n",
      "eta = 0.8\n",
      "using 400 frames of 1000 total\n",
      "COMPUTATION DETAILS\n",
      "file_base = ../hoomd_disks/trajectories_4000p_longer\n",
      "eta = 0.805\n",
      "using 400 frames of 1000 total\n",
      "COMPUTATION DETAILS\n",
      "file_base = ../hoomd_disks/trajectories_4000p_longer\n",
      "eta = 0.81\n",
      "using 400 frames of 1000 total\n",
      "COMPUTATION DETAILS\n",
      "file_base = ../hoomd_disks/trajectories_4000p_longer\n",
      "eta = 0.815\n",
      "using 400 frames of 1000 total\n",
      "COMPUTATION DETAILS\n",
      "file_base = ../hoomd_disks/trajectories_4000p_longer\n",
      "eta = 0.82\n",
      "using 400 frames of 1000 total\n",
      "Correcting features\n",
      "\n"
     ]
    }
   ],
   "source": [
    "corrected_features = []\n",
    "incpca_ig = IncrementalPCA(n_components=None, whiten=True) \n",
    "force_randomize = False\n",
    "\n",
    "#loop over data sets \n",
    "for phase in ['fit_whitener', 'correct_features']:\n",
    "    raw_features = []\n",
    "    \n",
    "    for etas_, file_base, frame_samples in file_data:\n",
    "\n",
    "        for eta in etas_:\n",
    "            print 'COMPUTATION DETAILS'\n",
    "            print 'file_base = {}'.format(file_base)\n",
    "            print 'eta = {}'.format(eta)\n",
    "\n",
    "            #read in data and randomize positions if performing ideal gas correction\n",
    "            filename = \"{}/trajectory_{:.4f}.{}\".format(file_base, eta, traj_type)\n",
    "            randomize = (phase == 'fit_whitener') or force_randomize\n",
    "            frames = ReadTraj(filename, traj_type, shuffle_data, randomize, remove_types)\n",
    "\n",
    "            #control the number of total frames to analyze\n",
    "            len_frames_init = len(frames)\n",
    "            frames = DownSampleFrames(frames, frame_samples)\n",
    "            print 'using {} frames of {} total'.format(len(frames), len_frames_init)\n",
    "            \n",
    "            raw_features.extend(TrajectoryToFeaturesPosition(frames, \n",
    "                                                             N_nn=N_nn,  \n",
    "                                                             nn_inc=nn_inc,\n",
    "                                                             N_batch=N_batch, \n",
    "                                                             batches_per_frame=batches_per_frame))\n",
    "    if phase == 'fit_whitener':\n",
    "        print 'Fitting the whitener\\n'\n",
    "        incpca_ig.fit(raw_features)\n",
    "    else:\n",
    "        print 'Correcting features\\n'\n",
    "        corrected_features = incpca_ig.transform(raw_features)\n",
    "            \n",
    "            "
   ]
  },
  {
   "cell_type": "markdown",
   "metadata": {},
   "source": [
    "# Autoencoding"
   ]
  },
  {
   "cell_type": "code",
   "execution_count": 11,
   "metadata": {},
   "outputs": [
    {
     "name": "stderr",
     "output_type": "stream",
     "text": [
      "Using Theano backend.\n",
      "WARNING (theano.tensor.blas): Using NumPy C-API based implementation for BLAS functions.\n"
     ]
    }
   ],
   "source": [
    "from analysis_tools.autoencoder import AutoEncoder\n",
    "from sklearn.model_selection import train_test_split"
   ]
  },
  {
   "cell_type": "code",
   "execution_count": 12,
   "metadata": {},
   "outputs": [
    {
     "name": "stdout",
     "output_type": "stream",
     "text": [
      "Dimensionality: 320\n"
     ]
    }
   ],
   "source": [
    "dim = corrected_features.shape[1]\n",
    "print \"Dimensionality: {}\".format(dim)"
   ]
  },
  {
   "cell_type": "markdown",
   "metadata": {},
   "source": [
    "### Train and test sets"
   ]
  },
  {
   "cell_type": "code",
   "execution_count": 13,
   "metadata": {
    "collapsed": true
   },
   "outputs": [],
   "source": [
    "corrected_features_train, corrected_features_test = train_test_split(corrected_features, test_size=0.25, random_state=42)"
   ]
  },
  {
   "cell_type": "markdown",
   "metadata": {},
   "source": [
    "### Build and train the model"
   ]
  },
  {
   "cell_type": "code",
   "execution_count": 76,
   "metadata": {
    "collapsed": true
   },
   "outputs": [],
   "source": [
    "from keras.callbacks import ModelCheckpoint\n",
    "from numpy import savetxt"
   ]
  },
  {
   "cell_type": "code",
   "execution_count": 81,
   "metadata": {
    "collapsed": true
   },
   "outputs": [],
   "source": [
    "model = AutoEncoder(dim=dim, encode_dim=1, \n",
    "                    initial_growth=0.25, shrink=0.65,\n",
    "                    activation='linear')#, kernel_initializer='lecun_normal')"
   ]
  },
  {
   "cell_type": "code",
   "execution_count": 332,
   "metadata": {
    "collapsed": true
   },
   "outputs": [],
   "source": [
    "model = AutoEncoder(dim=dim, encode_dim=1, \n",
    "                    initial_growth=0.25, shrink=0.25,\n",
    "                    activation='linear')"
   ]
  },
  {
   "cell_type": "code",
   "execution_count": 360,
   "metadata": {},
   "outputs": [
    {
     "name": "stdout",
     "output_type": "stream",
     "text": [
      "[543, 407, 305, 228, 171, 128, 96, 72, 54, 40, 30, 22, 16, 12, 9, 6, 4, 3, 2, 1, 2, 3, 4, 6, 9, 12, 16, 22, 30, 40, 54, 72, 96, 128, 171, 228, 305, 407, 543, 435]\n"
     ]
    }
   ],
   "source": [
    "print model.layer_dims"
   ]
  },
  {
   "cell_type": "code",
   "execution_count": 82,
   "metadata": {
    "collapsed": true
   },
   "outputs": [],
   "source": [
    "model.Compile(optimizer='adamax', loss='mean_squared_error')"
   ]
  },
  {
   "cell_type": "code",
   "execution_count": 83,
   "metadata": {
    "collapsed": true
   },
   "outputs": [],
   "source": [
    "checkpointer = ModelCheckpoint(filepath='./model/weights_linear.hdf5', verbose=1, save_best_only=True)"
   ]
  },
  {
   "cell_type": "code",
   "execution_count": 84,
   "metadata": {
    "scrolled": true
   },
   "outputs": [
    {
     "name": "stdout",
     "output_type": "stream",
     "text": [
      "Train on 16500 samples, validate on 5500 samples\n",
      "Epoch 1/100\n",
      "15500/16500 [===========================>..] - ETA: 0s - loss: 1.2095Epoch 00000: val_loss improved from inf to 0.88314, saving model to ./model/weights_linear.hdf5\n",
      "16500/16500 [==============================] - 1s - loss: 1.1901 - val_loss: 0.8831\n",
      "Epoch 2/100\n",
      "15500/16500 [===========================>..] - ETA: 0s - loss: 0.8492Epoch 00001: val_loss improved from 0.88314 to 0.84066, saving model to ./model/weights_linear.hdf5\n",
      "16500/16500 [==============================] - 1s - loss: 0.8488 - val_loss: 0.8407\n",
      "Epoch 3/100\n",
      "15500/16500 [===========================>..] - ETA: 0s - loss: 0.8370Epoch 00002: val_loss improved from 0.84066 to 0.83747, saving model to ./model/weights_linear.hdf5\n",
      "16500/16500 [==============================] - 1s - loss: 0.8371 - val_loss: 0.8375\n",
      "Epoch 4/100\n",
      "15500/16500 [===========================>..] - ETA: 0s - loss: 0.8352Epoch 00003: val_loss improved from 0.83747 to 0.83614, saving model to ./model/weights_linear.hdf5\n",
      "16500/16500 [==============================] - 1s - loss: 0.8351 - val_loss: 0.8361\n",
      "Epoch 5/100\n",
      "15500/16500 [===========================>..] - ETA: 0s - loss: 0.8338Epoch 00004: val_loss improved from 0.83614 to 0.83533, saving model to ./model/weights_linear.hdf5\n",
      "16500/16500 [==============================] - 1s - loss: 0.8340 - val_loss: 0.8353\n",
      "Epoch 6/100\n",
      "15500/16500 [===========================>..] - ETA: 0s - loss: 0.8334Epoch 00005: val_loss improved from 0.83533 to 0.83464, saving model to ./model/weights_linear.hdf5\n",
      "16500/16500 [==============================] - 1s - loss: 0.8333 - val_loss: 0.8346\n",
      "Epoch 7/100\n",
      "15500/16500 [===========================>..] - ETA: 0s - loss: 0.8326Epoch 00006: val_loss improved from 0.83464 to 0.83418, saving model to ./model/weights_linear.hdf5\n",
      "16500/16500 [==============================] - 1s - loss: 0.8327 - val_loss: 0.8342\n",
      "Epoch 8/100\n",
      "16000/16500 [============================>.] - ETA: 0s - loss: 0.8324Epoch 00007: val_loss improved from 0.83418 to 0.83389, saving model to ./model/weights_linear.hdf5\n",
      "16500/16500 [==============================] - 1s - loss: 0.8323 - val_loss: 0.8339\n",
      "Epoch 9/100\n",
      "16000/16500 [============================>.] - ETA: 0s - loss: 0.8321Epoch 00008: val_loss improved from 0.83389 to 0.83362, saving model to ./model/weights_linear.hdf5\n",
      "16500/16500 [==============================] - 1s - loss: 0.8321 - val_loss: 0.8336\n",
      "Epoch 10/100\n",
      "15500/16500 [===========================>..] - ETA: 0s - loss: 0.8319Epoch 00009: val_loss improved from 0.83362 to 0.83353, saving model to ./model/weights_linear.hdf5\n",
      "16500/16500 [==============================] - 1s - loss: 0.8318 - val_loss: 0.8335\n",
      "Epoch 11/100\n",
      "15500/16500 [===========================>..] - ETA: 0s - loss: 0.8316Epoch 00010: val_loss improved from 0.83353 to 0.83341, saving model to ./model/weights_linear.hdf5\n",
      "16500/16500 [==============================] - 1s - loss: 0.8317 - val_loss: 0.8334\n",
      "Epoch 12/100\n",
      "15500/16500 [===========================>..] - ETA: 0s - loss: 0.8316Epoch 00011: val_loss improved from 0.83341 to 0.83339, saving model to ./model/weights_linear.hdf5\n",
      "16500/16500 [==============================] - 1s - loss: 0.8317 - val_loss: 0.8334\n",
      "Epoch 13/100\n",
      "16000/16500 [============================>.] - ETA: 0s - loss: 0.8313Epoch 00012: val_loss improved from 0.83339 to 0.83331, saving model to ./model/weights_linear.hdf5\n",
      "16500/16500 [==============================] - 1s - loss: 0.8316 - val_loss: 0.8333\n",
      "Epoch 14/100\n",
      "15500/16500 [===========================>..] - ETA: 0s - loss: 0.8313Epoch 00013: val_loss improved from 0.83331 to 0.83329, saving model to ./model/weights_linear.hdf5\n",
      "16500/16500 [==============================] - 1s - loss: 0.8316 - val_loss: 0.8333\n",
      "Epoch 15/100\n",
      "16000/16500 [============================>.] - ETA: 0s - loss: 0.8318Epoch 00014: val_loss improved from 0.83329 to 0.83329, saving model to ./model/weights_linear.hdf5\n",
      "16500/16500 [==============================] - 1s - loss: 0.8315 - val_loss: 0.8333\n",
      "Epoch 16/100\n",
      "15500/16500 [===========================>..] - ETA: 0s - loss: 0.8313Epoch 00015: val_loss did not improve\n",
      "16500/16500 [==============================] - 0s - loss: 0.8315 - val_loss: 0.8333\n",
      "Epoch 17/100\n",
      "15500/16500 [===========================>..] - ETA: 0s - loss: 0.8313Epoch 00016: val_loss improved from 0.83329 to 0.83324, saving model to ./model/weights_linear.hdf5\n",
      "16500/16500 [==============================] - 1s - loss: 0.8316 - val_loss: 0.8332\n",
      "Epoch 18/100\n",
      "15500/16500 [===========================>..] - ETA: 0s - loss: 0.8311Epoch 00017: val_loss did not improve\n",
      "16500/16500 [==============================] - 0s - loss: 0.8315 - val_loss: 0.8333\n",
      "Epoch 19/100\n",
      "15500/16500 [===========================>..] - ETA: 0s - loss: 0.8317Epoch 00018: val_loss improved from 0.83324 to 0.83321, saving model to ./model/weights_linear.hdf5\n",
      "16500/16500 [==============================] - 1s - loss: 0.8316 - val_loss: 0.8332\n",
      "Epoch 20/100\n",
      "15500/16500 [===========================>..] - ETA: 0s - loss: 0.8316Epoch 00019: val_loss did not improve\n",
      "16500/16500 [==============================] - 0s - loss: 0.8315 - val_loss: 0.8333\n",
      "Epoch 21/100\n",
      "15500/16500 [===========================>..] - ETA: 0s - loss: 0.8316Epoch 00020: val_loss did not improve\n",
      "16500/16500 [==============================] - 0s - loss: 0.8316 - val_loss: 0.8333\n",
      "Epoch 22/100\n",
      "15500/16500 [===========================>..] - ETA: 0s - loss: 0.8316Epoch 00021: val_loss did not improve\n",
      "16500/16500 [==============================] - 0s - loss: 0.8316 - val_loss: 0.8333\n",
      "Epoch 23/100\n",
      "15500/16500 [===========================>..] - ETA: 0s - loss: 0.8314Epoch 00022: val_loss did not improve\n",
      "16500/16500 [==============================] - 0s - loss: 0.8315 - val_loss: 0.8333\n",
      "Epoch 24/100\n",
      "16000/16500 [============================>.] - ETA: 0s - loss: 0.8318Epoch 00023: val_loss did not improve\n",
      "16500/16500 [==============================] - 1s - loss: 0.8316 - val_loss: 0.8333\n",
      "Epoch 25/100\n",
      "15500/16500 [===========================>..] - ETA: 0s - loss: 0.8314Epoch 00024: val_loss did not improve\n",
      "16500/16500 [==============================] - 0s - loss: 0.8316 - val_loss: 0.8333\n",
      "Epoch 26/100\n",
      "15500/16500 [===========================>..] - ETA: 0s - loss: 0.8313Epoch 00025: val_loss did not improve\n",
      "16500/16500 [==============================] - 0s - loss: 0.8316 - val_loss: 0.8333\n",
      "Epoch 27/100\n",
      "15500/16500 [===========================>..] - ETA: 0s - loss: 0.8315Epoch 00026: val_loss did not improve\n",
      "16500/16500 [==============================] - 0s - loss: 0.8316 - val_loss: 0.8334\n",
      "Epoch 28/100\n",
      "15500/16500 [===========================>..] - ETA: 0s - loss: 0.8316Epoch 00027: val_loss did not improve\n",
      "16500/16500 [==============================] - 0s - loss: 0.8316 - val_loss: 0.8334\n",
      "Epoch 29/100\n",
      "15500/16500 [===========================>..] - ETA: 0s - loss: 0.8316Epoch 00028: val_loss did not improve\n",
      "16500/16500 [==============================] - 0s - loss: 0.8316 - val_loss: 0.8333\n",
      "Epoch 30/100\n",
      "15500/16500 [===========================>..] - ETA: 0s - loss: 0.8318Epoch 00029: val_loss did not improve\n",
      "16500/16500 [==============================] - 0s - loss: 0.8316 - val_loss: 0.8333\n",
      "Epoch 31/100\n",
      "15500/16500 [===========================>..] - ETA: 0s - loss: 0.8314Epoch 00030: val_loss did not improve\n",
      "16500/16500 [==============================] - 0s - loss: 0.8316 - val_loss: 0.8333\n",
      "Epoch 32/100\n",
      "15500/16500 [===========================>..] - ETA: 0s - loss: 0.8314Epoch 00031: val_loss did not improve\n",
      "16500/16500 [==============================] - 0s - loss: 0.8316 - val_loss: 0.8334\n",
      "Epoch 33/100\n",
      "15500/16500 [===========================>..] - ETA: 0s - loss: 0.8318Epoch 00032: val_loss did not improve\n",
      "16500/16500 [==============================] - 0s - loss: 0.8316 - val_loss: 0.8333\n",
      "Epoch 34/100\n",
      "15500/16500 [===========================>..] - ETA: 0s - loss: 0.8313Epoch 00033: val_loss did not improve\n",
      "16500/16500 [==============================] - 0s - loss: 0.8316 - val_loss: 0.8333\n",
      "Epoch 35/100\n",
      "15500/16500 [===========================>..] - ETA: 0s - loss: 0.8315Epoch 00034: val_loss did not improve\n"
     ]
    },
    {
     "name": "stdout",
     "output_type": "stream",
     "text": [
      "16500/16500 [==============================] - 0s - loss: 0.8316 - val_loss: 0.8334\n",
      "Epoch 36/100\n",
      "15500/16500 [===========================>..] - ETA: 0s - loss: 0.8317Epoch 00035: val_loss did not improve\n",
      "16500/16500 [==============================] - 0s - loss: 0.8316 - val_loss: 0.8333\n",
      "Epoch 37/100\n",
      "15500/16500 [===========================>..] - ETA: 0s - loss: 0.8318Epoch 00036: val_loss did not improve\n",
      "16500/16500 [==============================] - 0s - loss: 0.8317 - val_loss: 0.8333\n",
      "Epoch 38/100\n",
      "15500/16500 [===========================>..] - ETA: 0s - loss: 0.8317Epoch 00037: val_loss did not improve\n",
      "16500/16500 [==============================] - 0s - loss: 0.8316 - val_loss: 0.8333\n",
      "Epoch 39/100\n",
      "15500/16500 [===========================>..] - ETA: 0s - loss: 0.8310Epoch 00038: val_loss did not improve\n",
      "16500/16500 [==============================] - 0s - loss: 0.8316 - val_loss: 0.8333\n",
      "Epoch 40/100\n",
      "15500/16500 [===========================>..] - ETA: 0s - loss: 0.8316Epoch 00039: val_loss did not improve\n",
      "16500/16500 [==============================] - 0s - loss: 0.8316 - val_loss: 0.8334\n",
      "Epoch 41/100\n",
      "15500/16500 [===========================>..] - ETA: 0s - loss: 0.8316Epoch 00040: val_loss did not improve\n",
      "16500/16500 [==============================] - 0s - loss: 0.8316 - val_loss: 0.8334\n",
      "Epoch 42/100\n",
      "15500/16500 [===========================>..] - ETA: 0s - loss: 0.8316Epoch 00041: val_loss did not improve\n",
      "16500/16500 [==============================] - 0s - loss: 0.8316 - val_loss: 0.8333\n",
      "Epoch 43/100\n",
      "15500/16500 [===========================>..] - ETA: 0s - loss: 0.8319Epoch 00042: val_loss did not improve\n",
      "16500/16500 [==============================] - 0s - loss: 0.8316 - val_loss: 0.8334\n",
      "Epoch 44/100\n",
      "15500/16500 [===========================>..] - ETA: 0s - loss: 0.8319Epoch 00043: val_loss did not improve\n",
      "16500/16500 [==============================] - 0s - loss: 0.8317 - val_loss: 0.8336\n",
      "Epoch 45/100\n",
      "15500/16500 [===========================>..] - ETA: 0s - loss: 0.8314Epoch 00044: val_loss did not improve\n",
      "16500/16500 [==============================] - 0s - loss: 0.8316 - val_loss: 0.8333\n",
      "Epoch 46/100\n",
      "15500/16500 [===========================>..] - ETA: 0s - loss: 0.8315Epoch 00045: val_loss did not improve\n",
      "16500/16500 [==============================] - 0s - loss: 0.8316 - val_loss: 0.8333\n",
      "Epoch 47/100\n",
      "15500/16500 [===========================>..] - ETA: 0s - loss: 0.8314Epoch 00046: val_loss did not improve\n",
      "16500/16500 [==============================] - 0s - loss: 0.8316 - val_loss: 0.8335\n",
      "Epoch 48/100\n",
      "15500/16500 [===========================>..] - ETA: 0s - loss: 0.8316Epoch 00047: val_loss did not improve\n",
      "16500/16500 [==============================] - 0s - loss: 0.8316 - val_loss: 0.8334\n",
      "Epoch 49/100\n",
      "15500/16500 [===========================>..] - ETA: 0s - loss: 0.8317Epoch 00048: val_loss did not improve\n",
      "16500/16500 [==============================] - 0s - loss: 0.8316 - val_loss: 0.8333\n",
      "Epoch 50/100\n",
      "15500/16500 [===========================>..] - ETA: 0s - loss: 0.8317Epoch 00049: val_loss did not improve\n",
      "16500/16500 [==============================] - 0s - loss: 0.8317 - val_loss: 0.8334\n",
      "Epoch 51/100\n",
      "15500/16500 [===========================>..] - ETA: 0s - loss: 0.8317Epoch 00050: val_loss did not improve\n",
      "16500/16500 [==============================] - 0s - loss: 0.8316 - val_loss: 0.8333\n",
      "Epoch 52/100\n",
      "15500/16500 [===========================>..] - ETA: 0s - loss: 0.8313Epoch 00051: val_loss did not improve\n",
      "16500/16500 [==============================] - 0s - loss: 0.8316 - val_loss: 0.8334\n",
      "Epoch 53/100\n",
      "15500/16500 [===========================>..] - ETA: 0s - loss: 0.8319Epoch 00052: val_loss did not improve\n",
      "16500/16500 [==============================] - 0s - loss: 0.8317 - val_loss: 0.8334\n",
      "Epoch 54/100\n",
      "15500/16500 [===========================>..] - ETA: 0s - loss: 0.8317Epoch 00053: val_loss did not improve\n",
      "16500/16500 [==============================] - 0s - loss: 0.8317 - val_loss: 0.8334\n",
      "Epoch 55/100\n",
      "15500/16500 [===========================>..] - ETA: 0s - loss: 0.8314Epoch 00054: val_loss did not improve\n",
      "16500/16500 [==============================] - 0s - loss: 0.8317 - val_loss: 0.8334\n",
      "Epoch 56/100\n",
      "15500/16500 [===========================>..] - ETA: 0s - loss: 0.8318Epoch 00055: val_loss did not improve\n",
      "16500/16500 [==============================] - 0s - loss: 0.8317 - val_loss: 0.8334\n",
      "Epoch 57/100\n",
      "15500/16500 [===========================>..] - ETA: 0s - loss: 0.8317Epoch 00056: val_loss did not improve\n",
      "16500/16500 [==============================] - 0s - loss: 0.8316 - val_loss: 0.8333\n",
      "Epoch 58/100\n",
      "15500/16500 [===========================>..] - ETA: 0s - loss: 0.8315Epoch 00057: val_loss did not improve\n",
      "16500/16500 [==============================] - 0s - loss: 0.8317 - val_loss: 0.8333\n",
      "Epoch 59/100\n",
      "15500/16500 [===========================>..] - ETA: 0s - loss: 0.8314Epoch 00058: val_loss did not improve\n",
      "16500/16500 [==============================] - 0s - loss: 0.8317 - val_loss: 0.8333\n",
      "Epoch 60/100\n",
      "15500/16500 [===========================>..] - ETA: 0s - loss: 0.8317Epoch 00059: val_loss did not improve\n",
      "16500/16500 [==============================] - 0s - loss: 0.8316 - val_loss: 0.8335\n",
      "Epoch 61/100\n",
      "15500/16500 [===========================>..] - ETA: 0s - loss: 0.8316Epoch 00060: val_loss did not improve\n",
      "16500/16500 [==============================] - 0s - loss: 0.8317 - val_loss: 0.8333\n",
      "Epoch 62/100\n",
      "15500/16500 [===========================>..] - ETA: 0s - loss: 0.8319Epoch 00061: val_loss did not improve\n",
      "16500/16500 [==============================] - 0s - loss: 0.8317 - val_loss: 0.8334\n",
      "Epoch 63/100\n",
      "15500/16500 [===========================>..] - ETA: 0s - loss: 0.8317Epoch 00062: val_loss did not improve\n",
      "16500/16500 [==============================] - 0s - loss: 0.8316 - val_loss: 0.8334\n",
      "Epoch 64/100\n",
      "15500/16500 [===========================>..] - ETA: 0s - loss: 0.8316Epoch 00063: val_loss did not improve\n",
      "16500/16500 [==============================] - 0s - loss: 0.8316 - val_loss: 0.8334\n",
      "Epoch 65/100\n",
      "15500/16500 [===========================>..] - ETA: 0s - loss: 0.8313Epoch 00064: val_loss did not improve\n",
      "16500/16500 [==============================] - 0s - loss: 0.8316 - val_loss: 0.8334\n",
      "Epoch 66/100\n",
      "15500/16500 [===========================>..] - ETA: 0s - loss: 0.8314Epoch 00065: val_loss did not improve\n",
      "16500/16500 [==============================] - 0s - loss: 0.8316 - val_loss: 0.8333\n",
      "Epoch 67/100\n",
      "15500/16500 [===========================>..] - ETA: 0s - loss: 0.8313Epoch 00066: val_loss did not improve\n",
      "16500/16500 [==============================] - 0s - loss: 0.8316 - val_loss: 0.8333\n",
      "Epoch 68/100\n",
      "15500/16500 [===========================>..] - ETA: 0s - loss: 0.8320Epoch 00067: val_loss did not improve\n",
      "16500/16500 [==============================] - 0s - loss: 0.8316 - val_loss: 0.8334\n",
      "Epoch 69/100\n",
      "15500/16500 [===========================>..] - ETA: 0s - loss: 0.8318Epoch 00068: val_loss did not improve\n",
      "16500/16500 [==============================] - 0s - loss: 0.8317 - val_loss: 0.8333\n",
      "Epoch 70/100\n",
      "15500/16500 [===========================>..] - ETA: 0s - loss: 0.8317Epoch 00069: val_loss did not improve\n",
      "16500/16500 [==============================] - 0s - loss: 0.8316 - val_loss: 0.8334\n",
      "Epoch 71/100\n",
      "15500/16500 [===========================>..] - ETA: 0s - loss: 0.8317Epoch 00070: val_loss did not improve\n",
      "16500/16500 [==============================] - 0s - loss: 0.8316 - val_loss: 0.8333\n",
      "Epoch 72/100\n",
      "15500/16500 [===========================>..] - ETA: 0s - loss: 0.8317Epoch 00071: val_loss did not improve\n",
      "16500/16500 [==============================] - 0s - loss: 0.8317 - val_loss: 0.8332\n",
      "Epoch 73/100\n",
      "15500/16500 [===========================>..] - ETA: 0s - loss: 0.8314Epoch 00072: val_loss did not improve\n",
      "16500/16500 [==============================] - 0s - loss: 0.8316 - val_loss: 0.8334\n",
      "Epoch 74/100\n",
      "15500/16500 [===========================>..] - ETA: 0s - loss: 0.8314Epoch 00073: val_loss did not improve\n",
      "16500/16500 [==============================] - 0s - loss: 0.8316 - val_loss: 0.8333\n",
      "Epoch 75/100\n",
      "15500/16500 [===========================>..] - ETA: 0s - loss: 0.8316Epoch 00074: val_loss did not improve\n"
     ]
    },
    {
     "name": "stdout",
     "output_type": "stream",
     "text": [
      "16500/16500 [==============================] - 0s - loss: 0.8316 - val_loss: 0.8334\n",
      "Epoch 76/100\n",
      "15500/16500 [===========================>..] - ETA: 0s - loss: 0.8316Epoch 00075: val_loss did not improve\n",
      "16500/16500 [==============================] - 0s - loss: 0.8316 - val_loss: 0.8333\n",
      "Epoch 77/100\n",
      "15500/16500 [===========================>..] - ETA: 0s - loss: 0.8315Epoch 00076: val_loss did not improve\n",
      "16500/16500 [==============================] - 0s - loss: 0.8316 - val_loss: 0.8332\n",
      "Epoch 78/100\n",
      "15500/16500 [===========================>..] - ETA: 0s - loss: 0.8316Epoch 00077: val_loss did not improve\n",
      "16500/16500 [==============================] - 0s - loss: 0.8316 - val_loss: 0.8333\n",
      "Epoch 79/100\n",
      "15500/16500 [===========================>..] - ETA: 0s - loss: 0.8318Epoch 00078: val_loss did not improve\n",
      "16500/16500 [==============================] - 0s - loss: 0.8316 - val_loss: 0.8332\n",
      "Epoch 80/100\n",
      "15500/16500 [===========================>..] - ETA: 0s - loss: 0.8318Epoch 00079: val_loss did not improve\n",
      "16500/16500 [==============================] - 0s - loss: 0.8316 - val_loss: 0.8334\n",
      "Epoch 81/100\n",
      "15500/16500 [===========================>..] - ETA: 0s - loss: 0.8320Epoch 00080: val_loss did not improve\n",
      "16500/16500 [==============================] - 0s - loss: 0.8317 - val_loss: 0.8334\n",
      "Epoch 82/100\n",
      "15500/16500 [===========================>..] - ETA: 0s - loss: 0.8312Epoch 00081: val_loss did not improve\n",
      "16500/16500 [==============================] - 0s - loss: 0.8316 - val_loss: 0.8334\n",
      "Epoch 83/100\n",
      "15500/16500 [===========================>..] - ETA: 0s - loss: 0.8317Epoch 00082: val_loss did not improve\n",
      "16500/16500 [==============================] - 0s - loss: 0.8317 - val_loss: 0.8333\n",
      "Epoch 84/100\n",
      "15500/16500 [===========================>..] - ETA: 0s - loss: 0.8316Epoch 00083: val_loss did not improve\n",
      "16500/16500 [==============================] - 0s - loss: 0.8316 - val_loss: 0.8334\n",
      "Epoch 85/100\n",
      "15500/16500 [===========================>..] - ETA: 0s - loss: 0.8316Epoch 00084: val_loss did not improve\n",
      "16500/16500 [==============================] - 0s - loss: 0.8316 - val_loss: 0.8333\n",
      "Epoch 86/100\n",
      "15500/16500 [===========================>..] - ETA: 0s - loss: 0.8317Epoch 00085: val_loss did not improve\n",
      "16500/16500 [==============================] - 0s - loss: 0.8316 - val_loss: 0.8334\n",
      "Epoch 87/100\n",
      "15500/16500 [===========================>..] - ETA: 0s - loss: 0.8316Epoch 00086: val_loss did not improve\n",
      "16500/16500 [==============================] - 0s - loss: 0.8317 - val_loss: 0.8334\n",
      "Epoch 88/100\n",
      "15500/16500 [===========================>..] - ETA: 0s - loss: 0.8319Epoch 00087: val_loss did not improve\n",
      "16500/16500 [==============================] - 0s - loss: 0.8316 - val_loss: 0.8334\n",
      "Epoch 89/100\n",
      "15500/16500 [===========================>..] - ETA: 0s - loss: 0.8318Epoch 00088: val_loss did not improve\n",
      "16500/16500 [==============================] - 0s - loss: 0.8316 - val_loss: 0.8332\n",
      "Epoch 90/100\n",
      "15500/16500 [===========================>..] - ETA: 0s - loss: 0.8317Epoch 00089: val_loss did not improve\n",
      "16500/16500 [==============================] - 0s - loss: 0.8316 - val_loss: 0.8333\n",
      "Epoch 91/100\n",
      "15500/16500 [===========================>..] - ETA: 0s - loss: 0.8317Epoch 00090: val_loss did not improve\n",
      "16500/16500 [==============================] - 0s - loss: 0.8316 - val_loss: 0.8333\n",
      "Epoch 92/100\n",
      "15500/16500 [===========================>..] - ETA: 0s - loss: 0.8316Epoch 00091: val_loss did not improve\n",
      "16500/16500 [==============================] - 0s - loss: 0.8316 - val_loss: 0.8333\n",
      "Epoch 93/100\n",
      "15500/16500 [===========================>..] - ETA: 0s - loss: 0.8319Epoch 00092: val_loss did not improve\n",
      "16500/16500 [==============================] - 0s - loss: 0.8317 - val_loss: 0.8333\n",
      "Epoch 94/100\n",
      "15500/16500 [===========================>..] - ETA: 0s - loss: 0.8316Epoch 00093: val_loss did not improve\n",
      "16500/16500 [==============================] - 0s - loss: 0.8316 - val_loss: 0.8332\n",
      "Epoch 95/100\n",
      "15500/16500 [===========================>..] - ETA: 0s - loss: 0.8317Epoch 00094: val_loss did not improve\n",
      "16500/16500 [==============================] - 0s - loss: 0.8317 - val_loss: 0.8334\n",
      "Epoch 96/100\n",
      "15500/16500 [===========================>..] - ETA: 0s - loss: 0.8318Epoch 00095: val_loss did not improve\n",
      "16500/16500 [==============================] - 0s - loss: 0.8316 - val_loss: 0.8333\n",
      "Epoch 97/100\n",
      "15500/16500 [===========================>..] - ETA: 0s - loss: 0.8313Epoch 00096: val_loss did not improve\n",
      "16500/16500 [==============================] - 1s - loss: 0.8316 - val_loss: 0.8333\n",
      "Epoch 98/100\n",
      "15500/16500 [===========================>..] - ETA: 0s - loss: 0.8317Epoch 00097: val_loss did not improve\n",
      "16500/16500 [==============================] - 0s - loss: 0.8316 - val_loss: 0.8334\n",
      "Epoch 99/100\n",
      "15500/16500 [===========================>..] - ETA: 0s - loss: 0.8316Epoch 00098: val_loss did not improve\n",
      "16500/16500 [==============================] - 0s - loss: 0.8316 - val_loss: 0.8332\n",
      "Epoch 100/100\n",
      "15500/16500 [===========================>..] - ETA: 0s - loss: 0.8313Epoch 00099: val_loss did not improve\n",
      "16500/16500 [==============================] - 0s - loss: 0.8317 - val_loss: 0.8334\n"
     ]
    }
   ],
   "source": [
    "history_raw = model.Fit(corrected_features_train, corrected_features_test,\n",
    "                epochs=100, batch_size=500, shuffle=True, callbacks=[checkpointer])"
   ]
  },
  {
   "cell_type": "code",
   "execution_count": 78,
   "metadata": {},
   "outputs": [],
   "source": [
    "#savetxt('./model/val_loss_linear.txt', history_raw.history['val_loss'])"
   ]
  },
  {
   "cell_type": "markdown",
   "metadata": {},
   "source": [
    "### Check out the results "
   ]
  },
  {
   "cell_type": "code",
   "execution_count": 22,
   "metadata": {
    "collapsed": true
   },
   "outputs": [],
   "source": [
    "import matplotlib.pyplot as plt\n",
    "import numpy as np\n",
    "from copy import deepcopy\n",
    "%matplotlib inline "
   ]
  },
  {
   "cell_type": "code",
   "execution_count": 368,
   "metadata": {},
   "outputs": [
    {
     "data": {
      "text/plain": [
       "(0, 1000)"
      ]
     },
     "execution_count": 368,
     "metadata": {},
     "output_type": "execute_result"
    },
    {
     "data": {
      "image/png": "[encoded data removed]",
      "text/plain": [
       "<matplotlib.figure.Figure at 0x7f0e9d067e90>"
      ]
     },
     "metadata": {},
     "output_type": "display_data"
    }
   ],
   "source": [
    "plt.scatter(range(len(history_raw.history['val_loss'])), history_raw.history['val_loss'])\n",
    "#plt.ylim(0.8,0.86)\n",
    "plt.xlim(0,1000)"
   ]
  },
  {
   "cell_type": "code",
   "execution_count": 114,
   "metadata": {},
   "outputs": [
    {
     "name": "stdout",
     "output_type": "stream",
     "text": [
      "_________________________________________________________________\n",
      "Layer (type)                 Output Shape              Param #   \n",
      "=================================================================\n",
      "input_7 (InputLayer)         (None, 320)               0         \n",
      "_________________________________________________________________\n",
      "dense_157 (Dense)            (None, 400)               128400    \n",
      "_________________________________________________________________\n",
      "dense_158 (Dense)            (None, 260)               104260    \n",
      "_________________________________________________________________\n",
      "dense_159 (Dense)            (None, 169)               44109     \n",
      "_________________________________________________________________\n",
      "dense_160 (Dense)            (None, 109)               18530     \n",
      "_________________________________________________________________\n",
      "dense_161 (Dense)            (None, 70)                7700      \n",
      "_________________________________________________________________\n",
      "dense_162 (Dense)            (None, 45)                3195      \n",
      "_________________________________________________________________\n",
      "dense_163 (Dense)            (None, 29)                1334      \n",
      "_________________________________________________________________\n",
      "dense_164 (Dense)            (None, 18)                540       \n",
      "_________________________________________________________________\n",
      "dense_165 (Dense)            (None, 11)                209       \n",
      "_________________________________________________________________\n",
      "dense_166 (Dense)            (None, 7)                 84        \n",
      "_________________________________________________________________\n",
      "dense_167 (Dense)            (None, 4)                 32        \n",
      "_________________________________________________________________\n",
      "dense_168 (Dense)            (None, 2)                 10        \n",
      "_________________________________________________________________\n",
      "dense_169 (Dense)            (None, 1)                 3         \n",
      "_________________________________________________________________\n",
      "dense_170 (Dense)            (None, 2)                 4         \n",
      "_________________________________________________________________\n",
      "dense_171 (Dense)            (None, 4)                 12        \n",
      "_________________________________________________________________\n",
      "dense_172 (Dense)            (None, 7)                 35        \n",
      "_________________________________________________________________\n",
      "dense_173 (Dense)            (None, 11)                88        \n",
      "_________________________________________________________________\n",
      "dense_174 (Dense)            (None, 18)                216       \n",
      "_________________________________________________________________\n",
      "dense_175 (Dense)            (None, 29)                551       \n",
      "_________________________________________________________________\n",
      "dense_176 (Dense)            (None, 45)                1350      \n",
      "_________________________________________________________________\n",
      "dense_177 (Dense)            (None, 70)                3220      \n",
      "_________________________________________________________________\n",
      "dense_178 (Dense)            (None, 109)               7739      \n",
      "_________________________________________________________________\n",
      "dense_179 (Dense)            (None, 169)               18590     \n",
      "_________________________________________________________________\n",
      "dense_180 (Dense)            (None, 260)               44200     \n",
      "_________________________________________________________________\n",
      "dense_181 (Dense)            (None, 400)               104400    \n",
      "_________________________________________________________________\n",
      "dense_182 (Dense)            (None, 320)               128320    \n",
      "=================================================================\n",
      "Total params: 617,131\n",
      "Trainable params: 617,131\n",
      "Non-trainable params: 0\n",
      "_________________________________________________________________\n"
     ]
    }
   ],
   "source": [
    "model.Summary()"
   ]
  },
  {
   "cell_type": "code",
   "execution_count": 369,
   "metadata": {
    "collapsed": true
   },
   "outputs": [],
   "source": [
    "encoded_data = model.Predict(corrected_features)"
   ]
  },
  {
   "cell_type": "code",
   "execution_count": 370,
   "metadata": {
    "collapsed": true
   },
   "outputs": [],
   "source": [
    "from numpy import mean"
   ]
  },
  {
   "cell_type": "code",
   "execution_count": 371,
   "metadata": {
    "collapsed": true
   },
   "outputs": [],
   "source": [
    "OP = []\n",
    "for i in range(len(etas)):\n",
    "    OP.append(mean(encoded_data[:,0][i*400:i*400+400]))"
   ]
  },
  {
   "cell_type": "code",
   "execution_count": 372,
   "metadata": {},
   "outputs": [
    {
     "name": "stderr",
     "output_type": "stream",
     "text": [
      "/home/ryanj/miniconda2/lib/python2.7/site-packages/ipykernel_launcher.py:14: MatplotlibDeprecationWarning: The set_axis_bgcolor function was deprecated in version 2.0. Use set_facecolor instead.\n",
      "  \n"
     ]
    },
    {
     "data": {
      "image/png": "[encoded data removed]",
      "text/plain": [
       "<matplotlib.figure.Figure at 0x7f0eac67c050>"
      ]
     },
     "metadata": {},
     "output_type": "display_data"
    }
   ],
   "source": [
    "#plot the principal components\n",
    "colors = 200*['green', 'purple', 'orange', 'teal', 'black', 'red']\n",
    "\n",
    "#highlight the transition region if found\n",
    "plt.axvspan(0.700, 0.716, alpha=0.2, color='grey')\n",
    "plt.axvspan(0.716, 0.745, alpha=0.2, color='blue')\n",
    "\n",
    "plt.plot(etas, -array(OP), marker='o', linewidth=0.0, markersize=10, color = 'orange', alpha=1.0, markerfacecolor='None') \n",
    "\n",
    "\n",
    "#backround grid details\n",
    "axes = plt.gca()\n",
    "axes.grid(b = True, which = 'both', axis = 'both', color = 'gray', linestyle = '-', alpha = 0.5, linewidth = 0.5) \n",
    "axes.set_axis_bgcolor('white')  \n",
    "\n",
    "#font scpecifications\n",
    "title_font = {'family' : 'arial', 'color'  : 'black', 'weight' : 'heavy','size': 20}\n",
    "axis_label_font = {'family' : 'arial', 'color'  : 'black', 'weight' : 'normal','size': 20}                                                   \n",
    "\n",
    "#figure size and tick style\n",
    "plt.rcParams[\"figure.figsize\"] = [6,6]\n",
    "plt.rc('axes',edgecolor='black',linewidth=1)\n",
    "plt.tick_params(which='both', axis='both', color='black', length=4, width=0.5)\n",
    "plt.rcParams['xtick.direction'] = 'in'\n",
    "plt.rcParams['ytick.direction'] = 'in'\n",
    "\n",
    "#plt.yscale('log')\n",
    "#plt.ylim(0,0.3)\n",
    "\n",
    "plt.xlabel(r'$P_{1}$', y=3, fontsize=20, fontdict = axis_label_font)\n",
    "plt.ylabel(r'$P_{1}$', fontsize=20, fontdict = axis_label_font)\n",
    "\n",
    "#title and axis labels\n",
    "plt.tick_params(axis='both', labelsize=20)\n",
    "plt.title('Autoencoder', y=1.05, fontdict = title_font)\n",
    "\n",
    "plt.show()"
   ]
  },
  {
   "cell_type": "code",
   "execution_count": 340,
   "metadata": {},
   "outputs": [
    {
     "name": "stderr",
     "output_type": "stream",
     "text": [
      "/home/ryanj/miniconda2/lib/python2.7/site-packages/ipykernel_launcher.py:14: MatplotlibDeprecationWarning: The set_axis_bgcolor function was deprecated in version 2.0. Use set_facecolor instead.\n",
      "  \n"
     ]
    },
    {
     "data": {
      "image/png": "[encoded data removed]",
      "text/plain": [
       "<matplotlib.figure.Figure at 0x7f0ea453a550>"
      ]
     },
     "metadata": {},
     "output_type": "display_data"
    }
   ],
   "source": [
    "#plot the principal components\n",
    "colors = 200*['green', 'purple', 'orange', 'teal', 'black', 'red']\n",
    "\n",
    "#highlight the transition region if found\n",
    "plt.axvspan(0.700, 0.716, alpha=0.2, color='grey')\n",
    "plt.axvspan(0.716, 0.745, alpha=0.2, color='blue')\n",
    "\n",
    "plt.plot(etas, -array(OP), marker='o', linewidth=0.0, markersize=10, color = 'orange', alpha=1.0, markerfacecolor='None') \n",
    "\n",
    "\n",
    "#backround grid details\n",
    "axes = plt.gca()\n",
    "axes.grid(b = True, which = 'both', axis = 'both', color = 'gray', linestyle = '-', alpha = 0.5, linewidth = 0.5) \n",
    "axes.set_axis_bgcolor('white')  \n",
    "\n",
    "#font scpecifications\n",
    "title_font = {'family' : 'arial', 'color'  : 'black', 'weight' : 'heavy','size': 20}\n",
    "axis_label_font = {'family' : 'arial', 'color'  : 'black', 'weight' : 'normal','size': 20}                                                   \n",
    "\n",
    "#figure size and tick style\n",
    "plt.rcParams[\"figure.figsize\"] = [6,6]\n",
    "plt.rc('axes',edgecolor='black',linewidth=1)\n",
    "plt.tick_params(which='both', axis='both', color='black', length=4, width=0.5)\n",
    "plt.rcParams['xtick.direction'] = 'in'\n",
    "plt.rcParams['ytick.direction'] = 'in'\n",
    "\n",
    "#plt.yscale('log')\n",
    "#plt.ylim(0,0.3)\n",
    "\n",
    "plt.xlabel(r'$P_{1}$', y=3, fontsize=20, fontdict = axis_label_font)\n",
    "plt.ylabel(r'$P_{1}$', fontsize=20, fontdict = axis_label_font)\n",
    "\n",
    "#title and axis labels\n",
    "plt.tick_params(axis='both', labelsize=20)\n",
    "plt.title('Autoencoder', y=1.05, fontdict = title_font)\n",
    "\n",
    "plt.show()"
   ]
  },
  {
   "cell_type": "code",
   "execution_count": 47,
   "metadata": {},
   "outputs": [
    {
     "name": "stderr",
     "output_type": "stream",
     "text": [
      "/home/ryanj/miniconda2/lib/python2.7/site-packages/ipykernel_launcher.py:14: MatplotlibDeprecationWarning: The set_axis_bgcolor function was deprecated in version 2.0. Use set_facecolor instead.\n",
      "  \n"
     ]
    },
    {
     "data": {
      "image/png": "[encoded data removed]",
      "text/plain": [
       "<matplotlib.figure.Figure at 0x7f0eabc7cc10>"
      ]
     },
     "metadata": {},
     "output_type": "display_data"
    }
   ],
   "source": [
    "#plot the principal components\n",
    "colors = 200*['green', 'purple', 'orange', 'teal', 'black', 'red']\n",
    "\n",
    "#highlight the transition region if found\n",
    "plt.axvspan(0.700, 0.716, alpha=0.2, color='grey')\n",
    "plt.axvspan(0.716, 0.745, alpha=0.2, color='blue')\n",
    "\n",
    "plt.plot(etas, array(OP), marker='o', linewidth=0.0, markersize=10, color = 'orange', alpha=1.0, markerfacecolor='None') \n",
    "\n",
    "\n",
    "#backround grid details\n",
    "axes = plt.gca()\n",
    "axes.grid(b = True, which = 'both', axis = 'both', color = 'gray', linestyle = '-', alpha = 0.5, linewidth = 0.5) \n",
    "axes.set_axis_bgcolor('white')  \n",
    "\n",
    "#font scpecifications\n",
    "title_font = {'family' : 'arial', 'color'  : 'black', 'weight' : 'heavy','size': 20}\n",
    "axis_label_font = {'family' : 'arial', 'color'  : 'black', 'weight' : 'normal','size': 20}                                                   \n",
    "\n",
    "#figure size and tick style\n",
    "plt.rcParams[\"figure.figsize\"] = [6,6]\n",
    "plt.rc('axes',edgecolor='black',linewidth=1)\n",
    "plt.tick_params(which='both', axis='both', color='black', length=4, width=0.5)\n",
    "plt.rcParams['xtick.direction'] = 'in'\n",
    "plt.rcParams['ytick.direction'] = 'in'\n",
    "\n",
    "#plt.yscale('log')\n",
    "#plt.ylim(0,0.3)\n",
    "\n",
    "plt.xlabel(r'$P_{1}$', y=3, fontsize=20, fontdict = axis_label_font)\n",
    "plt.ylabel(r'$P_{1}$', fontsize=20, fontdict = axis_label_font)\n",
    "\n",
    "#title and axis labels\n",
    "plt.tick_params(axis='both', labelsize=20)\n",
    "plt.title('Autoencoder', y=1.05, fontdict = title_font)\n",
    "\n",
    "plt.show()"
   ]
  },
  {
   "cell_type": "code",
   "execution_count": null,
   "metadata": {
    "collapsed": true
   },
   "outputs": [],
   "source": []
  },
  {
   "cell_type": "markdown",
   "metadata": {},
   "source": [
    "## Check out the 10 iterations"
   ]
  },
  {
   "cell_type": "code",
   "execution_count": 87,
   "metadata": {},
   "outputs": [],
   "source": [
    "from numpy import mean, loadtxt"
   ]
  },
  {
   "cell_type": "code",
   "execution_count": 19,
   "metadata": {
    "collapsed": true
   },
   "outputs": [],
   "source": [
    "model = AutoEncoder(dim=dim, encode_dim=1, \n",
    "                    initial_growth=0.25, shrink=0.65,\n",
    "                    activation='selu', kernel_initializer='lecun_normal')"
   ]
  },
  {
   "cell_type": "code",
   "execution_count": 115,
   "metadata": {},
   "outputs": [
    {
     "name": "stdout",
     "output_type": "stream",
     "text": [
      "_________________________________________________________________\n",
      "Layer (type)                 Output Shape              Param #   \n",
      "=================================================================\n",
      "input_7 (InputLayer)         (None, 320)               0         \n",
      "_________________________________________________________________\n",
      "dense_157 (Dense)            (None, 400)               128400    \n",
      "_________________________________________________________________\n",
      "dense_158 (Dense)            (None, 260)               104260    \n",
      "_________________________________________________________________\n",
      "dense_159 (Dense)            (None, 169)               44109     \n",
      "_________________________________________________________________\n",
      "dense_160 (Dense)            (None, 109)               18530     \n",
      "_________________________________________________________________\n",
      "dense_161 (Dense)            (None, 70)                7700      \n",
      "_________________________________________________________________\n",
      "dense_162 (Dense)            (None, 45)                3195      \n",
      "_________________________________________________________________\n",
      "dense_163 (Dense)            (None, 29)                1334      \n",
      "_________________________________________________________________\n",
      "dense_164 (Dense)            (None, 18)                540       \n",
      "_________________________________________________________________\n",
      "dense_165 (Dense)            (None, 11)                209       \n",
      "_________________________________________________________________\n",
      "dense_166 (Dense)            (None, 7)                 84        \n",
      "_________________________________________________________________\n",
      "dense_167 (Dense)            (None, 4)                 32        \n",
      "_________________________________________________________________\n",
      "dense_168 (Dense)            (None, 2)                 10        \n",
      "_________________________________________________________________\n",
      "dense_169 (Dense)            (None, 1)                 3         \n",
      "_________________________________________________________________\n",
      "dense_170 (Dense)            (None, 2)                 4         \n",
      "_________________________________________________________________\n",
      "dense_171 (Dense)            (None, 4)                 12        \n",
      "_________________________________________________________________\n",
      "dense_172 (Dense)            (None, 7)                 35        \n",
      "_________________________________________________________________\n",
      "dense_173 (Dense)            (None, 11)                88        \n",
      "_________________________________________________________________\n",
      "dense_174 (Dense)            (None, 18)                216       \n",
      "_________________________________________________________________\n",
      "dense_175 (Dense)            (None, 29)                551       \n",
      "_________________________________________________________________\n",
      "dense_176 (Dense)            (None, 45)                1350      \n",
      "_________________________________________________________________\n",
      "dense_177 (Dense)            (None, 70)                3220      \n",
      "_________________________________________________________________\n",
      "dense_178 (Dense)            (None, 109)               7739      \n",
      "_________________________________________________________________\n",
      "dense_179 (Dense)            (None, 169)               18590     \n",
      "_________________________________________________________________\n",
      "dense_180 (Dense)            (None, 260)               44200     \n",
      "_________________________________________________________________\n",
      "dense_181 (Dense)            (None, 400)               104400    \n",
      "_________________________________________________________________\n",
      "dense_182 (Dense)            (None, 320)               128320    \n",
      "=================================================================\n",
      "Total params: 617,131\n",
      "Trainable params: 617,131\n",
      "Non-trainable params: 0\n",
      "_________________________________________________________________\n"
     ]
    }
   ],
   "source": [
    "model.Summary()"
   ]
  },
  {
   "cell_type": "code",
   "execution_count": 90,
   "metadata": {},
   "outputs": [
    {
     "name": "stdout",
     "output_type": "stream",
     "text": [
      "0\n",
      "1\n",
      "2\n",
      "3\n",
      "4\n",
      "5\n",
      "6\n",
      "7\n",
      "8\n",
      "9\n",
      "linear\n"
     ]
    }
   ],
   "source": [
    "OP_set = []\n",
    "error_set = []\n",
    "for i in range(10):\n",
    "    print i\n",
    "    model.autoencoder.load_weights('./model/weights_{}.hdf5'.format(i))\n",
    "    model.Compile(optimizer='adamax', loss='mean_squared_error')\n",
    "    encoded_data = model.Predict(corrected_features)\n",
    "    OP = []\n",
    "    for j in range(len(etas)):\n",
    "        OP.append(mean(encoded_data[:,0][j*400:j*400+400]))\n",
    "    OP_set.append(OP)\n",
    "    error_set.append(loadtxt('./model/val_loss_{}.txt'.format(i)))\n",
    "\n",
    "print 'linear'\n",
    "model.autoencoder.load_weights('./model/weights_linear.hdf5'.format(i))\n",
    "model.Compile(optimizer='adamax', loss='mean_squared_error')\n",
    "encoded_data = model.Predict(corrected_features)\n",
    "OP_linear = []\n",
    "for i in range(len(etas)):\n",
    "    OP_linear.append(mean(encoded_data[:,0][i*400:i*400+400]))\n",
    "error_linear = loadtxt('./model/val_loss_linear.txt')"
   ]
  },
  {
   "cell_type": "code",
   "execution_count": 106,
   "metadata": {},
   "outputs": [
    {
     "name": "stderr",
     "output_type": "stream",
     "text": [
      "/home/ryanj/miniconda2/lib/python2.7/site-packages/ipykernel_launcher.py:16: MatplotlibDeprecationWarning: The set_axis_bgcolor function was deprecated in version 2.0. Use set_facecolor instead.\n",
      "  app.launch_new_instance()\n"
     ]
    },
    {
     "data": {
      "image/png": "[encoded data removed]",
      "text/plain": [
       "<matplotlib.figure.Figure at 0x7f295d3e7a50>"
      ]
     },
     "metadata": {},
     "output_type": "display_data"
    }
   ],
   "source": [
    "#plot the principal components\n",
    "colors = 200*['green', 'purple', 'orange', 'teal', 'red', 'brown', 'yellow', 'blue', 'purple', 'cyan']\n",
    "\n",
    "#highlight the transition region if found\n",
    "plt.axvspan(0.700, 0.716, alpha=0.2, color='grey')\n",
    "plt.axvspan(0.716, 0.745, alpha=0.2, color='blue')\n",
    "\n",
    "for i in range(len(OP_set)):\n",
    "    plt.plot(range(len(error_set[i])), error_set[i], marker='o', linewidth=0.0, markersize=5, color = colors[i], alpha=1.0, markerfacecolor='None')\n",
    "    \n",
    "plt.plot(range(len(error_linear)), error_linear, marker='o', linewidth=0.0, markersize=10, color = 'black', alpha=2.0, markerfacecolor='None') \n",
    "\n",
    "#backround grid details\n",
    "axes = plt.gca()\n",
    "axes.grid(b = True, which = 'both', axis = 'both', color = 'gray', linestyle = '-', alpha = 0.5, linewidth = 0.5) \n",
    "axes.set_axis_bgcolor('white')  \n",
    "\n",
    "#font scpecifications\n",
    "title_font = {'family' : 'arial', 'color'  : 'black', 'weight' : 'heavy','size': 20}\n",
    "axis_label_font = {'family' : 'arial', 'color'  : 'black', 'weight' : 'normal','size': 20}                                                   \n",
    "\n",
    "#figure size and tick style\n",
    "plt.rcParams[\"figure.figsize\"] = [6,6]\n",
    "plt.rc('axes',edgecolor='black',linewidth=1)\n",
    "plt.tick_params(which='both', axis='both', color='black', length=4, width=0.5)\n",
    "plt.rcParams['xtick.direction'] = 'in'\n",
    "plt.rcParams['ytick.direction'] = 'in'\n",
    "\n",
    "#plt.yscale('log')\n",
    "plt.ylim(0.8,0.88)\n",
    "\n",
    "plt.xlabel(r'$P_{1}$', y=3, fontsize=20, fontdict = axis_label_font)\n",
    "plt.ylabel(r'$P_{1}$', fontsize=20, fontdict = axis_label_font)\n",
    "\n",
    "#title and axis labels\n",
    "plt.tick_params(axis='both', labelsize=20)\n",
    "plt.title('Autoencoder', y=1.05, fontdict = title_font)\n",
    "\n",
    "plt.show()"
   ]
  },
  {
   "cell_type": "code",
   "execution_count": 113,
   "metadata": {},
   "outputs": [
    {
     "name": "stderr",
     "output_type": "stream",
     "text": [
      "/home/ryanj/miniconda2/lib/python2.7/site-packages/ipykernel_launcher.py:18: MatplotlibDeprecationWarning: The set_axis_bgcolor function was deprecated in version 2.0. Use set_facecolor instead.\n"
     ]
    },
    {
     "data": {
      "image/png": "[encoded data removed]",
      "text/plain": [
       "<matplotlib.figure.Figure at 0x7f2954d562d0>"
      ]
     },
     "metadata": {},
     "output_type": "display_data"
    }
   ],
   "source": [
    "#plot the principal components\n",
    "colors = 200*['green', 'purple', 'orange', 'teal', 'red', 'brown', 'yellow', 'blue', 'magenta', 'cyan']\n",
    "\n",
    "#highlight the transition region if found\n",
    "plt.axvspan(0.700, 0.716, alpha=0.2, color='grey')\n",
    "plt.axvspan(0.716, 0.745, alpha=0.2, color='blue')\n",
    "\n",
    "#for i in range(len(OP_set)):\n",
    "    #plt.plot(etas, array(OP_set[i]), marker='o', linewidth=0.0, markersize=5, color = colors[i], alpha=1.0, markerfacecolor='None')\n",
    "    \n",
    "#plt.plot(etas, OP_linear, marker='o', linewidth=0.0, markersize=10, color = 'black', alpha=2.0, markerfacecolor='None') \n",
    "index = 1\n",
    "plt.plot(etas, array(OP_set[index]), marker='o', linewidth=0.0, markersize=5, color = colors[index], alpha=1.0, markerfacecolor='None')\n",
    "\n",
    "#backround grid details\n",
    "axes = plt.gca()\n",
    "axes.grid(b = True, which = 'both', axis = 'both', color = 'gray', linestyle = '-', alpha = 0.5, linewidth = 0.5) \n",
    "axes.set_axis_bgcolor('white')  \n",
    "\n",
    "#font scpecifications\n",
    "title_font = {'family' : 'arial', 'color'  : 'black', 'weight' : 'heavy','size': 20}\n",
    "axis_label_font = {'family' : 'arial', 'color'  : 'black', 'weight' : 'normal','size': 20}                                                   \n",
    "\n",
    "#figure size and tick style\n",
    "plt.rcParams[\"figure.figsize\"] = [6,6]\n",
    "plt.rc('axes',edgecolor='black',linewidth=1)\n",
    "plt.tick_params(which='both', axis='both', color='black', length=4, width=0.5)\n",
    "plt.rcParams['xtick.direction'] = 'in'\n",
    "plt.rcParams['ytick.direction'] = 'in'\n",
    "\n",
    "#plt.yscale('log')\n",
    "#plt.ylim(0,0.3)\n",
    "\n",
    "plt.xlabel(r'$P_{1}$', y=3, fontsize=20, fontdict = axis_label_font)\n",
    "plt.ylabel(r'$P_{1}$', fontsize=20, fontdict = axis_label_font)\n",
    "\n",
    "#title and axis labels\n",
    "plt.tick_params(axis='both', labelsize=20)\n",
    "plt.title('Autoencoder', y=1.05, fontdict = title_font)\n",
    "\n",
    "plt.show()"
   ]
  },
  {
   "cell_type": "code",
   "execution_count": null,
   "metadata": {
    "collapsed": true
   },
   "outputs": [],
   "source": []
  },
  {
   "cell_type": "code",
   "execution_count": null,
   "metadata": {
    "collapsed": true
   },
   "outputs": [],
   "source": []
  },
  {
   "cell_type": "code",
   "execution_count": null,
   "metadata": {
    "collapsed": true
   },
   "outputs": [],
   "source": []
  },
  {
   "cell_type": "code",
   "execution_count": null,
   "metadata": {
    "collapsed": true
   },
   "outputs": [],
   "source": []
  },
  {
   "cell_type": "code",
   "execution_count": null,
   "metadata": {
    "collapsed": true
   },
   "outputs": [],
   "source": []
  },
  {
   "cell_type": "code",
   "execution_count": null,
   "metadata": {
    "collapsed": true
   },
   "outputs": [],
   "source": []
  },
  {
   "cell_type": "code",
   "execution_count": 113,
   "metadata": {
    "collapsed": true
   },
   "outputs": [],
   "source": [
    "from copy import deepcopy\n",
    "from numpy import concatenate, log, power, rint, sqrt, sum, unique, repeat, arccos, dot, transpose, append, cos, sin, hstack, maximum, minimum, pi, array, mean\n",
    "from numpy.linalg import norm\n",
    "from numpy.random import shuffle, choice\n",
    "from sklearn import preprocessing\n",
    "import warnings\n",
    "\n",
    "#this generates NN features for the PCA analysis (or some other machine learning method as well)\n",
    "def FrameToFeaturesPosition(frame, N_nn, nn_inc, N_batch, batches_per_frame):\n",
    "    #extract some relevant frames level details\n",
    "    coords = deepcopy(frame['coords'])\n",
    "    D = float(frame['D'])\n",
    "    N = float(len(coords))\n",
    "    V = power(frame['L'], D)\n",
    "    normalizing_distance = power(V/N, 1.0/D)\n",
    "    \n",
    "    #loop over the batches\n",
    "    aggregated_frame_features = []\n",
    "    for i in range(batches_per_frame):\n",
    "        coords_batch = coords[choice(int(N), N_batch, replace=False)]\n",
    "\n",
    "        #loop over the particles\n",
    "        frame_features = []\n",
    "        for particle in coords_batch:\n",
    "            #nearest neighbor coordinate wrapping\n",
    "            Rpj_v = particle - coords\n",
    "            Rpj_v = Rpj_v - rint(Rpj_v/frame['L'])*frame['L']\n",
    "            Rpj = (sqrt(sum(power(Rpj_v, 2.0), axis=1)))     #tagged particles NN\n",
    "\n",
    "            #sorting by the distance to enable the discovery of positional order\n",
    "            sorter = Rpj.argsort()\n",
    "            Rpj_v = Rpj_v[sorter[::1]][1:N_nn+1]\n",
    "            Rpj = Rpj[sorter[::1]][1:N_nn+1]\n",
    "            \n",
    "            #calculate sorted distances between the NNs\n",
    "            features = deepcopy(Rpj)\n",
    "            for i in range(len(Rpj_v)-1):\n",
    "                nn_Rij_v = Rpj_v[i] - Rpj_v[i+1:]\n",
    "                nn_Rij_v = nn_Rij_v - rint(nn_Rij_v/frame['L'])*frame['L']\n",
    "                nn_Rij = (sqrt(sum(power(nn_Rij_v, 2.0), axis=1)))\n",
    "                features = concatenate((features, nn_Rij), axis=0)\n",
    " \n",
    "            #create features that correspond to probe particles and their nearest neighbors\n",
    "            frame_features.append(features/normalizing_distance)\n",
    "\n",
    "        #sort by the first nearest neighbor to again provide some positional basis on which to learn correlations\n",
    "        #frame_features = array(frame_features)\n",
    "        #sorter = frame_features[:,5].argsort()\n",
    "        #frame_features = frame_features[sorter]\n",
    "        \n",
    "        #TEST\n",
    "        #sorter = mean(frame_features, axis=1).argsort()\n",
    "        #frame_features = frame_features[sorter]\n",
    "        \n",
    "        shuffle(frame_features)\n",
    "        #TEST\n",
    "        \n",
    "        aggregated_frame_features.append(array(frame_features).flatten())\n",
    "\n",
    "    return array(aggregated_frame_features)\n",
    "\n",
    "#this converts an entire trajectory into features\n",
    "def TrajectoryToFeaturesPosition(frames, N_nn, nn_inc, N_batch, batches_per_frame):\n",
    "    #print filename\n",
    "    features = []\n",
    "    for frame in frames: \n",
    "        aggregated_frame_features = FrameToFeaturesPosition(frame, N_nn, nn_inc, N_batch, batches_per_frame)\n",
    "        for frame_features in aggregated_frame_features:\n",
    "            features.append(frame_features)\n",
    "    return array(features)"
   ]
  },
  {
   "cell_type": "code",
   "execution_count": 269,
   "metadata": {},
   "outputs": [
    {
     "data": {
      "text/plain": [
       "44000"
      ]
     },
     "execution_count": 269,
     "metadata": {},
     "output_type": "execute_result"
    }
   ],
   "source": [
    "len(corrected_features)"
   ]
  },
  {
   "cell_type": "code",
   "execution_count": null,
   "metadata": {
    "collapsed": true
   },
   "outputs": [],
   "source": []
  },
  {
   "cell_type": "code",
   "execution_count": null,
   "metadata": {
    "collapsed": true
   },
   "outputs": [],
   "source": []
  },
  {
   "cell_type": "code",
   "execution_count": null,
   "metadata": {
    "collapsed": true
   },
   "outputs": [],
   "source": []
  },
  {
   "cell_type": "code",
   "execution_count": null,
   "metadata": {
    "collapsed": true
   },
   "outputs": [],
   "source": []
  },
  {
   "cell_type": "markdown",
   "metadata": {},
   "source": [
    "### Build a radial basis function network"
   ]
  },
  {
   "cell_type": "code",
   "execution_count": 131,
   "metadata": {
    "collapsed": true
   },
   "outputs": [],
   "source": [
    "from keras import backend as K\n",
    "from keras.utils.generic_utils import get_custom_objects"
   ]
  },
  {
   "cell_type": "code",
   "execution_count": 140,
   "metadata": {},
   "outputs": [],
   "source": [
    "from keras import backend as K\n",
    "from keras.engine.topology import Layer\n",
    "from keras.initializers import Constant\n",
    "import numpy as np"
   ]
  },
  {
   "cell_type": "code",
   "execution_count": 496,
   "metadata": {},
   "outputs": [],
   "source": [
    "class RadiallyPositionedBasis(Layer):\n",
    "    \n",
    "    def __init__(self, output_dim, rcs, init_sigma=0.1, **kwargs):\n",
    "        #self consistency check to ensure that the number of rcs equals \n",
    "        #the expected number of output dimensions\n",
    "        self.rcs_dim = len(rcs)\n",
    "        assert output_dim == self.rcs_dim\n",
    "        \n",
    "        self.output_dim = output_dim\n",
    "        self.rcs = K.variable(value=rcs)\n",
    "        self.init_sigma = init_sigma\n",
    "        super(RadiallyPositionedBasis, self).__init__(**kwargs)\n",
    "\n",
    "    def build(self, input_shape):\n",
    "        #check that we are only using only scalar quantities \n",
    "        assert input_shape[1] == 1\n",
    "        \n",
    "        #create the optimizable standard deviations for the gaussian basis functions\n",
    "        self.sigmas = self.add_weight(name='sigmas',\n",
    "                                     shape=(self.output_dim,),\n",
    "                                     initializer=Constant(value=self.init_sigma),\n",
    "                                     trainable=True)\n",
    "        super(RadiallyPositionedBasis, self).build(input_shape)  \n",
    "\n",
    "    def call(self, x):\n",
    "        X = K.repeat_elements(x, self.rcs_dim, axis=1)\n",
    "        return K.exp(-(self.rcs-X)**2.0)/self.sigmas\n",
    "\n",
    "    def compute_output_shape(self, input_shape):\n",
    "        return (input_shape[0], self.output_dim)\n",
    "\n",
    "    def get_config(self):\n",
    "        # have to define get_config to be able to use model_from_json\n",
    "        config = {\n",
    "            'output_dim': self.output_dim\n",
    "        }\n",
    "        base_config = super(RadiallyPositionedBasis, self).get_config()\n",
    "        return dict(list(base_config.items()) + list(config.items()))"
   ]
  },
  {
   "cell_type": "code",
   "execution_count": 572,
   "metadata": {},
   "outputs": [],
   "source": [
    "from keras.layers import Input, Dense\n",
    "from keras.models import Model"
   ]
  },
  {
   "cell_type": "code",
   "execution_count": 607,
   "metadata": {},
   "outputs": [
    {
     "name": "stdout",
     "output_type": "stream",
     "text": [
      "[ 0.  1.  2.  3.  4.  5.]\n"
     ]
    }
   ],
   "source": [
    "rcs = arange(0.0, 5.0001, 1.0)\n",
    "print rcs\n",
    "\n",
    "r = Input(shape=(1,))\n",
    "signal = RadiallyPositionedBasis(len(rcs), rcs, init_sigma=0.01)(r)\n",
    "signal = Dense(len(rcs), activation='elu')(signal)\n",
    "Fr = Dense(1, activation='linear')(signal)\n",
    "\n",
    "# this model maps an input to its reconstruction\n",
    "model = Model(r, Fr)"
   ]
  },
  {
   "cell_type": "code",
   "execution_count": 608,
   "metadata": {},
   "outputs": [],
   "source": [
    "from numpy import cos, transpose"
   ]
  },
  {
   "cell_type": "code",
   "execution_count": 609,
   "metadata": {
    "collapsed": true
   },
   "outputs": [],
   "source": [
    "r_train = transpose([arange(0.0,5.0,0.0001)])\n",
    "Fr_train = cos(r_train)"
   ]
  },
  {
   "cell_type": "code",
   "execution_count": 610,
   "metadata": {
    "collapsed": true
   },
   "outputs": [],
   "source": [
    "model.compile(optimizer='adamax', loss='mean_squared_error')"
   ]
  },
  {
   "cell_type": "code",
   "execution_count": 611,
   "metadata": {
    "scrolled": true
   },
   "outputs": [
    {
     "name": "stdout",
     "output_type": "stream",
     "text": [
      "Epoch 1/50\n",
      "50000/50000 [==============================] - 0s - loss: 6.5522     \n",
      "Epoch 2/50\n",
      "50000/50000 [==============================] - 0s - loss: 0.1371     \n",
      "Epoch 3/50\n",
      "50000/50000 [==============================] - 0s - loss: 0.0227     \n",
      "Epoch 4/50\n",
      "50000/50000 [==============================] - 0s - loss: 0.0027     \n",
      "Epoch 5/50\n",
      "50000/50000 [==============================] - 0s - loss: 8.8110e-04     \n",
      "Epoch 6/50\n",
      "50000/50000 [==============================] - 0s - loss: 3.0172e-04     \n",
      "Epoch 7/50\n",
      "50000/50000 [==============================] - 0s - loss: 1.5949e-04     \n",
      "Epoch 8/50\n",
      "50000/50000 [==============================] - 0s - loss: 9.3706e-05     \n",
      "Epoch 9/50\n",
      "50000/50000 [==============================] - 0s - loss: 6.1320e-05     \n",
      "Epoch 10/50\n",
      "50000/50000 [==============================] - 0s - loss: 5.2069e-05     \n",
      "Epoch 11/50\n",
      "50000/50000 [==============================] - 0s - loss: 4.3518e-05     \n",
      "Epoch 12/50\n",
      "50000/50000 [==============================] - 0s - loss: 3.7967e-05     \n",
      "Epoch 13/50\n",
      "50000/50000 [==============================] - 0s - loss: 3.3055e-05     \n",
      "Epoch 14/50\n",
      "50000/50000 [==============================] - 0s - loss: 3.2812e-05     \n",
      "Epoch 15/50\n",
      "50000/50000 [==============================] - 0s - loss: 2.9057e-05     \n",
      "Epoch 16/50\n",
      "50000/50000 [==============================] - 0s - loss: 2.8527e-05     \n",
      "Epoch 17/50\n",
      "50000/50000 [==============================] - 0s - loss: 2.7608e-05     \n",
      "Epoch 18/50\n",
      "50000/50000 [==============================] - 0s - loss: 2.3947e-05     \n",
      "Epoch 19/50\n",
      "50000/50000 [==============================] - 0s - loss: 2.3591e-05     \n",
      "Epoch 20/50\n",
      "50000/50000 [==============================] - 0s - loss: 2.2296e-05     \n",
      "Epoch 21/50\n",
      "50000/50000 [==============================] - 0s - loss: 2.1061e-05     \n",
      "Epoch 22/50\n",
      "50000/50000 [==============================] - 0s - loss: 1.8042e-05     \n",
      "Epoch 23/50\n",
      "50000/50000 [==============================] - 0s - loss: 1.7012e-05     \n",
      "Epoch 24/50\n",
      "50000/50000 [==============================] - 0s - loss: 1.5191e-05     \n",
      "Epoch 25/50\n",
      "50000/50000 [==============================] - 0s - loss: 1.4561e-05     \n",
      "Epoch 26/50\n",
      "50000/50000 [==============================] - 0s - loss: 1.3683e-05     \n",
      "Epoch 27/50\n",
      "50000/50000 [==============================] - 0s - loss: 1.1208e-05     \n",
      "Epoch 28/50\n",
      "50000/50000 [==============================] - 0s - loss: 1.1298e-05     \n",
      "Epoch 29/50\n",
      "50000/50000 [==============================] - 0s - loss: 9.6050e-06     \n",
      "Epoch 30/50\n",
      "50000/50000 [==============================] - 0s - loss: 8.6001e-06     \n",
      "Epoch 31/50\n",
      "50000/50000 [==============================] - 0s - loss: 8.3349e-06     \n",
      "Epoch 32/50\n",
      "50000/50000 [==============================] - 0s - loss: 7.6400e-06     \n",
      "Epoch 33/50\n",
      "50000/50000 [==============================] - 0s - loss: 7.5503e-06     \n",
      "Epoch 34/50\n",
      "50000/50000 [==============================] - 0s - loss: 6.0269e-06     \n",
      "Epoch 35/50\n",
      "50000/50000 [==============================] - 0s - loss: 6.1042e-06     \n",
      "Epoch 36/50\n",
      "50000/50000 [==============================] - 0s - loss: 5.4820e-06     \n",
      "Epoch 37/50\n",
      "50000/50000 [==============================] - 0s - loss: 5.7926e-06     \n",
      "Epoch 38/50\n",
      "50000/50000 [==============================] - 0s - loss: 5.0318e-06     \n",
      "Epoch 39/50\n",
      "50000/50000 [==============================] - 0s - loss: 4.7290e-06     \n",
      "Epoch 40/50\n",
      "50000/50000 [==============================] - 0s - loss: 4.6066e-06     \n",
      "Epoch 41/50\n",
      "50000/50000 [==============================] - 0s - loss: 4.4309e-06     \n",
      "Epoch 42/50\n",
      "50000/50000 [==============================] - 0s - loss: 4.3341e-06     \n",
      "Epoch 43/50\n",
      "50000/50000 [==============================] - 0s - loss: 3.9486e-06     \n",
      "Epoch 44/50\n",
      "50000/50000 [==============================] - 0s - loss: 3.9274e-06     \n",
      "Epoch 45/50\n",
      "50000/50000 [==============================] - 0s - loss: 3.8304e-06     \n",
      "Epoch 46/50\n",
      "50000/50000 [==============================] - 0s - loss: 3.4421e-06     \n",
      "Epoch 47/50\n",
      "50000/50000 [==============================] - 0s - loss: 3.7401e-06     \n",
      "Epoch 48/50\n",
      "50000/50000 [==============================] - 0s - loss: 3.3597e-06     \n",
      "Epoch 49/50\n",
      "50000/50000 [==============================] - 0s - loss: 3.2809e-06     \n",
      "Epoch 50/50\n",
      "50000/50000 [==============================] - 0s - loss: 3.6564e-06     \n"
     ]
    },
    {
     "data": {
      "text/plain": [
       "<keras.callbacks.History at 0x7f2955299510>"
      ]
     },
     "execution_count": 611,
     "metadata": {},
     "output_type": "execute_result"
    }
   ],
   "source": [
    "model.fit(r_train, Fr_train,\n",
    "                epochs=50,\n",
    "                batch_size=20,\n",
    "                shuffle=True)"
   ]
  },
  {
   "cell_type": "code",
   "execution_count": 606,
   "metadata": {
    "scrolled": true
   },
   "outputs": [
    {
     "name": "stdout",
     "output_type": "stream",
     "text": [
      "Epoch 1/50\n",
      "50000/50000 [==============================] - 0s - loss: 66.8001     \n",
      "Epoch 2/50\n",
      "50000/50000 [==============================] - 0s - loss: 2.3889     \n",
      "Epoch 3/50\n",
      "50000/50000 [==============================] - 0s - loss: 0.0704     - ETA: 0s - los\n",
      "Epoch 4/50\n",
      "50000/50000 [==============================] - 0s - loss: 1.2115e-04     \n",
      "Epoch 5/50\n",
      "50000/50000 [==============================] - 0s - loss: 1.1211e-04     \n",
      "Epoch 6/50\n",
      "50000/50000 [==============================] - 0s - loss: 9.3888e-05     \n",
      "Epoch 7/50\n",
      "50000/50000 [==============================] - 0s - loss: 7.1616e-05     \n",
      "Epoch 8/50\n",
      "50000/50000 [==============================] - 0s - loss: 5.7545e-05     \n",
      "Epoch 9/50\n",
      "50000/50000 [==============================] - 0s - loss: 4.7433e-05     \n",
      "Epoch 10/50\n",
      "50000/50000 [==============================] - 0s - loss: 4.0514e-05     \n",
      "Epoch 11/50\n",
      "50000/50000 [==============================] - 0s - loss: 3.6632e-05     \n",
      "Epoch 12/50\n",
      "50000/50000 [==============================] - 0s - loss: 3.4022e-05     \n",
      "Epoch 13/50\n",
      "50000/50000 [==============================] - 0s - loss: 3.2171e-05     \n",
      "Epoch 14/50\n",
      "50000/50000 [==============================] - 0s - loss: 3.0611e-05     \n",
      "Epoch 15/50\n",
      "50000/50000 [==============================] - 0s - loss: 3.0300e-05     \n",
      "Epoch 16/50\n",
      "50000/50000 [==============================] - 0s - loss: 2.9609e-05     \n",
      "Epoch 17/50\n",
      "50000/50000 [==============================] - 0s - loss: 2.9058e-05     \n",
      "Epoch 18/50\n",
      "50000/50000 [==============================] - 0s - loss: 2.9468e-05     \n",
      "Epoch 19/50\n",
      "50000/50000 [==============================] - 0s - loss: 2.8411e-05     \n",
      "Epoch 20/50\n",
      "50000/50000 [==============================] - 0s - loss: 2.9470e-05     \n",
      "Epoch 21/50\n",
      "50000/50000 [==============================] - 0s - loss: 2.8524e-05     \n",
      "Epoch 22/50\n",
      "50000/50000 [==============================] - 0s - loss: 2.8992e-05     \n",
      "Epoch 23/50\n",
      "50000/50000 [==============================] - 0s - loss: 2.9316e-05     \n",
      "Epoch 24/50\n",
      "50000/50000 [==============================] - 0s - loss: 2.9020e-05     \n",
      "Epoch 25/50\n",
      "50000/50000 [==============================] - 0s - loss: 2.8372e-05     \n",
      "Epoch 26/50\n",
      "50000/50000 [==============================] - 0s - loss: 2.8174e-05     \n",
      "Epoch 27/50\n",
      "50000/50000 [==============================] - 0s - loss: 2.7975e-05     \n",
      "Epoch 28/50\n",
      "50000/50000 [==============================] - 0s - loss: 2.8151e-05     \n",
      "Epoch 29/50\n",
      "50000/50000 [==============================] - 0s - loss: 2.7858e-05     \n",
      "Epoch 30/50\n",
      "50000/50000 [==============================] - 0s - loss: 2.8061e-05     \n",
      "Epoch 31/50\n",
      "50000/50000 [==============================] - 0s - loss: 2.7813e-05     \n",
      "Epoch 32/50\n",
      "50000/50000 [==============================] - 0s - loss: 2.7647e-05     \n",
      "Epoch 33/50\n",
      "50000/50000 [==============================] - 0s - loss: 2.7458e-05     \n",
      "Epoch 34/50\n",
      "50000/50000 [==============================] - 0s - loss: 2.7261e-05     \n",
      "Epoch 35/50\n",
      "50000/50000 [==============================] - 0s - loss: 2.7569e-05     \n",
      "Epoch 36/50\n",
      "50000/50000 [==============================] - 0s - loss: 2.7486e-05     \n",
      "Epoch 37/50\n",
      "50000/50000 [==============================] - 0s - loss: 2.7266e-05     \n",
      "Epoch 38/50\n",
      "50000/50000 [==============================] - 0s - loss: 2.7450e-05     \n",
      "Epoch 39/50\n",
      "50000/50000 [==============================] - 0s - loss: 2.7524e-05     \n",
      "Epoch 40/50\n",
      "50000/50000 [==============================] - 0s - loss: 2.7175e-05     \n",
      "Epoch 41/50\n",
      "50000/50000 [==============================] - 0s - loss: 2.7040e-05     \n",
      "Epoch 42/50\n",
      "50000/50000 [==============================] - 0s - loss: 2.7405e-05     \n",
      "Epoch 43/50\n",
      "50000/50000 [==============================] - 0s - loss: 2.6970e-05     \n",
      "Epoch 44/50\n",
      "50000/50000 [==============================] - 0s - loss: 2.6625e-05     \n",
      "Epoch 45/50\n",
      "50000/50000 [==============================] - 0s - loss: 2.7018e-05     \n",
      "Epoch 46/50\n",
      "50000/50000 [==============================] - 0s - loss: 2.6541e-05     \n",
      "Epoch 47/50\n",
      "50000/50000 [==============================] - 0s - loss: 2.6884e-05     \n",
      "Epoch 48/50\n",
      "50000/50000 [==============================] - 0s - loss: 2.6865e-05     \n",
      "Epoch 49/50\n",
      "50000/50000 [==============================] - 0s - loss: 2.6644e-05     \n",
      "Epoch 50/50\n",
      "50000/50000 [==============================] - 0s - loss: 2.6891e-05     \n"
     ]
    },
    {
     "data": {
      "text/plain": [
       "<keras.callbacks.History at 0x7f296b7a9550>"
      ]
     },
     "execution_count": 606,
     "metadata": {},
     "output_type": "execute_result"
    }
   ],
   "source": [
    "model.fit(r_train, Fr_train,\n",
    "                epochs=50,\n",
    "                batch_size=20,\n",
    "                shuffle=True)"
   ]
  },
  {
   "cell_type": "code",
   "execution_count": 612,
   "metadata": {
    "collapsed": true
   },
   "outputs": [],
   "source": [
    "Fr_predict = model.predict(r_train)"
   ]
  },
  {
   "cell_type": "code",
   "execution_count": 613,
   "metadata": {},
   "outputs": [
    {
     "data": {
      "text/plain": [
       "[<matplotlib.lines.Line2D at 0x7f2954c16090>]"
      ]
     },
     "execution_count": 613,
     "metadata": {},
     "output_type": "execute_result"
    },
    {
     "data": {
      "image/png": "[encoded data removed]",
      "text/plain": [
       "<matplotlib.figure.Figure at 0x7f2954c16110>"
      ]
     },
     "metadata": {},
     "output_type": "display_data"
    }
   ],
   "source": [
    "plt.plot(r_train, Fr_train)\n",
    "plt.plot(r_train, Fr_predict)"
   ]
  },
  {
   "cell_type": "code",
   "execution_count": null,
   "metadata": {
    "collapsed": true
   },
   "outputs": [],
   "source": []
  },
  {
   "cell_type": "code",
   "execution_count": null,
   "metadata": {
    "collapsed": true
   },
   "outputs": [],
   "source": []
  },
  {
   "cell_type": "code",
   "execution_count": null,
   "metadata": {
    "collapsed": true
   },
   "outputs": [],
   "source": []
  },
  {
   "cell_type": "code",
   "execution_count": null,
   "metadata": {
    "collapsed": true
   },
   "outputs": [],
   "source": []
  },
  {
   "cell_type": "code",
   "execution_count": null,
   "metadata": {
    "collapsed": true
   },
   "outputs": [],
   "source": []
  }
 ],
 "metadata": {
  "kernelspec": {
   "display_name": "Python 2",
   "language": "python",
   "name": "python2"
  },
  "language_info": {
   "codemirror_mode": {
    "name": "ipython",
    "version": 2
   },
   "file_extension": ".py",
   "mimetype": "text/x-python",
   "name": "python",
   "nbconvert_exporter": "python",
   "pygments_lexer": "ipython2",
   "version": "2.7.13"
  }
 },
 "nbformat": 4,
 "nbformat_minor": 2
}
