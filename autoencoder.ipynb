{
 "cells": [
  {
   "cell_type": "code",
   "execution_count": 1,
   "metadata": {},
   "outputs": [
    {
     "name": "stdout",
     "output_type": "stream",
     "text": [
      "The history saving thread hit an unexpected error (DatabaseError('database disk image is malformed',)).History will not be written to the database.\n"
     ]
    }
   ],
   "source": [
    "from analysis_tools.read_traj import ReadTraj\n",
    "from analysis_tools.feature_creation import FrameToFeaturesPosition, TrajectoryToFeaturesPosition\n",
    "from analysis_tools.feature_creation import FrameToFeaturesComposition, TrajectoryToFeaturesComposition\n",
    "from analysis_tools.radial_distribution_function import RDF, PositionalSuceptibility\n",
    "from analysis_tools.reservoir_sampler import ReservoirSampler\n",
    "from analysis_tools.defect_analysis import DefectStats\n",
    "from analysis_tools.pop2d import POP2D\n",
    "import gc\n",
    "from IPython.display import clear_output\n",
    "import h5py"
   ]
  },
  {
   "cell_type": "code",
   "execution_count": 2,
   "metadata": {
    "collapsed": true
   },
   "outputs": [],
   "source": [
    "%load_ext autoreload"
   ]
  },
  {
   "cell_type": "code",
   "execution_count": 3,
   "metadata": {
    "collapsed": true
   },
   "outputs": [],
   "source": [
    "%autoreload 2"
   ]
  },
  {
   "cell_type": "code",
   "execution_count": 4,
   "metadata": {
    "collapsed": true
   },
   "outputs": [],
   "source": [
    "def DownSampleFrames(frames, frame_samples):\n",
    "    return frames[0::max(len(frames)/frame_samples, 1)][0:frame_samples]"
   ]
  },
  {
   "cell_type": "markdown",
   "metadata": {},
   "source": [
    "## Specify the conditions"
   ]
  },
  {
   "cell_type": "code",
   "execution_count": 5,
   "metadata": {
    "collapsed": true
   },
   "outputs": [],
   "source": [
    "from numpy import arange, array"
   ]
  },
  {
   "cell_type": "markdown",
   "metadata": {},
   "source": [
    "### Hard disks"
   ]
  },
  {
   "cell_type": "code",
   "execution_count": 609,
   "metadata": {
    "collapsed": true
   },
   "outputs": [],
   "source": [
    "#VERSION FOR PAPER I\n",
    "N_nn = 3200 #number of nearest neighbors for pca analysis\n",
    "split = 1 #chunks the data up so it can be processed by the pca tool if really large\n",
    "nn_inc = 100 #1 (full in paper) #reduces the number of nearest neighbors to include as features\n",
    "remove_types = []\n",
    "shuffle_data = True\n",
    "N_batch = 1\n",
    "batches_per_frame = 10 "
   ]
  },
  {
   "cell_type": "code",
   "execution_count": 6,
   "metadata": {
    "collapsed": true
   },
   "outputs": [],
   "source": [
    "#TEST\n",
    "N_nn = 29 #number of nearest neighbors for pca analysis\n",
    "split = 1 #chunks the data up so it can be processed by the pca tool if really large\n",
    "nn_inc = 1 #1 (full in paper) #reduces the number of nearest neighbors to include as features\n",
    "remove_types = []\n",
    "shuffle_data = True\n",
    "N_batch = 1\n",
    "batches_per_frame = 1 #10 #5"
   ]
  },
  {
   "cell_type": "code",
   "execution_count": 610,
   "metadata": {
    "collapsed": true
   },
   "outputs": [],
   "source": [
    "#specify what data to read in and process\n",
    "traj_type = 'gsd'\n",
    "file_data = [(arange(0.550, 0.690001, 0.005), '../hoomd_disks/trajectories_4000p', 400), \n",
    "             (arange(0.695, 0.820001, 0.005),'../hoomd_disks/trajectories_4000p_longer', 400)]"
   ]
  },
  {
   "cell_type": "markdown",
   "metadata": {},
   "source": [
    "### RandOrg"
   ]
  },
  {
   "cell_type": "code",
   "execution_count": 288,
   "metadata": {
    "collapsed": true
   },
   "outputs": [],
   "source": [
    "#VERSION FOR PAPER I\n",
    "N_nn = 50 #number of nearest neighbors for pca analysis\n",
    "split = 1 #chunks the data up so it can be processed by the pca tool if really large\n",
    "nn_inc = 1 #1 (full in paper) #reduces the number of nearest neighbors to include as features\n",
    "remove_types = []\n",
    "shuffle_data = False\n",
    "N_batch = 50\n",
    "batches_per_frame = 1 "
   ]
  },
  {
   "cell_type": "code",
   "execution_count": 289,
   "metadata": {
    "collapsed": true
   },
   "outputs": [],
   "source": [
    "#specify what data to read in and process\n",
    "traj_type = 'xyz'\n",
    "file_data = [(arange(0.380, 0.630001, 0.005), '../RandOrg/', 400)]"
   ]
  },
  {
   "cell_type": "code",
   "execution_count": null,
   "metadata": {
    "collapsed": true
   },
   "outputs": [],
   "source": []
  },
  {
   "cell_type": "code",
   "execution_count": null,
   "metadata": {
    "collapsed": true
   },
   "outputs": [],
   "source": []
  },
  {
   "cell_type": "code",
   "execution_count": 478,
   "metadata": {
    "collapsed": true
   },
   "outputs": [],
   "source": [
    "#actual data\n",
    "etas = []\n",
    "[etas.extend(etas_) for etas_, _, _ in file_data]\n",
    "etas = array(etas)\n",
    "color_ids = []\n",
    "[color_ids.extend(len(data[0])*[count]) for count, data in zip(range(len(file_data)), file_data)]\n",
    "color_ids = array(color_ids)"
   ]
  },
  {
   "cell_type": "markdown",
   "metadata": {},
   "source": [
    "## Read in the data"
   ]
  },
  {
   "cell_type": "code",
   "execution_count": 611,
   "metadata": {
    "collapsed": true
   },
   "outputs": [],
   "source": [
    "from numpy import array_split\n",
    "from sklearn.decomposition import IncrementalPCA"
   ]
  },
  {
   "cell_type": "code",
   "execution_count": 612,
   "metadata": {
    "collapsed": true
   },
   "outputs": [],
   "source": [
    "from copy import deepcopy"
   ]
  },
  {
   "cell_type": "code",
   "execution_count": 613,
   "metadata": {
    "collapsed": true
   },
   "outputs": [],
   "source": [
    "from numpy import array"
   ]
  },
  {
   "cell_type": "code",
   "execution_count": 614,
   "metadata": {
    "scrolled": true
   },
   "outputs": [
    {
     "name": "stdout",
     "output_type": "stream",
     "text": [
      "COMPUTATION DETAILS\n",
      "file_base = ../hoomd_disks/trajectories_4000p\n",
      "eta = 0.55\n",
      "using 400 frames of 1000 total\n",
      "COMPUTATION DETAILS\n",
      "file_base = ../hoomd_disks/trajectories_4000p\n",
      "eta = 0.555\n",
      "using 400 frames of 1000 total\n",
      "COMPUTATION DETAILS\n",
      "file_base = ../hoomd_disks/trajectories_4000p\n",
      "eta = 0.56\n",
      "using 400 frames of 1000 total\n",
      "COMPUTATION DETAILS\n",
      "file_base = ../hoomd_disks/trajectories_4000p\n",
      "eta = 0.565\n",
      "using 400 frames of 1000 total\n",
      "COMPUTATION DETAILS\n",
      "file_base = ../hoomd_disks/trajectories_4000p\n",
      "eta = 0.57\n",
      "using 400 frames of 1000 total\n",
      "COMPUTATION DETAILS\n",
      "file_base = ../hoomd_disks/trajectories_4000p\n",
      "eta = 0.575\n",
      "using 400 frames of 1000 total\n",
      "COMPUTATION DETAILS\n",
      "file_base = ../hoomd_disks/trajectories_4000p\n",
      "eta = 0.58\n",
      "using 400 frames of 1000 total\n",
      "COMPUTATION DETAILS\n",
      "file_base = ../hoomd_disks/trajectories_4000p\n",
      "eta = 0.585\n",
      "using 400 frames of 1000 total\n",
      "COMPUTATION DETAILS\n",
      "file_base = ../hoomd_disks/trajectories_4000p\n",
      "eta = 0.59\n",
      "using 400 frames of 1000 total\n",
      "COMPUTATION DETAILS\n",
      "file_base = ../hoomd_disks/trajectories_4000p\n",
      "eta = 0.595\n",
      "using 400 frames of 1000 total\n",
      "COMPUTATION DETAILS\n",
      "file_base = ../hoomd_disks/trajectories_4000p\n",
      "eta = 0.6\n",
      "using 400 frames of 1000 total\n",
      "COMPUTATION DETAILS\n",
      "file_base = ../hoomd_disks/trajectories_4000p\n",
      "eta = 0.605\n",
      "using 400 frames of 1000 total\n",
      "COMPUTATION DETAILS\n",
      "file_base = ../hoomd_disks/trajectories_4000p\n",
      "eta = 0.61\n",
      "using 400 frames of 1000 total\n",
      "COMPUTATION DETAILS\n",
      "file_base = ../hoomd_disks/trajectories_4000p\n",
      "eta = 0.615\n",
      "using 400 frames of 1000 total\n",
      "COMPUTATION DETAILS\n",
      "file_base = ../hoomd_disks/trajectories_4000p\n",
      "eta = 0.62\n",
      "using 400 frames of 1000 total\n",
      "COMPUTATION DETAILS\n",
      "file_base = ../hoomd_disks/trajectories_4000p\n",
      "eta = 0.625\n",
      "using 400 frames of 1000 total\n",
      "COMPUTATION DETAILS\n",
      "file_base = ../hoomd_disks/trajectories_4000p\n",
      "eta = 0.63\n",
      "using 400 frames of 1000 total\n",
      "COMPUTATION DETAILS\n",
      "file_base = ../hoomd_disks/trajectories_4000p\n",
      "eta = 0.635\n",
      "using 400 frames of 1000 total\n",
      "COMPUTATION DETAILS\n",
      "file_base = ../hoomd_disks/trajectories_4000p\n",
      "eta = 0.64\n",
      "using 400 frames of 1000 total\n",
      "COMPUTATION DETAILS\n",
      "file_base = ../hoomd_disks/trajectories_4000p\n",
      "eta = 0.645\n",
      "using 400 frames of 1000 total\n",
      "COMPUTATION DETAILS\n",
      "file_base = ../hoomd_disks/trajectories_4000p\n",
      "eta = 0.65\n",
      "using 400 frames of 1000 total\n",
      "COMPUTATION DETAILS\n",
      "file_base = ../hoomd_disks/trajectories_4000p\n",
      "eta = 0.655\n",
      "using 400 frames of 1000 total\n",
      "COMPUTATION DETAILS\n",
      "file_base = ../hoomd_disks/trajectories_4000p\n",
      "eta = 0.66\n",
      "using 400 frames of 1000 total\n",
      "COMPUTATION DETAILS\n",
      "file_base = ../hoomd_disks/trajectories_4000p\n",
      "eta = 0.665\n",
      "using 400 frames of 1000 total\n",
      "COMPUTATION DETAILS\n",
      "file_base = ../hoomd_disks/trajectories_4000p\n",
      "eta = 0.67\n",
      "using 400 frames of 1000 total\n",
      "COMPUTATION DETAILS\n",
      "file_base = ../hoomd_disks/trajectories_4000p\n",
      "eta = 0.675\n",
      "using 400 frames of 1000 total\n",
      "COMPUTATION DETAILS\n",
      "file_base = ../hoomd_disks/trajectories_4000p\n",
      "eta = 0.68\n",
      "using 400 frames of 1000 total\n",
      "COMPUTATION DETAILS\n",
      "file_base = ../hoomd_disks/trajectories_4000p\n",
      "eta = 0.685\n",
      "using 400 frames of 1000 total\n",
      "COMPUTATION DETAILS\n",
      "file_base = ../hoomd_disks/trajectories_4000p\n",
      "eta = 0.69\n",
      "using 400 frames of 1000 total\n",
      "COMPUTATION DETAILS\n",
      "file_base = ../hoomd_disks/trajectories_4000p_longer\n",
      "eta = 0.695\n",
      "using 400 frames of 1000 total\n",
      "COMPUTATION DETAILS\n",
      "file_base = ../hoomd_disks/trajectories_4000p_longer\n",
      "eta = 0.7\n",
      "using 400 frames of 1000 total\n",
      "COMPUTATION DETAILS\n",
      "file_base = ../hoomd_disks/trajectories_4000p_longer\n",
      "eta = 0.705\n",
      "using 400 frames of 1000 total\n",
      "COMPUTATION DETAILS\n",
      "file_base = ../hoomd_disks/trajectories_4000p_longer\n",
      "eta = 0.71\n",
      "using 400 frames of 1000 total\n",
      "COMPUTATION DETAILS\n",
      "file_base = ../hoomd_disks/trajectories_4000p_longer\n",
      "eta = 0.715\n",
      "using 400 frames of 1000 total\n",
      "COMPUTATION DETAILS\n",
      "file_base = ../hoomd_disks/trajectories_4000p_longer\n",
      "eta = 0.72\n",
      "using 400 frames of 1000 total\n",
      "COMPUTATION DETAILS\n",
      "file_base = ../hoomd_disks/trajectories_4000p_longer\n",
      "eta = 0.725\n",
      "using 400 frames of 1000 total\n",
      "COMPUTATION DETAILS\n",
      "file_base = ../hoomd_disks/trajectories_4000p_longer\n",
      "eta = 0.73\n",
      "using 400 frames of 1000 total\n",
      "COMPUTATION DETAILS\n",
      "file_base = ../hoomd_disks/trajectories_4000p_longer\n",
      "eta = 0.735\n",
      "using 400 frames of 1000 total\n",
      "COMPUTATION DETAILS\n",
      "file_base = ../hoomd_disks/trajectories_4000p_longer\n",
      "eta = 0.74\n",
      "using 400 frames of 1000 total\n",
      "COMPUTATION DETAILS\n",
      "file_base = ../hoomd_disks/trajectories_4000p_longer\n",
      "eta = 0.745\n",
      "using 400 frames of 1000 total\n",
      "COMPUTATION DETAILS\n",
      "file_base = ../hoomd_disks/trajectories_4000p_longer\n",
      "eta = 0.75\n",
      "using 400 frames of 1000 total\n",
      "COMPUTATION DETAILS\n",
      "file_base = ../hoomd_disks/trajectories_4000p_longer\n",
      "eta = 0.755\n",
      "using 400 frames of 1000 total\n",
      "COMPUTATION DETAILS\n",
      "file_base = ../hoomd_disks/trajectories_4000p_longer\n",
      "eta = 0.76\n",
      "using 400 frames of 1000 total\n",
      "COMPUTATION DETAILS\n",
      "file_base = ../hoomd_disks/trajectories_4000p_longer\n",
      "eta = 0.765\n",
      "using 400 frames of 1000 total\n",
      "COMPUTATION DETAILS\n",
      "file_base = ../hoomd_disks/trajectories_4000p_longer\n",
      "eta = 0.77\n",
      "using 400 frames of 1000 total\n",
      "COMPUTATION DETAILS\n",
      "file_base = ../hoomd_disks/trajectories_4000p_longer\n",
      "eta = 0.775\n",
      "using 400 frames of 1000 total\n",
      "COMPUTATION DETAILS\n",
      "file_base = ../hoomd_disks/trajectories_4000p_longer\n",
      "eta = 0.78\n",
      "using 400 frames of 1000 total\n",
      "COMPUTATION DETAILS\n",
      "file_base = ../hoomd_disks/trajectories_4000p_longer\n",
      "eta = 0.785\n",
      "using 400 frames of 1000 total\n",
      "COMPUTATION DETAILS\n",
      "file_base = ../hoomd_disks/trajectories_4000p_longer\n",
      "eta = 0.79\n",
      "using 400 frames of 1000 total\n",
      "COMPUTATION DETAILS\n",
      "file_base = ../hoomd_disks/trajectories_4000p_longer\n",
      "eta = 0.795\n",
      "using 400 frames of 1000 total\n",
      "COMPUTATION DETAILS\n",
      "file_base = ../hoomd_disks/trajectories_4000p_longer\n",
      "eta = 0.8\n",
      "using 400 frames of 1000 total\n",
      "COMPUTATION DETAILS\n",
      "file_base = ../hoomd_disks/trajectories_4000p_longer\n",
      "eta = 0.805\n",
      "using 400 frames of 1000 total\n",
      "COMPUTATION DETAILS\n",
      "file_base = ../hoomd_disks/trajectories_4000p_longer\n",
      "eta = 0.81\n",
      "using 400 frames of 1000 total\n",
      "COMPUTATION DETAILS\n",
      "file_base = ../hoomd_disks/trajectories_4000p_longer\n",
      "eta = 0.815\n",
      "using 400 frames of 1000 total\n",
      "COMPUTATION DETAILS\n",
      "file_base = ../hoomd_disks/trajectories_4000p_longer\n",
      "eta = 0.82\n",
      "using 400 frames of 1000 total\n",
      "Fitting the whitener\n",
      "\n",
      "COMPUTATION DETAILS\n",
      "file_base = ../hoomd_disks/trajectories_4000p\n",
      "eta = 0.55\n",
      "using 400 frames of 1000 total\n",
      "COMPUTATION DETAILS\n",
      "file_base = ../hoomd_disks/trajectories_4000p\n",
      "eta = 0.555\n",
      "using 400 frames of 1000 total\n",
      "COMPUTATION DETAILS\n",
      "file_base = ../hoomd_disks/trajectories_4000p\n",
      "eta = 0.56\n",
      "using 400 frames of 1000 total\n",
      "COMPUTATION DETAILS\n",
      "file_base = ../hoomd_disks/trajectories_4000p\n",
      "eta = 0.565\n",
      "using 400 frames of 1000 total\n",
      "COMPUTATION DETAILS\n",
      "file_base = ../hoomd_disks/trajectories_4000p\n",
      "eta = 0.57\n",
      "using 400 frames of 1000 total\n",
      "COMPUTATION DETAILS\n",
      "file_base = ../hoomd_disks/trajectories_4000p\n",
      "eta = 0.575\n",
      "using 400 frames of 1000 total\n",
      "COMPUTATION DETAILS\n",
      "file_base = ../hoomd_disks/trajectories_4000p\n",
      "eta = 0.58\n",
      "using 400 frames of 1000 total\n",
      "COMPUTATION DETAILS\n",
      "file_base = ../hoomd_disks/trajectories_4000p\n",
      "eta = 0.585\n",
      "using 400 frames of 1000 total\n",
      "COMPUTATION DETAILS\n",
      "file_base = ../hoomd_disks/trajectories_4000p\n",
      "eta = 0.59\n",
      "using 400 frames of 1000 total\n",
      "COMPUTATION DETAILS\n",
      "file_base = ../hoomd_disks/trajectories_4000p\n",
      "eta = 0.595\n",
      "using 400 frames of 1000 total\n",
      "COMPUTATION DETAILS\n",
      "file_base = ../hoomd_disks/trajectories_4000p\n",
      "eta = 0.6\n",
      "using 400 frames of 1000 total\n",
      "COMPUTATION DETAILS\n",
      "file_base = ../hoomd_disks/trajectories_4000p\n",
      "eta = 0.605\n",
      "using 400 frames of 1000 total\n",
      "COMPUTATION DETAILS\n",
      "file_base = ../hoomd_disks/trajectories_4000p\n",
      "eta = 0.61\n",
      "using 400 frames of 1000 total\n",
      "COMPUTATION DETAILS\n",
      "file_base = ../hoomd_disks/trajectories_4000p\n",
      "eta = 0.615\n",
      "using 400 frames of 1000 total\n",
      "COMPUTATION DETAILS\n",
      "file_base = ../hoomd_disks/trajectories_4000p\n",
      "eta = 0.62\n",
      "using 400 frames of 1000 total\n",
      "COMPUTATION DETAILS\n",
      "file_base = ../hoomd_disks/trajectories_4000p\n",
      "eta = 0.625\n",
      "using 400 frames of 1000 total\n",
      "COMPUTATION DETAILS\n",
      "file_base = ../hoomd_disks/trajectories_4000p\n",
      "eta = 0.63\n",
      "using 400 frames of 1000 total\n",
      "COMPUTATION DETAILS\n",
      "file_base = ../hoomd_disks/trajectories_4000p\n",
      "eta = 0.635\n",
      "using 400 frames of 1000 total\n",
      "COMPUTATION DETAILS\n",
      "file_base = ../hoomd_disks/trajectories_4000p\n",
      "eta = 0.64\n"
     ]
    },
    {
     "name": "stdout",
     "output_type": "stream",
     "text": [
      "using 400 frames of 1000 total\n",
      "COMPUTATION DETAILS\n",
      "file_base = ../hoomd_disks/trajectories_4000p\n",
      "eta = 0.645\n",
      "using 400 frames of 1000 total\n",
      "COMPUTATION DETAILS\n",
      "file_base = ../hoomd_disks/trajectories_4000p\n",
      "eta = 0.65\n",
      "using 400 frames of 1000 total\n",
      "COMPUTATION DETAILS\n",
      "file_base = ../hoomd_disks/trajectories_4000p\n",
      "eta = 0.655\n",
      "using 400 frames of 1000 total\n",
      "COMPUTATION DETAILS\n",
      "file_base = ../hoomd_disks/trajectories_4000p\n",
      "eta = 0.66\n",
      "using 400 frames of 1000 total\n",
      "COMPUTATION DETAILS\n",
      "file_base = ../hoomd_disks/trajectories_4000p\n",
      "eta = 0.665\n",
      "using 400 frames of 1000 total\n",
      "COMPUTATION DETAILS\n",
      "file_base = ../hoomd_disks/trajectories_4000p\n",
      "eta = 0.67\n",
      "using 400 frames of 1000 total\n",
      "COMPUTATION DETAILS\n",
      "file_base = ../hoomd_disks/trajectories_4000p\n",
      "eta = 0.675\n",
      "using 400 frames of 1000 total\n",
      "COMPUTATION DETAILS\n",
      "file_base = ../hoomd_disks/trajectories_4000p\n",
      "eta = 0.68\n",
      "using 400 frames of 1000 total\n",
      "COMPUTATION DETAILS\n",
      "file_base = ../hoomd_disks/trajectories_4000p\n",
      "eta = 0.685\n",
      "using 400 frames of 1000 total\n",
      "COMPUTATION DETAILS\n",
      "file_base = ../hoomd_disks/trajectories_4000p\n",
      "eta = 0.69\n",
      "using 400 frames of 1000 total\n",
      "COMPUTATION DETAILS\n",
      "file_base = ../hoomd_disks/trajectories_4000p_longer\n",
      "eta = 0.695\n",
      "using 400 frames of 1000 total\n",
      "COMPUTATION DETAILS\n",
      "file_base = ../hoomd_disks/trajectories_4000p_longer\n",
      "eta = 0.7\n",
      "using 400 frames of 1000 total\n",
      "COMPUTATION DETAILS\n",
      "file_base = ../hoomd_disks/trajectories_4000p_longer\n",
      "eta = 0.705\n",
      "using 400 frames of 1000 total\n",
      "COMPUTATION DETAILS\n",
      "file_base = ../hoomd_disks/trajectories_4000p_longer\n",
      "eta = 0.71\n",
      "using 400 frames of 1000 total\n",
      "COMPUTATION DETAILS\n",
      "file_base = ../hoomd_disks/trajectories_4000p_longer\n",
      "eta = 0.715\n",
      "using 400 frames of 1000 total\n",
      "COMPUTATION DETAILS\n",
      "file_base = ../hoomd_disks/trajectories_4000p_longer\n",
      "eta = 0.72\n",
      "using 400 frames of 1000 total\n",
      "COMPUTATION DETAILS\n",
      "file_base = ../hoomd_disks/trajectories_4000p_longer\n",
      "eta = 0.725\n",
      "using 400 frames of 1000 total\n",
      "COMPUTATION DETAILS\n",
      "file_base = ../hoomd_disks/trajectories_4000p_longer\n",
      "eta = 0.73\n",
      "using 400 frames of 1000 total\n",
      "COMPUTATION DETAILS\n",
      "file_base = ../hoomd_disks/trajectories_4000p_longer\n",
      "eta = 0.735\n",
      "using 400 frames of 1000 total\n",
      "COMPUTATION DETAILS\n",
      "file_base = ../hoomd_disks/trajectories_4000p_longer\n",
      "eta = 0.74\n",
      "using 400 frames of 1000 total\n",
      "COMPUTATION DETAILS\n",
      "file_base = ../hoomd_disks/trajectories_4000p_longer\n",
      "eta = 0.745\n",
      "using 400 frames of 1000 total\n",
      "COMPUTATION DETAILS\n",
      "file_base = ../hoomd_disks/trajectories_4000p_longer\n",
      "eta = 0.75\n",
      "using 400 frames of 1000 total\n",
      "COMPUTATION DETAILS\n",
      "file_base = ../hoomd_disks/trajectories_4000p_longer\n",
      "eta = 0.755\n",
      "using 400 frames of 1000 total\n",
      "COMPUTATION DETAILS\n",
      "file_base = ../hoomd_disks/trajectories_4000p_longer\n",
      "eta = 0.76\n",
      "using 400 frames of 1000 total\n",
      "COMPUTATION DETAILS\n",
      "file_base = ../hoomd_disks/trajectories_4000p_longer\n",
      "eta = 0.765\n",
      "using 400 frames of 1000 total\n",
      "COMPUTATION DETAILS\n",
      "file_base = ../hoomd_disks/trajectories_4000p_longer\n",
      "eta = 0.77\n",
      "using 400 frames of 1000 total\n",
      "COMPUTATION DETAILS\n",
      "file_base = ../hoomd_disks/trajectories_4000p_longer\n",
      "eta = 0.775\n",
      "using 400 frames of 1000 total\n",
      "COMPUTATION DETAILS\n",
      "file_base = ../hoomd_disks/trajectories_4000p_longer\n",
      "eta = 0.78\n",
      "using 400 frames of 1000 total\n",
      "COMPUTATION DETAILS\n",
      "file_base = ../hoomd_disks/trajectories_4000p_longer\n",
      "eta = 0.785\n",
      "using 400 frames of 1000 total\n",
      "COMPUTATION DETAILS\n",
      "file_base = ../hoomd_disks/trajectories_4000p_longer\n",
      "eta = 0.79\n",
      "using 400 frames of 1000 total\n",
      "COMPUTATION DETAILS\n",
      "file_base = ../hoomd_disks/trajectories_4000p_longer\n",
      "eta = 0.795\n",
      "using 400 frames of 1000 total\n",
      "COMPUTATION DETAILS\n",
      "file_base = ../hoomd_disks/trajectories_4000p_longer\n",
      "eta = 0.8\n",
      "using 400 frames of 1000 total\n",
      "COMPUTATION DETAILS\n",
      "file_base = ../hoomd_disks/trajectories_4000p_longer\n",
      "eta = 0.805\n",
      "using 400 frames of 1000 total\n",
      "COMPUTATION DETAILS\n",
      "file_base = ../hoomd_disks/trajectories_4000p_longer\n",
      "eta = 0.81\n",
      "using 400 frames of 1000 total\n",
      "COMPUTATION DETAILS\n",
      "file_base = ../hoomd_disks/trajectories_4000p_longer\n",
      "eta = 0.815\n",
      "using 400 frames of 1000 total\n",
      "COMPUTATION DETAILS\n",
      "file_base = ../hoomd_disks/trajectories_4000p_longer\n",
      "eta = 0.82\n",
      "using 400 frames of 1000 total\n",
      "Correcting features\n",
      "\n"
     ]
    }
   ],
   "source": [
    "dim = N_nn/nn_inc\n",
    "corrected_features = []\n",
    "incpca_ig = IncrementalPCA(n_components=None, whiten=True) \n",
    "force_randomize = False\n",
    "\n",
    "#loop over data sets \n",
    "for phase in ['fit_whitener', 'correct_features']:\n",
    "    raw_features = []\n",
    "    \n",
    "    for etas_, file_base, frame_samples in file_data:\n",
    "\n",
    "        for eta in etas_:\n",
    "            print 'COMPUTATION DETAILS'\n",
    "            print 'file_base = {}'.format(file_base)\n",
    "            print 'eta = {}'.format(eta)\n",
    "\n",
    "            #read in data and randomize positions if performing ideal gas correction\n",
    "            filename = \"{}/trajectory_{:.4f}.{}\".format(file_base, eta, traj_type)\n",
    "            randomize = (phase == 'fit_whitener') or force_randomize\n",
    "            frames = ReadTraj(filename, traj_type, shuffle_data, randomize, remove_types)\n",
    "\n",
    "            #control the number of total frames to analyze\n",
    "            len_frames_init = len(frames)\n",
    "            frames = DownSampleFrames(frames, frame_samples)\n",
    "            print 'using {} frames of {} total'.format(len(frames), len_frames_init)\n",
    "            \n",
    "            raw_features.extend(TrajectoryToFeaturesPosition(frames, \n",
    "                                                             N_nn=N_nn,  \n",
    "                                                             nn_inc=nn_inc,\n",
    "                                                             N_batch=N_batch, \n",
    "                                                             batches_per_frame=batches_per_frame))\n",
    "    if phase == 'fit_whitener':\n",
    "        print 'Fitting the whitener\\n'\n",
    "        raw_features = array(raw_features)\n",
    "        #incpca_ig.fit(raw_features[:,0:dim])\n",
    "        incpca_ig.fit(raw_features)\n",
    "    else:\n",
    "        print 'Correcting features\\n'\n",
    "        raw_features = array(raw_features)\n",
    "        #corrected_features = deepcopy(raw_features)\n",
    "        #for i in range(N_batch):\n",
    "        #    corrected_features[:,i*dim:(i+1)*dim] = incpca_ig.transform(raw_features[:,i*dim:(i+1)*dim])\n",
    "        corrected_features = incpca_ig.transform(raw_features)\n",
    "            "
   ]
  },
  {
   "cell_type": "markdown",
   "metadata": {},
   "source": [
    "# Autoencoding"
   ]
  },
  {
   "cell_type": "code",
   "execution_count": 615,
   "metadata": {
    "collapsed": true
   },
   "outputs": [],
   "source": [
    "from analysis_tools.autoencoder import AutoEncoder\n",
    "from sklearn.model_selection import train_test_split"
   ]
  },
  {
   "cell_type": "code",
   "execution_count": 616,
   "metadata": {
    "collapsed": true
   },
   "outputs": [],
   "source": [
    "from keras.utils import plot_model"
   ]
  },
  {
   "cell_type": "code",
   "execution_count": 617,
   "metadata": {},
   "outputs": [
    {
     "name": "stdout",
     "output_type": "stream",
     "text": [
      "Dimensionality: 32\n"
     ]
    }
   ],
   "source": [
    "dim = corrected_features.shape[1]\n",
    "print \"Dimensionality: {}\".format(dim)"
   ]
  },
  {
   "cell_type": "markdown",
   "metadata": {},
   "source": [
    "### Train and test sets"
   ]
  },
  {
   "cell_type": "code",
   "execution_count": 618,
   "metadata": {
    "collapsed": true
   },
   "outputs": [],
   "source": [
    "corrected_features_train, corrected_features_test = train_test_split(corrected_features, test_size=0.25, random_state=1)"
   ]
  },
  {
   "cell_type": "code",
   "execution_count": 491,
   "metadata": {
    "collapsed": true
   },
   "outputs": [],
   "source": [
    "import keras.backend as K"
   ]
  },
  {
   "cell_type": "code",
   "execution_count": 647,
   "metadata": {
    "collapsed": true
   },
   "outputs": [],
   "source": [
    "def DensityOverlap(X_in, X_out, dim=32, sigma=0.5):\n",
    "    \n",
    "    #expand the dimensions in orthognal ways\n",
    "    X_in = K.expand_dims(X_in, axis=1)\n",
    "    X_out = K.expand_dims(X_out, axis=2)\n",
    "    \n",
    "    #repeat along the expanded dimension to get a vector of dim x dim matricies\n",
    "    X_in = K.repeat_elements(X_in, dim, axis=1)\n",
    "    X_out = K.repeat_elements(X_out, dim, axis=2)\n",
    "    \n",
    "    #calculate the mean density overlap\n",
    "    overlap = K.exp(-K.pow(X_in-X_out, 2)/(4.0*sigma*sigma))\n",
    "    overlap = K.mean(K.sum(K.sum(overlap, axis=1), axis=1), axis=0)\n",
    "    \n",
    "    return -overlap"
   ]
  },
  {
   "cell_type": "markdown",
   "metadata": {},
   "source": [
    "### Build and train the model"
   ]
  },
  {
   "cell_type": "code",
   "execution_count": 493,
   "metadata": {
    "collapsed": true
   },
   "outputs": [],
   "source": [
    "import pydot, graphviz"
   ]
  },
  {
   "cell_type": "code",
   "execution_count": 494,
   "metadata": {},
   "outputs": [
    {
     "data": {
      "text/plain": [
       "32"
      ]
     },
     "execution_count": 494,
     "metadata": {},
     "output_type": "execute_result"
    }
   ],
   "source": [
    "N_nn/nn_inc"
   ]
  },
  {
   "cell_type": "code",
   "execution_count": 495,
   "metadata": {},
   "outputs": [
    {
     "name": "stdout",
     "output_type": "stream",
     "text": [
      "32\n"
     ]
    }
   ],
   "source": [
    "dim=len(corrected_features[0])\n",
    "print dim"
   ]
  },
  {
   "cell_type": "code",
   "execution_count": 619,
   "metadata": {
    "collapsed": true
   },
   "outputs": [],
   "source": [
    "from keras.callbacks import ModelCheckpoint\n",
    "from numpy import savetxt"
   ]
  },
  {
   "cell_type": "code",
   "execution_count": 622,
   "metadata": {
    "collapsed": true
   },
   "outputs": [],
   "source": [
    "model = AutoEncoder(dim=N_nn/nn_inc, encode_dim=1, num_clones=N_batch,\n",
    "                    initial_growth=0.25, shrink=0.75,\n",
    "                    activation='elu')#, kernel_initializer='lecun_normal')"
   ]
  },
  {
   "cell_type": "code",
   "execution_count": 623,
   "metadata": {},
   "outputs": [
    {
     "data": {
      "text/plain": [
       "32"
      ]
     },
     "execution_count": 623,
     "metadata": {},
     "output_type": "execute_result"
    }
   ],
   "source": [
    "dim"
   ]
  },
  {
   "cell_type": "code",
   "execution_count": 624,
   "metadata": {},
   "outputs": [
    {
     "name": "stdout",
     "output_type": "stream",
     "text": [
      "_________________________________________________________________\n",
      "Layer (type)                 Output Shape              Param #   \n",
      "=================================================================\n",
      "input_75 (InputLayer)        (None, 32)                0         \n",
      "_________________________________________________________________\n",
      "model_103 (Model)            (None, 1)                 4035      \n",
      "_________________________________________________________________\n",
      "model_104 (Model)            (None, 32)                4066      \n",
      "=================================================================\n",
      "Total params: 8,101\n",
      "Trainable params: 8,101\n",
      "Non-trainable params: 0\n",
      "_________________________________________________________________\n"
     ]
    }
   ],
   "source": [
    "model.autoencoder.summary()"
   ]
  },
  {
   "cell_type": "code",
   "execution_count": 639,
   "metadata": {
    "collapsed": true
   },
   "outputs": [],
   "source": [
    "from keras.optimizers import Adamax\n",
    "opt = Adamax(lr=0.05)"
   ]
  },
  {
   "cell_type": "code",
   "execution_count": 648,
   "metadata": {
    "collapsed": true
   },
   "outputs": [],
   "source": [
    "model.Compile(optimizer=opt, loss=DensityOverlap)"
   ]
  },
  {
   "cell_type": "code",
   "execution_count": 649,
   "metadata": {
    "collapsed": true
   },
   "outputs": [],
   "source": [
    "checkpointer = ModelCheckpoint(filepath='./model/weights_linear.hdf5', verbose=1, save_best_only=True)"
   ]
  },
  {
   "cell_type": "code",
   "execution_count": 650,
   "metadata": {
    "scrolled": true
   },
   "outputs": [
    {
     "name": "stdout",
     "output_type": "stream",
     "text": [
      "Train on 165000 samples, validate on 55000 samples\n",
      "Epoch 1/2000\n",
      "165000/165000 [==============================] - 10s - loss: -802.8862 - val_loss: -802.9343\n",
      "Epoch 2/2000\n",
      "165000/165000 [==============================] - 10s - loss: -803.1988 - val_loss: -803.0296\n",
      "Epoch 3/2000\n",
      "165000/165000 [==============================] - 10s - loss: -803.2942 - val_loss: -802.9759\n",
      "Epoch 4/2000\n",
      "165000/165000 [==============================] - 10s - loss: -803.3360 - val_loss: -803.1526\n",
      "Epoch 5/2000\n",
      "165000/165000 [==============================] - 10s - loss: -803.3679 - val_loss: -803.2135\n",
      "Epoch 6/2000\n",
      "165000/165000 [==============================] - 10s - loss: -803.3747 - val_loss: -803.2164\n",
      "Epoch 7/2000\n",
      "165000/165000 [==============================] - 10s - loss: -803.4429 - val_loss: -803.2028\n",
      "Epoch 8/2000\n",
      "165000/165000 [==============================] - 10s - loss: -803.4264 - val_loss: -803.2327\n",
      "Epoch 9/2000\n",
      "165000/165000 [==============================] - 11s - loss: -803.4416 - val_loss: -803.1920\n",
      "Epoch 10/2000\n",
      "165000/165000 [==============================] - 10s - loss: -803.4569 - val_loss: -803.2781\n",
      "Epoch 11/2000\n",
      "165000/165000 [==============================] - 10s - loss: -803.4646 - val_loss: -803.2776\n",
      "Epoch 12/2000\n",
      "165000/165000 [==============================] - 11s - loss: -803.4957 - val_loss: -803.2909\n",
      "Epoch 13/2000\n",
      "165000/165000 [==============================] - 10s - loss: -803.4929 - val_loss: -803.3028\n",
      "Epoch 14/2000\n",
      "165000/165000 [==============================] - 10s - loss: -803.5024 - val_loss: -803.2841\n",
      "Epoch 15/2000\n",
      "165000/165000 [==============================] - 11s - loss: -803.4996 - val_loss: -803.3046\n",
      "Epoch 16/2000\n",
      "165000/165000 [==============================] - 10s - loss: -803.5098 - val_loss: -803.3064\n",
      "Epoch 17/2000\n",
      "165000/165000 [==============================] - 12s - loss: -803.5254 - val_loss: -803.3093\n",
      "Epoch 18/2000\n",
      "165000/165000 [==============================] - 11s - loss: -803.5236 - val_loss: -803.2982\n",
      "Epoch 19/2000\n",
      "165000/165000 [==============================] - 11s - loss: -803.5303 - val_loss: -803.3225\n",
      "Epoch 20/2000\n",
      "165000/165000 [==============================] - 11s - loss: -803.5256 - val_loss: -803.3085\n",
      "Epoch 21/2000\n",
      "165000/165000 [==============================] - 10s - loss: -803.5223 - val_loss: -803.2701\n",
      "Epoch 22/2000\n",
      "111500/165000 [===================>..........] - ETA: 2s - loss: -803.6509"
     ]
    },
    {
     "ename": "KeyboardInterrupt",
     "evalue": "",
     "output_type": "error",
     "traceback": [
      "\u001b[0;31m---------------------------------------------------------------------------\u001b[0m",
      "\u001b[0;31mKeyboardInterrupt\u001b[0m                         Traceback (most recent call last)",
      "\u001b[0;32m<ipython-input-650-2091dbdc7a2e>\u001b[0m in \u001b[0;36m<module>\u001b[0;34m()\u001b[0m\n\u001b[1;32m      1\u001b[0m history_raw = model.Fit(corrected_features_train, corrected_features_test,\n\u001b[0;32m----> 2\u001b[0;31m                 epochs=2000, batch_size=500, shuffle=True)#, callbacks=[checkpointer])\n\u001b[0m",
      "\u001b[0;32m<ipython-input-621-25c1e5f2e555>\u001b[0m in \u001b[0;36mFit\u001b[0;34m(self, features_train, features_test, **kwargs)\u001b[0m\n\u001b[1;32m    134\u001b[0m                                         \u001b[0mfeatures_train\u001b[0m\u001b[0;34m,\u001b[0m\u001b[0;34m\u001b[0m\u001b[0m\n\u001b[1;32m    135\u001b[0m                                         \u001b[0mvalidation_data\u001b[0m\u001b[0;34m=\u001b[0m\u001b[0;34m(\u001b[0m\u001b[0mfeatures_test\u001b[0m\u001b[0;34m,\u001b[0m \u001b[0mfeatures_test\u001b[0m\u001b[0;34m)\u001b[0m\u001b[0;34m,\u001b[0m\u001b[0;34m\u001b[0m\u001b[0m\n\u001b[0;32m--> 136\u001b[0;31m                                         **kwargs)\n\u001b[0m\u001b[1;32m    137\u001b[0m \u001b[0;34m\u001b[0m\u001b[0m\n\u001b[1;32m    138\u001b[0m     \u001b[0;32mdef\u001b[0m \u001b[0mEncode\u001b[0m\u001b[0;34m(\u001b[0m\u001b[0mself\u001b[0m\u001b[0;34m,\u001b[0m \u001b[0mfeatures\u001b[0m\u001b[0;34m,\u001b[0m \u001b[0;34m**\u001b[0m\u001b[0mkwargs\u001b[0m\u001b[0;34m)\u001b[0m\u001b[0;34m:\u001b[0m\u001b[0;34m\u001b[0m\u001b[0m\n",
      "\u001b[0;32m/home/ryanj/miniconda2/lib/python2.7/site-packages/keras/engine/training.pyc\u001b[0m in \u001b[0;36mfit\u001b[0;34m(self, x, y, batch_size, epochs, verbose, callbacks, validation_split, validation_data, shuffle, class_weight, sample_weight, initial_epoch, steps_per_epoch, validation_steps, **kwargs)\u001b[0m\n\u001b[1;32m   1596\u001b[0m                               \u001b[0minitial_epoch\u001b[0m\u001b[0;34m=\u001b[0m\u001b[0minitial_epoch\u001b[0m\u001b[0;34m,\u001b[0m\u001b[0;34m\u001b[0m\u001b[0m\n\u001b[1;32m   1597\u001b[0m                               \u001b[0msteps_per_epoch\u001b[0m\u001b[0;34m=\u001b[0m\u001b[0msteps_per_epoch\u001b[0m\u001b[0;34m,\u001b[0m\u001b[0;34m\u001b[0m\u001b[0m\n\u001b[0;32m-> 1598\u001b[0;31m                               validation_steps=validation_steps)\n\u001b[0m\u001b[1;32m   1599\u001b[0m \u001b[0;34m\u001b[0m\u001b[0m\n\u001b[1;32m   1600\u001b[0m     def evaluate(self, x, y,\n",
      "\u001b[0;32m/home/ryanj/miniconda2/lib/python2.7/site-packages/keras/engine/training.pyc\u001b[0m in \u001b[0;36m_fit_loop\u001b[0;34m(self, f, ins, out_labels, batch_size, epochs, verbose, callbacks, val_f, val_ins, shuffle, callback_metrics, initial_epoch, steps_per_epoch, validation_steps)\u001b[0m\n\u001b[1;32m   1181\u001b[0m                     \u001b[0mbatch_logs\u001b[0m\u001b[0;34m[\u001b[0m\u001b[0;34m'size'\u001b[0m\u001b[0;34m]\u001b[0m \u001b[0;34m=\u001b[0m \u001b[0mlen\u001b[0m\u001b[0;34m(\u001b[0m\u001b[0mbatch_ids\u001b[0m\u001b[0;34m)\u001b[0m\u001b[0;34m\u001b[0m\u001b[0m\n\u001b[1;32m   1182\u001b[0m                     \u001b[0mcallbacks\u001b[0m\u001b[0;34m.\u001b[0m\u001b[0mon_batch_begin\u001b[0m\u001b[0;34m(\u001b[0m\u001b[0mbatch_index\u001b[0m\u001b[0;34m,\u001b[0m \u001b[0mbatch_logs\u001b[0m\u001b[0;34m)\u001b[0m\u001b[0;34m\u001b[0m\u001b[0m\n\u001b[0;32m-> 1183\u001b[0;31m                     \u001b[0mouts\u001b[0m \u001b[0;34m=\u001b[0m \u001b[0mf\u001b[0m\u001b[0;34m(\u001b[0m\u001b[0mins_batch\u001b[0m\u001b[0;34m)\u001b[0m\u001b[0;34m\u001b[0m\u001b[0m\n\u001b[0m\u001b[1;32m   1184\u001b[0m                     \u001b[0;32mif\u001b[0m \u001b[0;32mnot\u001b[0m \u001b[0misinstance\u001b[0m\u001b[0;34m(\u001b[0m\u001b[0mouts\u001b[0m\u001b[0;34m,\u001b[0m \u001b[0mlist\u001b[0m\u001b[0;34m)\u001b[0m\u001b[0;34m:\u001b[0m\u001b[0;34m\u001b[0m\u001b[0m\n\u001b[1;32m   1185\u001b[0m                         \u001b[0mouts\u001b[0m \u001b[0;34m=\u001b[0m \u001b[0;34m[\u001b[0m\u001b[0mouts\u001b[0m\u001b[0;34m]\u001b[0m\u001b[0;34m\u001b[0m\u001b[0m\n",
      "\u001b[0;32m/home/ryanj/miniconda2/lib/python2.7/site-packages/keras/backend/theano_backend.pyc\u001b[0m in \u001b[0;36m__call__\u001b[0;34m(self, inputs)\u001b[0m\n\u001b[1;32m   1220\u001b[0m     \u001b[0;32mdef\u001b[0m \u001b[0m__call__\u001b[0m\u001b[0;34m(\u001b[0m\u001b[0mself\u001b[0m\u001b[0;34m,\u001b[0m \u001b[0minputs\u001b[0m\u001b[0;34m)\u001b[0m\u001b[0;34m:\u001b[0m\u001b[0;34m\u001b[0m\u001b[0m\n\u001b[1;32m   1221\u001b[0m         \u001b[0;32massert\u001b[0m \u001b[0misinstance\u001b[0m\u001b[0;34m(\u001b[0m\u001b[0minputs\u001b[0m\u001b[0;34m,\u001b[0m \u001b[0;34m(\u001b[0m\u001b[0mlist\u001b[0m\u001b[0;34m,\u001b[0m \u001b[0mtuple\u001b[0m\u001b[0;34m)\u001b[0m\u001b[0;34m)\u001b[0m\u001b[0;34m\u001b[0m\u001b[0m\n\u001b[0;32m-> 1222\u001b[0;31m         \u001b[0;32mreturn\u001b[0m \u001b[0mself\u001b[0m\u001b[0;34m.\u001b[0m\u001b[0mfunction\u001b[0m\u001b[0;34m(\u001b[0m\u001b[0;34m*\u001b[0m\u001b[0minputs\u001b[0m\u001b[0;34m)\u001b[0m\u001b[0;34m\u001b[0m\u001b[0m\n\u001b[0m\u001b[1;32m   1223\u001b[0m \u001b[0;34m\u001b[0m\u001b[0m\n\u001b[1;32m   1224\u001b[0m \u001b[0;34m\u001b[0m\u001b[0m\n",
      "\u001b[0;32m/home/ryanj/miniconda2/lib/python2.7/site-packages/theano/compile/function_module.pyc\u001b[0m in \u001b[0;36m__call__\u001b[0;34m(self, *args, **kwargs)\u001b[0m\n\u001b[1;32m    901\u001b[0m         \u001b[0;32mtry\u001b[0m\u001b[0;34m:\u001b[0m\u001b[0;34m\u001b[0m\u001b[0m\n\u001b[1;32m    902\u001b[0m             \u001b[0moutputs\u001b[0m \u001b[0;34m=\u001b[0m\u001b[0;31m\\\u001b[0m\u001b[0;34m\u001b[0m\u001b[0m\n\u001b[0;32m--> 903\u001b[0;31m                 \u001b[0mself\u001b[0m\u001b[0;34m.\u001b[0m\u001b[0mfn\u001b[0m\u001b[0;34m(\u001b[0m\u001b[0;34m)\u001b[0m \u001b[0;32mif\u001b[0m \u001b[0moutput_subset\u001b[0m \u001b[0;32mis\u001b[0m \u001b[0mNone\u001b[0m \u001b[0;32melse\u001b[0m\u001b[0;31m\\\u001b[0m\u001b[0;34m\u001b[0m\u001b[0m\n\u001b[0m\u001b[1;32m    904\u001b[0m                 \u001b[0mself\u001b[0m\u001b[0;34m.\u001b[0m\u001b[0mfn\u001b[0m\u001b[0;34m(\u001b[0m\u001b[0moutput_subset\u001b[0m\u001b[0;34m=\u001b[0m\u001b[0moutput_subset\u001b[0m\u001b[0;34m)\u001b[0m\u001b[0;34m\u001b[0m\u001b[0m\n\u001b[1;32m    905\u001b[0m         \u001b[0;32mexcept\u001b[0m \u001b[0mException\u001b[0m\u001b[0;34m:\u001b[0m\u001b[0;34m\u001b[0m\u001b[0m\n",
      "\u001b[0;32m/home/ryanj/miniconda2/lib/python2.7/site-packages/theano/gof/op.pyc\u001b[0m in \u001b[0;36mrval\u001b[0;34m(p, i, o, n)\u001b[0m\n\u001b[1;32m    889\u001b[0m         \u001b[0;32mif\u001b[0m \u001b[0mparams\u001b[0m \u001b[0;32mis\u001b[0m \u001b[0mgraph\u001b[0m\u001b[0;34m.\u001b[0m\u001b[0mNoParams\u001b[0m\u001b[0;34m:\u001b[0m\u001b[0;34m\u001b[0m\u001b[0m\n\u001b[1;32m    890\u001b[0m             \u001b[0;31m# default arguments are stored in the closure of `rval`\u001b[0m\u001b[0;34m\u001b[0m\u001b[0;34m\u001b[0m\u001b[0m\n\u001b[0;32m--> 891\u001b[0;31m             \u001b[0;32mdef\u001b[0m \u001b[0mrval\u001b[0m\u001b[0;34m(\u001b[0m\u001b[0mp\u001b[0m\u001b[0;34m=\u001b[0m\u001b[0mp\u001b[0m\u001b[0;34m,\u001b[0m \u001b[0mi\u001b[0m\u001b[0;34m=\u001b[0m\u001b[0mnode_input_storage\u001b[0m\u001b[0;34m,\u001b[0m \u001b[0mo\u001b[0m\u001b[0;34m=\u001b[0m\u001b[0mnode_output_storage\u001b[0m\u001b[0;34m,\u001b[0m \u001b[0mn\u001b[0m\u001b[0;34m=\u001b[0m\u001b[0mnode\u001b[0m\u001b[0;34m)\u001b[0m\u001b[0;34m:\u001b[0m\u001b[0;34m\u001b[0m\u001b[0m\n\u001b[0m\u001b[1;32m    892\u001b[0m                 \u001b[0mr\u001b[0m \u001b[0;34m=\u001b[0m \u001b[0mp\u001b[0m\u001b[0;34m(\u001b[0m\u001b[0mn\u001b[0m\u001b[0;34m,\u001b[0m \u001b[0;34m[\u001b[0m\u001b[0mx\u001b[0m\u001b[0;34m[\u001b[0m\u001b[0;36m0\u001b[0m\u001b[0;34m]\u001b[0m \u001b[0;32mfor\u001b[0m \u001b[0mx\u001b[0m \u001b[0;32min\u001b[0m \u001b[0mi\u001b[0m\u001b[0;34m]\u001b[0m\u001b[0;34m,\u001b[0m \u001b[0mo\u001b[0m\u001b[0;34m)\u001b[0m\u001b[0;34m\u001b[0m\u001b[0m\n\u001b[1;32m    893\u001b[0m                 \u001b[0;32mfor\u001b[0m \u001b[0mo\u001b[0m \u001b[0;32min\u001b[0m \u001b[0mnode\u001b[0m\u001b[0;34m.\u001b[0m\u001b[0moutputs\u001b[0m\u001b[0;34m:\u001b[0m\u001b[0;34m\u001b[0m\u001b[0m\n",
      "\u001b[0;31mKeyboardInterrupt\u001b[0m: "
     ]
    }
   ],
   "source": [
    "history_raw = model.Fit(corrected_features_train, corrected_features_test,\n",
    "                epochs=2000, batch_size=500, shuffle=True)#, callbacks=[checkpointer])"
   ]
  },
  {
   "cell_type": "markdown",
   "metadata": {},
   "source": [
    "### Check out the results "
   ]
  },
  {
   "cell_type": "code",
   "execution_count": 651,
   "metadata": {
    "collapsed": true
   },
   "outputs": [],
   "source": [
    "import matplotlib.pyplot as plt\n",
    "import numpy as np\n",
    "from copy import deepcopy\n",
    "%matplotlib inline "
   ]
  },
  {
   "cell_type": "code",
   "execution_count": 652,
   "metadata": {
    "collapsed": true
   },
   "outputs": [],
   "source": [
    "encoded_data = model.Encode(corrected_features)"
   ]
  },
  {
   "cell_type": "code",
   "execution_count": 653,
   "metadata": {
    "collapsed": true
   },
   "outputs": [],
   "source": [
    "from numpy import mean"
   ]
  },
  {
   "cell_type": "code",
   "execution_count": 654,
   "metadata": {
    "collapsed": true
   },
   "outputs": [],
   "source": [
    "OP = []\n",
    "for i in range(len(etas)):\n",
    "    OP.append(mean(encoded_data[i*400:i*400+400], axis=0))"
   ]
  },
  {
   "cell_type": "code",
   "execution_count": 587,
   "metadata": {},
   "outputs": [
    {
     "ename": "IndexError",
     "evalue": "index 1 is out of bounds for axis 1 with size 1",
     "output_type": "error",
     "traceback": [
      "\u001b[0;31m---------------------------------------------------------------------------\u001b[0m",
      "\u001b[0;31mIndexError\u001b[0m                                Traceback (most recent call last)",
      "\u001b[0;32m<ipython-input-587-ee6b6d8da5cf>\u001b[0m in \u001b[0;36m<module>\u001b[0;34m()\u001b[0m\n\u001b[1;32m      6\u001b[0m \u001b[0;31m#plt.axvspan(0.716, 0.745, alpha=0.2, color='blue')\u001b[0m\u001b[0;34m\u001b[0m\u001b[0;34m\u001b[0m\u001b[0m\n\u001b[1;32m      7\u001b[0m \u001b[0;34m\u001b[0m\u001b[0m\n\u001b[0;32m----> 8\u001b[0;31m \u001b[0mplt\u001b[0m\u001b[0;34m.\u001b[0m\u001b[0mplot\u001b[0m\u001b[0;34m(\u001b[0m\u001b[0mencoded_data\u001b[0m\u001b[0;34m[\u001b[0m\u001b[0;34m:\u001b[0m\u001b[0;34m,\u001b[0m\u001b[0;36m0\u001b[0m\u001b[0;34m]\u001b[0m\u001b[0;34m,\u001b[0m \u001b[0mencoded_data\u001b[0m\u001b[0;34m[\u001b[0m\u001b[0;34m:\u001b[0m\u001b[0;34m,\u001b[0m\u001b[0;36m1\u001b[0m\u001b[0;34m]\u001b[0m\u001b[0;34m,\u001b[0m \u001b[0mmarker\u001b[0m\u001b[0;34m=\u001b[0m\u001b[0;34m'o'\u001b[0m\u001b[0;34m,\u001b[0m \u001b[0mlinewidth\u001b[0m\u001b[0;34m=\u001b[0m\u001b[0;36m0.0\u001b[0m\u001b[0;34m,\u001b[0m \u001b[0mmarkersize\u001b[0m\u001b[0;34m=\u001b[0m\u001b[0;36m6\u001b[0m\u001b[0;34m,\u001b[0m \u001b[0mcolor\u001b[0m \u001b[0;34m=\u001b[0m \u001b[0;34m'orange'\u001b[0m\u001b[0;34m,\u001b[0m \u001b[0malpha\u001b[0m\u001b[0;34m=\u001b[0m\u001b[0;36m0.04\u001b[0m\u001b[0;34m,\u001b[0m \u001b[0mmarkerfacecolor\u001b[0m\u001b[0;34m=\u001b[0m\u001b[0;34m'None'\u001b[0m\u001b[0;34m)\u001b[0m\u001b[0;34m\u001b[0m\u001b[0m\n\u001b[0m\u001b[1;32m      9\u001b[0m \u001b[0;34m\u001b[0m\u001b[0m\n\u001b[1;32m     10\u001b[0m \u001b[0;34m\u001b[0m\u001b[0m\n",
      "\u001b[0;31mIndexError\u001b[0m: index 1 is out of bounds for axis 1 with size 1"
     ]
    }
   ],
   "source": [
    "#plot the principal components\n",
    "colors = 200*['green', 'purple', 'orange', 'teal', 'black', 'red']\n",
    "\n",
    "#highlight the transition region if found\n",
    "#plt.axvspan(0.700, 0.716, alpha=0.2, color='grey')\n",
    "#plt.axvspan(0.716, 0.745, alpha=0.2, color='blue')\n",
    "\n",
    "plt.plot(encoded_data[:,0], encoded_data[:,1], marker='o', linewidth=0.0, markersize=6, color = 'orange', alpha=0.04, markerfacecolor='None') \n",
    "\n",
    "\n",
    "#backround grid details\n",
    "axes = plt.gca()\n",
    "axes.grid(b = True, which = 'both', axis = 'both', color = 'gray', linestyle = '-', alpha = 0.5, linewidth = 0.5) \n",
    "axes.set_axis_bgcolor('white')  \n",
    "\n",
    "#font scpecifications\n",
    "title_font = {'family' : 'arial', 'color'  : 'black', 'weight' : 'heavy','size': 20}\n",
    "axis_label_font = {'family' : 'arial', 'color'  : 'black', 'weight' : 'normal','size': 20}                                                   \n",
    "\n",
    "#figure size and tick style\n",
    "plt.rcParams[\"figure.figsize\"] = [6,6]\n",
    "plt.rc('axes',edgecolor='black',linewidth=1)\n",
    "plt.tick_params(which='both', axis='both', color='black', length=4, width=0.5)\n",
    "plt.rcParams['xtick.direction'] = 'in'\n",
    "plt.rcParams['ytick.direction'] = 'in'\n",
    "\n",
    "#plt.yscale('log')\n",
    "#plt.ylim(0,0.3)\n",
    "\n",
    "plt.xlabel(r'$P_{1}$', y=3, fontsize=20, fontdict = axis_label_font)\n",
    "plt.ylabel(r'$P_{1}$', fontsize=20, fontdict = axis_label_font)\n",
    "\n",
    "#title and axis labels\n",
    "plt.tick_params(axis='both', labelsize=20)\n",
    "plt.title('Linear (PCA)', y=1.05, fontdict = title_font)\n",
    "\n",
    "plt.show()"
   ]
  },
  {
   "cell_type": "code",
   "execution_count": 656,
   "metadata": {},
   "outputs": [
    {
     "name": "stderr",
     "output_type": "stream",
     "text": [
      "/home/ryanj/miniconda2/lib/python2.7/site-packages/ipykernel_launcher.py:15: MatplotlibDeprecationWarning: The set_axis_bgcolor function was deprecated in version 2.0. Use set_facecolor instead.\n",
      "  from ipykernel import kernelapp as app\n"
     ]
    },
    {
     "data": {
      "image/png": "[encoded data removed]",
      "text/plain": [
       "<matplotlib.figure.Figure at 0x7f1849340b50>"
      ]
     },
     "metadata": {},
     "output_type": "display_data"
    }
   ],
   "source": [
    "#plot the principal components\n",
    "colors = 200*['green', 'purple', 'orange', 'teal', 'black', 'red']\n",
    "\n",
    "#highlight the transition region if found\n",
    "plt.axvspan(0.700, 0.716, alpha=0.2, color='grey')\n",
    "plt.axvspan(0.716, 0.745, alpha=0.2, color='blue')\n",
    "\n",
    "plt.plot(etas, array(OP)[:,0], marker='o', linewidth=0.0, markersize=10, color = 'orange', alpha=1.0, markerfacecolor='None') \n",
    "#plt.plot(etas, array(OP)[:,1], marker='o', linewidth=0.0, markersize=10, color = 'purple', alpha=1.0, markerfacecolor='None') \n",
    "\n",
    "\n",
    "#backround grid details\n",
    "axes = plt.gca()\n",
    "axes.grid(b = True, which = 'both', axis = 'both', color = 'gray', linestyle = '-', alpha = 0.5, linewidth = 0.5) \n",
    "axes.set_axis_bgcolor('white')  \n",
    "\n",
    "#font scpecifications\n",
    "title_font = {'family' : 'arial', 'color'  : 'black', 'weight' : 'heavy','size': 20}\n",
    "axis_label_font = {'family' : 'arial', 'color'  : 'black', 'weight' : 'normal','size': 20}                                                   \n",
    "\n",
    "#figure size and tick style\n",
    "plt.rcParams[\"figure.figsize\"] = [6,6]\n",
    "plt.rc('axes',edgecolor='black',linewidth=1)\n",
    "plt.tick_params(which='both', axis='both', color='black', length=4, width=0.5)\n",
    "plt.rcParams['xtick.direction'] = 'in'\n",
    "plt.rcParams['ytick.direction'] = 'in'\n",
    "\n",
    "#plt.yscale('log')\n",
    "#plt.ylim(0,0.3)\n",
    "\n",
    "plt.xlabel(r'$P_{1}$', y=3, fontsize=20, fontdict = axis_label_font)\n",
    "plt.ylabel(r'$P_{1}$', fontsize=20, fontdict = axis_label_font)\n",
    "\n",
    "#title and axis labels\n",
    "plt.tick_params(axis='both', labelsize=20)\n",
    "plt.title('Linear (PCA)', y=1.05, fontdict = title_font)\n",
    "\n",
    "plt.show()"
   ]
  },
  {
   "cell_type": "code",
   "execution_count": 317,
   "metadata": {},
   "outputs": [
    {
     "name": "stderr",
     "output_type": "stream",
     "text": [
      "/home/ryanj/miniconda2/lib/python2.7/site-packages/ipykernel_launcher.py:14: MatplotlibDeprecationWarning: The set_axis_bgcolor function was deprecated in version 2.0. Use set_facecolor instead.\n",
      "  \n"
     ]
    },
    {
     "data": {
      "image/png": "[encoded data removed]",
      "text/plain": [
       "<matplotlib.figure.Figure at 0x7f181ccb0dd0>"
      ]
     },
     "metadata": {},
     "output_type": "display_data"
    }
   ],
   "source": [
    "#plot the principal components\n",
    "colors = 200*['green', 'purple', 'orange', 'teal', 'black', 'red']\n",
    "\n",
    "#highlight the transition region if found\n",
    "plt.axvspan(0.700, 0.716, alpha=0.2, color='grey')\n",
    "plt.axvspan(0.716, 0.745, alpha=0.2, color='blue')\n",
    "\n",
    "plt.plot(etas, array(OP), marker='o', linewidth=0.0, markersize=10, color = 'orange', alpha=1.0, markerfacecolor='None') \n",
    "\n",
    "\n",
    "#backround grid details\n",
    "axes = plt.gca()\n",
    "axes.grid(b = True, which = 'both', axis = 'both', color = 'gray', linestyle = '-', alpha = 0.5, linewidth = 0.5) \n",
    "axes.set_axis_bgcolor('white')  \n",
    "\n",
    "#font scpecifications\n",
    "title_font = {'family' : 'arial', 'color'  : 'black', 'weight' : 'heavy','size': 20}\n",
    "axis_label_font = {'family' : 'arial', 'color'  : 'black', 'weight' : 'normal','size': 20}                                                   \n",
    "\n",
    "#figure size and tick style\n",
    "plt.rcParams[\"figure.figsize\"] = [6,6]\n",
    "plt.rc('axes',edgecolor='black',linewidth=1)\n",
    "plt.tick_params(which='both', axis='both', color='black', length=4, width=0.5)\n",
    "plt.rcParams['xtick.direction'] = 'in'\n",
    "plt.rcParams['ytick.direction'] = 'in'\n",
    "\n",
    "#plt.yscale('log')\n",
    "#plt.ylim(0,0.3)\n",
    "\n",
    "plt.xlabel(r'$P_{1}$', y=3, fontsize=20, fontdict = axis_label_font)\n",
    "plt.ylabel(r'$P_{1}$', fontsize=20, fontdict = axis_label_font)\n",
    "\n",
    "#title and axis labels\n",
    "plt.tick_params(axis='both', labelsize=20)\n",
    "plt.title('Autoencoder (ELU)', y=1.05, fontdict = title_font)\n",
    "\n",
    "plt.show()"
   ]
  },
  {
   "cell_type": "code",
   "execution_count": 47,
   "metadata": {},
   "outputs": [
    {
     "name": "stderr",
     "output_type": "stream",
     "text": [
      "/home/ryanj/miniconda2/lib/python2.7/site-packages/ipykernel_launcher.py:14: MatplotlibDeprecationWarning: The set_axis_bgcolor function was deprecated in version 2.0. Use set_facecolor instead.\n",
      "  \n"
     ]
    },
    {
     "data": {
      "image/png": "[encoded data removed]",
      "text/plain": [
       "<matplotlib.figure.Figure at 0x7f0eabc7cc10>"
      ]
     },
     "metadata": {},
     "output_type": "display_data"
    }
   ],
   "source": [
    "#plot the principal components\n",
    "colors = 200*['green', 'purple', 'orange', 'teal', 'black', 'red']\n",
    "\n",
    "#highlight the transition region if found\n",
    "plt.axvspan(0.700, 0.716, alpha=0.2, color='grey')\n",
    "plt.axvspan(0.716, 0.745, alpha=0.2, color='blue')\n",
    "\n",
    "plt.plot(etas, array(OP), marker='o', linewidth=0.0, markersize=10, color = 'orange', alpha=1.0, markerfacecolor='None') \n",
    "\n",
    "\n",
    "#backround grid details\n",
    "axes = plt.gca()\n",
    "axes.grid(b = True, which = 'both', axis = 'both', color = 'gray', linestyle = '-', alpha = 0.5, linewidth = 0.5) \n",
    "axes.set_axis_bgcolor('white')  \n",
    "\n",
    "#font scpecifications\n",
    "title_font = {'family' : 'arial', 'color'  : 'black', 'weight' : 'heavy','size': 20}\n",
    "axis_label_font = {'family' : 'arial', 'color'  : 'black', 'weight' : 'normal','size': 20}                                                   \n",
    "\n",
    "#figure size and tick style\n",
    "plt.rcParams[\"figure.figsize\"] = [6,6]\n",
    "plt.rc('axes',edgecolor='black',linewidth=1)\n",
    "plt.tick_params(which='both', axis='both', color='black', length=4, width=0.5)\n",
    "plt.rcParams['xtick.direction'] = 'in'\n",
    "plt.rcParams['ytick.direction'] = 'in'\n",
    "\n",
    "#plt.yscale('log')\n",
    "#plt.ylim(0,0.3)\n",
    "\n",
    "plt.xlabel(r'$P_{1}$', y=3, fontsize=20, fontdict = axis_label_font)\n",
    "plt.ylabel(r'$P_{1}$', fontsize=20, fontdict = axis_label_font)\n",
    "\n",
    "#title and axis labels\n",
    "plt.tick_params(axis='both', labelsize=20)\n",
    "plt.title('Autoencoder', y=1.05, fontdict = title_font)\n",
    "\n",
    "plt.show()"
   ]
  },
  {
   "cell_type": "code",
   "execution_count": null,
   "metadata": {
    "collapsed": true
   },
   "outputs": [],
   "source": []
  },
  {
   "cell_type": "markdown",
   "metadata": {},
   "source": [
    "## Check out the 10 iterations"
   ]
  },
  {
   "cell_type": "code",
   "execution_count": 87,
   "metadata": {
    "collapsed": true
   },
   "outputs": [],
   "source": [
    "from numpy import mean, loadtxt"
   ]
  },
  {
   "cell_type": "code",
   "execution_count": 19,
   "metadata": {
    "collapsed": true
   },
   "outputs": [],
   "source": [
    "model = AutoEncoder(dim=dim, encode_dim=1, \n",
    "                    initial_growth=0.25, shrink=0.65,\n",
    "                    activation='selu', kernel_initializer='lecun_normal')"
   ]
  },
  {
   "cell_type": "code",
   "execution_count": 90,
   "metadata": {},
   "outputs": [
    {
     "name": "stdout",
     "output_type": "stream",
     "text": [
      "0\n",
      "1\n",
      "2\n",
      "3\n",
      "4\n",
      "5\n",
      "6\n",
      "7\n",
      "8\n",
      "9\n",
      "linear\n"
     ]
    }
   ],
   "source": [
    "OP_set = []\n",
    "error_set = []\n",
    "for i in range(10):\n",
    "    print i\n",
    "    model.autoencoder.load_weights('./model/weights_{}.hdf5'.format(i))\n",
    "    model.Compile(optimizer='adamax', loss='mean_squared_error')\n",
    "    encoded_data = model.Predict(corrected_features)\n",
    "    OP = []\n",
    "    for j in range(len(etas)):\n",
    "        OP.append(mean(encoded_data[:,0][j*400:j*400+400]))\n",
    "    OP_set.append(OP)\n",
    "    error_set.append(loadtxt('./model/val_loss_{}.txt'.format(i)))\n",
    "\n",
    "print 'linear'\n",
    "model.autoencoder.load_weights('./model/weights_linear.hdf5'.format(i))\n",
    "model.Compile(optimizer='adamax', loss='mean_squared_error')\n",
    "encoded_data = model.Predict(corrected_features)\n",
    "OP_linear = []\n",
    "for i in range(len(etas)):\n",
    "    OP_linear.append(mean(encoded_data[:,0][i*400:i*400+400]))\n",
    "error_linear = loadtxt('./model/val_loss_linear.txt')"
   ]
  },
  {
   "cell_type": "code",
   "execution_count": 106,
   "metadata": {},
   "outputs": [
    {
     "name": "stderr",
     "output_type": "stream",
     "text": [
      "/home/ryanj/miniconda2/lib/python2.7/site-packages/ipykernel_launcher.py:16: MatplotlibDeprecationWarning: The set_axis_bgcolor function was deprecated in version 2.0. Use set_facecolor instead.\n",
      "  app.launch_new_instance()\n"
     ]
    },
    {
     "data": {
      "image/png": "[encoded data removed]",
      "text/plain": [
       "<matplotlib.figure.Figure at 0x7f295d3e7a50>"
      ]
     },
     "metadata": {},
     "output_type": "display_data"
    }
   ],
   "source": [
    "#plot the principal components\n",
    "colors = 200*['green', 'purple', 'orange', 'teal', 'red', 'brown', 'yellow', 'blue', 'purple', 'cyan']\n",
    "\n",
    "#highlight the transition region if found\n",
    "plt.axvspan(0.700, 0.716, alpha=0.2, color='grey')\n",
    "plt.axvspan(0.716, 0.745, alpha=0.2, color='blue')\n",
    "\n",
    "for i in range(len(OP_set)):\n",
    "    plt.plot(range(len(error_set[i])), error_set[i], marker='o', linewidth=0.0, markersize=5, color = colors[i], alpha=1.0, markerfacecolor='None')\n",
    "    \n",
    "plt.plot(range(len(error_linear)), error_linear, marker='o', linewidth=0.0, markersize=10, color = 'black', alpha=2.0, markerfacecolor='None') \n",
    "\n",
    "#backround grid details\n",
    "axes = plt.gca()\n",
    "axes.grid(b = True, which = 'both', axis = 'both', color = 'gray', linestyle = '-', alpha = 0.5, linewidth = 0.5) \n",
    "axes.set_axis_bgcolor('white')  \n",
    "\n",
    "#font scpecifications\n",
    "title_font = {'family' : 'arial', 'color'  : 'black', 'weight' : 'heavy','size': 20}\n",
    "axis_label_font = {'family' : 'arial', 'color'  : 'black', 'weight' : 'normal','size': 20}                                                   \n",
    "\n",
    "#figure size and tick style\n",
    "plt.rcParams[\"figure.figsize\"] = [6,6]\n",
    "plt.rc('axes',edgecolor='black',linewidth=1)\n",
    "plt.tick_params(which='both', axis='both', color='black', length=4, width=0.5)\n",
    "plt.rcParams['xtick.direction'] = 'in'\n",
    "plt.rcParams['ytick.direction'] = 'in'\n",
    "\n",
    "#plt.yscale('log')\n",
    "plt.ylim(0.8,0.88)\n",
    "\n",
    "plt.xlabel(r'$P_{1}$', y=3, fontsize=20, fontdict = axis_label_font)\n",
    "plt.ylabel(r'$P_{1}$', fontsize=20, fontdict = axis_label_font)\n",
    "\n",
    "#title and axis labels\n",
    "plt.tick_params(axis='both', labelsize=20)\n",
    "plt.title('Autoencoder', y=1.05, fontdict = title_font)\n",
    "\n",
    "plt.show()"
   ]
  },
  {
   "cell_type": "code",
   "execution_count": 113,
   "metadata": {},
   "outputs": [
    {
     "name": "stderr",
     "output_type": "stream",
     "text": [
      "/home/ryanj/miniconda2/lib/python2.7/site-packages/ipykernel_launcher.py:18: MatplotlibDeprecationWarning: The set_axis_bgcolor function was deprecated in version 2.0. Use set_facecolor instead.\n"
     ]
    },
    {
     "data": {
      "image/png": "[encoded data removed]",
      "text/plain": [
       "<matplotlib.figure.Figure at 0x7f2954d562d0>"
      ]
     },
     "metadata": {},
     "output_type": "display_data"
    }
   ],
   "source": [
    "#plot the principal components\n",
    "colors = 200*['green', 'purple', 'orange', 'teal', 'red', 'brown', 'yellow', 'blue', 'magenta', 'cyan']\n",
    "\n",
    "#highlight the transition region if found\n",
    "plt.axvspan(0.700, 0.716, alpha=0.2, color='grey')\n",
    "plt.axvspan(0.716, 0.745, alpha=0.2, color='blue')\n",
    "\n",
    "#for i in range(len(OP_set)):\n",
    "    #plt.plot(etas, array(OP_set[i]), marker='o', linewidth=0.0, markersize=5, color = colors[i], alpha=1.0, markerfacecolor='None')\n",
    "    \n",
    "#plt.plot(etas, OP_linear, marker='o', linewidth=0.0, markersize=10, color = 'black', alpha=2.0, markerfacecolor='None') \n",
    "index = 1\n",
    "plt.plot(etas, array(OP_set[index]), marker='o', linewidth=0.0, markersize=5, color = colors[index], alpha=1.0, markerfacecolor='None')\n",
    "\n",
    "#backround grid details\n",
    "axes = plt.gca()\n",
    "axes.grid(b = True, which = 'both', axis = 'both', color = 'gray', linestyle = '-', alpha = 0.5, linewidth = 0.5) \n",
    "axes.set_axis_bgcolor('white')  \n",
    "\n",
    "#font scpecifications\n",
    "title_font = {'family' : 'arial', 'color'  : 'black', 'weight' : 'heavy','size': 20}\n",
    "axis_label_font = {'family' : 'arial', 'color'  : 'black', 'weight' : 'normal','size': 20}                                                   \n",
    "\n",
    "#figure size and tick style\n",
    "plt.rcParams[\"figure.figsize\"] = [6,6]\n",
    "plt.rc('axes',edgecolor='black',linewidth=1)\n",
    "plt.tick_params(which='both', axis='both', color='black', length=4, width=0.5)\n",
    "plt.rcParams['xtick.direction'] = 'in'\n",
    "plt.rcParams['ytick.direction'] = 'in'\n",
    "\n",
    "#plt.yscale('log')\n",
    "#plt.ylim(0,0.3)\n",
    "\n",
    "plt.xlabel(r'$P_{1}$', y=3, fontsize=20, fontdict = axis_label_font)\n",
    "plt.ylabel(r'$P_{1}$', fontsize=20, fontdict = axis_label_font)\n",
    "\n",
    "#title and axis labels\n",
    "plt.tick_params(axis='both', labelsize=20)\n",
    "plt.title('Autoencoder', y=1.05, fontdict = title_font)\n",
    "\n",
    "plt.show()"
   ]
  },
  {
   "cell_type": "code",
   "execution_count": null,
   "metadata": {
    "collapsed": true
   },
   "outputs": [],
   "source": []
  },
  {
   "cell_type": "code",
   "execution_count": null,
   "metadata": {
    "collapsed": true
   },
   "outputs": [],
   "source": []
  },
  {
   "cell_type": "code",
   "execution_count": null,
   "metadata": {
    "collapsed": true
   },
   "outputs": [],
   "source": []
  },
  {
   "cell_type": "code",
   "execution_count": null,
   "metadata": {
    "collapsed": true
   },
   "outputs": [],
   "source": []
  },
  {
   "cell_type": "code",
   "execution_count": null,
   "metadata": {
    "collapsed": true
   },
   "outputs": [],
   "source": []
  },
  {
   "cell_type": "markdown",
   "metadata": {
    "collapsed": true
   },
   "source": [
    "# Local structure analysis"
   ]
  },
  {
   "cell_type": "code",
   "execution_count": null,
   "metadata": {
    "collapsed": true
   },
   "outputs": [],
   "source": [
    "from copy import deepcopy\n",
    "from numpy import concatenate, log, power, rint, sqrt, sum, unique, repeat, arccos, dot, transpose, append, cos, sin, hstack, maximum, minimum, pi, array, mean\n",
    "from numpy.linalg import norm\n",
    "from numpy.random import shuffle, choice\n",
    "from sklearn import preprocessing\n",
    "import warnings\n",
    "\n",
    "#this generates NN features for the PCA analysis (or some other machine learning method as well)\n",
    "def FrameToFeaturesPosition(frame, N_nn, nn_inc, N_batch, batches_per_frame):\n",
    "    #extract some relevant frames level details\n",
    "    coords = deepcopy(frame['coords'])\n",
    "    D = float(frame['D'])\n",
    "    N = float(len(coords))\n",
    "    V = power(frame['L'], D)\n",
    "    normalizing_distance = power(V/N, 1.0/D)\n",
    "    \n",
    "    #loop over the batches\n",
    "    aggregated_frame_features = []\n",
    "    for i in range(batches_per_frame):\n",
    "        coords_batch = coords[choice(int(N), N_batch, replace=False)]\n",
    "\n",
    "        #loop over the particles\n",
    "        frame_features = []\n",
    "        for particle in coords_batch:\n",
    "            #nearest neighbor coordinate wrapping\n",
    "            Rpj_v = particle - coords\n",
    "            Rpj_v = Rpj_v - rint(Rpj_v/frame['L'])*frame['L']\n",
    "            Rpj = (sqrt(sum(power(Rpj_v, 2.0), axis=1)))     #tagged particles NN\n",
    "\n",
    "            #sorting by the distance to enable the discovery of positional order\n",
    "            sorter = Rpj.argsort()\n",
    "            Rpj_v = Rpj_v[sorter[::1]][1:N_nn+1]\n",
    "            Rpj = Rpj[sorter[::1]][1:N_nn+1]\n",
    "            \n",
    "            #calculate sorted distances between the NNs after moving reference frame to tagged particle\n",
    "            features = deepcopy(Rpj)\n",
    "            for i in range(len(Rpj_v)-1):\n",
    "                nn_Rij_v = Rpj_v[i] - Rpj_v[i+1:]\n",
    "                nn_Rij_v = nn_Rij_v - rint(nn_Rij_v/frame['L'])*frame['L']\n",
    "                nn_Rij = (sqrt(sum(power(nn_Rij_v, 2.0), axis=1)))\n",
    "                features = concatenate((features, nn_Rij), axis=0)\n",
    " \n",
    "            #create features that correspond to probe particles and their nearest neighbors\n",
    "            frame_features.append(features/normalizing_distance)\n",
    "\n",
    "        #sort by the first nearest neighbor to again provide some positional basis on which to learn correlations\n",
    "        #frame_features = array(frame_features)\n",
    "        #sorter = frame_features[:,5].argsort()\n",
    "        #frame_features = frame_features[sorter]\n",
    "        \n",
    "        #TEST\n",
    "        #sorter = mean(frame_features, axis=1).argsort()\n",
    "        #frame_features = frame_features[sorter]\n",
    "        \n",
    "        shuffle(frame_features)\n",
    "        #TEST\n",
    "        \n",
    "        aggregated_frame_features.append(array(frame_features).flatten())\n",
    "\n",
    "    return array(aggregated_frame_features)\n",
    "\n",
    "#this converts an entire trajectory into features\n",
    "def TrajectoryToFeaturesPosition(frames, N_nn, nn_inc, N_batch, batches_per_frame):\n",
    "    #print filename\n",
    "    features = []\n",
    "    for frame in frames: \n",
    "        aggregated_frame_features = FrameToFeaturesPosition(frame, N_nn, nn_inc, N_batch, batches_per_frame)\n",
    "        for frame_features in aggregated_frame_features:\n",
    "            features.append(frame_features)\n",
    "    return array(features)"
   ]
  },
  {
   "cell_type": "code",
   "execution_count": 492,
   "metadata": {
    "collapsed": true
   },
   "outputs": [],
   "source": [
    "filename = '../hoomd_disks/trajectories_4000p_longer/trajectory_0.7200.gsd'\n",
    "#filename = '../hoomd_spheres/trajectories_4000p/quench_1/trajectories/trajectory_0.7000.gsd'"
   ]
  },
  {
   "cell_type": "code",
   "execution_count": 493,
   "metadata": {
    "collapsed": true
   },
   "outputs": [],
   "source": [
    "frames_r = ReadTraj(filename, traj_type='gsd', shuffle_data=False, randomize=True, remove_types=[])"
   ]
  },
  {
   "cell_type": "code",
   "execution_count": 494,
   "metadata": {
    "collapsed": true
   },
   "outputs": [],
   "source": [
    "frames = ReadTraj(filename, traj_type='gsd', shuffle_data=False, randomize=False, remove_types=[])"
   ]
  },
  {
   "cell_type": "code",
   "execution_count": 496,
   "metadata": {
    "collapsed": true
   },
   "outputs": [],
   "source": [
    "features_r = TrajectoryToFeaturesPosition(frames_r, N_nn=39, nn_inc=1, N_batch=1, batches_per_frame=40) #11"
   ]
  },
  {
   "cell_type": "code",
   "execution_count": 497,
   "metadata": {
    "collapsed": true
   },
   "outputs": [],
   "source": [
    "features = TrajectoryToFeaturesPosition(frames, N_nn=39, nn_inc=1, N_batch=1, batches_per_frame=40) #11"
   ]
  },
  {
   "cell_type": "code",
   "execution_count": 498,
   "metadata": {
    "collapsed": true
   },
   "outputs": [],
   "source": [
    "incpca_ig = IncrementalPCA(n_components=None, whiten=True)"
   ]
  },
  {
   "cell_type": "code",
   "execution_count": 499,
   "metadata": {},
   "outputs": [
    {
     "data": {
      "text/plain": [
       "IncrementalPCA(batch_size=None, copy=True, n_components=None, whiten=True)"
      ]
     },
     "execution_count": 499,
     "metadata": {},
     "output_type": "execute_result"
    }
   ],
   "source": [
    "incpca_ig.fit(features_r)"
   ]
  },
  {
   "cell_type": "code",
   "execution_count": 500,
   "metadata": {
    "collapsed": true
   },
   "outputs": [],
   "source": [
    "features_corrected = incpca_ig.transform(features)"
   ]
  },
  {
   "cell_type": "code",
   "execution_count": 501,
   "metadata": {},
   "outputs": [
    {
     "name": "stdout",
     "output_type": "stream",
     "text": [
      "780\n"
     ]
    }
   ],
   "source": [
    "dim = len(features_corrected[0])\n",
    "print dim"
   ]
  },
  {
   "cell_type": "code",
   "execution_count": 502,
   "metadata": {
    "collapsed": true
   },
   "outputs": [],
   "source": [
    "from analysis_tools.autoencoder import AutoEncoder"
   ]
  },
  {
   "cell_type": "code",
   "execution_count": 357,
   "metadata": {},
   "outputs": [
    {
     "ename": "TypeError",
     "evalue": "__init__() takes at least 4 arguments (5 given)",
     "output_type": "error",
     "traceback": [
      "\u001b[0;31m---------------------------------------------------------------------------\u001b[0m",
      "\u001b[0;31mTypeError\u001b[0m                                 Traceback (most recent call last)",
      "\u001b[0;32m<ipython-input-357-3551a2bcbd73>\u001b[0m in \u001b[0;36m<module>\u001b[0;34m()\u001b[0m\n\u001b[1;32m      1\u001b[0m model = AutoEncoder(dim=dim, encode_dim=1, \n\u001b[1;32m      2\u001b[0m                     \u001b[0minitial_growth\u001b[0m\u001b[0;34m=\u001b[0m\u001b[0;36m0.25\u001b[0m\u001b[0;34m,\u001b[0m \u001b[0mshrink\u001b[0m\u001b[0;34m=\u001b[0m\u001b[0;36m0.65\u001b[0m\u001b[0;34m,\u001b[0m\u001b[0;34m\u001b[0m\u001b[0m\n\u001b[0;32m----> 3\u001b[0;31m                     activation='elu')#, kernel_initializer='lecun_normal')\n\u001b[0m",
      "\u001b[0;31mTypeError\u001b[0m: __init__() takes at least 4 arguments (5 given)"
     ]
    }
   ],
   "source": [
    "model = AutoEncoder(dim=dim, encode_dim=1, \n",
    "                    initial_growth=0.25, shrink=0.65,\n",
    "                    activation='elu')#, kernel_initializer='lecun_normal')"
   ]
  },
  {
   "cell_type": "code",
   "execution_count": 504,
   "metadata": {
    "collapsed": true
   },
   "outputs": [],
   "source": [
    "model = AutoEncoder(dim=dim, encode_dim=1, \n",
    "                    initial_growth=0.25, shrink=0.25,\n",
    "                    activation='elu')#, kernel_initializer='lecun_normal')"
   ]
  },
  {
   "cell_type": "code",
   "execution_count": 505,
   "metadata": {
    "collapsed": true
   },
   "outputs": [],
   "source": [
    "model.Compile(optimizer='adamax', loss='mean_squared_error')"
   ]
  },
  {
   "cell_type": "code",
   "execution_count": 506,
   "metadata": {},
   "outputs": [
    {
     "name": "stdout",
     "output_type": "stream",
     "text": [
      "[975, 243, 60, 15, 3, 1, 3, 15, 60, 243, 975, 780]\n"
     ]
    }
   ],
   "source": [
    "print model.layer_dims"
   ]
  },
  {
   "cell_type": "code",
   "execution_count": 507,
   "metadata": {
    "collapsed": true
   },
   "outputs": [],
   "source": [
    "features_corrected_train, features_corrected_test = train_test_split(features_corrected, test_size=0.25, random_state=42)"
   ]
  },
  {
   "cell_type": "code",
   "execution_count": 522,
   "metadata": {
    "scrolled": true
   },
   "outputs": [
    {
     "name": "stdout",
     "output_type": "stream",
     "text": [
      "Train on 30000 samples, validate on 10000 samples\n",
      "Epoch 1/1000\n",
      "30000/30000 [==============================] - 8s - loss: 1.0306 - val_loss: 1.0318\n",
      "Epoch 2/1000\n",
      "30000/30000 [==============================] - 8s - loss: 1.0302 - val_loss: 1.0313\n",
      "Epoch 3/1000\n",
      "30000/30000 [==============================] - 8s - loss: 1.0301 - val_loss: 1.0312\n",
      "Epoch 4/1000\n",
      "30000/30000 [==============================] - 8s - loss: 1.0297 - val_loss: 1.0311\n",
      "Epoch 5/1000\n",
      "30000/30000 [==============================] - 8s - loss: 1.0297 - val_loss: 1.0310\n",
      "Epoch 6/1000\n",
      "30000/30000 [==============================] - 8s - loss: 1.0294 - val_loss: 1.0307\n",
      "Epoch 7/1000\n",
      "30000/30000 [==============================] - 8s - loss: 1.0294 - val_loss: 1.0304\n",
      "Epoch 8/1000\n",
      "30000/30000 [==============================] - 8s - loss: 1.0295 - val_loss: 1.0309\n",
      "Epoch 9/1000\n",
      "30000/30000 [==============================] - 8s - loss: 1.0291 - val_loss: 1.0306\n",
      "Epoch 10/1000\n",
      "30000/30000 [==============================] - 8s - loss: 1.0288 - val_loss: 1.0306\n",
      "Epoch 11/1000\n",
      "30000/30000 [==============================] - 8s - loss: 1.0290 - val_loss: 1.0307\n",
      "Epoch 12/1000\n",
      "30000/30000 [==============================] - 8s - loss: 1.0288 - val_loss: 1.0304\n",
      "Epoch 13/1000\n",
      "30000/30000 [==============================] - 8s - loss: 1.0288 - val_loss: 1.0304\n",
      "Epoch 14/1000\n",
      "30000/30000 [==============================] - 9s - loss: 1.0285 - val_loss: 1.0301\n",
      "Epoch 15/1000\n",
      "30000/30000 [==============================] - 9s - loss: 1.0285 - val_loss: 1.0299\n",
      "Epoch 16/1000\n",
      "30000/30000 [==============================] - 9s - loss: 1.0283 - val_loss: 1.0300\n",
      "Epoch 17/1000\n",
      "30000/30000 [==============================] - 9s - loss: 1.0297 - val_loss: 1.0311\n",
      "Epoch 18/1000\n",
      "30000/30000 [==============================] - 8s - loss: 1.0293 - val_loss: 1.0302\n",
      "Epoch 19/1000\n",
      "30000/30000 [==============================] - 8s - loss: 1.0283 - val_loss: 1.0295\n",
      "Epoch 20/1000\n",
      "30000/30000 [==============================] - 8s - loss: 1.0278 - val_loss: 1.0293\n",
      "Epoch 21/1000\n",
      "30000/30000 [==============================] - 8s - loss: 1.0274 - val_loss: 1.0292\n",
      "Epoch 22/1000\n",
      "30000/30000 [==============================] - 8s - loss: 1.0274 - val_loss: 1.0290\n",
      "Epoch 23/1000\n",
      "30000/30000 [==============================] - 8s - loss: 1.0273 - val_loss: 1.0292\n",
      "Epoch 24/1000\n",
      "30000/30000 [==============================] - 8s - loss: 1.0273 - val_loss: 1.0294\n",
      "Epoch 25/1000\n",
      "30000/30000 [==============================] - 8s - loss: 1.0269 - val_loss: 1.0284\n",
      "Epoch 26/1000\n",
      "30000/30000 [==============================] - 8s - loss: 1.0269 - val_loss: 1.0291\n",
      "Epoch 27/1000\n",
      "30000/30000 [==============================] - 8s - loss: 1.0266 - val_loss: 1.0289\n",
      "Epoch 28/1000\n",
      "30000/30000 [==============================] - 8s - loss: 1.0266 - val_loss: 1.0289\n",
      "Epoch 29/1000\n",
      "30000/30000 [==============================] - 8s - loss: 1.0264 - val_loss: 1.0285\n",
      "Epoch 30/1000\n",
      "30000/30000 [==============================] - 8s - loss: 1.0262 - val_loss: 1.0282\n",
      "Epoch 31/1000\n",
      "30000/30000 [==============================] - 8s - loss: 1.0258 - val_loss: 1.0283\n",
      "Epoch 32/1000\n",
      "30000/30000 [==============================] - 8s - loss: 1.0260 - val_loss: 1.0280\n",
      "Epoch 33/1000\n",
      "30000/30000 [==============================] - 8s - loss: 1.0260 - val_loss: 1.0281\n",
      "Epoch 34/1000\n",
      "30000/30000 [==============================] - 8s - loss: 1.0255 - val_loss: 1.0280\n",
      "Epoch 35/1000\n",
      "30000/30000 [==============================] - 8s - loss: 1.0254 - val_loss: 1.0280\n",
      "Epoch 36/1000\n",
      "30000/30000 [==============================] - 8s - loss: 1.0253 - val_loss: 1.0283\n",
      "Epoch 37/1000\n",
      "30000/30000 [==============================] - 8s - loss: 1.0253 - val_loss: 1.0276\n",
      "Epoch 38/1000\n",
      "30000/30000 [==============================] - 8s - loss: 1.0255 - val_loss: 1.0295\n",
      "Epoch 39/1000\n",
      "30000/30000 [==============================] - 8s - loss: 1.0254 - val_loss: 1.0278\n",
      "Epoch 40/1000\n",
      "30000/30000 [==============================] - 8s - loss: 1.0253 - val_loss: 1.0284\n",
      "Epoch 41/1000\n",
      "11500/30000 [==========>...................] - ETA: 5s - loss: 1.0250"
     ]
    },
    {
     "ename": "KeyboardInterrupt",
     "evalue": "",
     "output_type": "error",
     "traceback": [
      "\u001b[0;31m---------------------------------------------------------------------------\u001b[0m",
      "\u001b[0;31mKeyboardInterrupt\u001b[0m                         Traceback (most recent call last)",
      "\u001b[0;32m<ipython-input-522-1392cc768648>\u001b[0m in \u001b[0;36m<module>\u001b[0;34m()\u001b[0m\n\u001b[1;32m      1\u001b[0m history_raw = model.Fit(features_corrected_train, features_corrected_test,\n\u001b[0;32m----> 2\u001b[0;31m                 epochs=1000, batch_size=500, shuffle=True)\n\u001b[0m",
      "\u001b[0;32m/home/ryanj/Documents/hoomd-examples/hard_disks_pca/analysis_tools/autoencoder.py\u001b[0m in \u001b[0;36mFit\u001b[0;34m(self, features_train, features_test, **kwargs)\u001b[0m\n\u001b[1;32m     76\u001b[0m                                         \u001b[0mfeatures_train\u001b[0m\u001b[0;34m,\u001b[0m\u001b[0;34m\u001b[0m\u001b[0m\n\u001b[1;32m     77\u001b[0m                                         \u001b[0mvalidation_data\u001b[0m\u001b[0;34m=\u001b[0m\u001b[0;34m(\u001b[0m\u001b[0mfeatures_test\u001b[0m\u001b[0;34m,\u001b[0m \u001b[0mfeatures_test\u001b[0m\u001b[0;34m)\u001b[0m\u001b[0;34m,\u001b[0m\u001b[0;34m\u001b[0m\u001b[0m\n\u001b[0;32m---> 78\u001b[0;31m                                         **kwargs)\n\u001b[0m\u001b[1;32m     79\u001b[0m \u001b[0;34m\u001b[0m\u001b[0m\n\u001b[1;32m     80\u001b[0m     \u001b[0;32mdef\u001b[0m \u001b[0mEncode\u001b[0m\u001b[0;34m(\u001b[0m\u001b[0mself\u001b[0m\u001b[0;34m,\u001b[0m \u001b[0mfeatures\u001b[0m\u001b[0;34m,\u001b[0m \u001b[0;34m**\u001b[0m\u001b[0mkwargs\u001b[0m\u001b[0;34m)\u001b[0m\u001b[0;34m:\u001b[0m\u001b[0;34m\u001b[0m\u001b[0m\n",
      "\u001b[0;32m/home/ryanj/miniconda2/lib/python2.7/site-packages/keras/engine/training.pyc\u001b[0m in \u001b[0;36mfit\u001b[0;34m(self, x, y, batch_size, epochs, verbose, callbacks, validation_split, validation_data, shuffle, class_weight, sample_weight, initial_epoch, steps_per_epoch, validation_steps, **kwargs)\u001b[0m\n\u001b[1;32m   1596\u001b[0m                               \u001b[0minitial_epoch\u001b[0m\u001b[0;34m=\u001b[0m\u001b[0minitial_epoch\u001b[0m\u001b[0;34m,\u001b[0m\u001b[0;34m\u001b[0m\u001b[0m\n\u001b[1;32m   1597\u001b[0m                               \u001b[0msteps_per_epoch\u001b[0m\u001b[0;34m=\u001b[0m\u001b[0msteps_per_epoch\u001b[0m\u001b[0;34m,\u001b[0m\u001b[0;34m\u001b[0m\u001b[0m\n\u001b[0;32m-> 1598\u001b[0;31m                               validation_steps=validation_steps)\n\u001b[0m\u001b[1;32m   1599\u001b[0m \u001b[0;34m\u001b[0m\u001b[0m\n\u001b[1;32m   1600\u001b[0m     def evaluate(self, x, y,\n",
      "\u001b[0;32m/home/ryanj/miniconda2/lib/python2.7/site-packages/keras/engine/training.pyc\u001b[0m in \u001b[0;36m_fit_loop\u001b[0;34m(self, f, ins, out_labels, batch_size, epochs, verbose, callbacks, val_f, val_ins, shuffle, callback_metrics, initial_epoch, steps_per_epoch, validation_steps)\u001b[0m\n\u001b[1;32m   1181\u001b[0m                     \u001b[0mbatch_logs\u001b[0m\u001b[0;34m[\u001b[0m\u001b[0;34m'size'\u001b[0m\u001b[0;34m]\u001b[0m \u001b[0;34m=\u001b[0m \u001b[0mlen\u001b[0m\u001b[0;34m(\u001b[0m\u001b[0mbatch_ids\u001b[0m\u001b[0;34m)\u001b[0m\u001b[0;34m\u001b[0m\u001b[0m\n\u001b[1;32m   1182\u001b[0m                     \u001b[0mcallbacks\u001b[0m\u001b[0;34m.\u001b[0m\u001b[0mon_batch_begin\u001b[0m\u001b[0;34m(\u001b[0m\u001b[0mbatch_index\u001b[0m\u001b[0;34m,\u001b[0m \u001b[0mbatch_logs\u001b[0m\u001b[0;34m)\u001b[0m\u001b[0;34m\u001b[0m\u001b[0m\n\u001b[0;32m-> 1183\u001b[0;31m                     \u001b[0mouts\u001b[0m \u001b[0;34m=\u001b[0m \u001b[0mf\u001b[0m\u001b[0;34m(\u001b[0m\u001b[0mins_batch\u001b[0m\u001b[0;34m)\u001b[0m\u001b[0;34m\u001b[0m\u001b[0m\n\u001b[0m\u001b[1;32m   1184\u001b[0m                     \u001b[0;32mif\u001b[0m \u001b[0;32mnot\u001b[0m \u001b[0misinstance\u001b[0m\u001b[0;34m(\u001b[0m\u001b[0mouts\u001b[0m\u001b[0;34m,\u001b[0m \u001b[0mlist\u001b[0m\u001b[0;34m)\u001b[0m\u001b[0;34m:\u001b[0m\u001b[0;34m\u001b[0m\u001b[0m\n\u001b[1;32m   1185\u001b[0m                         \u001b[0mouts\u001b[0m \u001b[0;34m=\u001b[0m \u001b[0;34m[\u001b[0m\u001b[0mouts\u001b[0m\u001b[0;34m]\u001b[0m\u001b[0;34m\u001b[0m\u001b[0m\n",
      "\u001b[0;32m/home/ryanj/miniconda2/lib/python2.7/site-packages/keras/backend/theano_backend.pyc\u001b[0m in \u001b[0;36m__call__\u001b[0;34m(self, inputs)\u001b[0m\n\u001b[1;32m   1220\u001b[0m     \u001b[0;32mdef\u001b[0m \u001b[0m__call__\u001b[0m\u001b[0;34m(\u001b[0m\u001b[0mself\u001b[0m\u001b[0;34m,\u001b[0m \u001b[0minputs\u001b[0m\u001b[0;34m)\u001b[0m\u001b[0;34m:\u001b[0m\u001b[0;34m\u001b[0m\u001b[0m\n\u001b[1;32m   1221\u001b[0m         \u001b[0;32massert\u001b[0m \u001b[0misinstance\u001b[0m\u001b[0;34m(\u001b[0m\u001b[0minputs\u001b[0m\u001b[0;34m,\u001b[0m \u001b[0;34m(\u001b[0m\u001b[0mlist\u001b[0m\u001b[0;34m,\u001b[0m \u001b[0mtuple\u001b[0m\u001b[0;34m)\u001b[0m\u001b[0;34m)\u001b[0m\u001b[0;34m\u001b[0m\u001b[0m\n\u001b[0;32m-> 1222\u001b[0;31m         \u001b[0;32mreturn\u001b[0m \u001b[0mself\u001b[0m\u001b[0;34m.\u001b[0m\u001b[0mfunction\u001b[0m\u001b[0;34m(\u001b[0m\u001b[0;34m*\u001b[0m\u001b[0minputs\u001b[0m\u001b[0;34m)\u001b[0m\u001b[0;34m\u001b[0m\u001b[0m\n\u001b[0m\u001b[1;32m   1223\u001b[0m \u001b[0;34m\u001b[0m\u001b[0m\n\u001b[1;32m   1224\u001b[0m \u001b[0;34m\u001b[0m\u001b[0m\n",
      "\u001b[0;32m/home/ryanj/miniconda2/lib/python2.7/site-packages/theano/compile/function_module.pyc\u001b[0m in \u001b[0;36m__call__\u001b[0;34m(self, *args, **kwargs)\u001b[0m\n\u001b[1;32m    901\u001b[0m         \u001b[0;32mtry\u001b[0m\u001b[0;34m:\u001b[0m\u001b[0;34m\u001b[0m\u001b[0m\n\u001b[1;32m    902\u001b[0m             \u001b[0moutputs\u001b[0m \u001b[0;34m=\u001b[0m\u001b[0;31m\\\u001b[0m\u001b[0;34m\u001b[0m\u001b[0m\n\u001b[0;32m--> 903\u001b[0;31m                 \u001b[0mself\u001b[0m\u001b[0;34m.\u001b[0m\u001b[0mfn\u001b[0m\u001b[0;34m(\u001b[0m\u001b[0;34m)\u001b[0m \u001b[0;32mif\u001b[0m \u001b[0moutput_subset\u001b[0m \u001b[0;32mis\u001b[0m \u001b[0mNone\u001b[0m \u001b[0;32melse\u001b[0m\u001b[0;31m\\\u001b[0m\u001b[0;34m\u001b[0m\u001b[0m\n\u001b[0m\u001b[1;32m    904\u001b[0m                 \u001b[0mself\u001b[0m\u001b[0;34m.\u001b[0m\u001b[0mfn\u001b[0m\u001b[0;34m(\u001b[0m\u001b[0moutput_subset\u001b[0m\u001b[0;34m=\u001b[0m\u001b[0moutput_subset\u001b[0m\u001b[0;34m)\u001b[0m\u001b[0;34m\u001b[0m\u001b[0m\n\u001b[1;32m    905\u001b[0m         \u001b[0;32mexcept\u001b[0m \u001b[0mException\u001b[0m\u001b[0;34m:\u001b[0m\u001b[0;34m\u001b[0m\u001b[0m\n",
      "\u001b[0;32m/home/ryanj/miniconda2/lib/python2.7/site-packages/theano/gof/op.pyc\u001b[0m in \u001b[0;36mrval\u001b[0;34m(p, i, o, n)\u001b[0m\n\u001b[1;32m    890\u001b[0m             \u001b[0;31m# default arguments are stored in the closure of `rval`\u001b[0m\u001b[0;34m\u001b[0m\u001b[0;34m\u001b[0m\u001b[0m\n\u001b[1;32m    891\u001b[0m             \u001b[0;32mdef\u001b[0m \u001b[0mrval\u001b[0m\u001b[0;34m(\u001b[0m\u001b[0mp\u001b[0m\u001b[0;34m=\u001b[0m\u001b[0mp\u001b[0m\u001b[0;34m,\u001b[0m \u001b[0mi\u001b[0m\u001b[0;34m=\u001b[0m\u001b[0mnode_input_storage\u001b[0m\u001b[0;34m,\u001b[0m \u001b[0mo\u001b[0m\u001b[0;34m=\u001b[0m\u001b[0mnode_output_storage\u001b[0m\u001b[0;34m,\u001b[0m \u001b[0mn\u001b[0m\u001b[0;34m=\u001b[0m\u001b[0mnode\u001b[0m\u001b[0;34m)\u001b[0m\u001b[0;34m:\u001b[0m\u001b[0;34m\u001b[0m\u001b[0m\n\u001b[0;32m--> 892\u001b[0;31m                 \u001b[0mr\u001b[0m \u001b[0;34m=\u001b[0m \u001b[0mp\u001b[0m\u001b[0;34m(\u001b[0m\u001b[0mn\u001b[0m\u001b[0;34m,\u001b[0m \u001b[0;34m[\u001b[0m\u001b[0mx\u001b[0m\u001b[0;34m[\u001b[0m\u001b[0;36m0\u001b[0m\u001b[0;34m]\u001b[0m \u001b[0;32mfor\u001b[0m \u001b[0mx\u001b[0m \u001b[0;32min\u001b[0m \u001b[0mi\u001b[0m\u001b[0;34m]\u001b[0m\u001b[0;34m,\u001b[0m \u001b[0mo\u001b[0m\u001b[0;34m)\u001b[0m\u001b[0;34m\u001b[0m\u001b[0m\n\u001b[0m\u001b[1;32m    893\u001b[0m                 \u001b[0;32mfor\u001b[0m \u001b[0mo\u001b[0m \u001b[0;32min\u001b[0m \u001b[0mnode\u001b[0m\u001b[0;34m.\u001b[0m\u001b[0moutputs\u001b[0m\u001b[0;34m:\u001b[0m\u001b[0;34m\u001b[0m\u001b[0m\n\u001b[1;32m    894\u001b[0m                     \u001b[0mcompute_map\u001b[0m\u001b[0;34m[\u001b[0m\u001b[0mo\u001b[0m\u001b[0;34m]\u001b[0m\u001b[0;34m[\u001b[0m\u001b[0;36m0\u001b[0m\u001b[0;34m]\u001b[0m \u001b[0;34m=\u001b[0m \u001b[0mTrue\u001b[0m\u001b[0;34m\u001b[0m\u001b[0m\n",
      "\u001b[0;32m/home/ryanj/miniconda2/lib/python2.7/site-packages/theano/tensor/blas.pyc\u001b[0m in \u001b[0;36mperform\u001b[0;34m(self, node, inp, out)\u001b[0m\n\u001b[1;32m   1550\u001b[0m         \u001b[0mz\u001b[0m\u001b[0;34m,\u001b[0m \u001b[0;34m=\u001b[0m \u001b[0mout\u001b[0m\u001b[0;34m\u001b[0m\u001b[0m\n\u001b[1;32m   1551\u001b[0m         \u001b[0;32mtry\u001b[0m\u001b[0;34m:\u001b[0m\u001b[0;34m\u001b[0m\u001b[0m\n\u001b[0;32m-> 1552\u001b[0;31m             \u001b[0mz\u001b[0m\u001b[0;34m[\u001b[0m\u001b[0;36m0\u001b[0m\u001b[0;34m]\u001b[0m \u001b[0;34m=\u001b[0m \u001b[0mnp\u001b[0m\u001b[0;34m.\u001b[0m\u001b[0masarray\u001b[0m\u001b[0;34m(\u001b[0m\u001b[0mnp\u001b[0m\u001b[0;34m.\u001b[0m\u001b[0mdot\u001b[0m\u001b[0;34m(\u001b[0m\u001b[0mx\u001b[0m\u001b[0;34m,\u001b[0m \u001b[0my\u001b[0m\u001b[0;34m)\u001b[0m\u001b[0;34m)\u001b[0m\u001b[0;34m\u001b[0m\u001b[0m\n\u001b[0m\u001b[1;32m   1553\u001b[0m         \u001b[0;32mexcept\u001b[0m \u001b[0mValueError\u001b[0m \u001b[0;32mas\u001b[0m \u001b[0me\u001b[0m\u001b[0;34m:\u001b[0m\u001b[0;34m\u001b[0m\u001b[0m\n\u001b[1;32m   1554\u001b[0m             \u001b[0;31m# The error raised by numpy has no shape information, we mean to\u001b[0m\u001b[0;34m\u001b[0m\u001b[0;34m\u001b[0m\u001b[0m\n",
      "\u001b[0;31mKeyboardInterrupt\u001b[0m: "
     ]
    }
   ],
   "source": [
    "history_raw = model.Fit(features_corrected_train, features_corrected_test,\n",
    "                epochs=1000, batch_size=500, shuffle=True)"
   ]
  },
  {
   "cell_type": "code",
   "execution_count": null,
   "metadata": {
    "collapsed": true
   },
   "outputs": [],
   "source": []
  },
  {
   "cell_type": "code",
   "execution_count": 523,
   "metadata": {
    "collapsed": true
   },
   "outputs": [],
   "source": [
    "pcs = model.Encode(features_corrected)"
   ]
  },
  {
   "cell_type": "code",
   "execution_count": 61,
   "metadata": {},
   "outputs": [
    {
     "ename": "IndexError",
     "evalue": "index 1 is out of bounds for axis 1 with size 1",
     "output_type": "error",
     "traceback": [
      "\u001b[0;31m---------------------------------------------------------------------------\u001b[0m",
      "\u001b[0;31mIndexError\u001b[0m                                Traceback (most recent call last)",
      "\u001b[0;32m<ipython-input-61-446666f1900b>\u001b[0m in \u001b[0;36m<module>\u001b[0;34m()\u001b[0m\n\u001b[1;32m      6\u001b[0m \u001b[0;31m#plt.axvspan(0.716, 0.745, alpha=0.2, color='blue')\u001b[0m\u001b[0;34m\u001b[0m\u001b[0;34m\u001b[0m\u001b[0m\n\u001b[1;32m      7\u001b[0m \u001b[0;34m\u001b[0m\u001b[0m\n\u001b[0;32m----> 8\u001b[0;31m \u001b[0mplt\u001b[0m\u001b[0;34m.\u001b[0m\u001b[0mplot\u001b[0m\u001b[0;34m(\u001b[0m\u001b[0mpcs\u001b[0m\u001b[0;34m[\u001b[0m\u001b[0;34m:\u001b[0m\u001b[0;34m,\u001b[0m\u001b[0;36m0\u001b[0m\u001b[0;34m]\u001b[0m\u001b[0;34m,\u001b[0m \u001b[0mpcs\u001b[0m\u001b[0;34m[\u001b[0m\u001b[0;34m:\u001b[0m\u001b[0;34m,\u001b[0m\u001b[0;36m1\u001b[0m\u001b[0;34m]\u001b[0m\u001b[0;34m,\u001b[0m \u001b[0mmarker\u001b[0m\u001b[0;34m=\u001b[0m\u001b[0;34m'o'\u001b[0m\u001b[0;34m,\u001b[0m \u001b[0mlinewidth\u001b[0m\u001b[0;34m=\u001b[0m\u001b[0;36m0.0\u001b[0m\u001b[0;34m,\u001b[0m \u001b[0mmarkersize\u001b[0m\u001b[0;34m=\u001b[0m\u001b[0;36m10\u001b[0m\u001b[0;34m,\u001b[0m \u001b[0mcolor\u001b[0m \u001b[0;34m=\u001b[0m \u001b[0;34m'orange'\u001b[0m\u001b[0;34m,\u001b[0m \u001b[0malpha\u001b[0m\u001b[0;34m=\u001b[0m\u001b[0;36m0.1\u001b[0m\u001b[0;34m,\u001b[0m \u001b[0mmarkerfacecolor\u001b[0m\u001b[0;34m=\u001b[0m\u001b[0;34m'None'\u001b[0m\u001b[0;34m)\u001b[0m\u001b[0;34m\u001b[0m\u001b[0m\n\u001b[0m\u001b[1;32m      9\u001b[0m \u001b[0;34m\u001b[0m\u001b[0m\n\u001b[1;32m     10\u001b[0m \u001b[0;34m\u001b[0m\u001b[0m\n",
      "\u001b[0;31mIndexError\u001b[0m: index 1 is out of bounds for axis 1 with size 1"
     ]
    }
   ],
   "source": [
    "#plot the principal components\n",
    "colors = 200*['green', 'purple', 'orange', 'teal', 'black', 'red']\n",
    "\n",
    "#highlight the transition region if found\n",
    "#plt.axvspan(0.700, 0.716, alpha=0.2, color='grey')\n",
    "#plt.axvspan(0.716, 0.745, alpha=0.2, color='blue')\n",
    "\n",
    "plt.plot(pcs[:,0], pcs[:,1], marker='o', linewidth=0.0, markersize=10, color = 'orange', alpha=0.1, markerfacecolor='None') \n",
    "\n",
    "\n",
    "#backround grid details\n",
    "axes = plt.gca()\n",
    "axes.grid(b = True, which = 'both', axis = 'both', color = 'gray', linestyle = '-', alpha = 0.5, linewidth = 0.5) \n",
    "axes.set_axis_bgcolor('white')  \n",
    "\n",
    "#font scpecifications\n",
    "title_font = {'family' : 'arial', 'color'  : 'black', 'weight' : 'heavy','size': 20}\n",
    "axis_label_font = {'family' : 'arial', 'color'  : 'black', 'weight' : 'normal','size': 20}                                                   \n",
    "\n",
    "#figure size and tick style\n",
    "plt.rcParams[\"figure.figsize\"] = [6,6]\n",
    "plt.rc('axes',edgecolor='black',linewidth=1)\n",
    "plt.tick_params(which='both', axis='both', color='black', length=4, width=0.5)\n",
    "plt.rcParams['xtick.direction'] = 'in'\n",
    "plt.rcParams['ytick.direction'] = 'in'\n",
    "\n",
    "#plt.yscale('log')\n",
    "#plt.ylim(0,0.3)\n",
    "\n",
    "plt.xlabel(r'$P_{1}$', y=3, fontsize=20, fontdict = axis_label_font)\n",
    "plt.ylabel(r'$P_{1}$', fontsize=20, fontdict = axis_label_font)\n",
    "\n",
    "#title and axis labels\n",
    "plt.tick_params(axis='both', labelsize=20)\n",
    "plt.title('Autoencoder', y=1.05, fontdict = title_font)\n",
    "\n",
    "plt.show()"
   ]
  },
  {
   "cell_type": "code",
   "execution_count": 524,
   "metadata": {
    "collapsed": true
   },
   "outputs": [],
   "source": [
    "from numpy import zeros"
   ]
  },
  {
   "cell_type": "code",
   "execution_count": 525,
   "metadata": {
    "collapsed": true
   },
   "outputs": [],
   "source": [
    "def CreateDistanceMatrix(features):\n",
    "    num_features = len(features)\n",
    "    N_try = 0\n",
    "    num_features_try = N_try*(N_try-1)/2\n",
    "    while num_features_try < num_features:\n",
    "        N_try += 1\n",
    "        num_features_try = N_try*(N_try-1)/2\n",
    "    \n",
    "    if num_features_try != num_features:\n",
    "        return 'Bad data'\n",
    "    \n",
    "    #build the euclidean distance matrix\n",
    "    N = N_try\n",
    "    EDM = zeros((N,N))\n",
    "    feature_index = 0\n",
    "    for i in range(0, N):\n",
    "        for j in range(i+1, N):\n",
    "            EDM[i][j] = features[feature_index]\n",
    "            EDM[j][i] = features[feature_index]\n",
    "            feature_index += 1\n",
    "    \n",
    "    return EDM"
   ]
  },
  {
   "cell_type": "code",
   "execution_count": 526,
   "metadata": {
    "collapsed": true
   },
   "outputs": [],
   "source": [
    "from sklearn.manifold import MDS"
   ]
  },
  {
   "cell_type": "code",
   "execution_count": 527,
   "metadata": {
    "collapsed": true
   },
   "outputs": [],
   "source": [
    "mds_model = MDS(dissimilarity='precomputed')"
   ]
  },
  {
   "cell_type": "code",
   "execution_count": 54,
   "metadata": {},
   "outputs": [
    {
     "ename": "NameError",
     "evalue": "name 'pcs' is not defined",
     "output_type": "error",
     "traceback": [
      "\u001b[0;31m---------------------------------------------------------------------------\u001b[0m",
      "\u001b[0;31mNameError\u001b[0m                                 Traceback (most recent call last)",
      "\u001b[0;32m<ipython-input-54-daca8b6cb817>\u001b[0m in \u001b[0;36m<module>\u001b[0;34m()\u001b[0m\n\u001b[1;32m      3\u001b[0m \u001b[0;34m\u001b[0m\u001b[0m\n\u001b[1;32m      4\u001b[0m \u001b[0;31m#plt.plot(ED_reconstructed[:,0], ED_reconstructed[:,1], marker='o', linewidth=0.0, markersize=20, color = 'blue', alpha=1.0, markerfacecolor='blue')\u001b[0m\u001b[0;34m\u001b[0m\u001b[0;34m\u001b[0m\u001b[0m\n\u001b[0;32m----> 5\u001b[0;31m \u001b[0mplt\u001b[0m\u001b[0;34m.\u001b[0m\u001b[0mhist\u001b[0m\u001b[0;34m(\u001b[0m\u001b[0mpcs\u001b[0m\u001b[0;34m[\u001b[0m\u001b[0;34m:\u001b[0m\u001b[0;34m,\u001b[0m\u001b[0;36m0\u001b[0m\u001b[0;34m]\u001b[0m\u001b[0;34m,\u001b[0m \u001b[0mbins\u001b[0m\u001b[0;34m=\u001b[0m\u001b[0;36m500\u001b[0m\u001b[0;34m,\u001b[0m \u001b[0mcolor\u001b[0m \u001b[0;34m=\u001b[0m \u001b[0;34m'blue'\u001b[0m\u001b[0;34m)\u001b[0m\u001b[0;34m\u001b[0m\u001b[0m\n\u001b[0m\u001b[1;32m      6\u001b[0m \u001b[0;34m\u001b[0m\u001b[0m\n\u001b[1;32m      7\u001b[0m \u001b[0;31m#backround grid details\u001b[0m\u001b[0;34m\u001b[0m\u001b[0;34m\u001b[0m\u001b[0m\n",
      "\u001b[0;31mNameError\u001b[0m: name 'pcs' is not defined"
     ]
    }
   ],
   "source": [
    "#plot the principal components\n",
    "colors = 200*['green', 'purple', 'orange', 'teal', 'black', 'red']\n",
    "\n",
    "#plt.plot(ED_reconstructed[:,0], ED_reconstructed[:,1], marker='o', linewidth=0.0, markersize=20, color = 'blue', alpha=1.0, markerfacecolor='blue') \n",
    "plt.hist(pcs[:,0], bins=500, color = 'blue')\n",
    "\n",
    "#backround grid details\n",
    "axes = plt.gca()\n",
    "axes.grid(b = True, which = 'both', axis = 'both', color = 'gray', linestyle = '-', alpha = 0.5, linewidth = 0.5) \n",
    "axes.set_axis_bgcolor('white')  \n",
    "\n",
    "#font scpecifications\n",
    "title_font = {'family' : 'arial', 'color'  : 'black', 'weight' : 'heavy','size': 20}\n",
    "axis_label_font = {'family' : 'arial', 'color'  : 'black', 'weight' : 'normal','size': 20}                                                   \n",
    "\n",
    "#figure size and tick style\n",
    "plt.rcParams[\"figure.figsize\"] = [6,6]\n",
    "plt.rc('axes',edgecolor='black',linewidth=1)\n",
    "plt.tick_params(which='both', axis='both', color='black', length=4, width=0.5)\n",
    "plt.rcParams['xtick.direction'] = 'in'\n",
    "plt.rcParams['ytick.direction'] = 'in'\n",
    "\n",
    "#plt.yscale('log')\n",
    "#plt.ylim(0,0.3)\n",
    "\n",
    "plt.xlabel(r'$P_{1}$', y=3, fontsize=20, fontdict = axis_label_font)\n",
    "plt.ylabel(r'$P_{1}$', fontsize=20, fontdict = axis_label_font)\n",
    "\n",
    "#title and axis labels\n",
    "plt.tick_params(axis='both', labelsize=20)\n",
    "plt.title('Autoencoder', y=1.05, fontdict = title_font)\n",
    "\n",
    "plt.show()"
   ]
  },
  {
   "cell_type": "code",
   "execution_count": 534,
   "metadata": {
    "collapsed": true
   },
   "outputs": [],
   "source": [
    "features_reconstructed = model.Decode(array([[0.2]]))[0]\n",
    "features_reconstructed = incpca_ig.inverse_transform(features_reconstructed)\n",
    "EDM = CreateDistanceMatrix(features_reconstructed)\n",
    "ED_reconstructed = mds_model.fit_transform(EDM)"
   ]
  },
  {
   "cell_type": "code",
   "execution_count": 535,
   "metadata": {},
   "outputs": [
    {
     "name": "stderr",
     "output_type": "stream",
     "text": [
      "/home/ryanj/miniconda2/lib/python2.7/site-packages/ipykernel_launcher.py:10: MatplotlibDeprecationWarning: The set_axis_bgcolor function was deprecated in version 2.0. Use set_facecolor instead.\n",
      "  # Remove the CWD from sys.path while we load stuff.\n"
     ]
    },
    {
     "data": {
      "image/png": "[encoded data removed]",
      "text/plain": [
       "<matplotlib.figure.Figure at 0x7fd77b0faa50>"
      ]
     },
     "metadata": {},
     "output_type": "display_data"
    }
   ],
   "source": [
    "#plot the principal components\n",
    "colors = 200*['green', 'purple', 'orange', 'teal', 'black', 'red']\n",
    "\n",
    "plt.plot(ED_reconstructed[:,0], ED_reconstructed[:,1], marker='o', linewidth=0.0, markersize=20, color = 'blue', alpha=1.0, markerfacecolor='blue') \n",
    "\n",
    "\n",
    "#backround grid details\n",
    "axes = plt.gca()\n",
    "axes.grid(b = True, which = 'both', axis = 'both', color = 'gray', linestyle = '-', alpha = 0.5, linewidth = 0.5) \n",
    "axes.set_axis_bgcolor('white')  \n",
    "\n",
    "#font scpecifications\n",
    "title_font = {'family' : 'arial', 'color'  : 'black', 'weight' : 'heavy','size': 20}\n",
    "axis_label_font = {'family' : 'arial', 'color'  : 'black', 'weight' : 'normal','size': 20}                                                   \n",
    "\n",
    "#figure size and tick style\n",
    "plt.rcParams[\"figure.figsize\"] = [6,6]\n",
    "plt.rc('axes',edgecolor='black',linewidth=1)\n",
    "plt.tick_params(which='both', axis='both', color='black', length=4, width=0.5)\n",
    "plt.rcParams['xtick.direction'] = 'in'\n",
    "plt.rcParams['ytick.direction'] = 'in'\n",
    "\n",
    "#plt.yscale('log')\n",
    "#plt.ylim(0,0.3)\n",
    "\n",
    "plt.xlabel(r'$P_{1}$', y=3, fontsize=20, fontdict = axis_label_font)\n",
    "plt.ylabel(r'$P_{1}$', fontsize=20, fontdict = axis_label_font)\n",
    "\n",
    "#title and axis labels\n",
    "plt.tick_params(axis='both', labelsize=20)\n",
    "plt.title('Autoencoder', y=1.05, fontdict = title_font)\n",
    "\n",
    "plt.show()"
   ]
  },
  {
   "cell_type": "code",
   "execution_count": 488,
   "metadata": {},
   "outputs": [
    {
     "name": "stderr",
     "output_type": "stream",
     "text": [
      "/home/ryanj/miniconda2/lib/python2.7/site-packages/ipykernel_launcher.py:10: MatplotlibDeprecationWarning: The set_axis_bgcolor function was deprecated in version 2.0. Use set_facecolor instead.\n",
      "  # Remove the CWD from sys.path while we load stuff.\n"
     ]
    },
    {
     "data": {
      "image/png": "[encoded data removed]",
      "text/plain": [
       "<matplotlib.figure.Figure at 0x7fd7885c0490>"
      ]
     },
     "metadata": {},
     "output_type": "display_data"
    }
   ],
   "source": [
    "#plot the principal components\n",
    "colors = 200*['green', 'purple', 'orange', 'teal', 'black', 'red']\n",
    "\n",
    "plt.plot(ED_reconstructed[:,0], ED_reconstructed[:,1], marker='o', linewidth=0.0, markersize=20, color = 'blue', alpha=1.0, markerfacecolor='blue') \n",
    "\n",
    "\n",
    "#backround grid details\n",
    "axes = plt.gca()\n",
    "axes.grid(b = True, which = 'both', axis = 'both', color = 'gray', linestyle = '-', alpha = 0.5, linewidth = 0.5) \n",
    "axes.set_axis_bgcolor('white')  \n",
    "\n",
    "#font scpecifications\n",
    "title_font = {'family' : 'arial', 'color'  : 'black', 'weight' : 'heavy','size': 20}\n",
    "axis_label_font = {'family' : 'arial', 'color'  : 'black', 'weight' : 'normal','size': 20}                                                   \n",
    "\n",
    "#figure size and tick style\n",
    "plt.rcParams[\"figure.figsize\"] = [6,6]\n",
    "plt.rc('axes',edgecolor='black',linewidth=1)\n",
    "plt.tick_params(which='both', axis='both', color='black', length=4, width=0.5)\n",
    "plt.rcParams['xtick.direction'] = 'in'\n",
    "plt.rcParams['ytick.direction'] = 'in'\n",
    "\n",
    "#plt.yscale('log')\n",
    "#plt.ylim(0,0.3)\n",
    "\n",
    "plt.xlabel(r'$P_{1}$', y=3, fontsize=20, fontdict = axis_label_font)\n",
    "plt.ylabel(r'$P_{1}$', fontsize=20, fontdict = axis_label_font)\n",
    "\n",
    "#title and axis labels\n",
    "plt.tick_params(axis='both', labelsize=20)\n",
    "plt.title('Autoencoder', y=1.05, fontdict = title_font)\n",
    "\n",
    "plt.show()"
   ]
  },
  {
   "cell_type": "code",
   "execution_count": 484,
   "metadata": {},
   "outputs": [
    {
     "name": "stderr",
     "output_type": "stream",
     "text": [
      "/home/ryanj/miniconda2/lib/python2.7/site-packages/ipykernel_launcher.py:10: MatplotlibDeprecationWarning: The set_axis_bgcolor function was deprecated in version 2.0. Use set_facecolor instead.\n",
      "  # Remove the CWD from sys.path while we load stuff.\n"
     ]
    },
    {
     "data": {
      "image/png": "[encoded data removed]",
      "text/plain": [
       "<matplotlib.figure.Figure at 0x7fd77e1cfa90>"
      ]
     },
     "metadata": {},
     "output_type": "display_data"
    }
   ],
   "source": [
    "#plot the principal components\n",
    "colors = 200*['green', 'purple', 'orange', 'teal', 'black', 'red']\n",
    "\n",
    "plt.plot(ED_reconstructed[:,0], ED_reconstructed[:,1], marker='o', linewidth=0.0, markersize=20, color = 'blue', alpha=1.0, markerfacecolor='blue') \n",
    "\n",
    "\n",
    "#backround grid details\n",
    "axes = plt.gca()\n",
    "axes.grid(b = True, which = 'both', axis = 'both', color = 'gray', linestyle = '-', alpha = 0.5, linewidth = 0.5) \n",
    "axes.set_axis_bgcolor('white')  \n",
    "\n",
    "#font scpecifications\n",
    "title_font = {'family' : 'arial', 'color'  : 'black', 'weight' : 'heavy','size': 20}\n",
    "axis_label_font = {'family' : 'arial', 'color'  : 'black', 'weight' : 'normal','size': 20}                                                   \n",
    "\n",
    "#figure size and tick style\n",
    "plt.rcParams[\"figure.figsize\"] = [6,6]\n",
    "plt.rc('axes',edgecolor='black',linewidth=1)\n",
    "plt.tick_params(which='both', axis='both', color='black', length=4, width=0.5)\n",
    "plt.rcParams['xtick.direction'] = 'in'\n",
    "plt.rcParams['ytick.direction'] = 'in'\n",
    "\n",
    "#plt.yscale('log')\n",
    "#plt.ylim(0,0.3)\n",
    "\n",
    "plt.xlabel(r'$P_{1}$', y=3, fontsize=20, fontdict = axis_label_font)\n",
    "plt.ylabel(r'$P_{1}$', fontsize=20, fontdict = axis_label_font)\n",
    "\n",
    "#title and axis labels\n",
    "plt.tick_params(axis='both', labelsize=20)\n",
    "plt.title('Autoencoder', y=1.05, fontdict = title_font)\n",
    "\n",
    "plt.show()"
   ]
  },
  {
   "cell_type": "code",
   "execution_count": null,
   "metadata": {
    "collapsed": true
   },
   "outputs": [],
   "source": []
  },
  {
   "cell_type": "code",
   "execution_count": null,
   "metadata": {
    "collapsed": true
   },
   "outputs": [],
   "source": []
  },
  {
   "cell_type": "markdown",
   "metadata": {},
   "source": [
    "### Build a radial basis function network"
   ]
  },
  {
   "cell_type": "code",
   "execution_count": 131,
   "metadata": {
    "collapsed": true
   },
   "outputs": [],
   "source": [
    "from keras import backend as K\n",
    "from keras.utils.generic_utils import get_custom_objects"
   ]
  },
  {
   "cell_type": "code",
   "execution_count": 140,
   "metadata": {
    "collapsed": true
   },
   "outputs": [],
   "source": [
    "from keras import backend as K\n",
    "from keras.engine.topology import Layer\n",
    "from keras.initializers import Constant\n",
    "import numpy as np"
   ]
  },
  {
   "cell_type": "code",
   "execution_count": 496,
   "metadata": {
    "collapsed": true
   },
   "outputs": [],
   "source": [
    "class RadiallyPositionedBasis(Layer):\n",
    "    \n",
    "    def __init__(self, output_dim, rcs, init_sigma=0.1, **kwargs):\n",
    "        #self consistency check to ensure that the number of rcs equals \n",
    "        #the expected number of output dimensions\n",
    "        self.rcs_dim = len(rcs)\n",
    "        assert output_dim == self.rcs_dim\n",
    "        \n",
    "        self.output_dim = output_dim\n",
    "        self.rcs = K.variable(value=rcs)\n",
    "        self.init_sigma = init_sigma\n",
    "        super(RadiallyPositionedBasis, self).__init__(**kwargs)\n",
    "\n",
    "    def build(self, input_shape):\n",
    "        #check that we are only using only scalar quantities \n",
    "        assert input_shape[1] == 1\n",
    "        \n",
    "        #create the optimizable standard deviations for the gaussian basis functions\n",
    "        self.sigmas = self.add_weight(name='sigmas',\n",
    "                                     shape=(self.output_dim,),\n",
    "                                     initializer=Constant(value=self.init_sigma),\n",
    "                                     trainable=True)\n",
    "        super(RadiallyPositionedBasis, self).build(input_shape)  \n",
    "\n",
    "    def call(self, x):\n",
    "        X = K.repeat_elements(x, self.rcs_dim, axis=1)\n",
    "        return K.exp(-(self.rcs-X)**2.0)/self.sigmas\n",
    "\n",
    "    def compute_output_shape(self, input_shape):\n",
    "        return (input_shape[0], self.output_dim)\n",
    "\n",
    "    def get_config(self):\n",
    "        # have to define get_config to be able to use model_from_json\n",
    "        config = {\n",
    "            'output_dim': self.output_dim\n",
    "        }\n",
    "        base_config = super(RadiallyPositionedBasis, self).get_config()\n",
    "        return dict(list(base_config.items()) + list(config.items()))"
   ]
  },
  {
   "cell_type": "code",
   "execution_count": 572,
   "metadata": {
    "collapsed": true
   },
   "outputs": [],
   "source": [
    "from keras.layers import Input, Dense\n",
    "from keras.models import Model"
   ]
  },
  {
   "cell_type": "code",
   "execution_count": 607,
   "metadata": {},
   "outputs": [
    {
     "name": "stdout",
     "output_type": "stream",
     "text": [
      "[ 0.  1.  2.  3.  4.  5.]\n"
     ]
    }
   ],
   "source": [
    "rcs = arange(0.0, 5.0001, 1.0)\n",
    "print rcs\n",
    "\n",
    "r = Input(shape=(1,))\n",
    "signal = RadiallyPositionedBasis(len(rcs), rcs, init_sigma=0.01)(r)\n",
    "signal = Dense(len(rcs), activation='elu')(signal)\n",
    "Fr = Dense(1, activation='linear')(signal)\n",
    "\n",
    "# this model maps an input to its reconstruction\n",
    "model = Model(r, Fr)"
   ]
  },
  {
   "cell_type": "code",
   "execution_count": 608,
   "metadata": {
    "collapsed": true
   },
   "outputs": [],
   "source": [
    "from numpy import cos, transpose"
   ]
  },
  {
   "cell_type": "code",
   "execution_count": 609,
   "metadata": {
    "collapsed": true
   },
   "outputs": [],
   "source": [
    "r_train = transpose([arange(0.0,5.0,0.0001)])\n",
    "Fr_train = cos(r_train)"
   ]
  },
  {
   "cell_type": "code",
   "execution_count": 610,
   "metadata": {
    "collapsed": true
   },
   "outputs": [],
   "source": [
    "model.compile(optimizer='adamax', loss='mean_squared_error')"
   ]
  },
  {
   "cell_type": "code",
   "execution_count": 611,
   "metadata": {
    "scrolled": true
   },
   "outputs": [
    {
     "name": "stdout",
     "output_type": "stream",
     "text": [
      "Epoch 1/50\n",
      "50000/50000 [==============================] - 0s - loss: 6.5522     \n",
      "Epoch 2/50\n",
      "50000/50000 [==============================] - 0s - loss: 0.1371     \n",
      "Epoch 3/50\n",
      "50000/50000 [==============================] - 0s - loss: 0.0227     \n",
      "Epoch 4/50\n",
      "50000/50000 [==============================] - 0s - loss: 0.0027     \n",
      "Epoch 5/50\n",
      "50000/50000 [==============================] - 0s - loss: 8.8110e-04     \n",
      "Epoch 6/50\n",
      "50000/50000 [==============================] - 0s - loss: 3.0172e-04     \n",
      "Epoch 7/50\n",
      "50000/50000 [==============================] - 0s - loss: 1.5949e-04     \n",
      "Epoch 8/50\n",
      "50000/50000 [==============================] - 0s - loss: 9.3706e-05     \n",
      "Epoch 9/50\n",
      "50000/50000 [==============================] - 0s - loss: 6.1320e-05     \n",
      "Epoch 10/50\n",
      "50000/50000 [==============================] - 0s - loss: 5.2069e-05     \n",
      "Epoch 11/50\n",
      "50000/50000 [==============================] - 0s - loss: 4.3518e-05     \n",
      "Epoch 12/50\n",
      "50000/50000 [==============================] - 0s - loss: 3.7967e-05     \n",
      "Epoch 13/50\n",
      "50000/50000 [==============================] - 0s - loss: 3.3055e-05     \n",
      "Epoch 14/50\n",
      "50000/50000 [==============================] - 0s - loss: 3.2812e-05     \n",
      "Epoch 15/50\n",
      "50000/50000 [==============================] - 0s - loss: 2.9057e-05     \n",
      "Epoch 16/50\n",
      "50000/50000 [==============================] - 0s - loss: 2.8527e-05     \n",
      "Epoch 17/50\n",
      "50000/50000 [==============================] - 0s - loss: 2.7608e-05     \n",
      "Epoch 18/50\n",
      "50000/50000 [==============================] - 0s - loss: 2.3947e-05     \n",
      "Epoch 19/50\n",
      "50000/50000 [==============================] - 0s - loss: 2.3591e-05     \n",
      "Epoch 20/50\n",
      "50000/50000 [==============================] - 0s - loss: 2.2296e-05     \n",
      "Epoch 21/50\n",
      "50000/50000 [==============================] - 0s - loss: 2.1061e-05     \n",
      "Epoch 22/50\n",
      "50000/50000 [==============================] - 0s - loss: 1.8042e-05     \n",
      "Epoch 23/50\n",
      "50000/50000 [==============================] - 0s - loss: 1.7012e-05     \n",
      "Epoch 24/50\n",
      "50000/50000 [==============================] - 0s - loss: 1.5191e-05     \n",
      "Epoch 25/50\n",
      "50000/50000 [==============================] - 0s - loss: 1.4561e-05     \n",
      "Epoch 26/50\n",
      "50000/50000 [==============================] - 0s - loss: 1.3683e-05     \n",
      "Epoch 27/50\n",
      "50000/50000 [==============================] - 0s - loss: 1.1208e-05     \n",
      "Epoch 28/50\n",
      "50000/50000 [==============================] - 0s - loss: 1.1298e-05     \n",
      "Epoch 29/50\n",
      "50000/50000 [==============================] - 0s - loss: 9.6050e-06     \n",
      "Epoch 30/50\n",
      "50000/50000 [==============================] - 0s - loss: 8.6001e-06     \n",
      "Epoch 31/50\n",
      "50000/50000 [==============================] - 0s - loss: 8.3349e-06     \n",
      "Epoch 32/50\n",
      "50000/50000 [==============================] - 0s - loss: 7.6400e-06     \n",
      "Epoch 33/50\n",
      "50000/50000 [==============================] - 0s - loss: 7.5503e-06     \n",
      "Epoch 34/50\n",
      "50000/50000 [==============================] - 0s - loss: 6.0269e-06     \n",
      "Epoch 35/50\n",
      "50000/50000 [==============================] - 0s - loss: 6.1042e-06     \n",
      "Epoch 36/50\n",
      "50000/50000 [==============================] - 0s - loss: 5.4820e-06     \n",
      "Epoch 37/50\n",
      "50000/50000 [==============================] - 0s - loss: 5.7926e-06     \n",
      "Epoch 38/50\n",
      "50000/50000 [==============================] - 0s - loss: 5.0318e-06     \n",
      "Epoch 39/50\n",
      "50000/50000 [==============================] - 0s - loss: 4.7290e-06     \n",
      "Epoch 40/50\n",
      "50000/50000 [==============================] - 0s - loss: 4.6066e-06     \n",
      "Epoch 41/50\n",
      "50000/50000 [==============================] - 0s - loss: 4.4309e-06     \n",
      "Epoch 42/50\n",
      "50000/50000 [==============================] - 0s - loss: 4.3341e-06     \n",
      "Epoch 43/50\n",
      "50000/50000 [==============================] - 0s - loss: 3.9486e-06     \n",
      "Epoch 44/50\n",
      "50000/50000 [==============================] - 0s - loss: 3.9274e-06     \n",
      "Epoch 45/50\n",
      "50000/50000 [==============================] - 0s - loss: 3.8304e-06     \n",
      "Epoch 46/50\n",
      "50000/50000 [==============================] - 0s - loss: 3.4421e-06     \n",
      "Epoch 47/50\n",
      "50000/50000 [==============================] - 0s - loss: 3.7401e-06     \n",
      "Epoch 48/50\n",
      "50000/50000 [==============================] - 0s - loss: 3.3597e-06     \n",
      "Epoch 49/50\n",
      "50000/50000 [==============================] - 0s - loss: 3.2809e-06     \n",
      "Epoch 50/50\n",
      "50000/50000 [==============================] - 0s - loss: 3.6564e-06     \n"
     ]
    },
    {
     "data": {
      "text/plain": [
       "<keras.callbacks.History at 0x7f2955299510>"
      ]
     },
     "execution_count": 611,
     "metadata": {},
     "output_type": "execute_result"
    }
   ],
   "source": [
    "model.fit(r_train, Fr_train,\n",
    "                epochs=50,\n",
    "                batch_size=20,\n",
    "                shuffle=True)"
   ]
  },
  {
   "cell_type": "code",
   "execution_count": 606,
   "metadata": {
    "scrolled": true
   },
   "outputs": [
    {
     "name": "stdout",
     "output_type": "stream",
     "text": [
      "Epoch 1/50\n",
      "50000/50000 [==============================] - 0s - loss: 66.8001     \n",
      "Epoch 2/50\n",
      "50000/50000 [==============================] - 0s - loss: 2.3889     \n",
      "Epoch 3/50\n",
      "50000/50000 [==============================] - 0s - loss: 0.0704     - ETA: 0s - los\n",
      "Epoch 4/50\n",
      "50000/50000 [==============================] - 0s - loss: 1.2115e-04     \n",
      "Epoch 5/50\n",
      "50000/50000 [==============================] - 0s - loss: 1.1211e-04     \n",
      "Epoch 6/50\n",
      "50000/50000 [==============================] - 0s - loss: 9.3888e-05     \n",
      "Epoch 7/50\n",
      "50000/50000 [==============================] - 0s - loss: 7.1616e-05     \n",
      "Epoch 8/50\n",
      "50000/50000 [==============================] - 0s - loss: 5.7545e-05     \n",
      "Epoch 9/50\n",
      "50000/50000 [==============================] - 0s - loss: 4.7433e-05     \n",
      "Epoch 10/50\n",
      "50000/50000 [==============================] - 0s - loss: 4.0514e-05     \n",
      "Epoch 11/50\n",
      "50000/50000 [==============================] - 0s - loss: 3.6632e-05     \n",
      "Epoch 12/50\n",
      "50000/50000 [==============================] - 0s - loss: 3.4022e-05     \n",
      "Epoch 13/50\n",
      "50000/50000 [==============================] - 0s - loss: 3.2171e-05     \n",
      "Epoch 14/50\n",
      "50000/50000 [==============================] - 0s - loss: 3.0611e-05     \n",
      "Epoch 15/50\n",
      "50000/50000 [==============================] - 0s - loss: 3.0300e-05     \n",
      "Epoch 16/50\n",
      "50000/50000 [==============================] - 0s - loss: 2.9609e-05     \n",
      "Epoch 17/50\n",
      "50000/50000 [==============================] - 0s - loss: 2.9058e-05     \n",
      "Epoch 18/50\n",
      "50000/50000 [==============================] - 0s - loss: 2.9468e-05     \n",
      "Epoch 19/50\n",
      "50000/50000 [==============================] - 0s - loss: 2.8411e-05     \n",
      "Epoch 20/50\n",
      "50000/50000 [==============================] - 0s - loss: 2.9470e-05     \n",
      "Epoch 21/50\n",
      "50000/50000 [==============================] - 0s - loss: 2.8524e-05     \n",
      "Epoch 22/50\n",
      "50000/50000 [==============================] - 0s - loss: 2.8992e-05     \n",
      "Epoch 23/50\n",
      "50000/50000 [==============================] - 0s - loss: 2.9316e-05     \n",
      "Epoch 24/50\n",
      "50000/50000 [==============================] - 0s - loss: 2.9020e-05     \n",
      "Epoch 25/50\n",
      "50000/50000 [==============================] - 0s - loss: 2.8372e-05     \n",
      "Epoch 26/50\n",
      "50000/50000 [==============================] - 0s - loss: 2.8174e-05     \n",
      "Epoch 27/50\n",
      "50000/50000 [==============================] - 0s - loss: 2.7975e-05     \n",
      "Epoch 28/50\n",
      "50000/50000 [==============================] - 0s - loss: 2.8151e-05     \n",
      "Epoch 29/50\n",
      "50000/50000 [==============================] - 0s - loss: 2.7858e-05     \n",
      "Epoch 30/50\n",
      "50000/50000 [==============================] - 0s - loss: 2.8061e-05     \n",
      "Epoch 31/50\n",
      "50000/50000 [==============================] - 0s - loss: 2.7813e-05     \n",
      "Epoch 32/50\n",
      "50000/50000 [==============================] - 0s - loss: 2.7647e-05     \n",
      "Epoch 33/50\n",
      "50000/50000 [==============================] - 0s - loss: 2.7458e-05     \n",
      "Epoch 34/50\n",
      "50000/50000 [==============================] - 0s - loss: 2.7261e-05     \n",
      "Epoch 35/50\n",
      "50000/50000 [==============================] - 0s - loss: 2.7569e-05     \n",
      "Epoch 36/50\n",
      "50000/50000 [==============================] - 0s - loss: 2.7486e-05     \n",
      "Epoch 37/50\n",
      "50000/50000 [==============================] - 0s - loss: 2.7266e-05     \n",
      "Epoch 38/50\n",
      "50000/50000 [==============================] - 0s - loss: 2.7450e-05     \n",
      "Epoch 39/50\n",
      "50000/50000 [==============================] - 0s - loss: 2.7524e-05     \n",
      "Epoch 40/50\n",
      "50000/50000 [==============================] - 0s - loss: 2.7175e-05     \n",
      "Epoch 41/50\n",
      "50000/50000 [==============================] - 0s - loss: 2.7040e-05     \n",
      "Epoch 42/50\n",
      "50000/50000 [==============================] - 0s - loss: 2.7405e-05     \n",
      "Epoch 43/50\n",
      "50000/50000 [==============================] - 0s - loss: 2.6970e-05     \n",
      "Epoch 44/50\n",
      "50000/50000 [==============================] - 0s - loss: 2.6625e-05     \n",
      "Epoch 45/50\n",
      "50000/50000 [==============================] - 0s - loss: 2.7018e-05     \n",
      "Epoch 46/50\n",
      "50000/50000 [==============================] - 0s - loss: 2.6541e-05     \n",
      "Epoch 47/50\n",
      "50000/50000 [==============================] - 0s - loss: 2.6884e-05     \n",
      "Epoch 48/50\n",
      "50000/50000 [==============================] - 0s - loss: 2.6865e-05     \n",
      "Epoch 49/50\n",
      "50000/50000 [==============================] - 0s - loss: 2.6644e-05     \n",
      "Epoch 50/50\n",
      "50000/50000 [==============================] - 0s - loss: 2.6891e-05     \n"
     ]
    },
    {
     "data": {
      "text/plain": [
       "<keras.callbacks.History at 0x7f296b7a9550>"
      ]
     },
     "execution_count": 606,
     "metadata": {},
     "output_type": "execute_result"
    }
   ],
   "source": [
    "model.fit(r_train, Fr_train,\n",
    "                epochs=50,\n",
    "                batch_size=20,\n",
    "                shuffle=True)"
   ]
  },
  {
   "cell_type": "code",
   "execution_count": 612,
   "metadata": {
    "collapsed": true
   },
   "outputs": [],
   "source": [
    "Fr_predict = model.predict(r_train)"
   ]
  },
  {
   "cell_type": "code",
   "execution_count": 613,
   "metadata": {},
   "outputs": [
    {
     "data": {
      "text/plain": [
       "[<matplotlib.lines.Line2D at 0x7f2954c16090>]"
      ]
     },
     "execution_count": 613,
     "metadata": {},
     "output_type": "execute_result"
    },
    {
     "data": {
      "image/png": "[encoded data removed]",
      "text/plain": [
       "<matplotlib.figure.Figure at 0x7f2954c16110>"
      ]
     },
     "metadata": {},
     "output_type": "display_data"
    }
   ],
   "source": [
    "plt.plot(r_train, Fr_train)\n",
    "plt.plot(r_train, Fr_predict)"
   ]
  },
  {
   "cell_type": "code",
   "execution_count": null,
   "metadata": {
    "collapsed": true
   },
   "outputs": [],
   "source": []
  },
  {
   "cell_type": "code",
   "execution_count": null,
   "metadata": {
    "collapsed": true
   },
   "outputs": [],
   "source": []
  },
  {
   "cell_type": "code",
   "execution_count": null,
   "metadata": {
    "collapsed": true
   },
   "outputs": [],
   "source": []
  },
  {
   "cell_type": "code",
   "execution_count": 620,
   "metadata": {
    "collapsed": true
   },
   "outputs": [],
   "source": [
    "from numpy.linalg import eigvalsh, eig"
   ]
  },
  {
   "cell_type": "code",
   "execution_count": 624,
   "metadata": {},
   "outputs": [
    {
     "data": {
      "text/plain": [
       "(array([ 7.07467358, -0.88679099, -3.1878826 ]),\n",
       " array([[ 0.50578521,  0.82403773, -0.25523155],\n",
       "        [ 0.58437383, -0.54492509, -0.60130182],\n",
       "        [ 0.63457746, -0.15497893,  0.75716113]]))"
      ]
     },
     "execution_count": 624,
     "metadata": {},
     "output_type": "execute_result"
    }
   ],
   "source": [
    "W = [[1,2,3],\n",
    "     [2,1,4],\n",
    "     [3,4,1]]\n",
    "eig(W)"
   ]
  },
  {
   "cell_type": "code",
   "execution_count": 626,
   "metadata": {},
   "outputs": [
    {
     "data": {
      "text/plain": [
       "(array([ 7.07467358, -3.1878826 , -0.88679099]),\n",
       " array([[ 0.63457746,  0.75716113, -0.15497893],\n",
       "        [ 0.58437383, -0.60130182, -0.54492509],\n",
       "        [ 0.50578521, -0.25523155,  0.82403773]]))"
      ]
     },
     "execution_count": 626,
     "metadata": {},
     "output_type": "execute_result"
    }
   ],
   "source": [
    "W = [[1,4,3],\n",
    "     [4,1,2],\n",
    "     [3,2,1]]\n",
    "eig(W)"
   ]
  },
  {
   "cell_type": "code",
   "execution_count": 622,
   "metadata": {},
   "outputs": [
    {
     "data": {
      "text/plain": [
       "(array([ 7.07467358, -3.1878826 , -0.88679099]),\n",
       " array([[-0.58437383, -0.60130182,  0.54492509],\n",
       "        [-0.50578521, -0.25523155, -0.82403773],\n",
       "        [-0.63457746,  0.75716113,  0.15497893]]))"
      ]
     },
     "execution_count": 622,
     "metadata": {},
     "output_type": "execute_result"
    }
   ],
   "source": [
    "W = [[1,2,4],\n",
    "     [2,1,3],\n",
    "     [4,3,1]]\n",
    "eig(W)"
   ]
  },
  {
   "cell_type": "code",
   "execution_count": 625,
   "metadata": {},
   "outputs": [
    {
     "data": {
      "text/plain": [
       "(array([ 7.07467358, -0.88679099, -3.1878826 ]),\n",
       " array([[ 0.50578521,  0.82403773, -0.25523155],\n",
       "        [ 0.58437383, -0.54492509, -0.60130182],\n",
       "        [ 0.63457746, -0.15497893,  0.75716113]]))"
      ]
     },
     "execution_count": 625,
     "metadata": {},
     "output_type": "execute_result"
    }
   ],
   "source": [
    "W = [[1,2,3],\n",
    "     [2,1,4],\n",
    "     [3,4,1]]\n",
    "eig(W)"
   ]
  },
  {
   "cell_type": "code",
   "execution_count": null,
   "metadata": {
    "collapsed": true
   },
   "outputs": [],
   "source": [
    "50*50"
   ]
  },
  {
   "cell_type": "code",
   "execution_count": null,
   "metadata": {
    "collapsed": true
   },
   "outputs": [],
   "source": []
  },
  {
   "cell_type": "code",
   "execution_count": null,
   "metadata": {
    "collapsed": true
   },
   "outputs": [],
   "source": []
  },
  {
   "cell_type": "code",
   "execution_count": null,
   "metadata": {
    "collapsed": true
   },
   "outputs": [],
   "source": []
  },
  {
   "cell_type": "code",
   "execution_count": null,
   "metadata": {
    "collapsed": true
   },
   "outputs": [],
   "source": []
  },
  {
   "cell_type": "code",
   "execution_count": null,
   "metadata": {
    "collapsed": true
   },
   "outputs": [],
   "source": []
  },
  {
   "cell_type": "code",
   "execution_count": 310,
   "metadata": {
    "collapsed": true
   },
   "outputs": [],
   "source": [
    "from keras.layers import Input, Dense, concatenate, Lambda\n",
    "from keras.models import Model\n",
    "\n",
    "#this is essentially a wrapper for keras that automates the building of an autencoder\n",
    "#based on the initial dimensionality, target dimensionality, and how fast the layer \n",
    "#dimensions should shrink. this also includes an initial pre-expansion as is generally\n",
    "#a good idea for autoencoders\n",
    "class AutoEncoder:\n",
    "    \n",
    "    #determine the dimensions of the autoencoder (i.e., how big each layer is)\n",
    "    def __init__(self, dim, encode_dim, num_clones,\n",
    "                 initial_growth=0.10, shrink=0.75,\n",
    "                 **kwargs):\n",
    "        \n",
    "        self.layer_dims = []\n",
    "        self.encoded_layer = 0\n",
    "        encode_data = Input(shape=(dim,)) \n",
    "        decode_data = Input(shape=(encode_dim,))\n",
    "        \n",
    "        \n",
    "        ################################################\n",
    "        ###build the encoder and decoder architecture###\n",
    "        ################################################\n",
    "\n",
    "        #initial expansion layer\n",
    "        start_dim = int(dim*(1.0 + initial_growth))\n",
    "        encoded = Dense(start_dim, **kwargs)(encode_data)\n",
    "        self.layer_dims.append(start_dim)\n",
    "        self.encoded_layer += 1\n",
    "\n",
    "        #compression layers\n",
    "        current_dim = int(start_dim*shrink)\n",
    "        while current_dim > encode_dim:\n",
    "            encoded = Dense(current_dim, **kwargs)(encoded)\n",
    "            self.layer_dims.append(current_dim)\n",
    "            self.encoded_layer += 1\n",
    "            current_dim = int(current_dim*shrink)\n",
    "        \n",
    "        #final encoding layer\n",
    "        #encoded = Dense(encode_dim, **kwargs)(encoded)\n",
    "        encoded = Dense(encode_dim, activation='linear')(encoded) \n",
    "        self.layer_dims.append(encode_dim)\n",
    "        self.encoded_layer += 1\n",
    "        \n",
    "        #first expansion layer\n",
    "        reversed_dims = self.layer_dims[::-1][1:]\n",
    "        decoded = Dense(reversed_dims[0], **kwargs)(decode_data)\n",
    "        self.layer_dims.append(reversed_dims[0])\n",
    "        self.encoded_layer += 1\n",
    "        \n",
    "        #remaining expansion layers\n",
    "        for current_dim in reversed_dims[1:]:\n",
    "            decoded = Dense(current_dim, **kwargs)(decoded)\n",
    "            self.layer_dims.append(current_dim)\n",
    "            \n",
    "        #final linear layer\n",
    "        decoded = Dense(dim, activation='linear')(decoded)\n",
    "        self.layer_dims.append(dim)\n",
    "        \n",
    "        #create encoder and decoder models\n",
    "        self.encoder = Model(encode_data, encoded)\n",
    "        self.decoder = Model(decode_data, decoded)\n",
    "        \n",
    "        #create the joint model\n",
    "        _encoded_ = self.encoder(encode_data)\n",
    "        _decoded_ = self.decoder(_encoded_)\n",
    "        self.autoencoder = Model(encode_data, _decoded_)\n",
    "        \n",
    "        \n",
    "        #########################################\n",
    "        ###build the coupled autoencoder model###\n",
    "        #########################################\n",
    "        \n",
    "        #read in joint data and split into the columns\n",
    "        joint_input = Input(shape=(dim*num_clones,))\n",
    "        split_input = []\n",
    "        for i in range(num_clones):\n",
    "            split_input.append( Lambda(lambda x : x[:,i*dim:(i+1)*dim], output_shape=(dim,))(joint_input) )\n",
    "            \n",
    "        #spit out the results and concatenate\n",
    "        split_output = [self.autoencoder(input) for input in split_input]\n",
    "        if num_clones == 1:\n",
    "            joint_output = split_output[0]\n",
    "        else:\n",
    "            joint_output = concatenate(split_output, axis=-1)\n",
    "        \n",
    "        #final model\n",
    "        self.autoencoder = Model(joint_input, joint_output)\n",
    "\n",
    "        ####create the joint model\n",
    "        ####_encoded_ = self.encoder(encode_data)\n",
    "        ####_decoded_ = self.decoder(_encoded_)\n",
    "        ####self.autoencoder = Model(encode_data, _decoded_)\n",
    "        \n",
    "        return None\n",
    "    \n",
    "    def Compile(self, **kwargs):\n",
    "        return self.autoencoder.compile(**kwargs)\n",
    "    \n",
    "    def Fit(self, features_train, features_test, **kwargs):\n",
    "        if 'validation_data' in kwargs:\n",
    "            return self.autoencoder.fit(features_train, \n",
    "                                        features_train, \n",
    "                                        **kwargs)\n",
    "        else:\n",
    "            return self.autoencoder.fit(features_train, \n",
    "                                        features_train,  \n",
    "                                        validation_data=(features_test, features_test), \n",
    "                                        **kwargs)\n",
    "        \n",
    "    def Encode(self, features, **kwargs):\n",
    "        return self.encoder.predict(features, **kwargs)\n",
    "    \n",
    "    def Decode(self, features, **kwargs):\n",
    "        return self.decoder.predict(features, **kwargs)\n",
    "    \n",
    "    def Summary(self, **kwargs):\n",
    "        return self.autoencoder.summary(**kwargs)"
   ]
  },
  {
   "cell_type": "code",
   "execution_count": 621,
   "metadata": {
    "collapsed": true
   },
   "outputs": [],
   "source": [
    "from keras.layers import Input, Dense, concatenate, Lambda, Average\n",
    "from keras.models import Model\n",
    "\n",
    "#this is essentially a wrapper for keras that automates the building of an autencoder\n",
    "#based on the initial dimensionality, target dimensionality, and how fast the layer \n",
    "#dimensions should shrink. this also includes an initial pre-expansion as is generally\n",
    "#a good idea for autoencoders\n",
    "class AutoEncoder:\n",
    "    \n",
    "    #determine the dimensions of the autoencoder (i.e., how big each layer is)\n",
    "    def __init__(self, dim, encode_dim, num_clones,\n",
    "                 initial_growth=0.10, shrink=0.75,\n",
    "                 **kwargs):\n",
    "        \n",
    "        self.layer_dims = []\n",
    "        self.encoded_layer = 0\n",
    "        encode_data = Input(shape=(dim,)) \n",
    "        decode_data = Input(shape=(encode_dim,))\n",
    "        \n",
    "        \n",
    "        ################################################\n",
    "        ###build the encoder and decoder architecture###\n",
    "        ################################################\n",
    "\n",
    "        #initial expansion layer\n",
    "        start_dim = int(dim*(1.0 + initial_growth))\n",
    "        encoded = Dense(start_dim, **kwargs)(encode_data)\n",
    "        self.layer_dims.append(start_dim)\n",
    "        self.encoded_layer += 1\n",
    "\n",
    "        #compression layers\n",
    "        current_dim = int(start_dim*shrink)\n",
    "        while current_dim > encode_dim:\n",
    "            encoded = Dense(current_dim, **kwargs)(encoded)\n",
    "            self.layer_dims.append(current_dim)\n",
    "            self.encoded_layer += 1\n",
    "            current_dim = int(current_dim*shrink)\n",
    "        \n",
    "        #final encoding layer\n",
    "        encoded = Dense(encode_dim, **kwargs)(encoded)\n",
    "        #encoded = Dense(encode_dim, activation='sigmoid')(encoded) \n",
    "        self.layer_dims.append(encode_dim)\n",
    "        self.encoded_layer += 1\n",
    "        \n",
    "        #first expansion layer\n",
    "        reversed_dims = self.layer_dims[::-1][1:]\n",
    "        decoded = Dense(reversed_dims[0], **kwargs)(decode_data)\n",
    "        self.layer_dims.append(reversed_dims[0])\n",
    "        self.encoded_layer += 1\n",
    "        \n",
    "        #remaining expansion layers\n",
    "        for current_dim in reversed_dims[1:]:\n",
    "            decoded = Dense(current_dim, **kwargs)(decoded)\n",
    "            self.layer_dims.append(current_dim)\n",
    "            \n",
    "        #final linear layer\n",
    "        decoded = Dense(dim, activation='linear')(decoded)\n",
    "        self.layer_dims.append(dim)\n",
    "        \n",
    "        #create encoder and decoder models\n",
    "        self.encoder = Model(encode_data, encoded)\n",
    "        self.decoder = Model(decode_data, decoded)\n",
    "        \n",
    "        #create the joint model\n",
    "        _encoded_ = self.encoder(encode_data)\n",
    "        _decoded_ = self.decoder(_encoded_)\n",
    "        self.autoencoder = Model(encode_data, _decoded_)\n",
    "        \n",
    "        \n",
    "        #########################################\n",
    "        ###build the coupled autoencoder model###\n",
    "        #########################################\n",
    "        \n",
    "        #################\n",
    "        ###the encoder###\n",
    "        #################\n",
    "        \n",
    "        #read in joint data and split into the columns\n",
    "        joint_encode_data = Input(shape=(dim*num_clones,))\n",
    "        split_encode_data = []\n",
    "        for i in range(num_clones):\n",
    "            split_encode_data.append( Lambda(lambda x : x[:,i*dim:(i+1)*dim], output_shape=(dim,))(joint_encode_data) )\n",
    "            \n",
    "        #output from tied encoders\n",
    "        split_encoded = [self.encoder(input) for input in split_encode_data]\n",
    "        \n",
    "        #average the output from each encoder\n",
    "        if num_clones == 1:\n",
    "            average_encoded = split_encoded[0] \n",
    "        else:\n",
    "            average_encoded = Average()(split_encoded)\n",
    "        \n",
    "        #create the full encoder\n",
    "        self.joint_encoder = Model(joint_encode_data, average_encoded)\n",
    "        \n",
    "        \n",
    "        #################\n",
    "        ###the decoder###\n",
    "        #################\n",
    "        \n",
    "        average_encoded = Input(shape=(encode_dim,))\n",
    "            \n",
    "        #spit out the results and concatenate\n",
    "        split_decoded = [self.decoder(average_encoded) for i in range(num_clones)]\n",
    "        if num_clones == 1:\n",
    "            joint_decode_data = split_decoded[0]\n",
    "        else:\n",
    "            joint_decode_data = concatenate(split_decoded, axis=-1)\n",
    "        \n",
    "        #final model\n",
    "        self.joint_decoder = Model(average_encoded, joint_decode_data)\n",
    "        \n",
    "        \n",
    "        #####################\n",
    "        ###the autoencoder###\n",
    "        #####################\n",
    "\n",
    "        encoded = self.joint_encoder(joint_encode_data)\n",
    "        joint_decode_data = self.joint_decoder(encoded)\n",
    "        self.joint_autoencoder = Model(joint_encode_data, joint_decode_data)\n",
    "        \n",
    "        return None\n",
    "    \n",
    "    def Compile(self, **kwargs):\n",
    "        return self.joint_autoencoder.compile(**kwargs)\n",
    "    \n",
    "    def Fit(self, features_train, features_test, **kwargs):\n",
    "        if 'validation_data' in kwargs:\n",
    "            return self.joint_autoencoder.fit(features_train, \n",
    "                                        features_train, \n",
    "                                        **kwargs)\n",
    "        else:\n",
    "            return self.joint_autoencoder.fit(features_train, \n",
    "                                        features_train,  \n",
    "                                        validation_data=(features_test, features_test), \n",
    "                                        **kwargs)\n",
    "        \n",
    "    def Encode(self, features, **kwargs):\n",
    "        return self.joint_encoder.predict(features, **kwargs)\n",
    "    \n",
    "    def Decode(self, features, **kwargs):\n",
    "        return self.joint_decoder.predict(features, **kwargs)\n",
    "    \n",
    "    def Summary(self, **kwargs):\n",
    "        return self.joint_autoencoder.summary(**kwargs)"
   ]
  },
  {
   "cell_type": "code",
   "execution_count": 553,
   "metadata": {},
   "outputs": [
    {
     "data": {
      "text/plain": [
       "'1.13.3'"
      ]
     },
     "execution_count": 553,
     "metadata": {},
     "output_type": "execute_result"
    }
   ],
   "source": [
    "import numpy\n",
    "numpy.version.version"
   ]
  },
  {
   "cell_type": "code",
   "execution_count": 554,
   "metadata": {},
   "outputs": [
    {
     "data": {
      "text/plain": [
       "'1.0.0'"
      ]
     },
     "execution_count": 554,
     "metadata": {},
     "output_type": "execute_result"
    }
   ],
   "source": [
    "import scipy\n",
    "scipy.version.version"
   ]
  },
  {
   "cell_type": "code",
   "execution_count": 555,
   "metadata": {},
   "outputs": [
    {
     "name": "stdout",
     "output_type": "stream",
     "text": [
      "lapack_opt_info:\n",
      "    libraries = ['openblas', 'openblas']\n",
      "    library_dirs = ['/usr/local/lib']\n",
      "    define_macros = [('HAVE_CBLAS', None)]\n",
      "    language = c\n",
      "blas_opt_info:\n",
      "    libraries = ['openblas', 'openblas']\n",
      "    library_dirs = ['/usr/local/lib']\n",
      "    define_macros = [('HAVE_CBLAS', None)]\n",
      "    language = c\n",
      "openblas_info:\n",
      "    libraries = ['openblas', 'openblas']\n",
      "    library_dirs = ['/usr/local/lib']\n",
      "    define_macros = [('HAVE_CBLAS', None)]\n",
      "    language = c\n",
      "blis_info:\n",
      "  NOT AVAILABLE\n",
      "openblas_lapack_info:\n",
      "    libraries = ['openblas', 'openblas']\n",
      "    library_dirs = ['/usr/local/lib']\n",
      "    define_macros = [('HAVE_CBLAS', None)]\n",
      "    language = c\n",
      "lapack_mkl_info:\n",
      "  NOT AVAILABLE\n",
      "blas_mkl_info:\n",
      "  NOT AVAILABLE\n"
     ]
    }
   ],
   "source": [
    "numpy.show_config()"
   ]
  },
  {
   "cell_type": "code",
   "execution_count": null,
   "metadata": {
    "collapsed": true
   },
   "outputs": [],
   "source": []
  },
  {
   "cell_type": "code",
   "execution_count": null,
   "metadata": {
    "collapsed": true
   },
   "outputs": [],
   "source": []
  },
  {
   "cell_type": "code",
   "execution_count": null,
   "metadata": {
    "collapsed": true
   },
   "outputs": [],
   "source": []
  },
  {
   "cell_type": "code",
   "execution_count": null,
   "metadata": {
    "collapsed": true
   },
   "outputs": [],
   "source": [
    "from numpy import arccos, cos, sin, array, sqrt, power, sum, pi\n",
    "\n",
    "#this generates NN features for the PCA analysis (or some other machine learning method as well)\n",
    "def FrameToFeaturesPosition(frame, N_nn, nn_inc, N_batch, batches_per_frame):\n",
    "    #extract some relevant frames level details\n",
    "    coords = deepcopy(frame['coords'])\n",
    "    D = float(frame['D'])\n",
    "    N = float(len(coords))\n",
    "    V = power(frame['L'], D)\n",
    "    normalizing_distance = power(V/N, 1.0/D)\n",
    "    \n",
    "    #loop over the batches\n",
    "    aggregated_frame_features = []\n",
    "    for i in range(batches_per_frame):\n",
    "        ###coords_batch = coords[i*N_batch:i*N_batch+N_batch]\n",
    "        coords_batch = coords[choice(int(N), N_batch, replace=False)]\n",
    "\n",
    "        #loop over the particles\n",
    "        frame_features = []\n",
    "        for particle in coords_batch:\n",
    "            #nearest neighbor coordinate wrapping\n",
    "            Rpj_v = particle - coords\n",
    "            Rpj_v = Rpj_v - rint(Rpj_v/frame['L'])*frame['L']\n",
    "            Rpj = (sqrt(sum(power(Rpj_v, 2.0), axis=1)))     \n",
    "\n",
    "            #sorting by the distance to enable the discovery of positional order\n",
    "            sorter = Rpj.argsort()\n",
    "            Rpj = Rpj[sorter[::1]][1:N_nn+1]\n",
    "            Rpj_v = Rpj_v[sorter[::1]][1:N_nn+1]\n",
    "            \n",
    "            #create a list of the polar angles         \n",
    "            thetapj = arccos(Rpj_v[:,0]/Rpj)*(Rpj_v[:,1] >= 0) - (-2.0*pi + arccos(Rpj_v[:,0]/Rpj))*(Rpj_v[:,1] < 0)\n",
    "            sorter = theta.argsort()\n",
    "            cospj = cos(thetapj)\n",
    "            sinpj = sin(thetapj)\n",
    "            \n",
    "            #create features that correspond to probe particles and their nearest neighbors\n",
    "            frame_features.append(concatenate((cospj, sinpj), axis=0))\n",
    "\n",
    "        #sort by the first nearest neighbor to again provide some positional basis on which to learn correlations\n",
    "        #frame_features = array(frame_features)\n",
    "        #sorter = frame_features[:,5].argsort()\n",
    "        #frame_features = frame_features[sorter]\n",
    "        \n",
    "        #TEST\n",
    "        #sorter = mean(frame_features, axis=1).argsort()\n",
    "        #frame_features = frame_features[sorter]\n",
    "        \n",
    "        shuffle(frame_features)\n",
    "        #TEST\n",
    "        \n",
    "        aggregated_frame_features.append(array(frame_features).flatten())\n",
    "\n",
    "    return array(aggregated_frame_features)\n",
    "\n",
    "#this converts an entire trajectory into features\n",
    "def TrajectoryToFeaturesPosition(frames, N_nn, nn_inc, N_batch, batches_per_frame):\n",
    "    #print filename\n",
    "    features = []\n",
    "    for frame in frames: \n",
    "        aggregated_frame_features = FrameToFeaturesPosition(frame, N_nn, nn_inc, N_batch, batches_per_frame)\n",
    "        for frame_features in aggregated_frame_features:\n",
    "            features.append(frame_features)\n",
    "    return array(features)"
   ]
  },
  {
   "cell_type": "code",
   "execution_count": 15,
   "metadata": {
    "collapsed": true
   },
   "outputs": [],
   "source": [
    "from numpy import arccos, cos, sin, array, sqrt, power, sum, pi"
   ]
  },
  {
   "cell_type": "code",
   "execution_count": 32,
   "metadata": {
    "collapsed": true
   },
   "outputs": [],
   "source": [
    "Rpj_v = array([[1.0,0.0],[0.0,1.0],[-1.0,0.0], [0.0,-1.0], [0.999,-0.0001]])\n",
    "Rpj = (sqrt(sum(power(Rpj_v, 2.0), axis=1)))     \n",
    "\n",
    "thetapj = arccos(Rpj_v[:,0]/Rpj)*(Rpj_v[:,1] >= 0) - (-2.0*pi + arccos(Rpj_v[:,0]/Rpj))*(Rpj_v[:,1] < 0)"
   ]
  },
  {
   "cell_type": "code",
   "execution_count": 33,
   "metadata": {},
   "outputs": [
    {
     "data": {
      "text/plain": [
       "array([ 0.        ,  1.57079633,  3.14159265,  4.71238898,  6.28308521])"
      ]
     },
     "execution_count": 33,
     "metadata": {},
     "output_type": "execute_result"
    }
   ],
   "source": [
    "thetapj"
   ]
  },
  {
   "cell_type": "code",
   "execution_count": 34,
   "metadata": {},
   "outputs": [
    {
     "data": {
      "text/plain": [
       "6.283185307179586"
      ]
     },
     "execution_count": 34,
     "metadata": {},
     "output_type": "execute_result"
    }
   ],
   "source": [
    "2*pi"
   ]
  },
  {
   "cell_type": "code",
   "execution_count": null,
   "metadata": {
    "collapsed": true
   },
   "outputs": [],
   "source": []
  },
  {
   "cell_type": "code",
   "execution_count": null,
   "metadata": {
    "collapsed": true
   },
   "outputs": [],
   "source": []
  },
  {
   "cell_type": "code",
   "execution_count": 559,
   "metadata": {
    "collapsed": true
   },
   "outputs": [],
   "source": [
    "from numpy.linalg import norm "
   ]
  },
  {
   "cell_type": "code",
   "execution_count": 581,
   "metadata": {
    "collapsed": true
   },
   "outputs": [],
   "source": [
    "from numpy import transpose, sum"
   ]
  },
  {
   "cell_type": "code",
   "execution_count": 577,
   "metadata": {
    "collapsed": true
   },
   "outputs": [],
   "source": [
    "A = array([[1,2],[2,3],[3,4]])"
   ]
  },
  {
   "cell_type": "code",
   "execution_count": 578,
   "metadata": {
    "collapsed": true
   },
   "outputs": [],
   "source": [
    "B = A/transpose([norm(A, axis=1)])"
   ]
  },
  {
   "cell_type": "code",
   "execution_count": 573,
   "metadata": {},
   "outputs": [
    {
     "data": {
      "text/plain": [
       "array([[1, 2],\n",
       "       [1, 1],\n",
       "       [1, 1]])"
      ]
     },
     "execution_count": 573,
     "metadata": {},
     "output_type": "execute_result"
    }
   ],
   "source": [
    "A/array([[1],[2],[3]])"
   ]
  },
  {
   "cell_type": "code",
   "execution_count": 584,
   "metadata": {},
   "outputs": [
    {
     "data": {
      "text/plain": [
       "array([[ 0.4472136 ,  0.89442719],\n",
       "       [ 0.5547002 ,  0.83205029],\n",
       "       [ 0.6       ,  0.8       ]])"
      ]
     },
     "execution_count": 584,
     "metadata": {},
     "output_type": "execute_result"
    }
   ],
   "source": [
    "B"
   ]
  },
  {
   "cell_type": "code",
   "execution_count": 586,
   "metadata": {},
   "outputs": [
    {
     "data": {
      "text/plain": [
       "array([ 1.34164079,  1.38675049,  1.4       ])"
      ]
     },
     "execution_count": 586,
     "metadata": {},
     "output_type": "execute_result"
    }
   ],
   "source": [
    "sum(B,axis=1)"
   ]
  },
  {
   "cell_type": "code",
   "execution_count": 588,
   "metadata": {},
   "outputs": [
    {
     "data": {
      "text/plain": [
       "array([ 1.,  1.,  1.])"
      ]
     },
     "execution_count": 588,
     "metadata": {},
     "output_type": "execute_result"
    }
   ],
   "source": [
    "norm(B,axis=1)"
   ]
  },
  {
   "cell_type": "code",
   "execution_count": 601,
   "metadata": {
    "collapsed": true
   },
   "outputs": [],
   "source": [
    "from numpy import arccos, pi"
   ]
  },
  {
   "cell_type": "code",
   "execution_count": 617,
   "metadata": {},
   "outputs": [
    {
     "data": {
      "text/plain": [
       "6.2831753070681504"
      ]
     },
     "execution_count": 617,
     "metadata": {},
     "output_type": "execute_result"
    }
   ],
   "source": [
    "r = array([0.99999,-0.00001])\n",
    "(r[1]<0)*2.0*pi + (float((r[1]>=0)) - float((r[1]<0)))*arccos(r[0]/norm(r))"
   ]
  },
  {
   "cell_type": "code",
   "execution_count": null,
   "metadata": {
    "collapsed": true
   },
   "outputs": [],
   "source": []
  },
  {
   "cell_type": "code",
   "execution_count": null,
   "metadata": {
    "collapsed": true
   },
   "outputs": [],
   "source": []
  },
  {
   "cell_type": "code",
   "execution_count": 746,
   "metadata": {
    "collapsed": true
   },
   "outputs": [],
   "source": [
    "import keras.backend as K"
   ]
  },
  {
   "cell_type": "code",
   "execution_count": 472,
   "metadata": {
    "collapsed": true
   },
   "outputs": [],
   "source": [
    "def DensityOverlap(X_in, X_out, dim, sigma=0.6):\n",
    "    \n",
    "    #expand the dimensions in orthognal ways\n",
    "    X_in = K.expand_dims(X_in, axis=1)\n",
    "    X_out = K.expand_dims(X_out, axis=2)\n",
    "    \n",
    "    #repeat along the expanded dimension to get a vector of dim x dim matricies\n",
    "    X_in = K.repeat_elements(X_in, dim, axis=1)\n",
    "    X_out = K.repeat_elements(X_out, dim, axis=2)\n",
    "    \n",
    "    #calculate the density overlap\n",
    "    overlap = K.exp(-K.pow(X_in-X_out, 2)/(4.0*sigma*sigma))\n",
    "    overlap = K.mean(K.sum(K.sum(overlap, axis=1), axis=1), axis=0)\n",
    "    \n",
    "    return overlap"
   ]
  },
  {
   "cell_type": "code",
   "execution_count": 473,
   "metadata": {
    "collapsed": true
   },
   "outputs": [],
   "source": [
    "AK=K.variable(value=A)\n",
    "BK=K.variable(value=B)"
   ]
  },
  {
   "cell_type": "code",
   "execution_count": 475,
   "metadata": {},
   "outputs": [
    {
     "data": {
      "text/plain": [
       "array(4.421383380889893, dtype=float32)"
      ]
     },
     "execution_count": 475,
     "metadata": {},
     "output_type": "execute_result"
    }
   ],
   "source": [
    "DensityOverlap(AK, BK, 3, sigma=1.0).eval()"
   ]
  },
  {
   "cell_type": "code",
   "execution_count": 460,
   "metadata": {
    "collapsed": true
   },
   "outputs": [],
   "source": [
    "def mean_squared_error(y_true, y_pred):\n",
    "    return K.mean(K.square(y_pred - y_true), axis=-1)"
   ]
  },
  {
   "cell_type": "code",
   "execution_count": 466,
   "metadata": {
    "collapsed": true
   },
   "outputs": [],
   "source": [
    "y_pred = K.variable(value=[[0],[1],[2],[3]])\n",
    "y_true = K.variable(value=[[0],[0],[2],[1]])\n",
    "y_pred = K.variable(value=[0,1,2,3])\n",
    "y_true = K.variable(value=[0,0,2,1])"
   ]
  },
  {
   "cell_type": "code",
   "execution_count": 467,
   "metadata": {
    "collapsed": true
   },
   "outputs": [],
   "source": [
    "answer = mean_squared_error(y_true, y_pred)"
   ]
  },
  {
   "cell_type": "code",
   "execution_count": 468,
   "metadata": {},
   "outputs": [
    {
     "data": {
      "text/plain": [
       "array(1.25, dtype=float32)"
      ]
     },
     "execution_count": 468,
     "metadata": {},
     "output_type": "execute_result"
    }
   ],
   "source": [
    "answer.eval()"
   ]
  },
  {
   "cell_type": "code",
   "execution_count": null,
   "metadata": {
    "collapsed": true
   },
   "outputs": [],
   "source": []
  },
  {
   "cell_type": "code",
   "execution_count": null,
   "metadata": {
    "collapsed": true
   },
   "outputs": [],
   "source": []
  },
  {
   "cell_type": "code",
   "execution_count": 439,
   "metadata": {
    "collapsed": true
   },
   "outputs": [],
   "source": [
    "A = [[[1.,2.],[2.,3.],[3.,4.]],[[4.,5.],[5.,6.],[6.,7.]],[[7.,8.],[8.,9.],[9.,10.]],[[10.,11.],[11.,12.],[12.,13.]]]\n",
    "B = [[[3.,4.],[-1.,-1.],[1.,2.]],[[2.,2.],[-2.,-2.],[2.,2.]],[[3.,3.],[-3.,-3.],[3.,3.]],[[4.,4.],[-4.,-4.],[1.,2.]]]"
   ]
  },
  {
   "cell_type": "code",
   "execution_count": null,
   "metadata": {
    "collapsed": true
   },
   "outputs": [],
   "source": []
  },
  {
   "cell_type": "code",
   "execution_count": null,
   "metadata": {
    "collapsed": true
   },
   "outputs": [],
   "source": []
  },
  {
   "cell_type": "code",
   "execution_count": null,
   "metadata": {
    "collapsed": true
   },
   "outputs": [],
   "source": []
  },
  {
   "cell_type": "code",
   "execution_count": null,
   "metadata": {
    "collapsed": true
   },
   "outputs": [],
   "source": []
  },
  {
   "cell_type": "code",
   "execution_count": null,
   "metadata": {
    "collapsed": true
   },
   "outputs": [],
   "source": []
  },
  {
   "cell_type": "code",
   "execution_count": 375,
   "metadata": {
    "collapsed": true
   },
   "outputs": [],
   "source": [
    "from numpy import expand_dims\n",
    "from numpy import repeat, exp, power"
   ]
  },
  {
   "cell_type": "code",
   "execution_count": 456,
   "metadata": {
    "collapsed": true
   },
   "outputs": [],
   "source": [
    "A = [[1.,2.,3.],[2.,3.,4.],[3.,4.,5.],[4.,5.,6.]]\n",
    "B = [[1.,-1.,1.],[2.,-2.,2.],[3.,-3.,3.],[4.,-4.,4.]]"
   ]
  },
  {
   "cell_type": "code",
   "execution_count": 440,
   "metadata": {
    "collapsed": true
   },
   "outputs": [],
   "source": [
    "Ae = expand_dims(A, axis=1)\n",
    "Be = expand_dims(B, axis=2)"
   ]
  },
  {
   "cell_type": "code",
   "execution_count": 391,
   "metadata": {},
   "outputs": [
    {
     "data": {
      "text/plain": [
       "array([[[[  1.,   2.],\n",
       "         [  2.,   3.],\n",
       "         [  3.,   4.]]],\n",
       "\n",
       "\n",
       "       [[[  4.,   5.],\n",
       "         [  5.,   6.],\n",
       "         [  6.,   7.]]],\n",
       "\n",
       "\n",
       "       [[[  7.,   8.],\n",
       "         [  8.,   9.],\n",
       "         [  9.,  10.]]],\n",
       "\n",
       "\n",
       "       [[[ 10.,  11.],\n",
       "         [ 11.,  12.],\n",
       "         [ 12.,  13.]]]])"
      ]
     },
     "execution_count": 391,
     "metadata": {},
     "output_type": "execute_result"
    }
   ],
   "source": [
    "Ae"
   ]
  },
  {
   "cell_type": "code",
   "execution_count": 392,
   "metadata": {},
   "outputs": [
    {
     "data": {
      "text/plain": [
       "array([[[[ 1.,  1.]],\n",
       "\n",
       "        [[-1., -1.]],\n",
       "\n",
       "        [[ 1.,  1.]]],\n",
       "\n",
       "\n",
       "       [[[ 2.,  2.]],\n",
       "\n",
       "        [[-2., -2.]],\n",
       "\n",
       "        [[ 2.,  2.]]],\n",
       "\n",
       "\n",
       "       [[[ 3.,  3.]],\n",
       "\n",
       "        [[-3., -3.]],\n",
       "\n",
       "        [[ 3.,  3.]]],\n",
       "\n",
       "\n",
       "       [[[ 4.,  4.]],\n",
       "\n",
       "        [[-4., -4.]],\n",
       "\n",
       "        [[ 4.,  4.]]]])"
      ]
     },
     "execution_count": 392,
     "metadata": {},
     "output_type": "execute_result"
    }
   ],
   "source": [
    "Be"
   ]
  },
  {
   "cell_type": "code",
   "execution_count": 427,
   "metadata": {},
   "outputs": [
    {
     "data": {
      "text/plain": [
       "array([[[[  1.,   2.],\n",
       "         [  2.,   3.],\n",
       "         [  3.,   4.]],\n",
       "\n",
       "        [[  1.,   2.],\n",
       "         [  2.,   3.],\n",
       "         [  3.,   4.]],\n",
       "\n",
       "        [[  1.,   2.],\n",
       "         [  2.,   3.],\n",
       "         [  3.,   4.]]],\n",
       "\n",
       "\n",
       "       [[[  4.,   5.],\n",
       "         [  5.,   6.],\n",
       "         [  6.,   7.]],\n",
       "\n",
       "        [[  4.,   5.],\n",
       "         [  5.,   6.],\n",
       "         [  6.,   7.]],\n",
       "\n",
       "        [[  4.,   5.],\n",
       "         [  5.,   6.],\n",
       "         [  6.,   7.]]],\n",
       "\n",
       "\n",
       "       [[[  7.,   8.],\n",
       "         [  8.,   9.],\n",
       "         [  9.,  10.]],\n",
       "\n",
       "        [[  7.,   8.],\n",
       "         [  8.,   9.],\n",
       "         [  9.,  10.]],\n",
       "\n",
       "        [[  7.,   8.],\n",
       "         [  8.,   9.],\n",
       "         [  9.,  10.]]],\n",
       "\n",
       "\n",
       "       [[[ 10.,  11.],\n",
       "         [ 11.,  12.],\n",
       "         [ 12.,  13.]],\n",
       "\n",
       "        [[ 10.,  11.],\n",
       "         [ 11.,  12.],\n",
       "         [ 12.,  13.]],\n",
       "\n",
       "        [[ 10.,  11.],\n",
       "         [ 11.,  12.],\n",
       "         [ 12.,  13.]]]])"
      ]
     },
     "execution_count": 427,
     "metadata": {},
     "output_type": "execute_result"
    }
   ],
   "source": [
    "repeat(Ae, 3, axis=1)"
   ]
  },
  {
   "cell_type": "code",
   "execution_count": 428,
   "metadata": {},
   "outputs": [
    {
     "data": {
      "text/plain": [
       "array([[[[ 1.,  1.],\n",
       "         [ 1.,  1.],\n",
       "         [ 1.,  1.]],\n",
       "\n",
       "        [[-1., -1.],\n",
       "         [-1., -1.],\n",
       "         [-1., -1.]],\n",
       "\n",
       "        [[ 1.,  1.],\n",
       "         [ 1.,  1.],\n",
       "         [ 1.,  1.]]],\n",
       "\n",
       "\n",
       "       [[[ 2.,  2.],\n",
       "         [ 2.,  2.],\n",
       "         [ 2.,  2.]],\n",
       "\n",
       "        [[-2., -2.],\n",
       "         [-2., -2.],\n",
       "         [-2., -2.]],\n",
       "\n",
       "        [[ 2.,  2.],\n",
       "         [ 2.,  2.],\n",
       "         [ 2.,  2.]]],\n",
       "\n",
       "\n",
       "       [[[ 3.,  3.],\n",
       "         [ 3.,  3.],\n",
       "         [ 3.,  3.]],\n",
       "\n",
       "        [[-3., -3.],\n",
       "         [-3., -3.],\n",
       "         [-3., -3.]],\n",
       "\n",
       "        [[ 3.,  3.],\n",
       "         [ 3.,  3.],\n",
       "         [ 3.,  3.]]],\n",
       "\n",
       "\n",
       "       [[[ 4.,  4.],\n",
       "         [ 4.,  4.],\n",
       "         [ 4.,  4.]],\n",
       "\n",
       "        [[-4., -4.],\n",
       "         [-4., -4.],\n",
       "         [-4., -4.]],\n",
       "\n",
       "        [[ 1.,  2.],\n",
       "         [ 1.,  2.],\n",
       "         [ 1.,  2.]]]])"
      ]
     },
     "execution_count": 428,
     "metadata": {},
     "output_type": "execute_result"
    }
   ],
   "source": [
    "repeat(Be, 3, axis=2)"
   ]
  },
  {
   "cell_type": "code",
   "execution_count": 395,
   "metadata": {},
   "outputs": [
    {
     "name": "stdout",
     "output_type": "stream",
     "text": [
      "[[[[  1.00000000e+00   7.78800783e-01]\n",
      "   [  7.78800783e-01   3.67879441e-01]\n",
      "   [  3.67879441e-01   1.05399225e-01]]\n",
      "\n",
      "  [[  3.67879441e-01   1.05399225e-01]\n",
      "   [  1.05399225e-01   1.83156389e-02]\n",
      "   [  1.83156389e-02   1.93045414e-03]]\n",
      "\n",
      "  [[  1.00000000e+00   7.78800783e-01]\n",
      "   [  7.78800783e-01   3.67879441e-01]\n",
      "   [  3.67879441e-01   1.05399225e-01]]]\n",
      "\n",
      "\n",
      " [[[  3.67879441e-01   1.05399225e-01]\n",
      "   [  1.05399225e-01   1.83156389e-02]\n",
      "   [  1.83156389e-02   1.93045414e-03]]\n",
      "\n",
      "  [[  1.23409804e-04   4.78511739e-06]\n",
      "   [  4.78511739e-06   1.12535175e-07]\n",
      "   [  1.12535175e-07   1.60522806e-09]]\n",
      "\n",
      "  [[  3.67879441e-01   1.05399225e-01]\n",
      "   [  1.05399225e-01   1.83156389e-02]\n",
      "   [  1.83156389e-02   1.93045414e-03]]]\n",
      "\n",
      "\n",
      " [[[  1.83156389e-02   1.93045414e-03]\n",
      "   [  1.93045414e-03   1.23409804e-04]\n",
      "   [  1.23409804e-04   4.78511739e-06]]\n",
      "\n",
      "  [[  1.38879439e-11   7.28772410e-14]\n",
      "   [  7.28772410e-14   2.31952283e-16]\n",
      "   [  2.31952283e-16   4.47773244e-19]]\n",
      "\n",
      "  [[  1.83156389e-02   1.93045414e-03]\n",
      "   [  1.93045414e-03   1.23409804e-04]\n",
      "   [  1.23409804e-04   4.78511739e-06]]]\n",
      "\n",
      "\n",
      " [[[  1.23409804e-04   4.78511739e-06]\n",
      "   [  4.78511739e-06   1.12535175e-07]\n",
      "   [  1.12535175e-07   1.60522806e-09]]\n",
      "\n",
      "  [[  5.24288566e-22   3.72336312e-25]\n",
      "   [  3.72336312e-25   1.60381089e-28]\n",
      "   [  1.60381089e-28   4.19009319e-32]]\n",
      "\n",
      "  [[  1.23409804e-04   4.78511739e-06]\n",
      "   [  4.78511739e-06   1.12535175e-07]\n",
      "   [  1.12535175e-07   1.60522806e-09]]]]\n"
     ]
    }
   ],
   "source": [
    "sigma = 1.0\n",
    "Q = exp(-power(Ae-Be, 2)/(4.0*sigma*sigma))\n",
    "print Q"
   ]
  },
  {
   "cell_type": "code",
   "execution_count": 406,
   "metadata": {},
   "outputs": [
    {
     "name": "stdout",
     "output_type": "stream",
     "text": [
      "[[[[  1.00000000e+00   7.78800783e-01]\n",
      "   [  7.78800783e-01   3.67879441e-01]\n",
      "   [  3.67879441e-01   1.05399225e-01]]\n",
      "\n",
      "  [[  3.67879441e-01   1.05399225e-01]\n",
      "   [  1.05399225e-01   1.83156389e-02]\n",
      "   [  1.83156389e-02   1.93045414e-03]]\n",
      "\n",
      "  [[  1.00000000e+00   7.78800783e-01]\n",
      "   [  7.78800783e-01   3.67879441e-01]\n",
      "   [  3.67879441e-01   1.05399225e-01]]]\n",
      "\n",
      "\n",
      " [[[  3.67879441e-01   1.05399225e-01]\n",
      "   [  1.05399225e-01   1.83156389e-02]\n",
      "   [  1.83156389e-02   1.93045414e-03]]\n",
      "\n",
      "  [[  1.23409804e-04   4.78511739e-06]\n",
      "   [  4.78511739e-06   1.12535175e-07]\n",
      "   [  1.12535175e-07   1.60522806e-09]]\n",
      "\n",
      "  [[  3.67879441e-01   1.05399225e-01]\n",
      "   [  1.05399225e-01   1.83156389e-02]\n",
      "   [  1.83156389e-02   1.93045414e-03]]]\n",
      "\n",
      "\n",
      " [[[  1.83156389e-02   1.93045414e-03]\n",
      "   [  1.93045414e-03   1.23409804e-04]\n",
      "   [  1.23409804e-04   4.78511739e-06]]\n",
      "\n",
      "  [[  1.38879439e-11   7.28772410e-14]\n",
      "   [  7.28772410e-14   2.31952283e-16]\n",
      "   [  2.31952283e-16   4.47773244e-19]]\n",
      "\n",
      "  [[  1.83156389e-02   1.93045414e-03]\n",
      "   [  1.93045414e-03   1.23409804e-04]\n",
      "   [  1.23409804e-04   4.78511739e-06]]]\n",
      "\n",
      "\n",
      " [[[  1.23409804e-04   4.78511739e-06]\n",
      "   [  4.78511739e-06   1.12535175e-07]\n",
      "   [  1.12535175e-07   1.60522806e-09]]\n",
      "\n",
      "  [[  5.24288566e-22   3.72336312e-25]\n",
      "   [  3.72336312e-25   1.60381089e-28]\n",
      "   [  1.60381089e-28   4.19009319e-32]]\n",
      "\n",
      "  [[  1.23409804e-04   4.78511739e-06]\n",
      "   [  4.78511739e-06   1.12535175e-07]\n",
      "   [  1.12535175e-07   1.60522806e-09]]]]\n"
     ]
    }
   ],
   "source": [
    "sigma = 1.0\n",
    "Q = exp(-power(Ae-Be, 2)/(4.0*sigma*sigma))\n",
    "print Q"
   ]
  },
  {
   "cell_type": "code",
   "execution_count": 410,
   "metadata": {
    "collapsed": true
   },
   "outputs": [],
   "source": [
    "from numpy import sum"
   ]
  },
  {
   "cell_type": "code",
   "execution_count": 455,
   "metadata": {},
   "outputs": [
    {
     "name": "stdout",
     "output_type": "stream",
     "text": [
      "[[[  1.92874985e-022   3.72665317e-006   1.00000000e+000]\n",
      "  [  5.17098580e-036   1.38511937e-068   5.15274929e-112]\n",
      "  [  1.00000000e+000   3.72665317e-006   1.92874985e-022]]\n",
      "\n",
      " [[  5.17098580e-036   1.38511937e-068   5.15274929e-112]\n",
      "  [  1.91010169e-231   1.90336534e-307   0.00000000e+000]\n",
      "  [  5.17098580e-036   1.38511937e-068   5.15274929e-112]]\n",
      "\n",
      " [[  5.15274929e-112   2.66212703e-166   1.91010169e-231]\n",
      "  [  0.00000000e+000   0.00000000e+000   0.00000000e+000]\n",
      "  [  5.15274929e-112   2.66212703e-166   1.91010169e-231]]\n",
      "\n",
      " [[  1.91010169e-231   1.90336534e-307   0.00000000e+000]\n",
      "  [  0.00000000e+000   0.00000000e+000   0.00000000e+000]\n",
      "  [  0.00000000e+000   0.00000000e+000   0.00000000e+000]]]\n"
     ]
    }
   ],
   "source": [
    "sigma = .2\n",
    "Q = exp(-sum(power(Ae-Be, 2), axis=3)/(4.0*sigma*sigma))\n",
    "print Q"
   ]
  },
  {
   "cell_type": "code",
   "execution_count": 454,
   "metadata": {},
   "outputs": [
    {
     "data": {
      "text/plain": [
       "array([  2.27134375e+00,   4.52068659e-06,   3.12576439e-18,\n",
       "         1.21609930e-37])"
      ]
     },
     "execution_count": 454,
     "metadata": {},
     "output_type": "execute_result"
    }
   ],
   "source": [
    "sum(sum(Q, axis=1), axis=1)"
   ]
  },
  {
   "cell_type": "code",
   "execution_count": 752,
   "metadata": {},
   "outputs": [
    {
     "data": {
      "text/plain": [
       "array([ 4.78495475,  4.31372995,  4.29348876,  4.29336056])"
      ]
     },
     "execution_count": 752,
     "metadata": {},
     "output_type": "execute_result"
    }
   ],
   "source": [
    "sum(Q, axis=(1,2))"
   ]
  },
  {
   "cell_type": "code",
   "execution_count": 288,
   "metadata": {
    "collapsed": true
   },
   "outputs": [],
   "source": [
    "filename = \"../../evap_cryst/p100_N4_1/colloids.gsd\"\n",
    "#randomize = (phase == 'fit_whitener') or force_randomize\n",
    "frames = ReadGSD(filename, False, False, [])"
   ]
  },
  {
   "cell_type": "code",
   "execution_count": 289,
   "metadata": {},
   "outputs": [
    {
     "data": {
      "text/plain": [
       "{'D': 3,\n",
       " 'L': array([ 138.45599365,  159.87521362,  336.        ], dtype=float32),\n",
       " 'coords': array([[  47.87806702,  104.18327332,   99.88435364],\n",
       "        [  17.50433731,   87.10276794,   32.04560852],\n",
       "        [  35.24098206,  138.11740112,  116.05601501],\n",
       "        ..., \n",
       "        [  91.4042511 ,    5.84125519,   37.54380798],\n",
       "        [ 136.27853394,   84.54135895,   94.87758636],\n",
       "        [  34.37240601,   25.99572754,   83.35301971]], dtype=float32),\n",
       " 'diameters': array([ 10.,  10.,  10., ...,  10.,  10.,  10.], dtype=float32),\n",
       " 'types': array([u'C', u'C', u'C', ..., u'C', u'C', u'C'],\n",
       "       dtype='<U1')}"
      ]
     },
     "execution_count": 289,
     "metadata": {},
     "output_type": "execute_result"
    }
   ],
   "source": [
    "frames[0]"
   ]
  },
  {
   "cell_type": "code",
   "execution_count": 290,
   "metadata": {},
   "outputs": [
    {
     "data": {
      "text/plain": [
       "0.0094299316"
      ]
     },
     "execution_count": 290,
     "metadata": {},
     "output_type": "execute_result"
    }
   ],
   "source": [
    "min(frames[0]['coords'][:,0])"
   ]
  },
  {
   "cell_type": "code",
   "execution_count": 291,
   "metadata": {},
   "outputs": [
    {
     "data": {
      "text/plain": [
       "138.45378"
      ]
     },
     "execution_count": 291,
     "metadata": {},
     "output_type": "execute_result"
    }
   ],
   "source": [
    "max(frames[0]['coords'][:,0])"
   ]
  },
  {
   "cell_type": "code",
   "execution_count": 292,
   "metadata": {},
   "outputs": [
    {
     "data": {
      "text/plain": [
       "0.10032654"
      ]
     },
     "execution_count": 292,
     "metadata": {},
     "output_type": "execute_result"
    }
   ],
   "source": [
    "min(frames[0]['coords'][:,1])"
   ]
  },
  {
   "cell_type": "code",
   "execution_count": 293,
   "metadata": {},
   "outputs": [
    {
     "data": {
      "text/plain": [
       "159.8107"
      ]
     },
     "execution_count": 293,
     "metadata": {},
     "output_type": "execute_result"
    }
   ],
   "source": [
    "max(frames[0]['coords'][:,1])"
   ]
  },
  {
   "cell_type": "code",
   "execution_count": 294,
   "metadata": {},
   "outputs": [
    {
     "data": {
      "text/plain": [
       "12.38797"
      ]
     },
     "execution_count": 294,
     "metadata": {},
     "output_type": "execute_result"
    }
   ],
   "source": [
    "min(frames[0]['coords'][:,2])"
   ]
  },
  {
   "cell_type": "code",
   "execution_count": 295,
   "metadata": {},
   "outputs": [
    {
     "data": {
      "text/plain": [
       "218.36954"
      ]
     },
     "execution_count": 295,
     "metadata": {},
     "output_type": "execute_result"
    }
   ],
   "source": [
    "max(frames[0]['coords'][:,2])"
   ]
  },
  {
   "cell_type": "code",
   "execution_count": 352,
   "metadata": {
    "collapsed": true
   },
   "outputs": [],
   "source": [
    "from scipy.stats import moment"
   ]
  },
  {
   "cell_type": "code",
   "execution_count": 358,
   "metadata": {},
   "outputs": [
    {
     "data": {
      "text/plain": [
       "array([ 0.10015926,  0.01571595,  0.13833635, ..., -2.30546123,\n",
       "        0.65707904,  0.75511496])"
      ]
     },
     "execution_count": 358,
     "metadata": {},
     "output_type": "execute_result"
    }
   ],
   "source": [
    "corrected_features[0]"
   ]
  },
  {
   "cell_type": "code",
   "execution_count": 363,
   "metadata": {
    "collapsed": true
   },
   "outputs": [],
   "source": [
    "moments = []\n",
    "data = corrected_features[0]\n",
    "for i in range(len(data)):\n",
    "    moments.append(moment(data, moment=i, axis=0, nan_policy='propagate'))\n",
    "    i+=1"
   ]
  },
  {
   "cell_type": "code",
   "execution_count": 364,
   "metadata": {},
   "outputs": [
    {
     "data": {
      "text/plain": [
       "[1.0,\n",
       " 0.0,\n",
       " 0.34374811557066842,\n",
       " 0.069832196631344073,\n",
       " 0.53858148815931572,\n",
       " 0.33949433905729104,\n",
       " 1.7088424316636792,\n",
       " 1.9049694200449405,\n",
       " 7.9544935251626496,\n",
       " 12.422896701583964,\n",
       " 46.462097091405468,\n",
       " 89.887706939545239,\n",
       " 311.27729001116381,\n",
       " 691.88461707284398,\n",
       " 2264.8370514122053,\n",
       " 5509.6837307669457,\n",
       " 17318.741837607897,\n",
       " 44679.647015947092,\n",
       " 136506.09750466683,\n",
       " 365901.83683168446,\n",
       " 1096377.9923320361,\n",
       " 3013261.2217861204,\n",
       " 8911737.6274979729,\n",
       " 24898282.572352353,\n",
       " 73003349.464937165,\n",
       " 206181972.77317348,\n",
       " 601130254.49512911,\n",
       " 1709975069.0575929,\n",
       " 4967243302.6189041,\n",
       " 14197369765.555115,\n",
       " 41144272981.725861,\n",
       " 117973946606.3111,\n",
       " 341376733231.70624,\n",
       " 980934242914.13074,\n",
       " 2835788165100.7632,\n",
       " 8160304279752.4102,\n",
       " 23576560823352.203,\n",
       " 67910570952982.492,\n",
       " 196132750400668.84,\n",
       " 565321758151103.38,\n",
       " 1632335750430250.0,\n",
       " 4707087483462443.0,\n",
       " 13589591208191238.0,\n",
       " 39199855226208464.0,\n",
       " 1.131627271087513e+17,\n",
       " 3.264936147443385e+17,\n",
       " 9.4248304617996186e+17,\n",
       " 2.719626915272852e+18,\n",
       " 7.8504990445579295e+18,\n",
       " 2.265571952740572e+19,\n",
       " 6.5397377584197108e+19,\n",
       " 1.8874358013388204e+20,\n",
       " 5.4481915118202421e+20,\n",
       " 1.5724835672712882e+21,\n",
       " 4.5390582308538092e+21,\n",
       " 1.3101315373177778e+22,\n",
       " 3.7817683020346403e+22,\n",
       " 1.0915783968696755e+23,\n",
       " 3.1509081754597642e+23,\n",
       " 9.0950158841627097e+23,\n",
       " 2.625337946559203e+24,\n",
       " 7.5780663974645641e+24,\n",
       " 2.1874648788949548e+25,\n",
       " 6.3141978533349323e+25,\n",
       " 1.8226434267748512e+26,\n",
       " 5.2611611970928418e+26,\n",
       " 1.5186785785806161e+27,\n",
       " 4.3837701091457973e+27,\n",
       " 1.2654140229742765e+28,\n",
       " 3.6527167355160633e+28,\n",
       " 1.0543902191137619e+29,\n",
       " 3.0435873200801718e+29,\n",
       " 8.7856024035289939e+29,\n",
       " 2.5360435113607984e+30,\n",
       " 7.3205346699625799e+30,\n",
       " 2.1131411518970408e+31,\n",
       " 6.0997897066988106e+31,\n",
       " 1.7607632674684608e+32,\n",
       " 5.0826186181105173e+32,\n",
       " 1.4671479878083047e+33,\n",
       " 4.2350703593127938e+33,\n",
       " 1.2224954268977699e+34,\n",
       " 3.5288570809983115e+34,\n",
       " 1.0186402669328844e+35,\n",
       " 2.9404090988159695e+35,\n",
       " 8.4877903368474072e+35,\n",
       " 2.4500877076354034e+36,\n",
       " 7.0724290817303768e+36,\n",
       " 2.0415294211458294e+37,\n",
       " 5.8930845932418345e+37,\n",
       " 1.701099660311168e+38,\n",
       " 4.9103996039571328e+38,\n",
       " 1.4174376020549301e+39,\n",
       " 4.0915801386065912e+39,\n",
       " 1.1810769635908412e+40,\n",
       " 3.4093009235222692e+40,\n",
       " 9.8413004544936453e+40,\n",
       " 2.840793377388615e+41,\n",
       " 8.200244756748934e+41,\n",
       " 2.3670857163624973e+42,\n",
       " 6.8328386157766685e+42,\n",
       " 1.9723697949888451e+43,\n",
       " 5.6934502389937268e+43,\n",
       " 1.6434735412285478e+44,\n",
       " 4.7440571104961089e+44,\n",
       " 1.3694213724329685e+45,\n",
       " 3.9529770946525939e+45,\n",
       " 1.1410679180657408e+46,\n",
       " 3.2938111441030761e+46,\n",
       " 9.5079282313244417e+46,\n",
       " 2.744562321569962e+47,\n",
       " 7.9224644574865765e+47,\n",
       " 2.2869017316213461e+48,\n",
       " 6.6013796137726086e+48,\n",
       " 1.9055568628897148e+49,\n",
       " 5.5005880186076099e+49,\n",
       " 1.5878019273421321e+50,\n",
       " 4.5833553680561451e+50,\n",
       " 1.3230331876401154e+51,\n",
       " 3.8190728756528695e+51,\n",
       " 1.1024151001947051e+52,\n",
       " 3.1822358285020934e+52,\n",
       " 9.1858546497612443e+52,\n",
       " 2.6515924721405412e+53,\n",
       " 7.6540974241231294e+53,\n",
       " 2.2094348210863603e+54,\n",
       " 6.3777633856255163e+54,\n",
       " 1.8410077284331516e+55,\n",
       " 5.3142602696282577e+55,\n",
       " 1.5340164944094263e+56,\n",
       " 4.4280981474860288e+56,\n",
       " 1.27821658224868e+57,\n",
       " 3.6897050989438546e+57,\n",
       " 1.0650717497642818e+58,\n",
       " 3.0744403735022358e+58,\n",
       " 8.8746918814844333e+58,\n",
       " 2.5617721090151214e+59,\n",
       " 7.3948216191490332e+59,\n",
       " 2.1345921672490355e+60,\n",
       " 6.1617222907043759e+60,\n",
       " 1.7786452218701814e+61,\n",
       " 5.1342444143295099e+61,\n",
       " 1.4820530470428236e+62,\n",
       " 4.2781002559301431e+62,\n",
       " 1.2349181317556064e+63,\n",
       " 3.5647196206984034e+63,\n",
       " 1.0289933921629615e+64,\n",
       " 2.9702964434555097e+64,\n",
       " 8.5740695997666853e+64,\n",
       " 2.4749943617337476e+65,\n",
       " 7.1443286287675727e+65,\n",
       " 2.0622847609404961e+66,\n",
       " 5.9529994436551407e+66,\n",
       " 1.7183952016488821e+67,\n",
       " 4.9603264656963087e+67,\n",
       " 1.4318498226002436e+68,\n",
       " 4.1331834278769322e+68,\n",
       " 1.193086382306631e+69,\n",
       " 3.4439679256635821e+69,\n",
       " 9.9413715963246266e+69,\n",
       " 2.8696803033483584e+70,\n",
       " 8.283630647589128e+70,\n",
       " 2.3911561376963478e+71,\n",
       " 6.9023208760687992e+71,\n",
       " 1.9924267062779636e+72,\n",
       " 5.7513469037014587e+72,\n",
       " 1.6601860988169439e+73,\n",
       " 4.7922998366400575e+73,\n",
       " 1.3833471886458946e+74,\n",
       " 3.9931755306803777e+74,\n",
       " 1.1526716466919685e+75,\n",
       " 3.3273065881521441e+75,\n",
       " 9.604616512722203e+75,\n",
       " 2.7724724461809635e+76,\n",
       " 8.0030300581527268e+76,\n",
       " 2.3101578592759447e+77,\n",
       " 6.6685109214837435e+77,\n",
       " 1.924935031231701e+78,\n",
       " 5.5565251644501494e+78,\n",
       " 1.6039487776070841e+79,\n",
       " 4.6299649602002776e+79,\n",
       " 1.3364875382532652e+80,\n",
       " 3.8579102763428833e+80,\n",
       " 1.1136259242465589e+81,\n",
       " 3.2145970494930478e+81,\n",
       " 9.2792687073994865e+81,\n",
       " 2.6785574185015225e+82,\n",
       " 7.731934563430169e+82,\n",
       " 2.2319033252836737e+83,\n",
       " 6.4426210705054526e+83,\n",
       " 1.8597295764522531e+84,\n",
       " 5.3683028377455195e+84,\n",
       " 1.5496164454578086e+85,\n",
       " 4.4731290327909316e+85,\n",
       " 1.2912152166845462e+86,\n",
       " 3.7272270117311947e+86,\n",
       " 1.0759028407866704e+87,\n",
       " 3.1057054458166185e+87,\n",
       " 8.9649417684617498e+87,\n",
       " 2.5878236785194531e+88,\n",
       " 7.4700221864966649e+88,\n",
       " 2.1562995937450313e+89,\n",
       " 6.2243830364921788e+89,\n",
       " 1.7967328982186343e+90,\n",
       " 5.1864563742536969e+90,\n",
       " 1.4971245725341892e+91,\n",
       " 4.321605782345381e+91,\n",
       " 1.2474764545736936e+92,\n",
       " 3.6009705259862668e+92,\n",
       " 1.0394575930856442e+93,\n",
       " 3.0005024479545618e+93,\n",
       " 8.6612623738268673e+93,\n",
       " 2.5001634629362959e+94,\n",
       " 7.2169818573915029e+94,\n",
       " 2.0832568710826432e+95,\n",
       " 6.0135376209490406e+95,\n",
       " 1.7358701761908125e+96,\n",
       " 5.0107697972847797e+96,\n",
       " 1.4464108149192276e+97,\n",
       " 4.1752152466652272e+97,\n",
       " 1.2052193039609752e+98,\n",
       " 3.4789908659208465e+98,\n",
       " 1.0042468955967356e+99,\n",
       " 2.8988631076751642e+99,\n",
       " 8.3678698474310085e+99,\n",
       " 2.415472658855587e+100,\n",
       " 6.9725130434122524e+100,\n",
       " 2.0126884054066446e+101,\n",
       " 5.8098344055242945e+101,\n",
       " 1.6770691245073344e+102,\n",
       " 4.841034446182264e+102,\n",
       " 1.3974149405444342e+103,\n",
       " 4.0337835596208039e+103,\n",
       " 1.1643935765798916e+104,\n",
       " 3.36114315788417e+104,\n",
       " 9.7022892903398297e+104,\n",
       " 2.8006667092603175e+105,\n",
       " 8.0844157307994348e+105,\n",
       " 2.3336506801146277e+106,\n",
       " 6.7363253921393018e+106,\n",
       " 1.9445103834714387e+107,\n",
       " 5.6130314545679022e+107,\n",
       " 1.62025990592667e+108,\n",
       " 4.6770487284853389e+108,\n",
       " 1.3500787576494121e+109,\n",
       " 3.8971427446437263e+109,\n",
       " 1.1249507842470011e+110,\n",
       " 3.2472874356919034e+110,\n",
       " 9.373632907026095e+110,\n",
       " 2.7057966261296161e+111,\n",
       " 7.8105633691784926e+111,\n",
       " 2.2546003478175141e+112,\n",
       " 6.5081383865828692e+112,\n",
       " 1.8786418311304951e+113,\n",
       " 5.4228950277844576e+113,\n",
       " 1.5653750488816113e+114,\n",
       " 4.5186178804981167e+114,\n",
       " 1.3043460456677689e+115,\n",
       " 3.7651305152220527e+115,\n",
       " 1.0868440812728247e+116,\n",
       " 3.1372884743893287e+116,\n",
       " 9.0561094651307142e+116,\n",
       " 2.6141401823239711e+117,\n",
       " 7.5459875116937625e+117,\n",
       " 2.1782277749166768e+118,\n",
       " 6.287681012015715e+118,\n",
       " 1.8150045171642023e+119,\n",
       " 5.2391993026223592e+119,\n",
       " 1.5123493673440422e+120,\n",
       " 4.3655537359709161e+120,\n",
       " 1.2601624884545693e+121,\n",
       " 3.6375900821544541e+121,\n",
       " 1.0500282088237603e+122,\n",
       " 3.0310156296462535e+122,\n",
       " 8.7493418462073521e+122,\n",
       " 2.5255885186817473e+123,\n",
       " 7.2903739250536234e+123,\n",
       " 2.104442254704407e+124,\n",
       " 6.0746914340923805e+124,\n",
       " 1.7535228603656137e+125,\n",
       " 5.0617261060671718e+125,\n",
       " 1.4611198834043081e+126,\n",
       " 4.2176745026177589e+126,\n",
       " 1.2174756097757935e+127,\n",
       " 3.5143699673338063e+127,\n",
       " 1.0144594411687888e+128,\n",
       " 2.9283426825925339e+128,\n",
       " 8.4529657063603292e+128,\n",
       " 2.4400364635482175e+129,\n",
       " 7.0434190203386705e+129,\n",
       " 2.0331561530817354e+130,\n",
       " 5.8689166878720755e+130,\n",
       " 1.6941238397736899e+131,\n",
       " 4.8902646555205441e+131,\n",
       " 1.4116257524732145e+132,\n",
       " 4.0748045462039669e+132,\n",
       " 1.1762347109829726e+133,\n",
       " 3.3953238238385499e+133,\n",
       " 9.800955337469649e+133,\n",
       " 2.8291476899094872e+134,\n",
       " 8.1666290435179491e+134,\n",
       " 2.3573824078644905e+135,\n",
       " 6.8048294924328758e+135,\n",
       " 1.9642848044764938e+136,\n",
       " 5.6701123773753616e+136,\n",
       " 1.6367369079472018e+137,\n",
       " 4.7246113084562993e+137,\n",
       " 1.3638081910176617e+138,\n",
       " 3.936774181947652e+138,\n",
       " 1.13639081079906e+139,\n",
       " 3.2803102621183503e+139,\n",
       " 9.468956729941076e+139,\n",
       " 2.7333128389994184e+140,\n",
       " 7.8899917793642255e+140,\n",
       " 2.2775281844877879e+141,\n",
       " 6.5743219716690475e+141,\n",
       " 1.8977464112871502e+142,\n",
       " 5.4780423853183246e+142,\n",
       " 1.5812939071764839e+143,\n",
       " 4.5645693205569618e+143,\n",
       " 1.3176104067442444e+144,\n",
       " 3.8034194729873928e+144,\n",
       " 1.0978965871440351e+145,\n",
       " 3.1691926820676381e+145,\n",
       " 9.148204278690783e+145,\n",
       " 2.640724308061185e+146,\n",
       " 7.6227253554324901e+146,\n",
       " 2.2003789515996342e+147,\n",
       " 6.3516226872744308e+147,\n",
       " 1.8334619467328832e+148,\n",
       " 5.2924785926791814e+148,\n",
       " 1.5277289885334189e+149,\n",
       " 4.4099486120431101e+149,\n",
       " 1.2729775311477335e+150,\n",
       " 3.6745820356764232e+150,\n",
       " 1.0607063209310381e+151,\n",
       " 3.0618391107873287e+151,\n",
       " 8.8383170302201321e+151,\n",
       " 2.5512721309054119e+152,\n",
       " 7.364512342880426e+152,\n",
       " 2.1258430800633762e+153,\n",
       " 6.1364671422164765e+153,\n",
       " 1.7713550609944281e+154,\n",
       " 5.1132006077641047e+154,\n",
       " 1.4759785336634686e+155,\n",
       " 4.260565541917945e+155,\n",
       " 1.2298565543445363e+156,\n",
       " 3.5501088514726246e+156,\n",
       " 1.0247758417664665e+157,\n",
       " 2.9581220458424799e+157,\n",
       " 8.5389269354901763e+157,\n",
       " 2.4648500663492325e+158,\n",
       " 7.1150460654844028e+158,\n",
       " 2.0538320445975729e+159,\n",
       " 5.9285997990635126e+159,\n",
       " 1.7113519905344971e+160,\n",
       " 4.9399955044511688e+160,\n",
       " 1.4259810792270695e+161,\n",
       " 4.1162426898595116e+161,\n",
       " 1.188196262113506e+162,\n",
       " 3.4298520852002845e+162,\n",
       " 9.9006247548933631e+162,\n",
       " 2.857918303829224e+163,\n",
       " 8.2496784127943455e+163,\n",
       " 2.3813554720349284e+164,\n",
       " 6.8740302354038734e+164,\n",
       " 1.9842603186356023e+165,\n",
       " 5.7277737764860636e+165,\n",
       " 1.6533814704897235e+166,\n",
       " 4.7726575693005884e+166,\n",
       " 1.3776772439003679e+167,\n",
       " 3.9768086455007421e+167,\n",
       " 1.147947175069488e+168,\n",
       " 3.3136689094682051e+168,\n",
       " 9.5652499348774771e+168,\n",
       " 2.76110887407146e+169,\n",
       " 7.9702279254387535e+169,\n",
       " 2.3006891825229646e+170,\n",
       " 6.6411786012842335e+170,\n",
       " 1.9170452727468919e+171,\n",
       " 5.5337505560391651e+171,\n",
       " 1.5973746500303369e+172,\n",
       " 4.6109880572316184e+172,\n",
       " 1.3310096578488224e+173,\n",
       " 3.8420978048476239e+173,\n",
       " 1.1090614898972984e+174,\n",
       " 3.2014213350354751e+174,\n",
       " 9.2412356373219804e+174,\n",
       " 2.6675787772734218e+175,\n",
       " 7.7002435737280969e+175,\n",
       " 2.2227553915144738e+176,\n",
       " 6.4162146082797665e+176,\n",
       " 1.8521070764990034e+177,\n",
       " 5.3462996988770797e+177,\n",
       " 1.5432650105869047e+178,\n",
       " 4.4547949554755359e+178,\n",
       " 1.2859228945897718e+179,\n",
       " 3.7119501735936164e+179,\n",
       " 1.0714930225763839e+180,\n",
       " 3.0929760469235462e+180,\n",
       " 8.9281970346762898e+180,\n",
       " 2.5772169289603579e+181,\n",
       " 7.4394047007730279e+181,\n",
       " 2.147461538063454e+182,\n",
       " 6.1988710695933289e+182,\n",
       " 1.7893686036441474e+183,\n",
       " 5.1651985720642822e+183,\n",
       " 1.4909882868471646e+184,\n",
       " 4.3038927555247867e+184,\n",
       " 1.2423634051631893e+185,\n",
       " 3.5862111770962913e+185,\n",
       " 1.0351971535286037e+186,\n",
       " 2.9882042460795926e+186,\n",
       " 8.6257623350790831e+186,\n",
       " 2.4899160075447918e+187,\n",
       " 7.1874015116496456e+187,\n",
       " 2.0747181966431922e+188,\n",
       " 5.98888984914165e+188,\n",
       " 1.728755340517227e+189,\n",
       " 4.9902320841569161e+189,\n",
       " 1.4404823904288566e+190,\n",
       " 4.1581022328066655e+190,\n",
       " 1.2002794545321933e+191,\n",
       " 3.464731476791193e+191,\n",
       " 1.0001307746241775e+192,\n",
       " 2.8869814964036817e+192,\n",
       " 8.3335723407863194e+192,\n",
       " 2.4055723268621847e+193,\n",
       " 6.9439347054604562e+193,\n",
       " 2.0044389709368576e+194,\n",
       " 5.7860215549708114e+194,\n",
       " 1.6701952975370206e+195,\n",
       " 4.8211924297417399e+195,\n",
       " 1.391687336138235e+196,\n",
       " 4.0172502338208606e+196,\n",
       " 1.1596210601380909e+197,\n",
       " 3.3473667928243738e+197,\n",
       " 9.6625223798272744e+197,\n",
       " 2.7891875769576435e+198,\n",
       " 8.0512800215567697e+198,\n",
       " 2.3240857130242263e+199,\n",
       " 6.7087151198585839e+199,\n",
       " 1.9365403912256673e+200,\n",
       " 5.5900252430565447e+200,\n",
       " 1.6136189237050593e+201,\n",
       " 4.6578788426282215e+201,\n",
       " 1.3445451707263955e+202,\n",
       " 3.8811694704871607e+202,\n",
       " 1.1203399325367051e+203,\n",
       " 3.2339777326930256e+203,\n",
       " 9.3352130650860933e+203,\n",
       " 2.6947063391801703e+204,\n",
       " 7.7785501024885566e+204,\n",
       " 2.2453593854435675e+205,\n",
       " 6.4814633876132867e+205,\n",
       " 1.8709418152530005e+206,\n",
       " 5.4006681311381729e+206,\n",
       " 1.5589590240008239e+207,\n",
       " 4.5000973574012444e+207,\n",
       " 1.2989999040589898e+208,\n",
       " 3.7496983214596942e+208,\n",
       " 1.0823894180456493e+209,\n",
       " 3.1244296256908712e+209,\n",
       " 9.0189910610185614e+209,\n",
       " 2.6034255689387218e+210,\n",
       " 7.5150586658176235e+210,\n",
       " 2.1692998418888109e+211,\n",
       " 6.2619096048092268e+211,\n",
       " 1.8075653324466457e+212,\n",
       " 5.2177253222461579e+212,\n",
       " 1.5061506795750834e+213,\n",
       " 4.3476605790508187e+213,\n",
       " 1.2549974426174395e+214,\n",
       " 3.6226806401712559e+214,\n",
       " 1.0457244433343556e+215,\n",
       " 3.0185923629615131e+215,\n",
       " 8.713480794879128e+215,\n",
       " 2.5152368532542868e+216,\n",
       " 7.2604927662049046e+216,\n",
       " 2.0958167474331439e+217,\n",
       " 6.0497930102851785e+217,\n",
       " 1.7463356713854506e+218,\n",
       " 5.0409795375949808e+218,\n",
       " 1.4551311706466592e+219,\n",
       " 4.2003874604055995e+219,\n",
       " 1.212485525252816e+220,\n",
       " 3.4999655693802088e+220,\n",
       " 1.0103014618910792e+221,\n",
       " 2.9163402429698855e+221,\n",
       " 8.4183194161136272e+221,\n",
       " 2.430035451540676e+222,\n",
       " 7.01455005905515e+222,\n",
       " 2.0248228271647078e+223,\n",
       " 5.8448616759312626e+223,\n",
       " 1.6871801104003992e+224,\n",
       " 4.8702208585238385e+224,\n",
       " 1.4058399020109189e+225,\n",
       " 4.0581030871053983e+225,\n",
       " 1.1714136611159057e+226,\n",
       " 3.381407361999156e+226,\n",
       " 9.7607840230324586e+226,\n",
       " 2.8175518222080898e+227,\n",
       " 8.133156365406167e+227,\n",
       " 2.3477201712054791e+228,\n",
       " 6.776938441426153e+228,\n",
       " 1.9562337625313124e+229,\n",
       " 5.6468722074773422e+229,\n",
       " 1.6300283912040712e+230,\n",
       " 4.7052464771791008e+230,\n",
       " 1.3582183310716704e+231,\n",
       " 3.9206384698577701e+231,\n",
       " 1.1317330696899246e+232,\n",
       " 3.2668652079931666e+232,\n",
       " 9.4301461828982292e+232,\n",
       " 2.7221097709586325e+233,\n",
       " 7.8576529583246939e+233,\n",
       " 2.2681932474650047e+234,\n",
       " 6.5473757051020615e+234,\n",
       " 1.8899680911964325e+235,\n",
       " 5.4555894554167885e+235,\n",
       " 1.5748126354457796e+236,\n",
       " 4.5458604556420322e+236,\n",
       " 1.3122098983108819e+237,\n",
       " 3.7878303437316237e+237,\n",
       " 1.0933966228545288e+238,\n",
       " 3.1562030671413664e+238,\n",
       " 9.1107084042621142e+238,\n",
       " 2.629900733943318e+239,\n",
       " 7.5914819830695321e+239,\n",
       " 2.1913602272302131e+240,\n",
       " 6.3255892014180756e+240,\n",
       " 1.8259471102873767e+241,\n",
       " 5.2707862357223346e+241,\n",
       " 1.5214672640932991e+242,\n",
       " 4.3918734932157786e+242,\n",
       " 1.267759960113644e+243,\n",
       " 3.6595209742494797e+243,\n",
       " 1.0563587889123256e+244,\n",
       " 3.0492895074639392e+244,\n",
       " 8.802091295045203e+244,\n",
       " 2.5408151956928204e+245,\n",
       " 7.3343273118486693e+245,\n",
       " 2.1171298569261518e+246,\n",
       " 6.1113155174395507e+246,\n",
       " 1.7640947829210144e+247,\n",
       " 5.0922430600228436e+247,\n",
       " 1.46992891954558e+248,\n",
       " 4.243102701595598e+248,\n",
       " 1.2248157238687212e+249,\n",
       " 3.5355579700484881e+249,\n",
       " 1.0205755785115301e+250,\n",
       " 2.9459975491219558e+250,\n",
       " 8.5039283147362844e+250,\n",
       " 2.4547473504764907e+251,\n",
       " 7.0858835254165882e+251,\n",
       " 2.0454139741111858e+252,\n",
       " 5.9043001631096543e+252,\n",
       " 1.704337647895706e+253,\n",
       " 4.9197478749196855e+253,\n",
       " 1.4201363903837134e+254,\n",
       " 4.0993713876547098e+254,\n",
       " 1.1833261852674255e+255,\n",
       " 3.4157941018870703e+255,\n",
       " 9.8600449240034933e+255,\n",
       " 2.8462045136051137e+256,\n",
       " 8.2158653390565955e+256,\n",
       " 2.3715949766383041e+257,\n",
       " 6.8458555503319365e+257,\n",
       " 1.9761274027676512e+258,\n",
       " 5.7042972689949249e+258,\n",
       " 1.6466047324423859e+259,\n",
       " 4.7530958101336537e+259,\n",
       " 1.3720305386709181e+260,\n",
       " 3.9605088435881441e+260,\n",
       " 1.1432420677264607e+261,\n",
       " 3.3000871277826876e+261,\n",
       " 9.5260447095118272e+261,\n",
       " 2.7497918780280675e+262,\n",
       " 7.9375602393709703e+262,\n",
       " 2.2912593151895197e+263,\n",
       " 6.6139583085025939e+263,\n",
       " 1.9091878521393902e+264,\n",
       " 5.511069294269334e+264,\n",
       " 1.5908274679311564e+265,\n",
       " 4.5920889351832811e+265,\n",
       " 1.325554229715204e+266,\n",
       " 3.8263501441653548e+266,\n",
       " 1.1045157638627766e+267,\n",
       " 3.1882996240729104e+267,\n",
       " 9.2033584539463207e+267,\n",
       " 2.6566451343623228e+268,\n",
       " 7.6686824763461183e+268,\n",
       " 2.2136449525139147e+269,\n",
       " 6.3899163786021407e+269,\n",
       " 1.8445158189961015e+270,\n",
       " 5.3243867445901276e+270,\n",
       " 1.536939608433197e+271,\n",
       " 4.4365360243053309e+271,\n",
       " 1.2806522642112299e+272,\n",
       " 3.6967359508506441e+272,\n",
       " 1.0671012789508944e+273,\n",
       " 3.0802988221991081e+273,\n",
       " 8.8916029070543705e+273,\n",
       " 2.5666536534365932e+274,\n",
       " 7.4089127073734847e+274,\n",
       " 2.1386597070463029e+275,\n",
       " 6.1734636689556133e+275,\n",
       " 1.7820344932084032e+276,\n",
       " 5.1440278995304452e+276,\n",
       " 1.4848771520413614e+277,\n",
       " 4.2862523293385063e+277,\n",
       " 1.2372713126808233e+278,\n",
       " 3.5715123225589029e+278,\n",
       " 1.0309541762955797e+279,\n",
       " 2.9759564510189873e+279,\n",
       " 8.5904078008432995e+279,\n",
       " 2.4797105535439367e+280,\n",
       " 7.1579424072900785e+280,\n",
       " 2.066214519789672e+281,\n",
       " 5.9643431015058358e+281,\n",
       " 1.7216696665214335e+282,\n",
       " 4.9697785492448525e+282,\n",
       " 1.4345782648559423e+283,\n",
       " 4.1410593603004657e+283,\n",
       " 1.1953598521342495e+284,\n",
       " 3.4505305328217771e+284,\n",
       " 9.9603152445496108e+284,\n",
       " 2.8751485844606365e+285,\n",
       " 8.2994154098179824e+285,\n",
       " 2.3957125734997727e+286,\n",
       " 6.9154735019472623e+286,\n",
       " 1.9962233485409916e+287,\n",
       " 5.7623063064852115e+287,\n",
       " 1.66334964441868e+288,\n",
       " 4.8014317400550533e+288,\n",
       " 1.3859832075453441e+289,\n",
       " 4.0007846733975531e+289,\n",
       " 1.1548681048770285e+290,\n",
       " 3.3336468931471755e+290,\n",
       " 9.622918462514091e+290,\n",
       " 2.7777554943371729e+291,\n",
       " 8.0182801261150374e+291,\n",
       " 2.3145599499999515e+292,\n",
       " 6.6812180141920366e+292,\n",
       " 1.9286030657000318e+293,\n",
       " 5.5671133274302576e+293,\n",
       " 1.6070051609713711e+294,\n",
       " 4.6387875286538687e+294,\n",
       " 1.3390342643945017e+295,\n",
       " 3.8652616662156941e+295,\n",
       " 1.1157479793896359e+296,\n",
       " 3.2207225823623869e+296,\n",
       " 9.2969506950965412e+296,\n",
       " 2.6836615081469583e+297,\n",
       " 7.7466680490283288e+297,\n",
       " 2.2361562991330184e+298,\n",
       " 6.4548977218398826e+298,\n",
       " 1.863273359539668e+299,\n",
       " 5.3785323361880543e+299,\n",
       " 1.5525692965721091e+300,\n",
       " 4.4816527446347845e+300,\n",
       " 1.2936756747565658e+301,\n",
       " 3.7343293798485483e+301,\n",
       " 1.0779530132097559e+302,\n",
       " 3.1116234817377528e+302,\n",
       " 8.9820247946352198e+302,\n",
       " 2.5927548716911662e+303,\n",
       " 7.4842565884402971e+303,\n",
       " 2.1604085019065415e+304,\n",
       " 6.2362438272345969e+304,\n",
       " inf,\n",
       " inf,\n",
       " inf,\n",
       " inf,\n",
       " inf,\n",
       " inf,\n",
       " inf,\n",
       " inf,\n",
       " inf,\n",
       " inf,\n",
       " inf,\n",
       " inf,\n",
       " inf,\n",
       " inf,\n",
       " inf,\n",
       " inf,\n",
       " inf,\n",
       " inf,\n",
       " inf,\n",
       " inf,\n",
       " inf,\n",
       " inf,\n",
       " inf,\n",
       " inf,\n",
       " inf,\n",
       " inf,\n",
       " inf,\n",
       " inf,\n",
       " inf,\n",
       " inf,\n",
       " inf,\n",
       " inf,\n",
       " inf,\n",
       " inf,\n",
       " inf,\n",
       " inf,\n",
       " inf,\n",
       " inf,\n",
       " inf,\n",
       " inf,\n",
       " inf,\n",
       " inf,\n",
       " inf,\n",
       " inf,\n",
       " inf,\n",
       " inf,\n",
       " inf,\n",
       " inf,\n",
       " inf,\n",
       " inf,\n",
       " inf,\n",
       " inf,\n",
       " inf,\n",
       " inf,\n",
       " inf,\n",
       " inf,\n",
       " inf,\n",
       " inf,\n",
       " inf,\n",
       " inf,\n",
       " inf,\n",
       " inf,\n",
       " inf,\n",
       " inf,\n",
       " inf,\n",
       " inf,\n",
       " inf,\n",
       " inf,\n",
       " inf,\n",
       " inf,\n",
       " inf,\n",
       " inf,\n",
       " inf,\n",
       " inf,\n",
       " inf,\n",
       " inf,\n",
       " inf,\n",
       " inf,\n",
       " inf,\n",
       " inf,\n",
       " inf,\n",
       " inf,\n",
       " inf,\n",
       " inf,\n",
       " inf,\n",
       " inf,\n",
       " inf,\n",
       " inf,\n",
       " inf,\n",
       " inf,\n",
       " inf,\n",
       " inf,\n",
       " inf,\n",
       " inf,\n",
       " inf,\n",
       " inf,\n",
       " inf,\n",
       " inf,\n",
       " inf,\n",
       " inf,\n",
       " inf,\n",
       " inf,\n",
       " inf,\n",
       " inf,\n",
       " inf,\n",
       " inf,\n",
       " inf,\n",
       " inf,\n",
       " inf,\n",
       " inf,\n",
       " inf,\n",
       " inf,\n",
       " inf,\n",
       " inf,\n",
       " inf,\n",
       " inf,\n",
       " inf,\n",
       " inf,\n",
       " inf,\n",
       " inf,\n",
       " inf,\n",
       " inf,\n",
       " inf,\n",
       " inf,\n",
       " inf,\n",
       " inf,\n",
       " inf,\n",
       " inf,\n",
       " inf,\n",
       " inf,\n",
       " inf,\n",
       " inf,\n",
       " inf,\n",
       " inf,\n",
       " inf,\n",
       " inf,\n",
       " inf,\n",
       " inf,\n",
       " inf,\n",
       " inf,\n",
       " inf,\n",
       " inf,\n",
       " inf,\n",
       " inf,\n",
       " inf,\n",
       " inf,\n",
       " inf,\n",
       " inf,\n",
       " inf,\n",
       " inf,\n",
       " inf,\n",
       " inf,\n",
       " inf,\n",
       " inf,\n",
       " inf,\n",
       " inf,\n",
       " inf,\n",
       " nan,\n",
       " inf,\n",
       " nan,\n",
       " inf,\n",
       " nan,\n",
       " inf,\n",
       " nan,\n",
       " inf,\n",
       " nan,\n",
       " inf,\n",
       " nan,\n",
       " inf,\n",
       " nan,\n",
       " inf,\n",
       " nan,\n",
       " inf,\n",
       " nan,\n",
       " inf,\n",
       " nan,\n",
       " inf,\n",
       " nan,\n",
       " inf,\n",
       " nan,\n",
       " inf,\n",
       " nan,\n",
       " inf,\n",
       " nan,\n",
       " inf,\n",
       " nan,\n",
       " inf,\n",
       " nan,\n",
       " inf,\n",
       " nan,\n",
       " inf,\n",
       " nan,\n",
       " inf,\n",
       " nan,\n",
       " inf,\n",
       " nan,\n",
       " inf,\n",
       " nan,\n",
       " inf,\n",
       " nan,\n",
       " inf,\n",
       " nan,\n",
       " inf,\n",
       " nan,\n",
       " inf,\n",
       " nan,\n",
       " inf,\n",
       " nan,\n",
       " inf,\n",
       " nan,\n",
       " inf,\n",
       " nan,\n",
       " inf,\n",
       " nan,\n",
       " inf,\n",
       " nan,\n",
       " inf,\n",
       " nan,\n",
       " inf,\n",
       " nan,\n",
       " inf,\n",
       " nan,\n",
       " inf,\n",
       " nan,\n",
       " inf,\n",
       " nan,\n",
       " inf,\n",
       " nan,\n",
       " inf,\n",
       " nan,\n",
       " inf,\n",
       " nan,\n",
       " inf,\n",
       " nan,\n",
       " inf,\n",
       " nan,\n",
       " inf,\n",
       " nan,\n",
       " inf,\n",
       " nan,\n",
       " inf,\n",
       " nan,\n",
       " inf,\n",
       " nan,\n",
       " inf,\n",
       " nan,\n",
       " inf,\n",
       " nan,\n",
       " inf,\n",
       " nan,\n",
       " inf,\n",
       " nan,\n",
       " inf,\n",
       " nan,\n",
       " inf,\n",
       " nan,\n",
       " inf,\n",
       " nan,\n",
       " inf,\n",
       " nan,\n",
       " inf,\n",
       " nan,\n",
       " inf,\n",
       " nan,\n",
       " inf,\n",
       " nan,\n",
       " inf,\n",
       " nan,\n",
       " inf,\n",
       " nan,\n",
       " inf,\n",
       " nan,\n",
       " inf,\n",
       " nan,\n",
       " inf,\n",
       " nan,\n",
       " inf,\n",
       " nan,\n",
       " inf,\n",
       " nan,\n",
       " inf,\n",
       " nan,\n",
       " inf,\n",
       " nan,\n",
       " inf,\n",
       " nan,\n",
       " inf,\n",
       " nan,\n",
       " inf,\n",
       " nan,\n",
       " inf,\n",
       " nan,\n",
       " inf,\n",
       " nan,\n",
       " inf,\n",
       " nan,\n",
       " inf,\n",
       " nan,\n",
       " inf,\n",
       " nan,\n",
       " inf,\n",
       " nan,\n",
       " inf,\n",
       " nan,\n",
       " inf,\n",
       " nan,\n",
       " inf,\n",
       " nan,\n",
       " inf,\n",
       " nan,\n",
       " inf,\n",
       " nan,\n",
       " inf,\n",
       " nan,\n",
       " inf,\n",
       " nan,\n",
       " inf,\n",
       " nan,\n",
       " inf,\n",
       " nan,\n",
       " inf,\n",
       " nan,\n",
       " inf,\n",
       " nan,\n",
       " inf,\n",
       " nan,\n",
       " inf,\n",
       " nan,\n",
       " inf,\n",
       " nan,\n",
       " ...]"
      ]
     },
     "execution_count": 364,
     "metadata": {},
     "output_type": "execute_result"
    }
   ],
   "source": [
    "moments"
   ]
  },
  {
   "cell_type": "code",
   "execution_count": 370,
   "metadata": {},
   "outputs": [
    {
     "data": {
      "image/png": "[encoded data removed]",
      "text/plain": [
       "<matplotlib.figure.Figure at 0x7f183d7b6790>"
      ]
     },
     "metadata": {},
     "output_type": "display_data"
    }
   ],
   "source": [
    "plt.hist(data,bins=50)\n",
    "plt.yscale('log')"
   ]
  },
  {
   "cell_type": "code",
   "execution_count": null,
   "metadata": {
    "collapsed": true
   },
   "outputs": [],
   "source": [
    "from keras.backend import reshape(x, shape)"
   ]
  },
  {
   "cell_type": "code",
   "execution_count": 451,
   "metadata": {
    "collapsed": true
   },
   "outputs": [],
   "source": [
    "g = [[1,1,1,2,2,2,3,3,3,4,4,4],[1,2,1,2,3,2,3,4,3,4,5,4],[0,0,1,0,0,2,0,0,3,0,0,4],[0,0,1,0,0,2,0,0,3,0,0,4]]\n",
    "G = K.variable(value=g)"
   ]
  },
  {
   "cell_type": "code",
   "execution_count": 452,
   "metadata": {
    "collapsed": true
   },
   "outputs": [],
   "source": [
    "output = K.reshape(G, (-1, 4, 3))"
   ]
  },
  {
   "cell_type": "code",
   "execution_count": 453,
   "metadata": {},
   "outputs": [
    {
     "data": {
      "text/plain": [
       "array([[[ 1.,  1.,  1.],\n",
       "        [ 2.,  2.,  2.],\n",
       "        [ 3.,  3.,  3.],\n",
       "        [ 4.,  4.,  4.]],\n",
       "\n",
       "       [[ 1.,  2.,  1.],\n",
       "        [ 2.,  3.,  2.],\n",
       "        [ 3.,  4.,  3.],\n",
       "        [ 4.,  5.,  4.]],\n",
       "\n",
       "       [[ 0.,  0.,  1.],\n",
       "        [ 0.,  0.,  2.],\n",
       "        [ 0.,  0.,  3.],\n",
       "        [ 0.,  0.,  4.]],\n",
       "\n",
       "       [[ 0.,  0.,  1.],\n",
       "        [ 0.,  0.,  2.],\n",
       "        [ 0.,  0.,  3.],\n",
       "        [ 0.,  0.,  4.]]], dtype=float32)"
      ]
     },
     "execution_count": 453,
     "metadata": {},
     "output_type": "execute_result"
    }
   ],
   "source": [
    "output.eval()"
   ]
  },
  {
   "cell_type": "code",
   "execution_count": null,
   "metadata": {
    "collapsed": true
   },
   "outputs": [],
   "source": []
  },
  {
   "cell_type": "code",
   "execution_count": null,
   "metadata": {
    "collapsed": true
   },
   "outputs": [],
   "source": []
  },
  {
   "cell_type": "code",
   "execution_count": null,
   "metadata": {
    "collapsed": true
   },
   "outputs": [],
   "source": []
  },
  {
   "cell_type": "code",
   "execution_count": null,
   "metadata": {
    "collapsed": true
   },
   "outputs": [],
   "source": []
  },
  {
   "cell_type": "code",
   "execution_count": null,
   "metadata": {
    "collapsed": true
   },
   "outputs": [],
   "source": [
    "#this generates NN features for the PCA analysis (or some other machine learning method as well)\n",
    "def FrameToFeaturesPosition(frame, N_nn, nn_inc, N_batch, batches_per_frame):\n",
    "    #extract some relevant frames level details\n",
    "    coords = deepcopy(frame['coords'])\n",
    "    D = float(frame['D'])\n",
    "    N = float(len(coords))\n",
    "    #DEPRECATED\n",
    "    #V = power(frame['L'], D)\n",
    "    V = prod(frame['L'][:frame['D']])\n",
    "    normalizing_distance = power(V/N, 1.0/D)\n",
    "    \n",
    "    #loop over the batches\n",
    "    aggregated_frame_features = []\n",
    "    for i in range(batches_per_frame):\n",
    "        ###coords_batch = coords[i*N_batch:i*N_batch+N_batch]\n",
    "        coords_batch = coords[choice(int(N), N_batch, replace=False)]\n",
    "\n",
    "        #loop over the particles\n",
    "        frame_features = []\n",
    "        for particle in coords_batch:\n",
    "            #nearest neighbor coordinate wrapping\n",
    "            Rpj_v = particle - coords\n",
    "            Rpj_v = Rpj_v - rint(Rpj_v/frame['L'])*frame['L']\n",
    "            Rpj = (sqrt(sum(power(Rpj_v, 2.0), axis=1)))     \n",
    "\n",
    "            #sorting by the distance to enable the discovery of positional order\n",
    "            sorter = Rpj.argsort()\n",
    "            Rpj = Rpj[sorter[::1]]\n",
    "\n",
    "            #create features that correspond to probe particles and their nearest neighbors\n",
    "            frame_features.append((Rpj[1:N_nn+1])[0::nn_inc]/normalizing_distance)\n",
    "\n",
    "        #sort by the first nearest neighbor to again provide some positional basis on which to learn correlations\n",
    "        #frame_features = array(frame_features)\n",
    "        #sorter = frame_features[:,5].argsort()\n",
    "        #frame_features = frame_features[sorter]\n",
    "        \n",
    "        #TEST\n",
    "        #sorter = mean(frame_features, axis=1).argsort()\n",
    "        #frame_features = frame_features[sorter]\n",
    "        \n",
    "        shuffle(frame_features)\n",
    "        #TEST\n",
    "        \n",
    "        aggregated_frame_features.append(array(frame_features).flatten())\n",
    "\n",
    "    return array(aggregated_frame_features)\n",
    "\n",
    "#this converts an entire trajectory into features\n",
    "def TrajectoryToFeaturesPosition(frames, N_nn, nn_inc, N_batch, batches_per_frame):\n",
    "    #print filename\n",
    "    features = []\n",
    "    for frame in frames: \n",
    "        aggregated_frame_features = FrameToFeaturesPosition(frame, N_nn, nn_inc, N_batch, batches_per_frame)\n",
    "        for frame_features in aggregated_frame_features:\n",
    "            features.append(frame_features)\n",
    "    return array(features)"
   ]
  }
 ],
 "metadata": {
  "kernelspec": {
   "display_name": "Python 2",
   "language": "python",
   "name": "python2"
  },
  "language_info": {
   "codemirror_mode": {
    "name": "ipython",
    "version": 2
   },
   "file_extension": ".py",
   "mimetype": "text/x-python",
   "name": "python",
   "nbconvert_exporter": "python",
   "pygments_lexer": "ipython2",
   "version": "2.7.13"
  }
 },
 "nbformat": 4,
 "nbformat_minor": 2
}
