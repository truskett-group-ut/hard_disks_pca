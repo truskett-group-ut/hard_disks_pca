{
 "cells": [
  {
   "cell_type": "code",
   "execution_count": 1,
   "metadata": {},
   "outputs": [
    {
     "name": "stdout",
     "output_type": "stream",
     "text": [
      "The history saving thread hit an unexpected error (DatabaseError('database disk image is malformed',)).History will not be written to the database.\n"
     ]
    }
   ],
   "source": [
    "from analysis_tools.read_traj import ReadTraj\n",
    "from analysis_tools.feature_creation import FrameToFeaturesPosition, TrajectoryToFeaturesPosition\n",
    "from analysis_tools.feature_creation import FrameToFeaturesComposition, TrajectoryToFeaturesComposition\n",
    "from analysis_tools.radial_distribution_function import RDF, PositionalSuceptibility\n",
    "from analysis_tools.reservoir_sampler import ReservoirSampler\n",
    "from analysis_tools.defect_analysis import DefectStats\n",
    "from analysis_tools.pop2d import POP2D\n",
    "import gc\n",
    "from IPython.display import clear_output\n",
    "import h5py"
   ]
  },
  {
   "cell_type": "code",
   "execution_count": 2,
   "metadata": {
    "collapsed": true
   },
   "outputs": [],
   "source": [
    "%load_ext autoreload"
   ]
  },
  {
   "cell_type": "code",
   "execution_count": 3,
   "metadata": {
    "collapsed": true
   },
   "outputs": [],
   "source": [
    "%autoreload 2"
   ]
  },
  {
   "cell_type": "code",
   "execution_count": 4,
   "metadata": {
    "collapsed": true
   },
   "outputs": [],
   "source": [
    "def DownSampleFrames(frames, frame_samples):\n",
    "    return frames[0::max(len(frames)/frame_samples, 1)][0:frame_samples]"
   ]
  },
  {
   "cell_type": "markdown",
   "metadata": {},
   "source": [
    "## Specify the conditions"
   ]
  },
  {
   "cell_type": "code",
   "execution_count": 6,
   "metadata": {
    "collapsed": true
   },
   "outputs": [],
   "source": [
    "from numpy import arange, array"
   ]
  },
  {
   "cell_type": "code",
   "execution_count": 7,
   "metadata": {
    "collapsed": true
   },
   "outputs": [],
   "source": [
    "#VERSION FOR PAPER I\n",
    "N_nn = 3200 #number of nearest neighbors for pca analysis\n",
    "split = 1 #chunks the data up so it can be processed by the pca tool if really large\n",
    "nn_inc = 50 #1 (full in paper) #reduces the number of nearest neighbors to include as features\n",
    "remove_types = []\n",
    "shuffle_data = True\n",
    "N_batch = 1\n",
    "batches_per_frame = 1 "
   ]
  },
  {
   "cell_type": "code",
   "execution_count": 275,
   "metadata": {
    "collapsed": true
   },
   "outputs": [],
   "source": [
    "#TEST\n",
    "N_nn = 29 #number of nearest neighbors for pca analysis\n",
    "split = 1 #chunks the data up so it can be processed by the pca tool if really large\n",
    "nn_inc = 1 #1 (full in paper) #reduces the number of nearest neighbors to include as features\n",
    "remove_types = []\n",
    "shuffle_data = True\n",
    "N_batch = 1\n",
    "batches_per_frame = 1 #10 #5"
   ]
  },
  {
   "cell_type": "code",
   "execution_count": 8,
   "metadata": {
    "collapsed": true
   },
   "outputs": [],
   "source": [
    "#specify what data to read in and process\n",
    "traj_type = 'gsd'\n",
    "file_data = [(arange(0.550, 0.690001, 0.005), '../hoomd_disks/trajectories_4000p', 400), \n",
    "             (arange(0.695, 0.820001, 0.005),'../hoomd_disks/trajectories_4000p_longer', 400)]"
   ]
  },
  {
   "cell_type": "code",
   "execution_count": 9,
   "metadata": {
    "collapsed": true
   },
   "outputs": [],
   "source": [
    "#actual data\n",
    "etas = []\n",
    "[etas.extend(etas_) for etas_, _, _ in file_data]\n",
    "etas = array(etas)\n",
    "color_ids = []\n",
    "[color_ids.extend(len(data[0])*[count]) for count, data in zip(range(len(file_data)), file_data)]\n",
    "color_ids = array(color_ids)"
   ]
  },
  {
   "cell_type": "markdown",
   "metadata": {},
   "source": [
    "## Read in the data"
   ]
  },
  {
   "cell_type": "code",
   "execution_count": 10,
   "metadata": {
    "collapsed": true
   },
   "outputs": [],
   "source": [
    "from numpy import array_split\n",
    "from sklearn.decomposition import IncrementalPCA"
   ]
  },
  {
   "cell_type": "code",
   "execution_count": 11,
   "metadata": {
    "scrolled": true
   },
   "outputs": [
    {
     "name": "stdout",
     "output_type": "stream",
     "text": [
      "COMPUTATION DETAILS\n",
      "file_base = ../hoomd_disks/trajectories_4000p\n",
      "eta = 0.55\n",
      "using 400 frames of 1000 total\n",
      "COMPUTATION DETAILS\n",
      "file_base = ../hoomd_disks/trajectories_4000p\n",
      "eta = 0.555\n",
      "using 400 frames of 1000 total\n",
      "COMPUTATION DETAILS\n",
      "file_base = ../hoomd_disks/trajectories_4000p\n",
      "eta = 0.56\n",
      "using 400 frames of 1000 total\n",
      "COMPUTATION DETAILS\n",
      "file_base = ../hoomd_disks/trajectories_4000p\n",
      "eta = 0.565\n",
      "using 400 frames of 1000 total\n",
      "COMPUTATION DETAILS\n",
      "file_base = ../hoomd_disks/trajectories_4000p\n",
      "eta = 0.57\n",
      "using 400 frames of 1000 total\n",
      "COMPUTATION DETAILS\n",
      "file_base = ../hoomd_disks/trajectories_4000p\n",
      "eta = 0.575\n",
      "using 400 frames of 1000 total\n",
      "COMPUTATION DETAILS\n",
      "file_base = ../hoomd_disks/trajectories_4000p\n",
      "eta = 0.58\n",
      "using 400 frames of 1000 total\n",
      "COMPUTATION DETAILS\n",
      "file_base = ../hoomd_disks/trajectories_4000p\n",
      "eta = 0.585\n",
      "using 400 frames of 1000 total\n",
      "COMPUTATION DETAILS\n",
      "file_base = ../hoomd_disks/trajectories_4000p\n",
      "eta = 0.59\n",
      "using 400 frames of 1000 total\n",
      "COMPUTATION DETAILS\n",
      "file_base = ../hoomd_disks/trajectories_4000p\n",
      "eta = 0.595\n",
      "using 400 frames of 1000 total\n",
      "COMPUTATION DETAILS\n",
      "file_base = ../hoomd_disks/trajectories_4000p\n",
      "eta = 0.6\n",
      "using 400 frames of 1000 total\n",
      "COMPUTATION DETAILS\n",
      "file_base = ../hoomd_disks/trajectories_4000p\n",
      "eta = 0.605\n",
      "using 400 frames of 1000 total\n",
      "COMPUTATION DETAILS\n",
      "file_base = ../hoomd_disks/trajectories_4000p\n",
      "eta = 0.61\n",
      "using 400 frames of 1000 total\n",
      "COMPUTATION DETAILS\n",
      "file_base = ../hoomd_disks/trajectories_4000p\n",
      "eta = 0.615\n",
      "using 400 frames of 1000 total\n",
      "COMPUTATION DETAILS\n",
      "file_base = ../hoomd_disks/trajectories_4000p\n",
      "eta = 0.62\n",
      "using 400 frames of 1000 total\n",
      "COMPUTATION DETAILS\n",
      "file_base = ../hoomd_disks/trajectories_4000p\n",
      "eta = 0.625\n",
      "using 400 frames of 1000 total\n",
      "COMPUTATION DETAILS\n",
      "file_base = ../hoomd_disks/trajectories_4000p\n",
      "eta = 0.63\n",
      "using 400 frames of 1000 total\n",
      "COMPUTATION DETAILS\n",
      "file_base = ../hoomd_disks/trajectories_4000p\n",
      "eta = 0.635\n",
      "using 400 frames of 1000 total\n",
      "COMPUTATION DETAILS\n",
      "file_base = ../hoomd_disks/trajectories_4000p\n",
      "eta = 0.64\n",
      "using 400 frames of 1000 total\n",
      "COMPUTATION DETAILS\n",
      "file_base = ../hoomd_disks/trajectories_4000p\n",
      "eta = 0.645\n",
      "using 400 frames of 1000 total\n",
      "COMPUTATION DETAILS\n",
      "file_base = ../hoomd_disks/trajectories_4000p\n",
      "eta = 0.65\n",
      "using 400 frames of 1000 total\n",
      "COMPUTATION DETAILS\n",
      "file_base = ../hoomd_disks/trajectories_4000p\n",
      "eta = 0.655\n",
      "using 400 frames of 1000 total\n",
      "COMPUTATION DETAILS\n",
      "file_base = ../hoomd_disks/trajectories_4000p\n",
      "eta = 0.66\n",
      "using 400 frames of 1000 total\n",
      "COMPUTATION DETAILS\n",
      "file_base = ../hoomd_disks/trajectories_4000p\n",
      "eta = 0.665\n",
      "using 400 frames of 1000 total\n",
      "COMPUTATION DETAILS\n",
      "file_base = ../hoomd_disks/trajectories_4000p\n",
      "eta = 0.67\n",
      "using 400 frames of 1000 total\n",
      "COMPUTATION DETAILS\n",
      "file_base = ../hoomd_disks/trajectories_4000p\n",
      "eta = 0.675\n",
      "using 400 frames of 1000 total\n",
      "COMPUTATION DETAILS\n",
      "file_base = ../hoomd_disks/trajectories_4000p\n",
      "eta = 0.68\n",
      "using 400 frames of 1000 total\n",
      "COMPUTATION DETAILS\n",
      "file_base = ../hoomd_disks/trajectories_4000p\n",
      "eta = 0.685\n",
      "using 400 frames of 1000 total\n",
      "COMPUTATION DETAILS\n",
      "file_base = ../hoomd_disks/trajectories_4000p\n",
      "eta = 0.69\n",
      "using 400 frames of 1000 total\n",
      "COMPUTATION DETAILS\n",
      "file_base = ../hoomd_disks/trajectories_4000p_longer\n",
      "eta = 0.695\n",
      "using 400 frames of 1000 total\n",
      "COMPUTATION DETAILS\n",
      "file_base = ../hoomd_disks/trajectories_4000p_longer\n",
      "eta = 0.7\n",
      "using 400 frames of 1000 total\n",
      "COMPUTATION DETAILS\n",
      "file_base = ../hoomd_disks/trajectories_4000p_longer\n",
      "eta = 0.705\n",
      "using 400 frames of 1000 total\n",
      "COMPUTATION DETAILS\n",
      "file_base = ../hoomd_disks/trajectories_4000p_longer\n",
      "eta = 0.71\n",
      "using 400 frames of 1000 total\n",
      "COMPUTATION DETAILS\n",
      "file_base = ../hoomd_disks/trajectories_4000p_longer\n",
      "eta = 0.715\n",
      "using 400 frames of 1000 total\n",
      "COMPUTATION DETAILS\n",
      "file_base = ../hoomd_disks/trajectories_4000p_longer\n",
      "eta = 0.72\n",
      "using 400 frames of 1000 total\n",
      "COMPUTATION DETAILS\n",
      "file_base = ../hoomd_disks/trajectories_4000p_longer\n",
      "eta = 0.725\n",
      "using 400 frames of 1000 total\n",
      "COMPUTATION DETAILS\n",
      "file_base = ../hoomd_disks/trajectories_4000p_longer\n",
      "eta = 0.73\n",
      "using 400 frames of 1000 total\n",
      "COMPUTATION DETAILS\n",
      "file_base = ../hoomd_disks/trajectories_4000p_longer\n",
      "eta = 0.735\n",
      "using 400 frames of 1000 total\n",
      "COMPUTATION DETAILS\n",
      "file_base = ../hoomd_disks/trajectories_4000p_longer\n",
      "eta = 0.74\n",
      "using 400 frames of 1000 total\n",
      "COMPUTATION DETAILS\n",
      "file_base = ../hoomd_disks/trajectories_4000p_longer\n",
      "eta = 0.745\n",
      "using 400 frames of 1000 total\n",
      "COMPUTATION DETAILS\n",
      "file_base = ../hoomd_disks/trajectories_4000p_longer\n",
      "eta = 0.75\n",
      "using 400 frames of 1000 total\n",
      "COMPUTATION DETAILS\n",
      "file_base = ../hoomd_disks/trajectories_4000p_longer\n",
      "eta = 0.755\n",
      "using 400 frames of 1000 total\n",
      "COMPUTATION DETAILS\n",
      "file_base = ../hoomd_disks/trajectories_4000p_longer\n",
      "eta = 0.76\n",
      "using 400 frames of 1000 total\n",
      "COMPUTATION DETAILS\n",
      "file_base = ../hoomd_disks/trajectories_4000p_longer\n",
      "eta = 0.765\n",
      "using 400 frames of 1000 total\n",
      "COMPUTATION DETAILS\n",
      "file_base = ../hoomd_disks/trajectories_4000p_longer\n",
      "eta = 0.77\n",
      "using 400 frames of 1000 total\n",
      "COMPUTATION DETAILS\n",
      "file_base = ../hoomd_disks/trajectories_4000p_longer\n",
      "eta = 0.775\n",
      "using 400 frames of 1000 total\n",
      "COMPUTATION DETAILS\n",
      "file_base = ../hoomd_disks/trajectories_4000p_longer\n",
      "eta = 0.78\n",
      "using 400 frames of 1000 total\n",
      "COMPUTATION DETAILS\n",
      "file_base = ../hoomd_disks/trajectories_4000p_longer\n",
      "eta = 0.785\n",
      "using 400 frames of 1000 total\n",
      "COMPUTATION DETAILS\n",
      "file_base = ../hoomd_disks/trajectories_4000p_longer\n",
      "eta = 0.79\n",
      "using 400 frames of 1000 total\n",
      "COMPUTATION DETAILS\n",
      "file_base = ../hoomd_disks/trajectories_4000p_longer\n",
      "eta = 0.795\n",
      "using 400 frames of 1000 total\n",
      "COMPUTATION DETAILS\n",
      "file_base = ../hoomd_disks/trajectories_4000p_longer\n",
      "eta = 0.8\n",
      "using 400 frames of 1000 total\n",
      "COMPUTATION DETAILS\n",
      "file_base = ../hoomd_disks/trajectories_4000p_longer\n",
      "eta = 0.805\n",
      "using 400 frames of 1000 total\n",
      "COMPUTATION DETAILS\n",
      "file_base = ../hoomd_disks/trajectories_4000p_longer\n",
      "eta = 0.81\n",
      "using 400 frames of 1000 total\n",
      "COMPUTATION DETAILS\n",
      "file_base = ../hoomd_disks/trajectories_4000p_longer\n",
      "eta = 0.815\n",
      "using 400 frames of 1000 total\n",
      "COMPUTATION DETAILS\n",
      "file_base = ../hoomd_disks/trajectories_4000p_longer\n",
      "eta = 0.82\n",
      "using 400 frames of 1000 total\n",
      "Fitting the whitener\n",
      "\n",
      "COMPUTATION DETAILS\n",
      "file_base = ../hoomd_disks/trajectories_4000p\n",
      "eta = 0.55\n",
      "using 400 frames of 1000 total\n",
      "COMPUTATION DETAILS\n",
      "file_base = ../hoomd_disks/trajectories_4000p\n",
      "eta = 0.555\n",
      "using 400 frames of 1000 total\n",
      "COMPUTATION DETAILS\n",
      "file_base = ../hoomd_disks/trajectories_4000p\n",
      "eta = 0.56\n",
      "using 400 frames of 1000 total\n",
      "COMPUTATION DETAILS\n",
      "file_base = ../hoomd_disks/trajectories_4000p\n",
      "eta = 0.565\n",
      "using 400 frames of 1000 total\n",
      "COMPUTATION DETAILS\n",
      "file_base = ../hoomd_disks/trajectories_4000p\n",
      "eta = 0.57\n",
      "using 400 frames of 1000 total\n",
      "COMPUTATION DETAILS\n",
      "file_base = ../hoomd_disks/trajectories_4000p\n",
      "eta = 0.575\n",
      "using 400 frames of 1000 total\n",
      "COMPUTATION DETAILS\n",
      "file_base = ../hoomd_disks/trajectories_4000p\n",
      "eta = 0.58\n",
      "using 400 frames of 1000 total\n",
      "COMPUTATION DETAILS\n",
      "file_base = ../hoomd_disks/trajectories_4000p\n",
      "eta = 0.585\n",
      "using 400 frames of 1000 total\n",
      "COMPUTATION DETAILS\n",
      "file_base = ../hoomd_disks/trajectories_4000p\n",
      "eta = 0.59\n",
      "using 400 frames of 1000 total\n",
      "COMPUTATION DETAILS\n",
      "file_base = ../hoomd_disks/trajectories_4000p\n",
      "eta = 0.595\n",
      "using 400 frames of 1000 total\n",
      "COMPUTATION DETAILS\n",
      "file_base = ../hoomd_disks/trajectories_4000p\n",
      "eta = 0.6\n",
      "using 400 frames of 1000 total\n",
      "COMPUTATION DETAILS\n",
      "file_base = ../hoomd_disks/trajectories_4000p\n",
      "eta = 0.605\n",
      "using 400 frames of 1000 total\n",
      "COMPUTATION DETAILS\n",
      "file_base = ../hoomd_disks/trajectories_4000p\n",
      "eta = 0.61\n",
      "using 400 frames of 1000 total\n",
      "COMPUTATION DETAILS\n",
      "file_base = ../hoomd_disks/trajectories_4000p\n",
      "eta = 0.615\n",
      "using 400 frames of 1000 total\n",
      "COMPUTATION DETAILS\n",
      "file_base = ../hoomd_disks/trajectories_4000p\n",
      "eta = 0.62\n",
      "using 400 frames of 1000 total\n",
      "COMPUTATION DETAILS\n",
      "file_base = ../hoomd_disks/trajectories_4000p\n",
      "eta = 0.625\n",
      "using 400 frames of 1000 total\n",
      "COMPUTATION DETAILS\n",
      "file_base = ../hoomd_disks/trajectories_4000p\n",
      "eta = 0.63\n",
      "using 400 frames of 1000 total\n",
      "COMPUTATION DETAILS\n",
      "file_base = ../hoomd_disks/trajectories_4000p\n",
      "eta = 0.635\n",
      "using 400 frames of 1000 total\n",
      "COMPUTATION DETAILS\n",
      "file_base = ../hoomd_disks/trajectories_4000p\n",
      "eta = 0.64\n"
     ]
    },
    {
     "name": "stdout",
     "output_type": "stream",
     "text": [
      "using 400 frames of 1000 total\n",
      "COMPUTATION DETAILS\n",
      "file_base = ../hoomd_disks/trajectories_4000p\n",
      "eta = 0.645\n",
      "using 400 frames of 1000 total\n",
      "COMPUTATION DETAILS\n",
      "file_base = ../hoomd_disks/trajectories_4000p\n",
      "eta = 0.65\n",
      "using 400 frames of 1000 total\n",
      "COMPUTATION DETAILS\n",
      "file_base = ../hoomd_disks/trajectories_4000p\n",
      "eta = 0.655\n",
      "using 400 frames of 1000 total\n",
      "COMPUTATION DETAILS\n",
      "file_base = ../hoomd_disks/trajectories_4000p\n",
      "eta = 0.66\n",
      "using 400 frames of 1000 total\n",
      "COMPUTATION DETAILS\n",
      "file_base = ../hoomd_disks/trajectories_4000p\n",
      "eta = 0.665\n",
      "using 400 frames of 1000 total\n",
      "COMPUTATION DETAILS\n",
      "file_base = ../hoomd_disks/trajectories_4000p\n",
      "eta = 0.67\n",
      "using 400 frames of 1000 total\n",
      "COMPUTATION DETAILS\n",
      "file_base = ../hoomd_disks/trajectories_4000p\n",
      "eta = 0.675\n",
      "using 400 frames of 1000 total\n",
      "COMPUTATION DETAILS\n",
      "file_base = ../hoomd_disks/trajectories_4000p\n",
      "eta = 0.68\n",
      "using 400 frames of 1000 total\n",
      "COMPUTATION DETAILS\n",
      "file_base = ../hoomd_disks/trajectories_4000p\n",
      "eta = 0.685\n",
      "using 400 frames of 1000 total\n",
      "COMPUTATION DETAILS\n",
      "file_base = ../hoomd_disks/trajectories_4000p\n",
      "eta = 0.69\n",
      "using 400 frames of 1000 total\n",
      "COMPUTATION DETAILS\n",
      "file_base = ../hoomd_disks/trajectories_4000p_longer\n",
      "eta = 0.695\n",
      "using 400 frames of 1000 total\n",
      "COMPUTATION DETAILS\n",
      "file_base = ../hoomd_disks/trajectories_4000p_longer\n",
      "eta = 0.7\n",
      "using 400 frames of 1000 total\n",
      "COMPUTATION DETAILS\n",
      "file_base = ../hoomd_disks/trajectories_4000p_longer\n",
      "eta = 0.705\n",
      "using 400 frames of 1000 total\n",
      "COMPUTATION DETAILS\n",
      "file_base = ../hoomd_disks/trajectories_4000p_longer\n",
      "eta = 0.71\n",
      "using 400 frames of 1000 total\n",
      "COMPUTATION DETAILS\n",
      "file_base = ../hoomd_disks/trajectories_4000p_longer\n",
      "eta = 0.715\n",
      "using 400 frames of 1000 total\n",
      "COMPUTATION DETAILS\n",
      "file_base = ../hoomd_disks/trajectories_4000p_longer\n",
      "eta = 0.72\n",
      "using 400 frames of 1000 total\n",
      "COMPUTATION DETAILS\n",
      "file_base = ../hoomd_disks/trajectories_4000p_longer\n",
      "eta = 0.725\n",
      "using 400 frames of 1000 total\n",
      "COMPUTATION DETAILS\n",
      "file_base = ../hoomd_disks/trajectories_4000p_longer\n",
      "eta = 0.73\n",
      "using 400 frames of 1000 total\n",
      "COMPUTATION DETAILS\n",
      "file_base = ../hoomd_disks/trajectories_4000p_longer\n",
      "eta = 0.735\n",
      "using 400 frames of 1000 total\n",
      "COMPUTATION DETAILS\n",
      "file_base = ../hoomd_disks/trajectories_4000p_longer\n",
      "eta = 0.74\n",
      "using 400 frames of 1000 total\n",
      "COMPUTATION DETAILS\n",
      "file_base = ../hoomd_disks/trajectories_4000p_longer\n",
      "eta = 0.745\n",
      "using 400 frames of 1000 total\n",
      "COMPUTATION DETAILS\n",
      "file_base = ../hoomd_disks/trajectories_4000p_longer\n",
      "eta = 0.75\n",
      "using 400 frames of 1000 total\n",
      "COMPUTATION DETAILS\n",
      "file_base = ../hoomd_disks/trajectories_4000p_longer\n",
      "eta = 0.755\n",
      "using 400 frames of 1000 total\n",
      "COMPUTATION DETAILS\n",
      "file_base = ../hoomd_disks/trajectories_4000p_longer\n",
      "eta = 0.76\n",
      "using 400 frames of 1000 total\n",
      "COMPUTATION DETAILS\n",
      "file_base = ../hoomd_disks/trajectories_4000p_longer\n",
      "eta = 0.765\n",
      "using 400 frames of 1000 total\n",
      "COMPUTATION DETAILS\n",
      "file_base = ../hoomd_disks/trajectories_4000p_longer\n",
      "eta = 0.77\n",
      "using 400 frames of 1000 total\n",
      "COMPUTATION DETAILS\n",
      "file_base = ../hoomd_disks/trajectories_4000p_longer\n",
      "eta = 0.775\n",
      "using 400 frames of 1000 total\n",
      "COMPUTATION DETAILS\n",
      "file_base = ../hoomd_disks/trajectories_4000p_longer\n",
      "eta = 0.78\n",
      "using 400 frames of 1000 total\n",
      "COMPUTATION DETAILS\n",
      "file_base = ../hoomd_disks/trajectories_4000p_longer\n",
      "eta = 0.785\n",
      "using 400 frames of 1000 total\n",
      "COMPUTATION DETAILS\n",
      "file_base = ../hoomd_disks/trajectories_4000p_longer\n",
      "eta = 0.79\n",
      "using 400 frames of 1000 total\n",
      "COMPUTATION DETAILS\n",
      "file_base = ../hoomd_disks/trajectories_4000p_longer\n",
      "eta = 0.795\n",
      "using 400 frames of 1000 total\n",
      "COMPUTATION DETAILS\n",
      "file_base = ../hoomd_disks/trajectories_4000p_longer\n",
      "eta = 0.8\n",
      "using 400 frames of 1000 total\n",
      "COMPUTATION DETAILS\n",
      "file_base = ../hoomd_disks/trajectories_4000p_longer\n",
      "eta = 0.805\n",
      "using 400 frames of 1000 total\n",
      "COMPUTATION DETAILS\n",
      "file_base = ../hoomd_disks/trajectories_4000p_longer\n",
      "eta = 0.81\n",
      "using 400 frames of 1000 total\n",
      "COMPUTATION DETAILS\n",
      "file_base = ../hoomd_disks/trajectories_4000p_longer\n",
      "eta = 0.815\n",
      "using 400 frames of 1000 total\n",
      "COMPUTATION DETAILS\n",
      "file_base = ../hoomd_disks/trajectories_4000p_longer\n",
      "eta = 0.82\n",
      "using 400 frames of 1000 total\n",
      "Correcting features\n",
      "\n"
     ]
    }
   ],
   "source": [
    "corrected_features = []\n",
    "incpca_ig = IncrementalPCA(n_components=None, whiten=True) \n",
    "force_randomize = False\n",
    "\n",
    "#loop over data sets \n",
    "for phase in ['fit_whitener', 'correct_features']:\n",
    "    raw_features = []\n",
    "    \n",
    "    for etas_, file_base, frame_samples in file_data:\n",
    "\n",
    "        for eta in etas_:\n",
    "            print 'COMPUTATION DETAILS'\n",
    "            print 'file_base = {}'.format(file_base)\n",
    "            print 'eta = {}'.format(eta)\n",
    "\n",
    "            #read in data and randomize positions if performing ideal gas correction\n",
    "            filename = \"{}/trajectory_{:.4f}.{}\".format(file_base, eta, traj_type)\n",
    "            randomize = (phase == 'fit_whitener') or force_randomize\n",
    "            frames = ReadTraj(filename, traj_type, shuffle_data, randomize, remove_types)\n",
    "\n",
    "            #control the number of total frames to analyze\n",
    "            len_frames_init = len(frames)\n",
    "            frames = DownSampleFrames(frames, frame_samples)\n",
    "            print 'using {} frames of {} total'.format(len(frames), len_frames_init)\n",
    "            \n",
    "            raw_features.extend(TrajectoryToFeaturesPosition(frames, \n",
    "                                                             N_nn=N_nn,  \n",
    "                                                             nn_inc=nn_inc,\n",
    "                                                             N_batch=N_batch, \n",
    "                                                             batches_per_frame=batches_per_frame))\n",
    "    if phase == 'fit_whitener':\n",
    "        print 'Fitting the whitener\\n'\n",
    "        incpca_ig.fit(raw_features)\n",
    "    else:\n",
    "        print 'Correcting features\\n'\n",
    "        corrected_features = incpca_ig.transform(raw_features)\n",
    "            \n",
    "            "
   ]
  },
  {
   "cell_type": "markdown",
   "metadata": {},
   "source": [
    "# Autoencoding"
   ]
  },
  {
   "cell_type": "code",
   "execution_count": 13,
   "metadata": {},
   "outputs": [
    {
     "name": "stderr",
     "output_type": "stream",
     "text": [
      "Using Theano backend.\n",
      "WARNING (theano.tensor.blas): Using NumPy C-API based implementation for BLAS functions.\n"
     ]
    }
   ],
   "source": [
    "from analysis_tools.autoencoder import AutoEncoder\n",
    "from sklearn.model_selection import train_test_split"
   ]
  },
  {
   "cell_type": "code",
   "execution_count": 14,
   "metadata": {},
   "outputs": [
    {
     "name": "stdout",
     "output_type": "stream",
     "text": [
      "Dimensionality: 64\n"
     ]
    }
   ],
   "source": [
    "dim = corrected_features.shape[1]\n",
    "print \"Dimensionality: {}\".format(dim)"
   ]
  },
  {
   "cell_type": "markdown",
   "metadata": {},
   "source": [
    "### Train and test sets"
   ]
  },
  {
   "cell_type": "code",
   "execution_count": 15,
   "metadata": {
    "collapsed": true
   },
   "outputs": [],
   "source": [
    "corrected_features_train, corrected_features_test = train_test_split(corrected_features, test_size=0.25, random_state=42)"
   ]
  },
  {
   "cell_type": "markdown",
   "metadata": {},
   "source": [
    "### Build and train the model"
   ]
  },
  {
   "cell_type": "code",
   "execution_count": 121,
   "metadata": {
    "collapsed": true
   },
   "outputs": [],
   "source": [
    "from keras.callbacks import ModelCheckpoint\n",
    "from numpy import savetxt"
   ]
  },
  {
   "cell_type": "code",
   "execution_count": 192,
   "metadata": {},
   "outputs": [
    {
     "data": {
      "text/plain": [
       "64"
      ]
     },
     "execution_count": 192,
     "metadata": {},
     "output_type": "execute_result"
    }
   ],
   "source": [
    "dim"
   ]
  },
  {
   "cell_type": "code",
   "execution_count": 202,
   "metadata": {},
   "outputs": [],
   "source": [
    "model = AutoEncoder(dim=dim, encode_dim=1, num_clones=1,\n",
    "                    initial_growth=0.25, shrink=0.50,\n",
    "                    activation='elu')#, kernel_initializer='lecun_normal')"
   ]
  },
  {
   "cell_type": "code",
   "execution_count": 203,
   "metadata": {},
   "outputs": [
    {
     "name": "stdout",
     "output_type": "stream",
     "text": [
      "_________________________________________________________________\n",
      "Layer (type)                 Output Shape              Param #   \n",
      "=================================================================\n",
      "input_36 (InputLayer)        (None, 64)                0         \n",
      "_________________________________________________________________\n",
      "lambda_10 (Lambda)           (None, 64)                0         \n",
      "_________________________________________________________________\n",
      "model_48 (Model)             (None, 64)                19143     \n",
      "=================================================================\n",
      "Total params: 19,143\n",
      "Trainable params: 19,143\n",
      "Non-trainable params: 0\n",
      "_________________________________________________________________\n"
     ]
    }
   ],
   "source": [
    "model.autoencoder.summary()"
   ]
  },
  {
   "cell_type": "code",
   "execution_count": 204,
   "metadata": {},
   "outputs": [
    {
     "name": "stdout",
     "output_type": "stream",
     "text": [
      "[80, 40, 20, 10, 5, 2, 1, 2, 5, 10, 20, 40, 80, 64]\n"
     ]
    }
   ],
   "source": [
    "print model.layer_dims"
   ]
  },
  {
   "cell_type": "code",
   "execution_count": 205,
   "metadata": {
    "collapsed": true
   },
   "outputs": [],
   "source": [
    "model.Compile(optimizer='adamax', loss='mean_squared_error')"
   ]
  },
  {
   "cell_type": "code",
   "execution_count": 206,
   "metadata": {
    "collapsed": true
   },
   "outputs": [],
   "source": [
    "checkpointer = ModelCheckpoint(filepath='./model/weights_linear.hdf5', verbose=1, save_best_only=True)"
   ]
  },
  {
   "cell_type": "code",
   "execution_count": 207,
   "metadata": {
    "scrolled": true
   },
   "outputs": [
    {
     "name": "stdout",
     "output_type": "stream",
     "text": [
      "Train on 16500 samples, validate on 5500 samples\n",
      "Epoch 1/2000\n",
      "16500/16500 [==============================] - 0s - loss: 0.5806 - val_loss: 0.4508\n",
      "Epoch 2/2000\n",
      "16500/16500 [==============================] - 0s - loss: 0.4199 - val_loss: 0.4021\n",
      "Epoch 3/2000\n",
      "16500/16500 [==============================] - 0s - loss: 0.4017 - val_loss: 0.3989\n",
      "Epoch 4/2000\n",
      "16500/16500 [==============================] - 0s - loss: 0.4002 - val_loss: 0.3983\n",
      "Epoch 5/2000\n",
      "16500/16500 [==============================] - 0s - loss: 0.3996 - val_loss: 0.3978\n",
      "Epoch 6/2000\n",
      "16500/16500 [==============================] - 0s - loss: 0.3992 - val_loss: 0.3974\n",
      "Epoch 7/2000\n",
      "16500/16500 [==============================] - 0s - loss: 0.3989 - val_loss: 0.3971ss:\n",
      "Epoch 8/2000\n",
      "16500/16500 [==============================] - 0s - loss: 0.3986 - val_loss: 0.3969\n",
      "Epoch 9/2000\n",
      "16500/16500 [==============================] - 0s - loss: 0.3983 - val_loss: 0.3965\n",
      "Epoch 10/2000\n",
      "16500/16500 [==============================] - 0s - loss: 0.3980 - val_loss: 0.3962\n",
      "Epoch 11/2000\n",
      "16500/16500 [==============================] - 0s - loss: 0.3977 - val_loss: 0.3958\n",
      "Epoch 12/2000\n",
      "16500/16500 [==============================] - 0s - loss: 0.3973 - val_loss: 0.3955\n",
      "Epoch 13/2000\n",
      "16500/16500 [==============================] - 0s - loss: 0.3970 - val_loss: 0.3952\n",
      "Epoch 14/2000\n",
      "16500/16500 [==============================] - 0s - loss: 0.3968 - val_loss: 0.3949\n",
      "Epoch 15/2000\n",
      "16500/16500 [==============================] - 0s - loss: 0.3965 - val_loss: 0.3947\n",
      "Epoch 16/2000\n",
      "16500/16500 [==============================] - 0s - loss: 0.3963 - val_loss: 0.3945\n",
      "Epoch 17/2000\n",
      "16500/16500 [==============================] - 0s - loss: 0.3962 - val_loss: 0.3945\n",
      "Epoch 18/2000\n",
      "16500/16500 [==============================] - 0s - loss: 0.3960 - val_loss: 0.3942\n",
      "Epoch 19/2000\n",
      "16500/16500 [==============================] - 0s - loss: 0.3959 - val_loss: 0.3941\n",
      "Epoch 20/2000\n",
      "16500/16500 [==============================] - 0s - loss: 0.3959 - val_loss: 0.3941\n",
      "Epoch 21/2000\n",
      "16500/16500 [==============================] - 0s - loss: 0.3957 - val_loss: 0.3940\n",
      "Epoch 22/2000\n",
      "16500/16500 [==============================] - 0s - loss: 0.3956 - val_loss: 0.3939\n",
      "Epoch 23/2000\n",
      "16500/16500 [==============================] - 0s - loss: 0.3955 - val_loss: 0.3938\n",
      "Epoch 24/2000\n",
      "16500/16500 [==============================] - 0s - loss: 0.3955 - val_loss: 0.3936\n",
      "Epoch 25/2000\n",
      "16500/16500 [==============================] - 0s - loss: 0.3954 - val_loss: 0.3936\n",
      "Epoch 26/2000\n",
      "16500/16500 [==============================] - 0s - loss: 0.3954 - val_loss: 0.3935\n",
      "Epoch 27/2000\n",
      "16500/16500 [==============================] - 0s - loss: 0.3952 - val_loss: 0.3934\n",
      "Epoch 28/2000\n",
      "16500/16500 [==============================] - 0s - loss: 0.3951 - val_loss: 0.3933\n",
      "Epoch 29/2000\n",
      "16500/16500 [==============================] - 0s - loss: 0.3950 - val_loss: 0.3932\n",
      "Epoch 30/2000\n",
      "16500/16500 [==============================] - 0s - loss: 0.3949 - val_loss: 0.3930\n",
      "Epoch 31/2000\n",
      "16500/16500 [==============================] - 0s - loss: 0.3948 - val_loss: 0.3930\n",
      "Epoch 32/2000\n",
      "16500/16500 [==============================] - 0s - loss: 0.3946 - val_loss: 0.3930\n",
      "Epoch 33/2000\n",
      "16500/16500 [==============================] - 0s - loss: 0.3946 - val_loss: 0.3928\n",
      "Epoch 34/2000\n",
      "16500/16500 [==============================] - 0s - loss: 0.3945 - val_loss: 0.3927\n",
      "Epoch 35/2000\n",
      "16500/16500 [==============================] - 0s - loss: 0.3944 - val_loss: 0.3927\n",
      "Epoch 36/2000\n",
      "16500/16500 [==============================] - 0s - loss: 0.3943 - val_loss: 0.3926\n",
      "Epoch 37/2000\n",
      "16500/16500 [==============================] - 0s - loss: 0.3943 - val_loss: 0.3926\n",
      "Epoch 38/2000\n",
      "16500/16500 [==============================] - 0s - loss: 0.3942 - val_loss: 0.3925\n",
      "Epoch 39/2000\n",
      "16500/16500 [==============================] - 0s - loss: 0.3941 - val_loss: 0.3924\n",
      "Epoch 40/2000\n",
      "16500/16500 [==============================] - 0s - loss: 0.3940 - val_loss: 0.3924\n",
      "Epoch 41/2000\n",
      "16500/16500 [==============================] - 0s - loss: 0.3939 - val_loss: 0.3924\n",
      "Epoch 42/2000\n",
      "16500/16500 [==============================] - 0s - loss: 0.3939 - val_loss: 0.3923\n",
      "Epoch 43/2000\n",
      "16500/16500 [==============================] - 0s - loss: 0.3938 - val_loss: 0.3922\n",
      "Epoch 44/2000\n",
      "16500/16500 [==============================] - 0s - loss: 0.3938 - val_loss: 0.3921\n",
      "Epoch 45/2000\n",
      "16500/16500 [==============================] - 0s - loss: 0.3937 - val_loss: 0.3922\n",
      "Epoch 46/2000\n",
      "16500/16500 [==============================] - 0s - loss: 0.3937 - val_loss: 0.3920\n",
      "Epoch 47/2000\n",
      "16500/16500 [==============================] - 0s - loss: 0.3936 - val_loss: 0.3921\n",
      "Epoch 48/2000\n",
      "16500/16500 [==============================] - 0s - loss: 0.3936 - val_loss: 0.3920\n",
      "Epoch 49/2000\n",
      "16500/16500 [==============================] - 0s - loss: 0.3935 - val_loss: 0.3919\n",
      "Epoch 50/2000\n",
      "16500/16500 [==============================] - 0s - loss: 0.3935 - val_loss: 0.3920\n",
      "Epoch 51/2000\n",
      "16500/16500 [==============================] - 0s - loss: 0.3935 - val_loss: 0.3918\n",
      "Epoch 52/2000\n",
      "16500/16500 [==============================] - 0s - loss: 0.3933 - val_loss: 0.3917\n",
      "Epoch 53/2000\n",
      "16500/16500 [==============================] - 0s - loss: 0.3933 - val_loss: 0.3917\n",
      "Epoch 54/2000\n",
      "16500/16500 [==============================] - 0s - loss: 0.3932 - val_loss: 0.3916\n",
      "Epoch 55/2000\n",
      "16500/16500 [==============================] - 0s - loss: 0.3933 - val_loss: 0.3916\n",
      "Epoch 56/2000\n",
      "16500/16500 [==============================] - 0s - loss: 0.3932 - val_loss: 0.3917\n",
      "Epoch 57/2000\n",
      "16500/16500 [==============================] - 0s - loss: 0.3931 - val_loss: 0.3916\n",
      "Epoch 58/2000\n",
      "16500/16500 [==============================] - 0s - loss: 0.3931 - val_loss: 0.3915\n",
      "Epoch 59/2000\n",
      "16500/16500 [==============================] - 0s - loss: 0.3930 - val_loss: 0.3914\n",
      "Epoch 60/2000\n",
      "16500/16500 [==============================] - 0s - loss: 0.3930 - val_loss: 0.3915\n",
      "Epoch 61/2000\n",
      "16500/16500 [==============================] - 0s - loss: 0.3929 - val_loss: 0.3914\n",
      "Epoch 62/2000\n",
      "16500/16500 [==============================] - 0s - loss: 0.3928 - val_loss: 0.3914\n",
      "Epoch 63/2000\n",
      "16500/16500 [==============================] - 0s - loss: 0.3928 - val_loss: 0.3913\n",
      "Epoch 64/2000\n",
      "16500/16500 [==============================] - 0s - loss: 0.3927 - val_loss: 0.3914\n",
      "Epoch 65/2000\n",
      "16500/16500 [==============================] - 0s - loss: 0.3927 - val_loss: 0.3912\n",
      "Epoch 66/2000\n",
      "16500/16500 [==============================] - 0s - loss: 0.3927 - val_loss: 0.3912\n",
      "Epoch 67/2000\n",
      "16500/16500 [==============================] - 0s - loss: 0.3925 - val_loss: 0.3912\n",
      "Epoch 68/2000\n",
      "16500/16500 [==============================] - 0s - loss: 0.3924 - val_loss: 0.3911\n",
      "Epoch 69/2000\n",
      "16500/16500 [==============================] - 0s - loss: 0.3924 - val_loss: 0.3911\n",
      "Epoch 70/2000\n",
      "16500/16500 [==============================] - 0s - loss: 0.3924 - val_loss: 0.3911\n",
      "Epoch 71/2000\n",
      "16500/16500 [==============================] - 0s - loss: 0.3923 - val_loss: 0.3909\n",
      "Epoch 72/2000\n",
      "16500/16500 [==============================] - 0s - loss: 0.3922 - val_loss: 0.3910\n",
      "Epoch 73/2000\n",
      "16500/16500 [==============================] - 0s - loss: 0.3921 - val_loss: 0.3908\n",
      "Epoch 74/2000\n",
      "16500/16500 [==============================] - 0s - loss: 0.3919 - val_loss: 0.3908\n",
      "Epoch 75/2000\n",
      "16500/16500 [==============================] - 0s - loss: 0.3919 - val_loss: 0.3907\n",
      "Epoch 76/2000\n",
      "16500/16500 [==============================] - 0s - loss: 0.3918 - val_loss: 0.3906\n",
      "Epoch 77/2000\n",
      "16500/16500 [==============================] - 0s - loss: 0.3917 - val_loss: 0.3904\n",
      "Epoch 78/2000\n",
      "16500/16500 [==============================] - 0s - loss: 0.3917 - val_loss: 0.3905\n",
      "Epoch 79/2000\n",
      "16500/16500 [==============================] - 0s - loss: 0.3914 - val_loss: 0.3906\n",
      "Epoch 80/2000\n",
      "16500/16500 [==============================] - 0s - loss: 0.3913 - val_loss: 0.3904\n",
      "Epoch 81/2000\n",
      "16500/16500 [==============================] - 0s - loss: 0.3912 - val_loss: 0.3904\n",
      "Epoch 82/2000\n",
      "16500/16500 [==============================] - 0s - loss: 0.3911 - val_loss: 0.3901\n",
      "Epoch 83/2000\n",
      "16500/16500 [==============================] - 0s - loss: 0.3909 - val_loss: 0.3898\n",
      "Epoch 84/2000\n"
     ]
    },
    {
     "name": "stdout",
     "output_type": "stream",
     "text": [
      "16500/16500 [==============================] - 0s - loss: 0.3908 - val_loss: 0.3898\n",
      "Epoch 85/2000\n",
      "16500/16500 [==============================] - 0s - loss: 0.3906 - val_loss: 0.3895\n",
      "Epoch 86/2000\n",
      "16500/16500 [==============================] - 0s - loss: 0.3905 - val_loss: 0.3894\n",
      "Epoch 87/2000\n",
      "16500/16500 [==============================] - 0s - loss: 0.3903 - val_loss: 0.3891\n",
      "Epoch 88/2000\n",
      "16500/16500 [==============================] - 0s - loss: 0.3901 - val_loss: 0.3890\n",
      "Epoch 89/2000\n",
      "16500/16500 [==============================] - 0s - loss: 0.3900 - val_loss: 0.3888\n",
      "Epoch 90/2000\n",
      "16500/16500 [==============================] - 0s - loss: 0.3897 - val_loss: 0.3888\n",
      "Epoch 91/2000\n",
      "16500/16500 [==============================] - 0s - loss: 0.3896 - val_loss: 0.3883\n",
      "Epoch 92/2000\n",
      "16500/16500 [==============================] - 0s - loss: 0.3893 - val_loss: 0.3885\n",
      "Epoch 93/2000\n",
      "16500/16500 [==============================] - 0s - loss: 0.3890 - val_loss: 0.3879\n",
      "Epoch 94/2000\n",
      "16500/16500 [==============================] - 0s - loss: 0.3888 - val_loss: 0.3877\n",
      "Epoch 95/2000\n",
      "16500/16500 [==============================] - 0s - loss: 0.3887 - val_loss: 0.3875\n",
      "Epoch 96/2000\n",
      "16500/16500 [==============================] - 0s - loss: 0.3882 - val_loss: 0.3872\n",
      "Epoch 97/2000\n",
      "16500/16500 [==============================] - 0s - loss: 0.3878 - val_loss: 0.3868\n",
      "Epoch 98/2000\n",
      "16500/16500 [==============================] - 0s - loss: 0.3874 - val_loss: 0.3864\n",
      "Epoch 99/2000\n",
      "16500/16500 [==============================] - 0s - loss: 0.3869 - val_loss: 0.3859\n",
      "Epoch 100/2000\n",
      "16500/16500 [==============================] - 0s - loss: 0.3865 - val_loss: 0.3857\n",
      "Epoch 101/2000\n",
      "16500/16500 [==============================] - 0s - loss: 0.3860 - val_loss: 0.3855\n",
      "Epoch 102/2000\n",
      "16500/16500 [==============================] - 0s - loss: 0.3854 - val_loss: 0.3850\n",
      "Epoch 103/2000\n",
      "16500/16500 [==============================] - 0s - loss: 0.3851 - val_loss: 0.3849\n",
      "Epoch 104/2000\n",
      "16500/16500 [==============================] - 0s - loss: 0.3847 - val_loss: 0.3845\n",
      "Epoch 105/2000\n",
      "16500/16500 [==============================] - 0s - loss: 0.3842 - val_loss: 0.3841\n",
      "Epoch 106/2000\n",
      "16500/16500 [==============================] - 0s - loss: 0.3838 - val_loss: 0.3837\n",
      "Epoch 107/2000\n",
      "16500/16500 [==============================] - 0s - loss: 0.3835 - val_loss: 0.3832\n",
      "Epoch 108/2000\n",
      "16500/16500 [==============================] - 0s - loss: 0.3831 - val_loss: 0.3827\n",
      "Epoch 109/2000\n",
      "16500/16500 [==============================] - 0s - loss: 0.3827 - val_loss: 0.3823\n",
      "Epoch 110/2000\n",
      "16500/16500 [==============================] - 0s - loss: 0.3823 - val_loss: 0.3823\n",
      "Epoch 111/2000\n",
      "16500/16500 [==============================] - 0s - loss: 0.3820 - val_loss: 0.3818\n",
      "Epoch 112/2000\n",
      "16500/16500 [==============================] - 0s - loss: 0.3816 - val_loss: 0.3817\n",
      "Epoch 113/2000\n",
      "16500/16500 [==============================] - 0s - loss: 0.3813 - val_loss: 0.3818\n",
      "Epoch 114/2000\n",
      "16500/16500 [==============================] - 0s - loss: 0.3811 - val_loss: 0.3813\n",
      "Epoch 115/2000\n",
      "16500/16500 [==============================] - 0s - loss: 0.3808 - val_loss: 0.3809\n",
      "Epoch 116/2000\n",
      "16500/16500 [==============================] - 0s - loss: 0.3805 - val_loss: 0.3808\n",
      "Epoch 117/2000\n",
      "16500/16500 [==============================] - 0s - loss: 0.3802 - val_loss: 0.3807\n",
      "Epoch 118/2000\n",
      "16500/16500 [==============================] - 0s - loss: 0.3798 - val_loss: 0.3803\n",
      "Epoch 119/2000\n",
      "16500/16500 [==============================] - 0s - loss: 0.3795 - val_loss: 0.3799\n",
      "Epoch 120/2000\n",
      "16500/16500 [==============================] - 0s - loss: 0.3793 - val_loss: 0.3800\n",
      "Epoch 121/2000\n",
      "16500/16500 [==============================] - 0s - loss: 0.3791 - val_loss: 0.3800\n",
      "Epoch 122/2000\n",
      "16500/16500 [==============================] - 0s - loss: 0.3789 - val_loss: 0.3797\n",
      "Epoch 123/2000\n",
      "16500/16500 [==============================] - 0s - loss: 0.3786 - val_loss: 0.3795\n",
      "Epoch 124/2000\n",
      "16500/16500 [==============================] - 0s - loss: 0.3784 - val_loss: 0.3792\n",
      "Epoch 125/2000\n",
      "16500/16500 [==============================] - 0s - loss: 0.3781 - val_loss: 0.3791\n",
      "Epoch 126/2000\n",
      "16500/16500 [==============================] - 0s - loss: 0.3779 - val_loss: 0.3789\n",
      "Epoch 127/2000\n",
      "16500/16500 [==============================] - 0s - loss: 0.3778 - val_loss: 0.3786\n",
      "Epoch 128/2000\n",
      "16500/16500 [==============================] - 0s - loss: 0.3774 - val_loss: 0.3788\n",
      "Epoch 129/2000\n",
      "16500/16500 [==============================] - 0s - loss: 0.3773 - val_loss: 0.3785\n",
      "Epoch 130/2000\n",
      "16500/16500 [==============================] - 0s - loss: 0.3770 - val_loss: 0.3784\n",
      "Epoch 131/2000\n",
      "16500/16500 [==============================] - 0s - loss: 0.3769 - val_loss: 0.3779\n",
      "Epoch 132/2000\n",
      "16500/16500 [==============================] - 0s - loss: 0.3766 - val_loss: 0.3777\n",
      "Epoch 133/2000\n",
      "16500/16500 [==============================] - 0s - loss: 0.3765 - val_loss: 0.3779\n",
      "Epoch 134/2000\n",
      "16500/16500 [==============================] - 0s - loss: 0.3764 - val_loss: 0.3777\n",
      "Epoch 135/2000\n",
      "16500/16500 [==============================] - 0s - loss: 0.3762 - val_loss: 0.3774\n",
      "Epoch 136/2000\n",
      "16500/16500 [==============================] - 0s - loss: 0.3760 - val_loss: 0.3774\n",
      "Epoch 137/2000\n",
      "16500/16500 [==============================] - 0s - loss: 0.3758 - val_loss: 0.3772\n",
      "Epoch 138/2000\n",
      "16500/16500 [==============================] - 0s - loss: 0.3757 - val_loss: 0.3771\n",
      "Epoch 139/2000\n",
      "16500/16500 [==============================] - 0s - loss: 0.3754 - val_loss: 0.3770\n",
      "Epoch 140/2000\n",
      "16500/16500 [==============================] - 0s - loss: 0.3752 - val_loss: 0.3769\n",
      "Epoch 141/2000\n",
      "16500/16500 [==============================] - 0s - loss: 0.3752 - val_loss: 0.3766\n",
      "Epoch 142/2000\n",
      "16500/16500 [==============================] - 0s - loss: 0.3749 - val_loss: 0.3764\n",
      "Epoch 143/2000\n",
      "16500/16500 [==============================] - 0s - loss: 0.3748 - val_loss: 0.3762\n",
      "Epoch 144/2000\n",
      "16500/16500 [==============================] - 0s - loss: 0.3748 - val_loss: 0.3763\n",
      "Epoch 145/2000\n",
      "16500/16500 [==============================] - 0s - loss: 0.3746 - val_loss: 0.3764\n",
      "Epoch 146/2000\n",
      "16500/16500 [==============================] - 0s - loss: 0.3743 - val_loss: 0.3761\n",
      "Epoch 147/2000\n",
      "16500/16500 [==============================] - 0s - loss: 0.3744 - val_loss: 0.3762\n",
      "Epoch 148/2000\n",
      "16500/16500 [==============================] - 0s - loss: 0.3742 - val_loss: 0.3762\n",
      "Epoch 149/2000\n",
      "16500/16500 [==============================] - 0s - loss: 0.3741 - val_loss: 0.3761\n",
      "Epoch 150/2000\n",
      "16500/16500 [==============================] - 0s - loss: 0.3738 - val_loss: 0.3757\n",
      "Epoch 151/2000\n",
      "16500/16500 [==============================] - 0s - loss: 0.3738 - val_loss: 0.3760\n",
      "Epoch 152/2000\n",
      "16500/16500 [==============================] - 0s - loss: 0.3736 - val_loss: 0.3753\n",
      "Epoch 153/2000\n",
      "16500/16500 [==============================] - 0s - loss: 0.3734 - val_loss: 0.3758\n",
      "Epoch 154/2000\n",
      "16500/16500 [==============================] - 0s - loss: 0.3732 - val_loss: 0.3753\n",
      "Epoch 155/2000\n",
      "16500/16500 [==============================] - 0s - loss: 0.3731 - val_loss: 0.3750\n",
      "Epoch 156/2000\n",
      "16500/16500 [==============================] - 0s - loss: 0.3729 - val_loss: 0.3752\n",
      "Epoch 157/2000\n",
      "16500/16500 [==============================] - 0s - loss: 0.3729 - val_loss: 0.3761\n",
      "Epoch 158/2000\n",
      "16500/16500 [==============================] - 0s - loss: 0.3729 - val_loss: 0.3750\n",
      "Epoch 159/2000\n",
      "16500/16500 [==============================] - 0s - loss: 0.3727 - val_loss: 0.3753\n",
      "Epoch 160/2000\n",
      "16500/16500 [==============================] - 0s - loss: 0.3725 - val_loss: 0.3754\n",
      "Epoch 161/2000\n",
      "16500/16500 [==============================] - 0s - loss: 0.3726 - val_loss: 0.3752\n",
      "Epoch 162/2000\n",
      "16500/16500 [==============================] - 0s - loss: 0.3725 - val_loss: 0.3749\n",
      "Epoch 163/2000\n",
      "16500/16500 [==============================] - 0s - loss: 0.3724 - val_loss: 0.3751\n",
      "Epoch 164/2000\n",
      "16500/16500 [==============================] - 0s - loss: 0.3724 - val_loss: 0.3751\n",
      "Epoch 165/2000\n",
      "16500/16500 [==============================] - 0s - loss: 0.3721 - val_loss: 0.3747\n",
      "Epoch 166/2000\n",
      "16500/16500 [==============================] - 0s - loss: 0.3719 - val_loss: 0.3746\n",
      "Epoch 167/2000\n"
     ]
    },
    {
     "name": "stdout",
     "output_type": "stream",
     "text": [
      "16500/16500 [==============================] - 0s - loss: 0.3722 - val_loss: 0.3749\n",
      "Epoch 168/2000\n",
      "16500/16500 [==============================] - 0s - loss: 0.3718 - val_loss: 0.3747\n",
      "Epoch 169/2000\n",
      "16500/16500 [==============================] - 0s - loss: 0.3718 - val_loss: 0.3745\n",
      "Epoch 170/2000\n",
      "16500/16500 [==============================] - 0s - loss: 0.3717 - val_loss: 0.3745\n",
      "Epoch 171/2000\n",
      "16500/16500 [==============================] - 0s - loss: 0.3717 - val_loss: 0.3746\n",
      "Epoch 172/2000\n",
      "16500/16500 [==============================] - 0s - loss: 0.3716 - val_loss: 0.3746\n",
      "Epoch 173/2000\n",
      "16500/16500 [==============================] - 0s - loss: 0.3715 - val_loss: 0.3744\n",
      "Epoch 174/2000\n",
      "16500/16500 [==============================] - 0s - loss: 0.3715 - val_loss: 0.3743\n",
      "Epoch 175/2000\n",
      "16500/16500 [==============================] - 0s - loss: 0.3713 - val_loss: 0.3747\n",
      "Epoch 176/2000\n",
      "16500/16500 [==============================] - 0s - loss: 0.3712 - val_loss: 0.3742\n",
      "Epoch 177/2000\n",
      "16500/16500 [==============================] - 0s - loss: 0.3713 - val_loss: 0.3743\n",
      "Epoch 178/2000\n",
      "16500/16500 [==============================] - 0s - loss: 0.3711 - val_loss: 0.3741\n",
      "Epoch 179/2000\n",
      "16500/16500 [==============================] - 0s - loss: 0.3712 - val_loss: 0.3741\n",
      "Epoch 180/2000\n",
      "16500/16500 [==============================] - 0s - loss: 0.3711 - val_loss: 0.3736\n",
      "Epoch 181/2000\n",
      "16500/16500 [==============================] - 0s - loss: 0.3711 - val_loss: 0.3736\n",
      "Epoch 182/2000\n",
      "16500/16500 [==============================] - 0s - loss: 0.3708 - val_loss: 0.3740\n",
      "Epoch 183/2000\n",
      "16500/16500 [==============================] - 0s - loss: 0.3709 - val_loss: 0.3740\n",
      "Epoch 184/2000\n",
      "16500/16500 [==============================] - 0s - loss: 0.3709 - val_loss: 0.3738\n",
      "Epoch 185/2000\n",
      "16500/16500 [==============================] - 0s - loss: 0.3709 - val_loss: 0.3738\n",
      "Epoch 186/2000\n",
      "16500/16500 [==============================] - 0s - loss: 0.3708 - val_loss: 0.3739\n",
      "Epoch 187/2000\n",
      "16500/16500 [==============================] - 0s - loss: 0.3707 - val_loss: 0.3739\n",
      "Epoch 188/2000\n",
      "16500/16500 [==============================] - 0s - loss: 0.3706 - val_loss: 0.3739\n",
      "Epoch 189/2000\n",
      "16500/16500 [==============================] - 0s - loss: 0.3705 - val_loss: 0.3738\n",
      "Epoch 190/2000\n",
      "16500/16500 [==============================] - 0s - loss: 0.3705 - val_loss: 0.3741\n",
      "Epoch 191/2000\n",
      "16500/16500 [==============================] - 0s - loss: 0.3705 - val_loss: 0.3737\n",
      "Epoch 192/2000\n",
      "16500/16500 [==============================] - 0s - loss: 0.3704 - val_loss: 0.3733\n",
      "Epoch 193/2000\n",
      "16500/16500 [==============================] - 0s - loss: 0.3702 - val_loss: 0.3737\n",
      "Epoch 194/2000\n",
      "16500/16500 [==============================] - 0s - loss: 0.3702 - val_loss: 0.3734\n",
      "Epoch 195/2000\n",
      "16500/16500 [==============================] - 0s - loss: 0.3703 - val_loss: 0.3736\n",
      "Epoch 196/2000\n",
      "16500/16500 [==============================] - 0s - loss: 0.3703 - val_loss: 0.3734\n",
      "Epoch 197/2000\n",
      "16500/16500 [==============================] - 0s - loss: 0.3701 - val_loss: 0.3735\n",
      "Epoch 198/2000\n",
      "16500/16500 [==============================] - 0s - loss: 0.3700 - val_loss: 0.3734\n",
      "Epoch 199/2000\n",
      "16500/16500 [==============================] - 0s - loss: 0.3700 - val_loss: 0.3735\n",
      "Epoch 200/2000\n",
      "16500/16500 [==============================] - 0s - loss: 0.3702 - val_loss: 0.3732\n",
      "Epoch 201/2000\n",
      "16500/16500 [==============================] - 0s - loss: 0.3699 - val_loss: 0.3734\n",
      "Epoch 202/2000\n",
      "16500/16500 [==============================] - 0s - loss: 0.3699 - val_loss: 0.3732\n",
      "Epoch 203/2000\n",
      "16500/16500 [==============================] - 0s - loss: 0.3699 - val_loss: 0.3735\n",
      "Epoch 204/2000\n",
      "16500/16500 [==============================] - 0s - loss: 0.3698 - val_loss: 0.3733\n",
      "Epoch 205/2000\n",
      "16500/16500 [==============================] - 0s - loss: 0.3698 - val_loss: 0.3735\n",
      "Epoch 206/2000\n",
      "16500/16500 [==============================] - 0s - loss: 0.3697 - val_loss: 0.3730\n",
      "Epoch 207/2000\n",
      "16500/16500 [==============================] - 0s - loss: 0.3698 - val_loss: 0.3732\n",
      "Epoch 208/2000\n",
      "16500/16500 [==============================] - 0s - loss: 0.3696 - val_loss: 0.3734\n",
      "Epoch 209/2000\n",
      "16500/16500 [==============================] - 0s - loss: 0.3695 - val_loss: 0.3733\n",
      "Epoch 210/2000\n",
      "16500/16500 [==============================] - 0s - loss: 0.3695 - val_loss: 0.3735\n",
      "Epoch 211/2000\n",
      "16500/16500 [==============================] - 0s - loss: 0.3696 - val_loss: 0.3734\n",
      "Epoch 212/2000\n",
      "16500/16500 [==============================] - 0s - loss: 0.3695 - val_loss: 0.3735\n",
      "Epoch 213/2000\n",
      "16500/16500 [==============================] - 0s - loss: 0.3695 - val_loss: 0.3729ss: 0\n",
      "Epoch 214/2000\n",
      "16500/16500 [==============================] - 0s - loss: 0.3695 - val_loss: 0.3735\n",
      "Epoch 215/2000\n",
      "16500/16500 [==============================] - 0s - loss: 0.3695 - val_loss: 0.3734\n",
      "Epoch 216/2000\n",
      "16500/16500 [==============================] - 0s - loss: 0.3692 - val_loss: 0.3732\n",
      "Epoch 217/2000\n",
      "16500/16500 [==============================] - 0s - loss: 0.3693 - val_loss: 0.3733\n",
      "Epoch 218/2000\n",
      "16500/16500 [==============================] - 0s - loss: 0.3693 - val_loss: 0.3732\n",
      "Epoch 219/2000\n",
      "16500/16500 [==============================] - 0s - loss: 0.3694 - val_loss: 0.3728\n",
      "Epoch 220/2000\n",
      "16500/16500 [==============================] - 0s - loss: 0.3692 - val_loss: 0.3730\n",
      "Epoch 221/2000\n",
      "16500/16500 [==============================] - 0s - loss: 0.3692 - val_loss: 0.3729\n",
      "Epoch 222/2000\n",
      "16500/16500 [==============================] - 0s - loss: 0.3691 - val_loss: 0.3727\n",
      "Epoch 223/2000\n",
      "16500/16500 [==============================] - 0s - loss: 0.3690 - val_loss: 0.3727\n",
      "Epoch 224/2000\n",
      "16500/16500 [==============================] - 0s - loss: 0.3690 - val_loss: 0.3730\n",
      "Epoch 225/2000\n",
      "16500/16500 [==============================] - 0s - loss: 0.3690 - val_loss: 0.3726\n",
      "Epoch 226/2000\n",
      "16500/16500 [==============================] - 0s - loss: 0.3690 - val_loss: 0.3724\n",
      "Epoch 227/2000\n",
      "16500/16500 [==============================] - 0s - loss: 0.3689 - val_loss: 0.3724\n",
      "Epoch 228/2000\n",
      "16500/16500 [==============================] - 0s - loss: 0.3688 - val_loss: 0.3729\n",
      "Epoch 229/2000\n",
      "16500/16500 [==============================] - 0s - loss: 0.3688 - val_loss: 0.3726\n",
      "Epoch 230/2000\n",
      "16500/16500 [==============================] - 0s - loss: 0.3688 - val_loss: 0.3730\n",
      "Epoch 231/2000\n",
      "16500/16500 [==============================] - 0s - loss: 0.3688 - val_loss: 0.3729\n",
      "Epoch 232/2000\n",
      "16500/16500 [==============================] - 0s - loss: 0.3689 - val_loss: 0.3722\n",
      "Epoch 233/2000\n",
      "16500/16500 [==============================] - 0s - loss: 0.3688 - val_loss: 0.3727\n",
      "Epoch 234/2000\n",
      "16500/16500 [==============================] - 0s - loss: 0.3688 - val_loss: 0.3725\n",
      "Epoch 235/2000\n",
      "16500/16500 [==============================] - 0s - loss: 0.3686 - val_loss: 0.3725\n",
      "Epoch 236/2000\n",
      "16500/16500 [==============================] - 0s - loss: 0.3687 - val_loss: 0.3724\n",
      "Epoch 237/2000\n",
      "16500/16500 [==============================] - 0s - loss: 0.3686 - val_loss: 0.3727\n",
      "Epoch 238/2000\n",
      "16500/16500 [==============================] - 0s - loss: 0.3687 - val_loss: 0.3722\n",
      "Epoch 239/2000\n",
      "16500/16500 [==============================] - 0s - loss: 0.3686 - val_loss: 0.3729\n",
      "Epoch 240/2000\n",
      "16500/16500 [==============================] - 0s - loss: 0.3685 - val_loss: 0.3722\n",
      "Epoch 241/2000\n",
      "16500/16500 [==============================] - 0s - loss: 0.3686 - val_loss: 0.3721\n",
      "Epoch 242/2000\n",
      "16500/16500 [==============================] - 0s - loss: 0.3684 - val_loss: 0.3720\n",
      "Epoch 243/2000\n",
      "16500/16500 [==============================] - 0s - loss: 0.3684 - val_loss: 0.3725\n",
      "Epoch 244/2000\n",
      "16500/16500 [==============================] - 0s - loss: 0.3683 - val_loss: 0.3725\n",
      "Epoch 245/2000\n",
      "16500/16500 [==============================] - 0s - loss: 0.3683 - val_loss: 0.3723\n",
      "Epoch 246/2000\n",
      "16500/16500 [==============================] - 0s - loss: 0.3683 - val_loss: 0.3721\n",
      "Epoch 247/2000\n",
      "16500/16500 [==============================] - 0s - loss: 0.3685 - val_loss: 0.3724\n",
      "Epoch 248/2000\n",
      "16500/16500 [==============================] - 0s - loss: 0.3684 - val_loss: 0.3725\n",
      "Epoch 249/2000\n"
     ]
    },
    {
     "name": "stdout",
     "output_type": "stream",
     "text": [
      "16500/16500 [==============================] - 0s - loss: 0.3682 - val_loss: 0.3724\n",
      "Epoch 250/2000\n",
      "16500/16500 [==============================] - 0s - loss: 0.3683 - val_loss: 0.3722\n",
      "Epoch 251/2000\n",
      "16500/16500 [==============================] - 0s - loss: 0.3683 - val_loss: 0.3722\n",
      "Epoch 252/2000\n",
      "16500/16500 [==============================] - 0s - loss: 0.3683 - val_loss: 0.3724\n",
      "Epoch 253/2000\n",
      "16500/16500 [==============================] - 0s - loss: 0.3681 - val_loss: 0.3720\n",
      "Epoch 254/2000\n",
      "16500/16500 [==============================] - 0s - loss: 0.3681 - val_loss: 0.3721\n",
      "Epoch 255/2000\n",
      "16500/16500 [==============================] - 0s - loss: 0.3681 - val_loss: 0.3724\n",
      "Epoch 256/2000\n",
      "16500/16500 [==============================] - 0s - loss: 0.3681 - val_loss: 0.3721\n",
      "Epoch 257/2000\n",
      "16500/16500 [==============================] - 0s - loss: 0.3681 - val_loss: 0.3719\n",
      "Epoch 258/2000\n",
      "16500/16500 [==============================] - 0s - loss: 0.3680 - val_loss: 0.3720\n",
      "Epoch 259/2000\n",
      "16500/16500 [==============================] - 0s - loss: 0.3682 - val_loss: 0.3718\n",
      "Epoch 260/2000\n",
      "16500/16500 [==============================] - 0s - loss: 0.3682 - val_loss: 0.3722\n",
      "Epoch 261/2000\n",
      "16500/16500 [==============================] - 0s - loss: 0.3680 - val_loss: 0.3719\n",
      "Epoch 262/2000\n",
      "16500/16500 [==============================] - 0s - loss: 0.3679 - val_loss: 0.3721\n",
      "Epoch 263/2000\n",
      "16500/16500 [==============================] - 0s - loss: 0.3679 - val_loss: 0.3722\n",
      "Epoch 264/2000\n",
      "16500/16500 [==============================] - 0s - loss: 0.3678 - val_loss: 0.3720\n",
      "Epoch 265/2000\n",
      "16500/16500 [==============================] - 0s - loss: 0.3680 - val_loss: 0.3723\n",
      "Epoch 266/2000\n",
      "16500/16500 [==============================] - 0s - loss: 0.3680 - val_loss: 0.3719\n",
      "Epoch 267/2000\n",
      "16500/16500 [==============================] - 0s - loss: 0.3680 - val_loss: 0.3721\n",
      "Epoch 268/2000\n",
      "16500/16500 [==============================] - 0s - loss: 0.3678 - val_loss: 0.3715\n",
      "Epoch 269/2000\n",
      "16500/16500 [==============================] - 0s - loss: 0.3678 - val_loss: 0.3720\n",
      "Epoch 270/2000\n",
      "16500/16500 [==============================] - 0s - loss: 0.3678 - val_loss: 0.3719\n",
      "Epoch 271/2000\n",
      "16500/16500 [==============================] - 0s - loss: 0.3678 - val_loss: 0.3717\n",
      "Epoch 272/2000\n",
      "16500/16500 [==============================] - 0s - loss: 0.3676 - val_loss: 0.3719\n",
      "Epoch 273/2000\n",
      "16500/16500 [==============================] - 0s - loss: 0.3678 - val_loss: 0.3717\n",
      "Epoch 274/2000\n",
      "16500/16500 [==============================] - 0s - loss: 0.3676 - val_loss: 0.3719\n",
      "Epoch 275/2000\n",
      "16500/16500 [==============================] - 0s - loss: 0.3680 - val_loss: 0.3717\n",
      "Epoch 276/2000\n",
      "16500/16500 [==============================] - 0s - loss: 0.3678 - val_loss: 0.3717\n",
      "Epoch 277/2000\n",
      "16500/16500 [==============================] - 0s - loss: 0.3676 - val_loss: 0.3717\n",
      "Epoch 278/2000\n",
      "16500/16500 [==============================] - 0s - loss: 0.3678 - val_loss: 0.3719\n",
      "Epoch 279/2000\n",
      "16500/16500 [==============================] - 0s - loss: 0.3677 - val_loss: 0.3715\n",
      "Epoch 280/2000\n",
      "16500/16500 [==============================] - 0s - loss: 0.3675 - val_loss: 0.3716\n",
      "Epoch 281/2000\n",
      "16500/16500 [==============================] - 0s - loss: 0.3676 - val_loss: 0.3713\n",
      "Epoch 282/2000\n",
      "16500/16500 [==============================] - 0s - loss: 0.3675 - val_loss: 0.3716\n",
      "Epoch 283/2000\n",
      "16500/16500 [==============================] - 0s - loss: 0.3675 - val_loss: 0.3716\n",
      "Epoch 284/2000\n",
      "16500/16500 [==============================] - 0s - loss: 0.3675 - val_loss: 0.3715\n",
      "Epoch 285/2000\n",
      "16500/16500 [==============================] - 0s - loss: 0.3673 - val_loss: 0.3714\n",
      "Epoch 286/2000\n",
      "16500/16500 [==============================] - 0s - loss: 0.3675 - val_loss: 0.3716\n",
      "Epoch 287/2000\n",
      "16500/16500 [==============================] - 0s - loss: 0.3674 - val_loss: 0.3714\n",
      "Epoch 288/2000\n",
      "16500/16500 [==============================] - 0s - loss: 0.3674 - val_loss: 0.3713\n",
      "Epoch 289/2000\n",
      "16500/16500 [==============================] - 0s - loss: 0.3673 - val_loss: 0.3715\n",
      "Epoch 290/2000\n",
      "16500/16500 [==============================] - 0s - loss: 0.3673 - val_loss: 0.3715\n",
      "Epoch 291/2000\n",
      "16500/16500 [==============================] - 0s - loss: 0.3675 - val_loss: 0.3713\n",
      "Epoch 292/2000\n",
      "16500/16500 [==============================] - 0s - loss: 0.3673 - val_loss: 0.3716\n",
      "Epoch 293/2000\n",
      "16500/16500 [==============================] - 0s - loss: 0.3673 - val_loss: 0.3713\n",
      "Epoch 294/2000\n",
      "16500/16500 [==============================] - 0s - loss: 0.3673 - val_loss: 0.3715\n",
      "Epoch 295/2000\n",
      "16500/16500 [==============================] - 0s - loss: 0.3672 - val_loss: 0.3712\n",
      "Epoch 296/2000\n",
      "16500/16500 [==============================] - 0s - loss: 0.3672 - val_loss: 0.3712\n",
      "Epoch 297/2000\n",
      "16500/16500 [==============================] - 0s - loss: 0.3672 - val_loss: 0.3713\n",
      "Epoch 298/2000\n",
      "16500/16500 [==============================] - 0s - loss: 0.3673 - val_loss: 0.3711\n",
      "Epoch 299/2000\n",
      "16500/16500 [==============================] - 0s - loss: 0.3673 - val_loss: 0.3713\n",
      "Epoch 300/2000\n",
      "16500/16500 [==============================] - 0s - loss: 0.3671 - val_loss: 0.3714\n",
      "Epoch 301/2000\n",
      "16500/16500 [==============================] - 0s - loss: 0.3672 - val_loss: 0.3712\n",
      "Epoch 302/2000\n",
      "16500/16500 [==============================] - 0s - loss: 0.3672 - val_loss: 0.3712\n",
      "Epoch 303/2000\n",
      "16500/16500 [==============================] - 0s - loss: 0.3671 - val_loss: 0.3711\n",
      "Epoch 304/2000\n",
      "16500/16500 [==============================] - 0s - loss: 0.3669 - val_loss: 0.3711\n",
      "Epoch 305/2000\n",
      "16500/16500 [==============================] - 0s - loss: 0.3670 - val_loss: 0.3714\n",
      "Epoch 306/2000\n",
      "16500/16500 [==============================] - 0s - loss: 0.3672 - val_loss: 0.3709\n",
      "Epoch 307/2000\n",
      "16500/16500 [==============================] - 0s - loss: 0.3671 - val_loss: 0.3711\n",
      "Epoch 308/2000\n",
      "16500/16500 [==============================] - 0s - loss: 0.3671 - val_loss: 0.3710\n",
      "Epoch 309/2000\n",
      "16500/16500 [==============================] - 0s - loss: 0.3669 - val_loss: 0.3713\n",
      "Epoch 310/2000\n",
      "16500/16500 [==============================] - 0s - loss: 0.3671 - val_loss: 0.3710\n",
      "Epoch 311/2000\n",
      "16500/16500 [==============================] - 0s - loss: 0.3669 - val_loss: 0.3708\n",
      "Epoch 312/2000\n",
      "16500/16500 [==============================] - 0s - loss: 0.3668 - val_loss: 0.3713\n",
      "Epoch 313/2000\n",
      "16500/16500 [==============================] - 0s - loss: 0.3670 - val_loss: 0.3712\n",
      "Epoch 314/2000\n",
      "16500/16500 [==============================] - 0s - loss: 0.3671 - val_loss: 0.3708\n",
      "Epoch 315/2000\n",
      "16500/16500 [==============================] - 0s - loss: 0.3670 - val_loss: 0.3708\n",
      "Epoch 316/2000\n",
      "16500/16500 [==============================] - 0s - loss: 0.3667 - val_loss: 0.3708\n",
      "Epoch 317/2000\n",
      "16500/16500 [==============================] - 0s - loss: 0.3667 - val_loss: 0.3709\n",
      "Epoch 318/2000\n",
      "16500/16500 [==============================] - 0s - loss: 0.3668 - val_loss: 0.3710\n",
      "Epoch 319/2000\n",
      "16500/16500 [==============================] - 0s - loss: 0.3670 - val_loss: 0.3710\n",
      "Epoch 320/2000\n",
      "16500/16500 [==============================] - 0s - loss: 0.3668 - val_loss: 0.3709\n",
      "Epoch 321/2000\n",
      "16500/16500 [==============================] - 0s - loss: 0.3667 - val_loss: 0.3707\n",
      "Epoch 322/2000\n",
      "16500/16500 [==============================] - 0s - loss: 0.3667 - val_loss: 0.3709\n",
      "Epoch 323/2000\n",
      "16500/16500 [==============================] - 0s - loss: 0.3667 - val_loss: 0.3708\n",
      "Epoch 324/2000\n",
      "16500/16500 [==============================] - 0s - loss: 0.3667 - val_loss: 0.3707\n",
      "Epoch 325/2000\n",
      "16500/16500 [==============================] - 0s - loss: 0.3666 - val_loss: 0.3707\n",
      "Epoch 326/2000\n",
      "16500/16500 [==============================] - 0s - loss: 0.3666 - val_loss: 0.3709\n",
      "Epoch 327/2000\n",
      "16500/16500 [==============================] - 0s - loss: 0.3666 - val_loss: 0.3708\n",
      "Epoch 328/2000\n",
      "16500/16500 [==============================] - 0s - loss: 0.3666 - val_loss: 0.3704\n",
      "Epoch 329/2000\n",
      "16500/16500 [==============================] - 0s - loss: 0.3666 - val_loss: 0.3705\n",
      "Epoch 330/2000\n",
      "16500/16500 [==============================] - 0s - loss: 0.3667 - val_loss: 0.3704ss\n",
      "Epoch 331/2000\n"
     ]
    },
    {
     "name": "stdout",
     "output_type": "stream",
     "text": [
      "16500/16500 [==============================] - 0s - loss: 0.3665 - val_loss: 0.3707\n",
      "Epoch 332/2000\n",
      "16500/16500 [==============================] - 0s - loss: 0.3665 - val_loss: 0.3706\n",
      "Epoch 333/2000\n",
      "16500/16500 [==============================] - 0s - loss: 0.3666 - val_loss: 0.3705\n",
      "Epoch 334/2000\n",
      "16500/16500 [==============================] - 0s - loss: 0.3665 - val_loss: 0.3707\n",
      "Epoch 335/2000\n",
      "16500/16500 [==============================] - 0s - loss: 0.3665 - val_loss: 0.3704\n",
      "Epoch 336/2000\n",
      "16500/16500 [==============================] - 0s - loss: 0.3665 - val_loss: 0.3704\n",
      "Epoch 337/2000\n",
      "16500/16500 [==============================] - 0s - loss: 0.3664 - val_loss: 0.3701\n",
      "Epoch 338/2000\n",
      "16500/16500 [==============================] - 0s - loss: 0.3663 - val_loss: 0.3705\n",
      "Epoch 339/2000\n",
      "16500/16500 [==============================] - 0s - loss: 0.3663 - val_loss: 0.3701\n",
      "Epoch 340/2000\n",
      "15000/16500 [==========================>...] - ETA: 0s - loss: 0.3658"
     ]
    },
    {
     "ename": "KeyboardInterrupt",
     "evalue": "",
     "output_type": "error",
     "traceback": [
      "\u001b[0;31m---------------------------------------------------------------------------\u001b[0m",
      "\u001b[0;31mKeyboardInterrupt\u001b[0m                         Traceback (most recent call last)",
      "\u001b[0;32m<ipython-input-207-2091dbdc7a2e>\u001b[0m in \u001b[0;36m<module>\u001b[0;34m()\u001b[0m\n\u001b[1;32m      1\u001b[0m history_raw = model.Fit(corrected_features_train, corrected_features_test,\n\u001b[0;32m----> 2\u001b[0;31m                 epochs=2000, batch_size=500, shuffle=True)#, callbacks=[checkpointer])\n\u001b[0m",
      "\u001b[0;32m<ipython-input-201-cb714fd2c20b>\u001b[0m in \u001b[0;36mFit\u001b[0;34m(self, features_train, features_test, **kwargs)\u001b[0m\n\u001b[1;32m    107\u001b[0m                                         \u001b[0mfeatures_train\u001b[0m\u001b[0;34m,\u001b[0m\u001b[0;34m\u001b[0m\u001b[0m\n\u001b[1;32m    108\u001b[0m                                         \u001b[0mvalidation_data\u001b[0m\u001b[0;34m=\u001b[0m\u001b[0;34m(\u001b[0m\u001b[0mfeatures_test\u001b[0m\u001b[0;34m,\u001b[0m \u001b[0mfeatures_test\u001b[0m\u001b[0;34m)\u001b[0m\u001b[0;34m,\u001b[0m\u001b[0;34m\u001b[0m\u001b[0m\n\u001b[0;32m--> 109\u001b[0;31m                                         **kwargs)\n\u001b[0m\u001b[1;32m    110\u001b[0m \u001b[0;34m\u001b[0m\u001b[0m\n\u001b[1;32m    111\u001b[0m     \u001b[0;32mdef\u001b[0m \u001b[0mEncode\u001b[0m\u001b[0;34m(\u001b[0m\u001b[0mself\u001b[0m\u001b[0;34m,\u001b[0m \u001b[0mfeatures\u001b[0m\u001b[0;34m,\u001b[0m \u001b[0;34m**\u001b[0m\u001b[0mkwargs\u001b[0m\u001b[0;34m)\u001b[0m\u001b[0;34m:\u001b[0m\u001b[0;34m\u001b[0m\u001b[0m\n",
      "\u001b[0;32m/home/ryanj/miniconda2/lib/python2.7/site-packages/keras/engine/training.pyc\u001b[0m in \u001b[0;36mfit\u001b[0;34m(self, x, y, batch_size, epochs, verbose, callbacks, validation_split, validation_data, shuffle, class_weight, sample_weight, initial_epoch, steps_per_epoch, validation_steps, **kwargs)\u001b[0m\n\u001b[1;32m   1596\u001b[0m                               \u001b[0minitial_epoch\u001b[0m\u001b[0;34m=\u001b[0m\u001b[0minitial_epoch\u001b[0m\u001b[0;34m,\u001b[0m\u001b[0;34m\u001b[0m\u001b[0m\n\u001b[1;32m   1597\u001b[0m                               \u001b[0msteps_per_epoch\u001b[0m\u001b[0;34m=\u001b[0m\u001b[0msteps_per_epoch\u001b[0m\u001b[0;34m,\u001b[0m\u001b[0;34m\u001b[0m\u001b[0m\n\u001b[0;32m-> 1598\u001b[0;31m                               validation_steps=validation_steps)\n\u001b[0m\u001b[1;32m   1599\u001b[0m \u001b[0;34m\u001b[0m\u001b[0m\n\u001b[1;32m   1600\u001b[0m     def evaluate(self, x, y,\n",
      "\u001b[0;32m/home/ryanj/miniconda2/lib/python2.7/site-packages/keras/engine/training.pyc\u001b[0m in \u001b[0;36m_fit_loop\u001b[0;34m(self, f, ins, out_labels, batch_size, epochs, verbose, callbacks, val_f, val_ins, shuffle, callback_metrics, initial_epoch, steps_per_epoch, validation_steps)\u001b[0m\n\u001b[1;32m   1195\u001b[0m                             val_outs = self._test_loop(val_f, val_ins,\n\u001b[1;32m   1196\u001b[0m                                                        \u001b[0mbatch_size\u001b[0m\u001b[0;34m=\u001b[0m\u001b[0mbatch_size\u001b[0m\u001b[0;34m,\u001b[0m\u001b[0;34m\u001b[0m\u001b[0m\n\u001b[0;32m-> 1197\u001b[0;31m                                                        verbose=0)\n\u001b[0m\u001b[1;32m   1198\u001b[0m                             \u001b[0;32mif\u001b[0m \u001b[0;32mnot\u001b[0m \u001b[0misinstance\u001b[0m\u001b[0;34m(\u001b[0m\u001b[0mval_outs\u001b[0m\u001b[0;34m,\u001b[0m \u001b[0mlist\u001b[0m\u001b[0;34m)\u001b[0m\u001b[0;34m:\u001b[0m\u001b[0;34m\u001b[0m\u001b[0m\n\u001b[1;32m   1199\u001b[0m                                 \u001b[0mval_outs\u001b[0m \u001b[0;34m=\u001b[0m \u001b[0;34m[\u001b[0m\u001b[0mval_outs\u001b[0m\u001b[0;34m]\u001b[0m\u001b[0;34m\u001b[0m\u001b[0m\n",
      "\u001b[0;32m/home/ryanj/miniconda2/lib/python2.7/site-packages/keras/engine/training.pyc\u001b[0m in \u001b[0;36m_test_loop\u001b[0;34m(self, f, ins, batch_size, verbose, steps)\u001b[0m\n\u001b[1;32m   1337\u001b[0m                     \u001b[0mins_batch\u001b[0m \u001b[0;34m=\u001b[0m \u001b[0m_slice_arrays\u001b[0m\u001b[0;34m(\u001b[0m\u001b[0mins\u001b[0m\u001b[0;34m,\u001b[0m \u001b[0mbatch_ids\u001b[0m\u001b[0;34m)\u001b[0m\u001b[0;34m\u001b[0m\u001b[0m\n\u001b[1;32m   1338\u001b[0m \u001b[0;34m\u001b[0m\u001b[0m\n\u001b[0;32m-> 1339\u001b[0;31m                 \u001b[0mbatch_outs\u001b[0m \u001b[0;34m=\u001b[0m \u001b[0mf\u001b[0m\u001b[0;34m(\u001b[0m\u001b[0mins_batch\u001b[0m\u001b[0;34m)\u001b[0m\u001b[0;34m\u001b[0m\u001b[0m\n\u001b[0m\u001b[1;32m   1340\u001b[0m                 \u001b[0;32mif\u001b[0m \u001b[0misinstance\u001b[0m\u001b[0;34m(\u001b[0m\u001b[0mbatch_outs\u001b[0m\u001b[0;34m,\u001b[0m \u001b[0mlist\u001b[0m\u001b[0;34m)\u001b[0m\u001b[0;34m:\u001b[0m\u001b[0;34m\u001b[0m\u001b[0m\n\u001b[1;32m   1341\u001b[0m                     \u001b[0;32mif\u001b[0m \u001b[0mbatch_index\u001b[0m \u001b[0;34m==\u001b[0m \u001b[0;36m0\u001b[0m\u001b[0;34m:\u001b[0m\u001b[0;34m\u001b[0m\u001b[0m\n",
      "\u001b[0;32m/home/ryanj/miniconda2/lib/python2.7/site-packages/keras/backend/theano_backend.pyc\u001b[0m in \u001b[0;36m__call__\u001b[0;34m(self, inputs)\u001b[0m\n\u001b[1;32m   1220\u001b[0m     \u001b[0;32mdef\u001b[0m \u001b[0m__call__\u001b[0m\u001b[0;34m(\u001b[0m\u001b[0mself\u001b[0m\u001b[0;34m,\u001b[0m \u001b[0minputs\u001b[0m\u001b[0;34m)\u001b[0m\u001b[0;34m:\u001b[0m\u001b[0;34m\u001b[0m\u001b[0m\n\u001b[1;32m   1221\u001b[0m         \u001b[0;32massert\u001b[0m \u001b[0misinstance\u001b[0m\u001b[0;34m(\u001b[0m\u001b[0minputs\u001b[0m\u001b[0;34m,\u001b[0m \u001b[0;34m(\u001b[0m\u001b[0mlist\u001b[0m\u001b[0;34m,\u001b[0m \u001b[0mtuple\u001b[0m\u001b[0;34m)\u001b[0m\u001b[0;34m)\u001b[0m\u001b[0;34m\u001b[0m\u001b[0m\n\u001b[0;32m-> 1222\u001b[0;31m         \u001b[0;32mreturn\u001b[0m \u001b[0mself\u001b[0m\u001b[0;34m.\u001b[0m\u001b[0mfunction\u001b[0m\u001b[0;34m(\u001b[0m\u001b[0;34m*\u001b[0m\u001b[0minputs\u001b[0m\u001b[0;34m)\u001b[0m\u001b[0;34m\u001b[0m\u001b[0m\n\u001b[0m\u001b[1;32m   1223\u001b[0m \u001b[0;34m\u001b[0m\u001b[0m\n\u001b[1;32m   1224\u001b[0m \u001b[0;34m\u001b[0m\u001b[0m\n",
      "\u001b[0;32m/home/ryanj/miniconda2/lib/python2.7/site-packages/theano/compile/function_module.pyc\u001b[0m in \u001b[0;36m__call__\u001b[0;34m(self, *args, **kwargs)\u001b[0m\n\u001b[1;32m    901\u001b[0m         \u001b[0;32mtry\u001b[0m\u001b[0;34m:\u001b[0m\u001b[0;34m\u001b[0m\u001b[0m\n\u001b[1;32m    902\u001b[0m             \u001b[0moutputs\u001b[0m \u001b[0;34m=\u001b[0m\u001b[0;31m\\\u001b[0m\u001b[0;34m\u001b[0m\u001b[0m\n\u001b[0;32m--> 903\u001b[0;31m                 \u001b[0mself\u001b[0m\u001b[0;34m.\u001b[0m\u001b[0mfn\u001b[0m\u001b[0;34m(\u001b[0m\u001b[0;34m)\u001b[0m \u001b[0;32mif\u001b[0m \u001b[0moutput_subset\u001b[0m \u001b[0;32mis\u001b[0m \u001b[0mNone\u001b[0m \u001b[0;32melse\u001b[0m\u001b[0;31m\\\u001b[0m\u001b[0;34m\u001b[0m\u001b[0m\n\u001b[0m\u001b[1;32m    904\u001b[0m                 \u001b[0mself\u001b[0m\u001b[0;34m.\u001b[0m\u001b[0mfn\u001b[0m\u001b[0;34m(\u001b[0m\u001b[0moutput_subset\u001b[0m\u001b[0;34m=\u001b[0m\u001b[0moutput_subset\u001b[0m\u001b[0;34m)\u001b[0m\u001b[0;34m\u001b[0m\u001b[0m\n\u001b[1;32m    905\u001b[0m         \u001b[0;32mexcept\u001b[0m \u001b[0mException\u001b[0m\u001b[0;34m:\u001b[0m\u001b[0;34m\u001b[0m\u001b[0m\n",
      "\u001b[0;32m/home/ryanj/miniconda2/lib/python2.7/site-packages/theano/gof/op.pyc\u001b[0m in \u001b[0;36mrval\u001b[0;34m(p, i, o, n)\u001b[0m\n\u001b[1;32m    889\u001b[0m         \u001b[0;32mif\u001b[0m \u001b[0mparams\u001b[0m \u001b[0;32mis\u001b[0m \u001b[0mgraph\u001b[0m\u001b[0;34m.\u001b[0m\u001b[0mNoParams\u001b[0m\u001b[0;34m:\u001b[0m\u001b[0;34m\u001b[0m\u001b[0m\n\u001b[1;32m    890\u001b[0m             \u001b[0;31m# default arguments are stored in the closure of `rval`\u001b[0m\u001b[0;34m\u001b[0m\u001b[0;34m\u001b[0m\u001b[0m\n\u001b[0;32m--> 891\u001b[0;31m             \u001b[0;32mdef\u001b[0m \u001b[0mrval\u001b[0m\u001b[0;34m(\u001b[0m\u001b[0mp\u001b[0m\u001b[0;34m=\u001b[0m\u001b[0mp\u001b[0m\u001b[0;34m,\u001b[0m \u001b[0mi\u001b[0m\u001b[0;34m=\u001b[0m\u001b[0mnode_input_storage\u001b[0m\u001b[0;34m,\u001b[0m \u001b[0mo\u001b[0m\u001b[0;34m=\u001b[0m\u001b[0mnode_output_storage\u001b[0m\u001b[0;34m,\u001b[0m \u001b[0mn\u001b[0m\u001b[0;34m=\u001b[0m\u001b[0mnode\u001b[0m\u001b[0;34m)\u001b[0m\u001b[0;34m:\u001b[0m\u001b[0;34m\u001b[0m\u001b[0m\n\u001b[0m\u001b[1;32m    892\u001b[0m                 \u001b[0mr\u001b[0m \u001b[0;34m=\u001b[0m \u001b[0mp\u001b[0m\u001b[0;34m(\u001b[0m\u001b[0mn\u001b[0m\u001b[0;34m,\u001b[0m \u001b[0;34m[\u001b[0m\u001b[0mx\u001b[0m\u001b[0;34m[\u001b[0m\u001b[0;36m0\u001b[0m\u001b[0;34m]\u001b[0m \u001b[0;32mfor\u001b[0m \u001b[0mx\u001b[0m \u001b[0;32min\u001b[0m \u001b[0mi\u001b[0m\u001b[0;34m]\u001b[0m\u001b[0;34m,\u001b[0m \u001b[0mo\u001b[0m\u001b[0;34m)\u001b[0m\u001b[0;34m\u001b[0m\u001b[0m\n\u001b[1;32m    893\u001b[0m                 \u001b[0;32mfor\u001b[0m \u001b[0mo\u001b[0m \u001b[0;32min\u001b[0m \u001b[0mnode\u001b[0m\u001b[0;34m.\u001b[0m\u001b[0moutputs\u001b[0m\u001b[0;34m:\u001b[0m\u001b[0;34m\u001b[0m\u001b[0m\n",
      "\u001b[0;31mKeyboardInterrupt\u001b[0m: "
     ]
    }
   ],
   "source": [
    "history_raw = model.Fit(corrected_features_train, corrected_features_test,\n",
    "                epochs=2000, batch_size=500, shuffle=True)#, callbacks=[checkpointer])"
   ]
  },
  {
   "cell_type": "code",
   "execution_count": 78,
   "metadata": {
    "collapsed": true
   },
   "outputs": [],
   "source": [
    "#savetxt('./model/val_loss_linear.txt', history_raw.history['val_loss'])"
   ]
  },
  {
   "cell_type": "markdown",
   "metadata": {},
   "source": [
    "### Check out the results "
   ]
  },
  {
   "cell_type": "code",
   "execution_count": 208,
   "metadata": {
    "collapsed": true
   },
   "outputs": [],
   "source": [
    "import matplotlib.pyplot as plt\n",
    "import numpy as np\n",
    "from copy import deepcopy\n",
    "%matplotlib inline "
   ]
  },
  {
   "cell_type": "code",
   "execution_count": 209,
   "metadata": {
    "collapsed": true
   },
   "outputs": [],
   "source": [
    "encoded_data = model.Encode(corrected_features)"
   ]
  },
  {
   "cell_type": "code",
   "execution_count": 210,
   "metadata": {
    "collapsed": true
   },
   "outputs": [],
   "source": [
    "from numpy import mean"
   ]
  },
  {
   "cell_type": "code",
   "execution_count": 211,
   "metadata": {
    "collapsed": true
   },
   "outputs": [],
   "source": [
    "OP = []\n",
    "for i in range(len(etas)):\n",
    "    OP.append(mean(encoded_data[:,0][i*400:i*400+400]))"
   ]
  },
  {
   "cell_type": "code",
   "execution_count": 213,
   "metadata": {},
   "outputs": [
    {
     "name": "stderr",
     "output_type": "stream",
     "text": [
      "/home/ryanj/miniconda2/lib/python2.7/site-packages/ipykernel_launcher.py:14: MatplotlibDeprecationWarning: The set_axis_bgcolor function was deprecated in version 2.0. Use set_facecolor instead.\n",
      "  \n"
     ]
    },
    {
     "data": {
      "image/png": "[encoded data removed]",
      "text/plain": [
       "<matplotlib.figure.Figure at 0x7fde0f497d50>"
      ]
     },
     "metadata": {},
     "output_type": "display_data"
    }
   ],
   "source": [
    "#plot the principal components\n",
    "colors = 200*['green', 'purple', 'orange', 'teal', 'black', 'red']\n",
    "\n",
    "#highlight the transition region if found\n",
    "plt.axvspan(0.700, 0.716, alpha=0.2, color='grey')\n",
    "plt.axvspan(0.716, 0.745, alpha=0.2, color='blue')\n",
    "\n",
    "plt.plot(etas, array(OP), marker='o', linewidth=0.0, markersize=10, color = 'orange', alpha=1.0, markerfacecolor='None') \n",
    "\n",
    "\n",
    "#backround grid details\n",
    "axes = plt.gca()\n",
    "axes.grid(b = True, which = 'both', axis = 'both', color = 'gray', linestyle = '-', alpha = 0.5, linewidth = 0.5) \n",
    "axes.set_axis_bgcolor('white')  \n",
    "\n",
    "#font scpecifications\n",
    "title_font = {'family' : 'arial', 'color'  : 'black', 'weight' : 'heavy','size': 20}\n",
    "axis_label_font = {'family' : 'arial', 'color'  : 'black', 'weight' : 'normal','size': 20}                                                   \n",
    "\n",
    "#figure size and tick style\n",
    "plt.rcParams[\"figure.figsize\"] = [6,6]\n",
    "plt.rc('axes',edgecolor='black',linewidth=1)\n",
    "plt.tick_params(which='both', axis='both', color='black', length=4, width=0.5)\n",
    "plt.rcParams['xtick.direction'] = 'in'\n",
    "plt.rcParams['ytick.direction'] = 'in'\n",
    "\n",
    "#plt.yscale('log')\n",
    "#plt.ylim(0,0.3)\n",
    "\n",
    "plt.xlabel(r'$P_{1}$', y=3, fontsize=20, fontdict = axis_label_font)\n",
    "plt.ylabel(r'$P_{1}$', fontsize=20, fontdict = axis_label_font)\n",
    "\n",
    "#title and axis labels\n",
    "plt.tick_params(axis='both', labelsize=20)\n",
    "plt.title('Autoencoder', y=1.05, fontdict = title_font)\n",
    "\n",
    "plt.show()"
   ]
  },
  {
   "cell_type": "code",
   "execution_count": 134,
   "metadata": {},
   "outputs": [
    {
     "name": "stderr",
     "output_type": "stream",
     "text": [
      "/home/ryanj/miniconda2/lib/python2.7/site-packages/ipykernel_launcher.py:14: MatplotlibDeprecationWarning: The set_axis_bgcolor function was deprecated in version 2.0. Use set_facecolor instead.\n",
      "  \n"
     ]
    },
    {
     "data": {
      "image/png": "[encoded data removed]",
      "text/plain": [
       "<matplotlib.figure.Figure at 0x7fde0114e590>"
      ]
     },
     "metadata": {},
     "output_type": "display_data"
    }
   ],
   "source": [
    "#plot the principal components\n",
    "colors = 200*['green', 'purple', 'orange', 'teal', 'black', 'red']\n",
    "\n",
    "#highlight the transition region if found\n",
    "plt.axvspan(0.700, 0.716, alpha=0.2, color='grey')\n",
    "plt.axvspan(0.716, 0.745, alpha=0.2, color='blue')\n",
    "\n",
    "plt.plot(etas, array(OP), marker='o', linewidth=0.0, markersize=10, color = 'orange', alpha=1.0, markerfacecolor='None') \n",
    "\n",
    "\n",
    "#backround grid details\n",
    "axes = plt.gca()\n",
    "axes.grid(b = True, which = 'both', axis = 'both', color = 'gray', linestyle = '-', alpha = 0.5, linewidth = 0.5) \n",
    "axes.set_axis_bgcolor('white')  \n",
    "\n",
    "#font scpecifications\n",
    "title_font = {'family' : 'arial', 'color'  : 'black', 'weight' : 'heavy','size': 20}\n",
    "axis_label_font = {'family' : 'arial', 'color'  : 'black', 'weight' : 'normal','size': 20}                                                   \n",
    "\n",
    "#figure size and tick style\n",
    "plt.rcParams[\"figure.figsize\"] = [6,6]\n",
    "plt.rc('axes',edgecolor='black',linewidth=1)\n",
    "plt.tick_params(which='both', axis='both', color='black', length=4, width=0.5)\n",
    "plt.rcParams['xtick.direction'] = 'in'\n",
    "plt.rcParams['ytick.direction'] = 'in'\n",
    "\n",
    "#plt.yscale('log')\n",
    "#plt.ylim(0,0.3)\n",
    "\n",
    "plt.xlabel(r'$P_{1}$', y=3, fontsize=20, fontdict = axis_label_font)\n",
    "plt.ylabel(r'$P_{1}$', fontsize=20, fontdict = axis_label_font)\n",
    "\n",
    "#title and axis labels\n",
    "plt.tick_params(axis='both', labelsize=20)\n",
    "plt.title('Autoencoder', y=1.05, fontdict = title_font)\n",
    "\n",
    "plt.show()"
   ]
  },
  {
   "cell_type": "code",
   "execution_count": 47,
   "metadata": {},
   "outputs": [
    {
     "name": "stderr",
     "output_type": "stream",
     "text": [
      "/home/ryanj/miniconda2/lib/python2.7/site-packages/ipykernel_launcher.py:14: MatplotlibDeprecationWarning: The set_axis_bgcolor function was deprecated in version 2.0. Use set_facecolor instead.\n",
      "  \n"
     ]
    },
    {
     "data": {
      "image/png": "[encoded data removed]",
      "text/plain": [
       "<matplotlib.figure.Figure at 0x7f0eabc7cc10>"
      ]
     },
     "metadata": {},
     "output_type": "display_data"
    }
   ],
   "source": [
    "#plot the principal components\n",
    "colors = 200*['green', 'purple', 'orange', 'teal', 'black', 'red']\n",
    "\n",
    "#highlight the transition region if found\n",
    "plt.axvspan(0.700, 0.716, alpha=0.2, color='grey')\n",
    "plt.axvspan(0.716, 0.745, alpha=0.2, color='blue')\n",
    "\n",
    "plt.plot(etas, array(OP), marker='o', linewidth=0.0, markersize=10, color = 'orange', alpha=1.0, markerfacecolor='None') \n",
    "\n",
    "\n",
    "#backround grid details\n",
    "axes = plt.gca()\n",
    "axes.grid(b = True, which = 'both', axis = 'both', color = 'gray', linestyle = '-', alpha = 0.5, linewidth = 0.5) \n",
    "axes.set_axis_bgcolor('white')  \n",
    "\n",
    "#font scpecifications\n",
    "title_font = {'family' : 'arial', 'color'  : 'black', 'weight' : 'heavy','size': 20}\n",
    "axis_label_font = {'family' : 'arial', 'color'  : 'black', 'weight' : 'normal','size': 20}                                                   \n",
    "\n",
    "#figure size and tick style\n",
    "plt.rcParams[\"figure.figsize\"] = [6,6]\n",
    "plt.rc('axes',edgecolor='black',linewidth=1)\n",
    "plt.tick_params(which='both', axis='both', color='black', length=4, width=0.5)\n",
    "plt.rcParams['xtick.direction'] = 'in'\n",
    "plt.rcParams['ytick.direction'] = 'in'\n",
    "\n",
    "#plt.yscale('log')\n",
    "#plt.ylim(0,0.3)\n",
    "\n",
    "plt.xlabel(r'$P_{1}$', y=3, fontsize=20, fontdict = axis_label_font)\n",
    "plt.ylabel(r'$P_{1}$', fontsize=20, fontdict = axis_label_font)\n",
    "\n",
    "#title and axis labels\n",
    "plt.tick_params(axis='both', labelsize=20)\n",
    "plt.title('Autoencoder', y=1.05, fontdict = title_font)\n",
    "\n",
    "plt.show()"
   ]
  },
  {
   "cell_type": "code",
   "execution_count": null,
   "metadata": {
    "collapsed": true
   },
   "outputs": [],
   "source": []
  },
  {
   "cell_type": "markdown",
   "metadata": {},
   "source": [
    "## Check out the 10 iterations"
   ]
  },
  {
   "cell_type": "code",
   "execution_count": 87,
   "metadata": {
    "collapsed": true
   },
   "outputs": [],
   "source": [
    "from numpy import mean, loadtxt"
   ]
  },
  {
   "cell_type": "code",
   "execution_count": 19,
   "metadata": {
    "collapsed": true
   },
   "outputs": [],
   "source": [
    "model = AutoEncoder(dim=dim, encode_dim=1, \n",
    "                    initial_growth=0.25, shrink=0.65,\n",
    "                    activation='selu', kernel_initializer='lecun_normal')"
   ]
  },
  {
   "cell_type": "code",
   "execution_count": 90,
   "metadata": {},
   "outputs": [
    {
     "name": "stdout",
     "output_type": "stream",
     "text": [
      "0\n",
      "1\n",
      "2\n",
      "3\n",
      "4\n",
      "5\n",
      "6\n",
      "7\n",
      "8\n",
      "9\n",
      "linear\n"
     ]
    }
   ],
   "source": [
    "OP_set = []\n",
    "error_set = []\n",
    "for i in range(10):\n",
    "    print i\n",
    "    model.autoencoder.load_weights('./model/weights_{}.hdf5'.format(i))\n",
    "    model.Compile(optimizer='adamax', loss='mean_squared_error')\n",
    "    encoded_data = model.Predict(corrected_features)\n",
    "    OP = []\n",
    "    for j in range(len(etas)):\n",
    "        OP.append(mean(encoded_data[:,0][j*400:j*400+400]))\n",
    "    OP_set.append(OP)\n",
    "    error_set.append(loadtxt('./model/val_loss_{}.txt'.format(i)))\n",
    "\n",
    "print 'linear'\n",
    "model.autoencoder.load_weights('./model/weights_linear.hdf5'.format(i))\n",
    "model.Compile(optimizer='adamax', loss='mean_squared_error')\n",
    "encoded_data = model.Predict(corrected_features)\n",
    "OP_linear = []\n",
    "for i in range(len(etas)):\n",
    "    OP_linear.append(mean(encoded_data[:,0][i*400:i*400+400]))\n",
    "error_linear = loadtxt('./model/val_loss_linear.txt')"
   ]
  },
  {
   "cell_type": "code",
   "execution_count": 106,
   "metadata": {},
   "outputs": [
    {
     "name": "stderr",
     "output_type": "stream",
     "text": [
      "/home/ryanj/miniconda2/lib/python2.7/site-packages/ipykernel_launcher.py:16: MatplotlibDeprecationWarning: The set_axis_bgcolor function was deprecated in version 2.0. Use set_facecolor instead.\n",
      "  app.launch_new_instance()\n"
     ]
    },
    {
     "data": {
      "image/png": "[encoded data removed]",
      "text/plain": [
       "<matplotlib.figure.Figure at 0x7f295d3e7a50>"
      ]
     },
     "metadata": {},
     "output_type": "display_data"
    }
   ],
   "source": [
    "#plot the principal components\n",
    "colors = 200*['green', 'purple', 'orange', 'teal', 'red', 'brown', 'yellow', 'blue', 'purple', 'cyan']\n",
    "\n",
    "#highlight the transition region if found\n",
    "plt.axvspan(0.700, 0.716, alpha=0.2, color='grey')\n",
    "plt.axvspan(0.716, 0.745, alpha=0.2, color='blue')\n",
    "\n",
    "for i in range(len(OP_set)):\n",
    "    plt.plot(range(len(error_set[i])), error_set[i], marker='o', linewidth=0.0, markersize=5, color = colors[i], alpha=1.0, markerfacecolor='None')\n",
    "    \n",
    "plt.plot(range(len(error_linear)), error_linear, marker='o', linewidth=0.0, markersize=10, color = 'black', alpha=2.0, markerfacecolor='None') \n",
    "\n",
    "#backround grid details\n",
    "axes = plt.gca()\n",
    "axes.grid(b = True, which = 'both', axis = 'both', color = 'gray', linestyle = '-', alpha = 0.5, linewidth = 0.5) \n",
    "axes.set_axis_bgcolor('white')  \n",
    "\n",
    "#font scpecifications\n",
    "title_font = {'family' : 'arial', 'color'  : 'black', 'weight' : 'heavy','size': 20}\n",
    "axis_label_font = {'family' : 'arial', 'color'  : 'black', 'weight' : 'normal','size': 20}                                                   \n",
    "\n",
    "#figure size and tick style\n",
    "plt.rcParams[\"figure.figsize\"] = [6,6]\n",
    "plt.rc('axes',edgecolor='black',linewidth=1)\n",
    "plt.tick_params(which='both', axis='both', color='black', length=4, width=0.5)\n",
    "plt.rcParams['xtick.direction'] = 'in'\n",
    "plt.rcParams['ytick.direction'] = 'in'\n",
    "\n",
    "#plt.yscale('log')\n",
    "plt.ylim(0.8,0.88)\n",
    "\n",
    "plt.xlabel(r'$P_{1}$', y=3, fontsize=20, fontdict = axis_label_font)\n",
    "plt.ylabel(r'$P_{1}$', fontsize=20, fontdict = axis_label_font)\n",
    "\n",
    "#title and axis labels\n",
    "plt.tick_params(axis='both', labelsize=20)\n",
    "plt.title('Autoencoder', y=1.05, fontdict = title_font)\n",
    "\n",
    "plt.show()"
   ]
  },
  {
   "cell_type": "code",
   "execution_count": 113,
   "metadata": {},
   "outputs": [
    {
     "name": "stderr",
     "output_type": "stream",
     "text": [
      "/home/ryanj/miniconda2/lib/python2.7/site-packages/ipykernel_launcher.py:18: MatplotlibDeprecationWarning: The set_axis_bgcolor function was deprecated in version 2.0. Use set_facecolor instead.\n"
     ]
    },
    {
     "data": {
      "image/png": "[encoded data removed]",
      "text/plain": [
       "<matplotlib.figure.Figure at 0x7f2954d562d0>"
      ]
     },
     "metadata": {},
     "output_type": "display_data"
    }
   ],
   "source": [
    "#plot the principal components\n",
    "colors = 200*['green', 'purple', 'orange', 'teal', 'red', 'brown', 'yellow', 'blue', 'magenta', 'cyan']\n",
    "\n",
    "#highlight the transition region if found\n",
    "plt.axvspan(0.700, 0.716, alpha=0.2, color='grey')\n",
    "plt.axvspan(0.716, 0.745, alpha=0.2, color='blue')\n",
    "\n",
    "#for i in range(len(OP_set)):\n",
    "    #plt.plot(etas, array(OP_set[i]), marker='o', linewidth=0.0, markersize=5, color = colors[i], alpha=1.0, markerfacecolor='None')\n",
    "    \n",
    "#plt.plot(etas, OP_linear, marker='o', linewidth=0.0, markersize=10, color = 'black', alpha=2.0, markerfacecolor='None') \n",
    "index = 1\n",
    "plt.plot(etas, array(OP_set[index]), marker='o', linewidth=0.0, markersize=5, color = colors[index], alpha=1.0, markerfacecolor='None')\n",
    "\n",
    "#backround grid details\n",
    "axes = plt.gca()\n",
    "axes.grid(b = True, which = 'both', axis = 'both', color = 'gray', linestyle = '-', alpha = 0.5, linewidth = 0.5) \n",
    "axes.set_axis_bgcolor('white')  \n",
    "\n",
    "#font scpecifications\n",
    "title_font = {'family' : 'arial', 'color'  : 'black', 'weight' : 'heavy','size': 20}\n",
    "axis_label_font = {'family' : 'arial', 'color'  : 'black', 'weight' : 'normal','size': 20}                                                   \n",
    "\n",
    "#figure size and tick style\n",
    "plt.rcParams[\"figure.figsize\"] = [6,6]\n",
    "plt.rc('axes',edgecolor='black',linewidth=1)\n",
    "plt.tick_params(which='both', axis='both', color='black', length=4, width=0.5)\n",
    "plt.rcParams['xtick.direction'] = 'in'\n",
    "plt.rcParams['ytick.direction'] = 'in'\n",
    "\n",
    "#plt.yscale('log')\n",
    "#plt.ylim(0,0.3)\n",
    "\n",
    "plt.xlabel(r'$P_{1}$', y=3, fontsize=20, fontdict = axis_label_font)\n",
    "plt.ylabel(r'$P_{1}$', fontsize=20, fontdict = axis_label_font)\n",
    "\n",
    "#title and axis labels\n",
    "plt.tick_params(axis='both', labelsize=20)\n",
    "plt.title('Autoencoder', y=1.05, fontdict = title_font)\n",
    "\n",
    "plt.show()"
   ]
  },
  {
   "cell_type": "code",
   "execution_count": null,
   "metadata": {
    "collapsed": true
   },
   "outputs": [],
   "source": []
  },
  {
   "cell_type": "code",
   "execution_count": null,
   "metadata": {
    "collapsed": true
   },
   "outputs": [],
   "source": []
  },
  {
   "cell_type": "code",
   "execution_count": null,
   "metadata": {
    "collapsed": true
   },
   "outputs": [],
   "source": []
  },
  {
   "cell_type": "code",
   "execution_count": null,
   "metadata": {
    "collapsed": true
   },
   "outputs": [],
   "source": []
  },
  {
   "cell_type": "code",
   "execution_count": null,
   "metadata": {
    "collapsed": true
   },
   "outputs": [],
   "source": []
  },
  {
   "cell_type": "markdown",
   "metadata": {
    "collapsed": true
   },
   "source": [
    "# Local structure analysis"
   ]
  },
  {
   "cell_type": "code",
   "execution_count": 88,
   "metadata": {
    "collapsed": true
   },
   "outputs": [],
   "source": [
    "from copy import deepcopy\n",
    "from numpy import concatenate, log, power, rint, sqrt, sum, unique, repeat, arccos, dot, transpose, append, cos, sin, hstack, maximum, minimum, pi, array, mean\n",
    "from numpy.linalg import norm\n",
    "from numpy.random import shuffle, choice\n",
    "from sklearn import preprocessing\n",
    "import warnings\n",
    "\n",
    "#this generates NN features for the PCA analysis (or some other machine learning method as well)\n",
    "def FrameToFeaturesPosition(frame, N_nn, nn_inc, N_batch, batches_per_frame):\n",
    "    #extract some relevant frames level details\n",
    "    coords = deepcopy(frame['coords'])\n",
    "    D = float(frame['D'])\n",
    "    N = float(len(coords))\n",
    "    V = power(frame['L'], D)\n",
    "    normalizing_distance = power(V/N, 1.0/D)\n",
    "    \n",
    "    #loop over the batches\n",
    "    aggregated_frame_features = []\n",
    "    for i in range(batches_per_frame):\n",
    "        coords_batch = coords[choice(int(N), N_batch, replace=False)]\n",
    "\n",
    "        #loop over the particles\n",
    "        frame_features = []\n",
    "        for particle in coords_batch:\n",
    "            #nearest neighbor coordinate wrapping\n",
    "            Rpj_v = particle - coords\n",
    "            Rpj_v = Rpj_v - rint(Rpj_v/frame['L'])*frame['L']\n",
    "            Rpj = (sqrt(sum(power(Rpj_v, 2.0), axis=1)))     #tagged particles NN\n",
    "\n",
    "            #sorting by the distance to enable the discovery of positional order\n",
    "            sorter = Rpj.argsort()\n",
    "            Rpj_v = Rpj_v[sorter[::1]][1:N_nn+1]\n",
    "            Rpj = Rpj[sorter[::1]][1:N_nn+1]\n",
    "            \n",
    "            #calculate sorted distances between the NNs after moving reference frame to tagged particle\n",
    "            features = deepcopy(Rpj)\n",
    "            for i in range(len(Rpj_v)-1):\n",
    "                nn_Rij_v = Rpj_v[i] - Rpj_v[i+1:]\n",
    "                nn_Rij_v = nn_Rij_v - rint(nn_Rij_v/frame['L'])*frame['L']\n",
    "                nn_Rij = (sqrt(sum(power(nn_Rij_v, 2.0), axis=1)))\n",
    "                features = concatenate((features, nn_Rij), axis=0)\n",
    " \n",
    "            #create features that correspond to probe particles and their nearest neighbors\n",
    "            frame_features.append(features/normalizing_distance)\n",
    "\n",
    "        #sort by the first nearest neighbor to again provide some positional basis on which to learn correlations\n",
    "        #frame_features = array(frame_features)\n",
    "        #sorter = frame_features[:,5].argsort()\n",
    "        #frame_features = frame_features[sorter]\n",
    "        \n",
    "        #TEST\n",
    "        #sorter = mean(frame_features, axis=1).argsort()\n",
    "        #frame_features = frame_features[sorter]\n",
    "        \n",
    "        shuffle(frame_features)\n",
    "        #TEST\n",
    "        \n",
    "        aggregated_frame_features.append(array(frame_features).flatten())\n",
    "\n",
    "    return array(aggregated_frame_features)\n",
    "\n",
    "#this converts an entire trajectory into features\n",
    "def TrajectoryToFeaturesPosition(frames, N_nn, nn_inc, N_batch, batches_per_frame):\n",
    "    #print filename\n",
    "    features = []\n",
    "    for frame in frames: \n",
    "        aggregated_frame_features = FrameToFeaturesPosition(frame, N_nn, nn_inc, N_batch, batches_per_frame)\n",
    "        for frame_features in aggregated_frame_features:\n",
    "            features.append(frame_features)\n",
    "    return array(features)"
   ]
  },
  {
   "cell_type": "code",
   "execution_count": 492,
   "metadata": {
    "collapsed": true
   },
   "outputs": [],
   "source": [
    "filename = '../hoomd_disks/trajectories_4000p_longer/trajectory_0.7200.gsd'\n",
    "#filename = '../hoomd_spheres/trajectories_4000p/quench_1/trajectories/trajectory_0.7000.gsd'"
   ]
  },
  {
   "cell_type": "code",
   "execution_count": 493,
   "metadata": {
    "collapsed": true
   },
   "outputs": [],
   "source": [
    "frames_r = ReadTraj(filename, traj_type='gsd', shuffle_data=False, randomize=True, remove_types=[])"
   ]
  },
  {
   "cell_type": "code",
   "execution_count": 494,
   "metadata": {
    "collapsed": true
   },
   "outputs": [],
   "source": [
    "frames = ReadTraj(filename, traj_type='gsd', shuffle_data=False, randomize=False, remove_types=[])"
   ]
  },
  {
   "cell_type": "code",
   "execution_count": 496,
   "metadata": {
    "collapsed": true
   },
   "outputs": [],
   "source": [
    "features_r = TrajectoryToFeaturesPosition(frames_r, N_nn=39, nn_inc=1, N_batch=1, batches_per_frame=40) #11"
   ]
  },
  {
   "cell_type": "code",
   "execution_count": 497,
   "metadata": {
    "collapsed": true
   },
   "outputs": [],
   "source": [
    "features = TrajectoryToFeaturesPosition(frames, N_nn=39, nn_inc=1, N_batch=1, batches_per_frame=40) #11"
   ]
  },
  {
   "cell_type": "code",
   "execution_count": 498,
   "metadata": {
    "collapsed": true
   },
   "outputs": [],
   "source": [
    "incpca_ig = IncrementalPCA(n_components=None, whiten=True)"
   ]
  },
  {
   "cell_type": "code",
   "execution_count": 499,
   "metadata": {},
   "outputs": [
    {
     "data": {
      "text/plain": [
       "IncrementalPCA(batch_size=None, copy=True, n_components=None, whiten=True)"
      ]
     },
     "execution_count": 499,
     "metadata": {},
     "output_type": "execute_result"
    }
   ],
   "source": [
    "incpca_ig.fit(features_r)"
   ]
  },
  {
   "cell_type": "code",
   "execution_count": 500,
   "metadata": {
    "collapsed": true
   },
   "outputs": [],
   "source": [
    "features_corrected = incpca_ig.transform(features)"
   ]
  },
  {
   "cell_type": "code",
   "execution_count": 501,
   "metadata": {},
   "outputs": [
    {
     "name": "stdout",
     "output_type": "stream",
     "text": [
      "780\n"
     ]
    }
   ],
   "source": [
    "dim = len(features_corrected[0])\n",
    "print dim"
   ]
  },
  {
   "cell_type": "code",
   "execution_count": 502,
   "metadata": {
    "collapsed": true
   },
   "outputs": [],
   "source": [
    "from analysis_tools.autoencoder import AutoEncoder"
   ]
  },
  {
   "cell_type": "code",
   "execution_count": 503,
   "metadata": {},
   "outputs": [
    {
     "ename": "KeyboardInterrupt",
     "evalue": "",
     "output_type": "error",
     "traceback": [
      "\u001b[0;31m---------------------------------------------------------------------------\u001b[0m",
      "\u001b[0;31mKeyboardInterrupt\u001b[0m                         Traceback (most recent call last)",
      "\u001b[0;32m<ipython-input-503-3551a2bcbd73>\u001b[0m in \u001b[0;36m<module>\u001b[0;34m()\u001b[0m\n\u001b[1;32m      1\u001b[0m model = AutoEncoder(dim=dim, encode_dim=1, \n\u001b[1;32m      2\u001b[0m                     \u001b[0minitial_growth\u001b[0m\u001b[0;34m=\u001b[0m\u001b[0;36m0.25\u001b[0m\u001b[0;34m,\u001b[0m \u001b[0mshrink\u001b[0m\u001b[0;34m=\u001b[0m\u001b[0;36m0.65\u001b[0m\u001b[0;34m,\u001b[0m\u001b[0;34m\u001b[0m\u001b[0m\n\u001b[0;32m----> 3\u001b[0;31m                     activation='elu')#, kernel_initializer='lecun_normal')\n\u001b[0m",
      "\u001b[0;32m/home/ryanj/Documents/hoomd-examples/hard_disks_pca/analysis_tools/autoencoder.py\u001b[0m in \u001b[0;36m__init__\u001b[0;34m(self, dim, encode_dim, initial_growth, shrink, **kwargs)\u001b[0m\n\u001b[1;32m     27\u001b[0m         \u001b[0mcurrent_dim\u001b[0m \u001b[0;34m=\u001b[0m \u001b[0mint\u001b[0m\u001b[0;34m(\u001b[0m\u001b[0mstart_dim\u001b[0m\u001b[0;34m*\u001b[0m\u001b[0mshrink\u001b[0m\u001b[0;34m)\u001b[0m\u001b[0;34m\u001b[0m\u001b[0m\n\u001b[1;32m     28\u001b[0m         \u001b[0;32mwhile\u001b[0m \u001b[0mcurrent_dim\u001b[0m \u001b[0;34m>\u001b[0m \u001b[0mencode_dim\u001b[0m\u001b[0;34m:\u001b[0m\u001b[0;34m\u001b[0m\u001b[0m\n\u001b[0;32m---> 29\u001b[0;31m             \u001b[0mencoded\u001b[0m \u001b[0;34m=\u001b[0m \u001b[0mDense\u001b[0m\u001b[0;34m(\u001b[0m\u001b[0mcurrent_dim\u001b[0m\u001b[0;34m,\u001b[0m \u001b[0;34m**\u001b[0m\u001b[0mkwargs\u001b[0m\u001b[0;34m)\u001b[0m\u001b[0;34m(\u001b[0m\u001b[0mencoded\u001b[0m\u001b[0;34m)\u001b[0m\u001b[0;34m\u001b[0m\u001b[0m\n\u001b[0m\u001b[1;32m     30\u001b[0m             \u001b[0mself\u001b[0m\u001b[0;34m.\u001b[0m\u001b[0mlayer_dims\u001b[0m\u001b[0;34m.\u001b[0m\u001b[0mappend\u001b[0m\u001b[0;34m(\u001b[0m\u001b[0mcurrent_dim\u001b[0m\u001b[0;34m)\u001b[0m\u001b[0;34m\u001b[0m\u001b[0m\n\u001b[1;32m     31\u001b[0m             \u001b[0mself\u001b[0m\u001b[0;34m.\u001b[0m\u001b[0mencoded_layer\u001b[0m \u001b[0;34m+=\u001b[0m \u001b[0;36m1\u001b[0m\u001b[0;34m\u001b[0m\u001b[0m\n",
      "\u001b[0;32m/home/ryanj/miniconda2/lib/python2.7/site-packages/keras/engine/topology.pyc\u001b[0m in \u001b[0;36m__call__\u001b[0;34m(self, inputs, **kwargs)\u001b[0m\n\u001b[1;32m    573\u001b[0m                                          '`layer.build(batch_input_shape)`')\n\u001b[1;32m    574\u001b[0m                 \u001b[0;32mif\u001b[0m \u001b[0mlen\u001b[0m\u001b[0;34m(\u001b[0m\u001b[0minput_shapes\u001b[0m\u001b[0;34m)\u001b[0m \u001b[0;34m==\u001b[0m \u001b[0;36m1\u001b[0m\u001b[0;34m:\u001b[0m\u001b[0;34m\u001b[0m\u001b[0m\n\u001b[0;32m--> 575\u001b[0;31m                     \u001b[0mself\u001b[0m\u001b[0;34m.\u001b[0m\u001b[0mbuild\u001b[0m\u001b[0;34m(\u001b[0m\u001b[0minput_shapes\u001b[0m\u001b[0;34m[\u001b[0m\u001b[0;36m0\u001b[0m\u001b[0;34m]\u001b[0m\u001b[0;34m)\u001b[0m\u001b[0;34m\u001b[0m\u001b[0m\n\u001b[0m\u001b[1;32m    576\u001b[0m                 \u001b[0;32melse\u001b[0m\u001b[0;34m:\u001b[0m\u001b[0;34m\u001b[0m\u001b[0m\n\u001b[1;32m    577\u001b[0m                     \u001b[0mself\u001b[0m\u001b[0;34m.\u001b[0m\u001b[0mbuild\u001b[0m\u001b[0;34m(\u001b[0m\u001b[0minput_shapes\u001b[0m\u001b[0;34m)\u001b[0m\u001b[0;34m\u001b[0m\u001b[0m\n",
      "\u001b[0;32m/home/ryanj/miniconda2/lib/python2.7/site-packages/keras/layers/core.pyc\u001b[0m in \u001b[0;36mbuild\u001b[0;34m(self, input_shape)\u001b[0m\n\u001b[1;32m    826\u001b[0m                                       \u001b[0mname\u001b[0m\u001b[0;34m=\u001b[0m\u001b[0;34m'kernel'\u001b[0m\u001b[0;34m,\u001b[0m\u001b[0;34m\u001b[0m\u001b[0m\n\u001b[1;32m    827\u001b[0m                                       \u001b[0mregularizer\u001b[0m\u001b[0;34m=\u001b[0m\u001b[0mself\u001b[0m\u001b[0;34m.\u001b[0m\u001b[0mkernel_regularizer\u001b[0m\u001b[0;34m,\u001b[0m\u001b[0;34m\u001b[0m\u001b[0m\n\u001b[0;32m--> 828\u001b[0;31m                                       constraint=self.kernel_constraint)\n\u001b[0m\u001b[1;32m    829\u001b[0m         \u001b[0;32mif\u001b[0m \u001b[0mself\u001b[0m\u001b[0;34m.\u001b[0m\u001b[0muse_bias\u001b[0m\u001b[0;34m:\u001b[0m\u001b[0;34m\u001b[0m\u001b[0m\n\u001b[1;32m    830\u001b[0m             self.bias = self.add_weight(shape=(self.units,),\n",
      "\u001b[0;32m/home/ryanj/miniconda2/lib/python2.7/site-packages/keras/legacy/interfaces.pyc\u001b[0m in \u001b[0;36mwrapper\u001b[0;34m(*args, **kwargs)\u001b[0m\n\u001b[1;32m     85\u001b[0m                 warnings.warn('Update your `' + object_name +\n\u001b[1;32m     86\u001b[0m                               '` call to the Keras 2 API: ' + signature, stacklevel=2)\n\u001b[0;32m---> 87\u001b[0;31m             \u001b[0;32mreturn\u001b[0m \u001b[0mfunc\u001b[0m\u001b[0;34m(\u001b[0m\u001b[0;34m*\u001b[0m\u001b[0margs\u001b[0m\u001b[0;34m,\u001b[0m \u001b[0;34m**\u001b[0m\u001b[0mkwargs\u001b[0m\u001b[0;34m)\u001b[0m\u001b[0;34m\u001b[0m\u001b[0m\n\u001b[0m\u001b[1;32m     88\u001b[0m         \u001b[0mwrapper\u001b[0m\u001b[0;34m.\u001b[0m\u001b[0m_original_function\u001b[0m \u001b[0;34m=\u001b[0m \u001b[0mfunc\u001b[0m\u001b[0;34m\u001b[0m\u001b[0m\n\u001b[1;32m     89\u001b[0m         \u001b[0;32mreturn\u001b[0m \u001b[0mwrapper\u001b[0m\u001b[0;34m\u001b[0m\u001b[0m\n",
      "\u001b[0;32m/home/ryanj/miniconda2/lib/python2.7/site-packages/keras/engine/topology.pyc\u001b[0m in \u001b[0;36madd_weight\u001b[0;34m(self, name, shape, dtype, initializer, regularizer, trainable, constraint)\u001b[0m\n\u001b[1;32m    397\u001b[0m                             \u001b[0mdtype\u001b[0m\u001b[0;34m=\u001b[0m\u001b[0mdtype\u001b[0m\u001b[0;34m,\u001b[0m\u001b[0;34m\u001b[0m\u001b[0m\n\u001b[1;32m    398\u001b[0m                             \u001b[0mname\u001b[0m\u001b[0;34m=\u001b[0m\u001b[0mname\u001b[0m\u001b[0;34m,\u001b[0m\u001b[0;34m\u001b[0m\u001b[0m\n\u001b[0;32m--> 399\u001b[0;31m                             constraint=constraint)\n\u001b[0m\u001b[1;32m    400\u001b[0m         \u001b[0;32mif\u001b[0m \u001b[0mregularizer\u001b[0m \u001b[0;32mis\u001b[0m \u001b[0;32mnot\u001b[0m \u001b[0mNone\u001b[0m\u001b[0;34m:\u001b[0m\u001b[0;34m\u001b[0m\u001b[0m\n\u001b[1;32m    401\u001b[0m             \u001b[0mself\u001b[0m\u001b[0;34m.\u001b[0m\u001b[0madd_loss\u001b[0m\u001b[0;34m(\u001b[0m\u001b[0mregularizer\u001b[0m\u001b[0;34m(\u001b[0m\u001b[0mweight\u001b[0m\u001b[0;34m)\u001b[0m\u001b[0;34m)\u001b[0m\u001b[0;34m\u001b[0m\u001b[0m\n",
      "\u001b[0;32m/home/ryanj/miniconda2/lib/python2.7/site-packages/keras/backend/theano_backend.pyc\u001b[0m in \u001b[0;36mvariable\u001b[0;34m(value, dtype, name, constraint)\u001b[0m\n\u001b[1;32m    143\u001b[0m                               theano.tensor.TensorConstant)):\n\u001b[1;32m    144\u001b[0m             \u001b[0;31m# Support for RandomStreams().normal(), .uniform().\u001b[0m\u001b[0;34m\u001b[0m\u001b[0;34m\u001b[0m\u001b[0m\n\u001b[0;32m--> 145\u001b[0;31m             \u001b[0mvalue\u001b[0m \u001b[0;34m=\u001b[0m \u001b[0mvalue\u001b[0m\u001b[0;34m.\u001b[0m\u001b[0meval\u001b[0m\u001b[0;34m(\u001b[0m\u001b[0;34m)\u001b[0m\u001b[0;34m\u001b[0m\u001b[0m\n\u001b[0m\u001b[1;32m    146\u001b[0m         \u001b[0mvalue\u001b[0m \u001b[0;34m=\u001b[0m \u001b[0mnp\u001b[0m\u001b[0;34m.\u001b[0m\u001b[0masarray\u001b[0m\u001b[0;34m(\u001b[0m\u001b[0mvalue\u001b[0m\u001b[0;34m,\u001b[0m \u001b[0mdtype\u001b[0m\u001b[0;34m=\u001b[0m\u001b[0mdtype\u001b[0m\u001b[0;34m)\u001b[0m\u001b[0;34m\u001b[0m\u001b[0m\n\u001b[1;32m    147\u001b[0m         variable = theano.shared(value=value,\n",
      "\u001b[0;32m/home/ryanj/miniconda2/lib/python2.7/site-packages/theano/gof/graph.pyc\u001b[0m in \u001b[0;36meval\u001b[0;34m(self, inputs_to_values)\u001b[0m\n\u001b[1;32m    520\u001b[0m         \u001b[0minputs\u001b[0m \u001b[0;34m=\u001b[0m \u001b[0mtuple\u001b[0m\u001b[0;34m(\u001b[0m\u001b[0msorted\u001b[0m\u001b[0;34m(\u001b[0m\u001b[0minputs_to_values\u001b[0m\u001b[0;34m.\u001b[0m\u001b[0mkeys\u001b[0m\u001b[0;34m(\u001b[0m\u001b[0;34m)\u001b[0m\u001b[0;34m,\u001b[0m \u001b[0mkey\u001b[0m\u001b[0;34m=\u001b[0m\u001b[0mid\u001b[0m\u001b[0;34m)\u001b[0m\u001b[0;34m)\u001b[0m\u001b[0;34m\u001b[0m\u001b[0m\n\u001b[1;32m    521\u001b[0m         \u001b[0;32mif\u001b[0m \u001b[0minputs\u001b[0m \u001b[0;32mnot\u001b[0m \u001b[0;32min\u001b[0m \u001b[0mself\u001b[0m\u001b[0;34m.\u001b[0m\u001b[0m_fn_cache\u001b[0m\u001b[0;34m:\u001b[0m\u001b[0;34m\u001b[0m\u001b[0m\n\u001b[0;32m--> 522\u001b[0;31m             \u001b[0mself\u001b[0m\u001b[0;34m.\u001b[0m\u001b[0m_fn_cache\u001b[0m\u001b[0;34m[\u001b[0m\u001b[0minputs\u001b[0m\u001b[0;34m]\u001b[0m \u001b[0;34m=\u001b[0m \u001b[0mtheano\u001b[0m\u001b[0;34m.\u001b[0m\u001b[0mfunction\u001b[0m\u001b[0;34m(\u001b[0m\u001b[0minputs\u001b[0m\u001b[0;34m,\u001b[0m \u001b[0mself\u001b[0m\u001b[0;34m)\u001b[0m\u001b[0;34m\u001b[0m\u001b[0m\n\u001b[0m\u001b[1;32m    523\u001b[0m         \u001b[0margs\u001b[0m \u001b[0;34m=\u001b[0m \u001b[0;34m[\u001b[0m\u001b[0minputs_to_values\u001b[0m\u001b[0;34m[\u001b[0m\u001b[0mparam\u001b[0m\u001b[0;34m]\u001b[0m \u001b[0;32mfor\u001b[0m \u001b[0mparam\u001b[0m \u001b[0;32min\u001b[0m \u001b[0minputs\u001b[0m\u001b[0;34m]\u001b[0m\u001b[0;34m\u001b[0m\u001b[0m\n\u001b[1;32m    524\u001b[0m \u001b[0;34m\u001b[0m\u001b[0m\n",
      "\u001b[0;32m/home/ryanj/miniconda2/lib/python2.7/site-packages/theano/compile/function.pyc\u001b[0m in \u001b[0;36mfunction\u001b[0;34m(inputs, outputs, mode, updates, givens, no_default_updates, accept_inplace, name, rebuild_strict, allow_input_downcast, profile, on_unused_input)\u001b[0m\n\u001b[1;32m    315\u001b[0m                    \u001b[0mon_unused_input\u001b[0m\u001b[0;34m=\u001b[0m\u001b[0mon_unused_input\u001b[0m\u001b[0;34m,\u001b[0m\u001b[0;34m\u001b[0m\u001b[0m\n\u001b[1;32m    316\u001b[0m                    \u001b[0mprofile\u001b[0m\u001b[0;34m=\u001b[0m\u001b[0mprofile\u001b[0m\u001b[0;34m,\u001b[0m\u001b[0;34m\u001b[0m\u001b[0m\n\u001b[0;32m--> 317\u001b[0;31m                    output_keys=output_keys)\n\u001b[0m\u001b[1;32m    318\u001b[0m     \u001b[0;32mreturn\u001b[0m \u001b[0mfn\u001b[0m\u001b[0;34m\u001b[0m\u001b[0m\n",
      "\u001b[0;32m/home/ryanj/miniconda2/lib/python2.7/site-packages/theano/compile/pfunc.pyc\u001b[0m in \u001b[0;36mpfunc\u001b[0;34m(params, outputs, mode, updates, givens, no_default_updates, accept_inplace, name, rebuild_strict, allow_input_downcast, profile, on_unused_input, output_keys)\u001b[0m\n\u001b[1;32m    484\u001b[0m                          \u001b[0maccept_inplace\u001b[0m\u001b[0;34m=\u001b[0m\u001b[0maccept_inplace\u001b[0m\u001b[0;34m,\u001b[0m \u001b[0mname\u001b[0m\u001b[0;34m=\u001b[0m\u001b[0mname\u001b[0m\u001b[0;34m,\u001b[0m\u001b[0;34m\u001b[0m\u001b[0m\n\u001b[1;32m    485\u001b[0m                          \u001b[0mprofile\u001b[0m\u001b[0;34m=\u001b[0m\u001b[0mprofile\u001b[0m\u001b[0;34m,\u001b[0m \u001b[0mon_unused_input\u001b[0m\u001b[0;34m=\u001b[0m\u001b[0mon_unused_input\u001b[0m\u001b[0;34m,\u001b[0m\u001b[0;34m\u001b[0m\u001b[0m\n\u001b[0;32m--> 486\u001b[0;31m                          output_keys=output_keys)\n\u001b[0m\u001b[1;32m    487\u001b[0m \u001b[0;34m\u001b[0m\u001b[0m\n\u001b[1;32m    488\u001b[0m \u001b[0;34m\u001b[0m\u001b[0m\n",
      "\u001b[0;32m/home/ryanj/miniconda2/lib/python2.7/site-packages/theano/compile/function_module.pyc\u001b[0m in \u001b[0;36morig_function\u001b[0;34m(inputs, outputs, mode, accept_inplace, name, profile, on_unused_input, output_keys)\u001b[0m\n\u001b[1;32m   1837\u001b[0m                   \u001b[0mon_unused_input\u001b[0m\u001b[0;34m=\u001b[0m\u001b[0mon_unused_input\u001b[0m\u001b[0;34m,\u001b[0m\u001b[0;34m\u001b[0m\u001b[0m\n\u001b[1;32m   1838\u001b[0m                   \u001b[0moutput_keys\u001b[0m\u001b[0;34m=\u001b[0m\u001b[0moutput_keys\u001b[0m\u001b[0;34m,\u001b[0m\u001b[0;34m\u001b[0m\u001b[0m\n\u001b[0;32m-> 1839\u001b[0;31m                   name=name)\n\u001b[0m\u001b[1;32m   1840\u001b[0m         \u001b[0;32mwith\u001b[0m \u001b[0mtheano\u001b[0m\u001b[0;34m.\u001b[0m\u001b[0mchange_flags\u001b[0m\u001b[0;34m(\u001b[0m\u001b[0mcompute_test_value\u001b[0m\u001b[0;34m=\u001b[0m\u001b[0;34m\"off\"\u001b[0m\u001b[0;34m)\u001b[0m\u001b[0;34m:\u001b[0m\u001b[0;34m\u001b[0m\u001b[0m\n\u001b[1;32m   1841\u001b[0m             \u001b[0mfn\u001b[0m \u001b[0;34m=\u001b[0m \u001b[0mm\u001b[0m\u001b[0;34m.\u001b[0m\u001b[0mcreate\u001b[0m\u001b[0;34m(\u001b[0m\u001b[0mdefaults\u001b[0m\u001b[0;34m)\u001b[0m\u001b[0;34m\u001b[0m\u001b[0m\n",
      "\u001b[0;32m/home/ryanj/miniconda2/lib/python2.7/site-packages/theano/compile/function_module.pyc\u001b[0m in \u001b[0;36m__init__\u001b[0;34m(self, inputs, outputs, mode, accept_inplace, function_builder, profile, on_unused_input, fgraph, output_keys, name)\u001b[0m\n\u001b[1;32m   1517\u001b[0m                         optimizer, inputs, outputs)\n\u001b[1;32m   1518\u001b[0m                 \u001b[0;32melse\u001b[0m\u001b[0;34m:\u001b[0m\u001b[0;34m\u001b[0m\u001b[0m\n\u001b[0;32m-> 1519\u001b[0;31m                     \u001b[0moptimizer_profile\u001b[0m \u001b[0;34m=\u001b[0m \u001b[0moptimizer\u001b[0m\u001b[0;34m(\u001b[0m\u001b[0mfgraph\u001b[0m\u001b[0;34m)\u001b[0m\u001b[0;34m\u001b[0m\u001b[0m\n\u001b[0m\u001b[1;32m   1520\u001b[0m \u001b[0;34m\u001b[0m\u001b[0m\n\u001b[1;32m   1521\u001b[0m                 \u001b[0mend_optimizer\u001b[0m \u001b[0;34m=\u001b[0m \u001b[0mtime\u001b[0m\u001b[0;34m.\u001b[0m\u001b[0mtime\u001b[0m\u001b[0;34m(\u001b[0m\u001b[0;34m)\u001b[0m\u001b[0;34m\u001b[0m\u001b[0m\n",
      "\u001b[0;32m/home/ryanj/miniconda2/lib/python2.7/site-packages/theano/gof/opt.pyc\u001b[0m in \u001b[0;36m__call__\u001b[0;34m(self, fgraph)\u001b[0m\n\u001b[1;32m    106\u001b[0m \u001b[0;34m\u001b[0m\u001b[0m\n\u001b[1;32m    107\u001b[0m         \"\"\"\n\u001b[0;32m--> 108\u001b[0;31m         \u001b[0;32mreturn\u001b[0m \u001b[0mself\u001b[0m\u001b[0;34m.\u001b[0m\u001b[0moptimize\u001b[0m\u001b[0;34m(\u001b[0m\u001b[0mfgraph\u001b[0m\u001b[0;34m)\u001b[0m\u001b[0;34m\u001b[0m\u001b[0m\n\u001b[0m\u001b[1;32m    109\u001b[0m \u001b[0;34m\u001b[0m\u001b[0m\n\u001b[1;32m    110\u001b[0m     \u001b[0;32mdef\u001b[0m \u001b[0madd_requirements\u001b[0m\u001b[0;34m(\u001b[0m\u001b[0mself\u001b[0m\u001b[0;34m,\u001b[0m \u001b[0mfgraph\u001b[0m\u001b[0;34m)\u001b[0m\u001b[0;34m:\u001b[0m\u001b[0;34m\u001b[0m\u001b[0m\n",
      "\u001b[0;32m/home/ryanj/miniconda2/lib/python2.7/site-packages/theano/gof/opt.pyc\u001b[0m in \u001b[0;36moptimize\u001b[0;34m(self, fgraph, *args, **kwargs)\u001b[0m\n\u001b[1;32m     95\u001b[0m             \u001b[0morig\u001b[0m \u001b[0;34m=\u001b[0m \u001b[0mtheano\u001b[0m\u001b[0;34m.\u001b[0m\u001b[0mtensor\u001b[0m\u001b[0;34m.\u001b[0m\u001b[0mbasic\u001b[0m\u001b[0;34m.\u001b[0m\u001b[0mconstant\u001b[0m\u001b[0;34m.\u001b[0m\u001b[0menable\u001b[0m\u001b[0;34m\u001b[0m\u001b[0m\n\u001b[1;32m     96\u001b[0m             \u001b[0mtheano\u001b[0m\u001b[0;34m.\u001b[0m\u001b[0mtensor\u001b[0m\u001b[0;34m.\u001b[0m\u001b[0mbasic\u001b[0m\u001b[0;34m.\u001b[0m\u001b[0mconstant\u001b[0m\u001b[0;34m.\u001b[0m\u001b[0menable\u001b[0m \u001b[0;34m=\u001b[0m \u001b[0mFalse\u001b[0m\u001b[0;34m\u001b[0m\u001b[0m\n\u001b[0;32m---> 97\u001b[0;31m             \u001b[0mret\u001b[0m \u001b[0;34m=\u001b[0m \u001b[0mself\u001b[0m\u001b[0;34m.\u001b[0m\u001b[0mapply\u001b[0m\u001b[0;34m(\u001b[0m\u001b[0mfgraph\u001b[0m\u001b[0;34m,\u001b[0m \u001b[0;34m*\u001b[0m\u001b[0margs\u001b[0m\u001b[0;34m,\u001b[0m \u001b[0;34m**\u001b[0m\u001b[0mkwargs\u001b[0m\u001b[0;34m)\u001b[0m\u001b[0;34m\u001b[0m\u001b[0m\n\u001b[0m\u001b[1;32m     98\u001b[0m         \u001b[0;32mfinally\u001b[0m\u001b[0;34m:\u001b[0m\u001b[0;34m\u001b[0m\u001b[0m\n\u001b[1;32m     99\u001b[0m             \u001b[0mtheano\u001b[0m\u001b[0;34m.\u001b[0m\u001b[0mtensor\u001b[0m\u001b[0;34m.\u001b[0m\u001b[0mbasic\u001b[0m\u001b[0;34m.\u001b[0m\u001b[0mconstant\u001b[0m\u001b[0;34m.\u001b[0m\u001b[0menable\u001b[0m \u001b[0;34m=\u001b[0m \u001b[0morig\u001b[0m\u001b[0;34m\u001b[0m\u001b[0m\n",
      "\u001b[0;32m/home/ryanj/miniconda2/lib/python2.7/site-packages/theano/gof/opt.pyc\u001b[0m in \u001b[0;36mapply\u001b[0;34m(self, fgraph)\u001b[0m\n\u001b[1;32m    249\u001b[0m                     \u001b[0mnb_nodes_before\u001b[0m \u001b[0;34m=\u001b[0m \u001b[0mlen\u001b[0m\u001b[0;34m(\u001b[0m\u001b[0mfgraph\u001b[0m\u001b[0;34m.\u001b[0m\u001b[0mapply_nodes\u001b[0m\u001b[0;34m)\u001b[0m\u001b[0;34m\u001b[0m\u001b[0m\n\u001b[1;32m    250\u001b[0m                     \u001b[0mt0\u001b[0m \u001b[0;34m=\u001b[0m \u001b[0mtime\u001b[0m\u001b[0;34m.\u001b[0m\u001b[0mtime\u001b[0m\u001b[0;34m(\u001b[0m\u001b[0;34m)\u001b[0m\u001b[0;34m\u001b[0m\u001b[0m\n\u001b[0;32m--> 251\u001b[0;31m                     \u001b[0msub_prof\u001b[0m \u001b[0;34m=\u001b[0m \u001b[0moptimizer\u001b[0m\u001b[0;34m.\u001b[0m\u001b[0moptimize\u001b[0m\u001b[0;34m(\u001b[0m\u001b[0mfgraph\u001b[0m\u001b[0;34m)\u001b[0m\u001b[0;34m\u001b[0m\u001b[0m\n\u001b[0m\u001b[1;32m    252\u001b[0m                     \u001b[0ml\u001b[0m\u001b[0;34m.\u001b[0m\u001b[0mappend\u001b[0m\u001b[0;34m(\u001b[0m\u001b[0mfloat\u001b[0m\u001b[0;34m(\u001b[0m\u001b[0mtime\u001b[0m\u001b[0;34m.\u001b[0m\u001b[0mtime\u001b[0m\u001b[0;34m(\u001b[0m\u001b[0;34m)\u001b[0m \u001b[0;34m-\u001b[0m \u001b[0mt0\u001b[0m\u001b[0;34m)\u001b[0m\u001b[0;34m)\u001b[0m\u001b[0;34m\u001b[0m\u001b[0m\n\u001b[1;32m    253\u001b[0m                     \u001b[0msub_profs\u001b[0m\u001b[0;34m.\u001b[0m\u001b[0mappend\u001b[0m\u001b[0;34m(\u001b[0m\u001b[0msub_prof\u001b[0m\u001b[0;34m)\u001b[0m\u001b[0;34m\u001b[0m\u001b[0m\n",
      "\u001b[0;32m/home/ryanj/miniconda2/lib/python2.7/site-packages/theano/gof/opt.pyc\u001b[0m in \u001b[0;36moptimize\u001b[0;34m(self, fgraph, *args, **kwargs)\u001b[0m\n\u001b[1;32m     95\u001b[0m             \u001b[0morig\u001b[0m \u001b[0;34m=\u001b[0m \u001b[0mtheano\u001b[0m\u001b[0;34m.\u001b[0m\u001b[0mtensor\u001b[0m\u001b[0;34m.\u001b[0m\u001b[0mbasic\u001b[0m\u001b[0;34m.\u001b[0m\u001b[0mconstant\u001b[0m\u001b[0;34m.\u001b[0m\u001b[0menable\u001b[0m\u001b[0;34m\u001b[0m\u001b[0m\n\u001b[1;32m     96\u001b[0m             \u001b[0mtheano\u001b[0m\u001b[0;34m.\u001b[0m\u001b[0mtensor\u001b[0m\u001b[0;34m.\u001b[0m\u001b[0mbasic\u001b[0m\u001b[0;34m.\u001b[0m\u001b[0mconstant\u001b[0m\u001b[0;34m.\u001b[0m\u001b[0menable\u001b[0m \u001b[0;34m=\u001b[0m \u001b[0mFalse\u001b[0m\u001b[0;34m\u001b[0m\u001b[0m\n\u001b[0;32m---> 97\u001b[0;31m             \u001b[0mret\u001b[0m \u001b[0;34m=\u001b[0m \u001b[0mself\u001b[0m\u001b[0;34m.\u001b[0m\u001b[0mapply\u001b[0m\u001b[0;34m(\u001b[0m\u001b[0mfgraph\u001b[0m\u001b[0;34m,\u001b[0m \u001b[0;34m*\u001b[0m\u001b[0margs\u001b[0m\u001b[0;34m,\u001b[0m \u001b[0;34m**\u001b[0m\u001b[0mkwargs\u001b[0m\u001b[0;34m)\u001b[0m\u001b[0;34m\u001b[0m\u001b[0m\n\u001b[0m\u001b[1;32m     98\u001b[0m         \u001b[0;32mfinally\u001b[0m\u001b[0;34m:\u001b[0m\u001b[0;34m\u001b[0m\u001b[0m\n\u001b[1;32m     99\u001b[0m             \u001b[0mtheano\u001b[0m\u001b[0;34m.\u001b[0m\u001b[0mtensor\u001b[0m\u001b[0;34m.\u001b[0m\u001b[0mbasic\u001b[0m\u001b[0;34m.\u001b[0m\u001b[0mconstant\u001b[0m\u001b[0;34m.\u001b[0m\u001b[0menable\u001b[0m \u001b[0;34m=\u001b[0m \u001b[0morig\u001b[0m\u001b[0;34m\u001b[0m\u001b[0m\n",
      "\u001b[0;32m/home/ryanj/miniconda2/lib/python2.7/site-packages/theano/gof/opt.pyc\u001b[0m in \u001b[0;36mapply\u001b[0;34m(self, fgraph, start_from)\u001b[0m\n\u001b[1;32m   2538\u001b[0m                 \u001b[0mnb\u001b[0m \u001b[0;34m=\u001b[0m \u001b[0mchange_tracker\u001b[0m\u001b[0;34m.\u001b[0m\u001b[0mnb_imported\u001b[0m\u001b[0;34m\u001b[0m\u001b[0m\n\u001b[1;32m   2539\u001b[0m                 \u001b[0mt_opt\u001b[0m \u001b[0;34m=\u001b[0m \u001b[0mtime\u001b[0m\u001b[0;34m.\u001b[0m\u001b[0mtime\u001b[0m\u001b[0;34m(\u001b[0m\u001b[0;34m)\u001b[0m\u001b[0;34m\u001b[0m\u001b[0m\n\u001b[0;32m-> 2540\u001b[0;31m                 \u001b[0msub_prof\u001b[0m \u001b[0;34m=\u001b[0m \u001b[0mgopt\u001b[0m\u001b[0;34m.\u001b[0m\u001b[0mapply\u001b[0m\u001b[0;34m(\u001b[0m\u001b[0mfgraph\u001b[0m\u001b[0;34m)\u001b[0m\u001b[0;34m\u001b[0m\u001b[0m\n\u001b[0m\u001b[1;32m   2541\u001b[0m                 \u001b[0mtime_opts\u001b[0m\u001b[0;34m[\u001b[0m\u001b[0mgopt\u001b[0m\u001b[0;34m]\u001b[0m \u001b[0;34m+=\u001b[0m \u001b[0mtime\u001b[0m\u001b[0;34m.\u001b[0m\u001b[0mtime\u001b[0m\u001b[0;34m(\u001b[0m\u001b[0;34m)\u001b[0m \u001b[0;34m-\u001b[0m \u001b[0mt_opt\u001b[0m\u001b[0;34m\u001b[0m\u001b[0m\n\u001b[1;32m   2542\u001b[0m                 \u001b[0msub_profs\u001b[0m\u001b[0;34m.\u001b[0m\u001b[0mappend\u001b[0m\u001b[0;34m(\u001b[0m\u001b[0msub_prof\u001b[0m\u001b[0;34m)\u001b[0m\u001b[0;34m\u001b[0m\u001b[0m\n",
      "\u001b[0;32m/home/ryanj/miniconda2/lib/python2.7/site-packages/theano/gof/opt.pyc\u001b[0m in \u001b[0;36mapply\u001b[0;34m(self, fgraph, start_from)\u001b[0m\n\u001b[1;32m   2141\u001b[0m                     \u001b[0;32mcontinue\u001b[0m\u001b[0;34m\u001b[0m\u001b[0m\n\u001b[1;32m   2142\u001b[0m                 \u001b[0mcurrent_node\u001b[0m \u001b[0;34m=\u001b[0m \u001b[0mnode\u001b[0m\u001b[0;34m\u001b[0m\u001b[0m\n\u001b[0;32m-> 2143\u001b[0;31m                 \u001b[0mnb\u001b[0m \u001b[0;34m+=\u001b[0m \u001b[0mself\u001b[0m\u001b[0;34m.\u001b[0m\u001b[0mprocess_node\u001b[0m\u001b[0;34m(\u001b[0m\u001b[0mfgraph\u001b[0m\u001b[0;34m,\u001b[0m \u001b[0mnode\u001b[0m\u001b[0;34m)\u001b[0m\u001b[0;34m\u001b[0m\u001b[0m\n\u001b[0m\u001b[1;32m   2144\u001b[0m             \u001b[0mloop_t\u001b[0m \u001b[0;34m=\u001b[0m \u001b[0mtime\u001b[0m\u001b[0;34m.\u001b[0m\u001b[0mtime\u001b[0m\u001b[0;34m(\u001b[0m\u001b[0;34m)\u001b[0m \u001b[0;34m-\u001b[0m \u001b[0mt0\u001b[0m\u001b[0;34m\u001b[0m\u001b[0m\n\u001b[1;32m   2145\u001b[0m         \u001b[0;32mfinally\u001b[0m\u001b[0;34m:\u001b[0m\u001b[0;34m\u001b[0m\u001b[0m\n",
      "\u001b[0;32m/home/ryanj/miniconda2/lib/python2.7/site-packages/theano/gof/opt.pyc\u001b[0m in \u001b[0;36mprocess_node\u001b[0;34m(self, fgraph, node, lopt)\u001b[0m\n\u001b[1;32m   2032\u001b[0m         \u001b[0mlopt\u001b[0m \u001b[0;34m=\u001b[0m \u001b[0mlopt\u001b[0m \u001b[0;32mor\u001b[0m \u001b[0mself\u001b[0m\u001b[0;34m.\u001b[0m\u001b[0mlocal_opt\u001b[0m\u001b[0;34m\u001b[0m\u001b[0m\n\u001b[1;32m   2033\u001b[0m         \u001b[0;32mtry\u001b[0m\u001b[0;34m:\u001b[0m\u001b[0;34m\u001b[0m\u001b[0m\n\u001b[0;32m-> 2034\u001b[0;31m             \u001b[0mreplacements\u001b[0m \u001b[0;34m=\u001b[0m \u001b[0mlopt\u001b[0m\u001b[0;34m.\u001b[0m\u001b[0mtransform\u001b[0m\u001b[0;34m(\u001b[0m\u001b[0mnode\u001b[0m\u001b[0;34m)\u001b[0m\u001b[0;34m\u001b[0m\u001b[0m\n\u001b[0m\u001b[1;32m   2035\u001b[0m         \u001b[0;32mexcept\u001b[0m \u001b[0mException\u001b[0m \u001b[0;32mas\u001b[0m \u001b[0me\u001b[0m\u001b[0;34m:\u001b[0m\u001b[0;34m\u001b[0m\u001b[0m\n\u001b[1;32m   2036\u001b[0m             \u001b[0;32mif\u001b[0m \u001b[0mself\u001b[0m\u001b[0;34m.\u001b[0m\u001b[0mfailure_callback\u001b[0m \u001b[0;32mis\u001b[0m \u001b[0;32mnot\u001b[0m \u001b[0mNone\u001b[0m\u001b[0;34m:\u001b[0m\u001b[0;34m\u001b[0m\u001b[0m\n",
      "\u001b[0;32m/home/ryanj/miniconda2/lib/python2.7/site-packages/theano/tensor/opt.pyc\u001b[0m in \u001b[0;36mconstant_folding\u001b[0;34m(node)\u001b[0m\n\u001b[1;32m   6505\u001b[0m         \u001b[0mimpl\u001b[0m \u001b[0;34m=\u001b[0m \u001b[0;34m'py'\u001b[0m\u001b[0;34m\u001b[0m\u001b[0m\n\u001b[1;32m   6506\u001b[0m     thunk = node.op.make_thunk(node, storage_map, compute_map,\n\u001b[0;32m-> 6507\u001b[0;31m                                no_recycling=[], impl=impl)\n\u001b[0m\u001b[1;32m   6508\u001b[0m \u001b[0;34m\u001b[0m\u001b[0m\n\u001b[1;32m   6509\u001b[0m     \u001b[0mrequired\u001b[0m \u001b[0;34m=\u001b[0m \u001b[0mthunk\u001b[0m\u001b[0;34m(\u001b[0m\u001b[0;34m)\u001b[0m\u001b[0;34m\u001b[0m\u001b[0m\n",
      "\u001b[0;32m/home/ryanj/miniconda2/lib/python2.7/site-packages/theano/gof/op.pyc\u001b[0m in \u001b[0;36mmake_thunk\u001b[0;34m(self, node, storage_map, compute_map, no_recycling, impl)\u001b[0m\n\u001b[1;32m    953\u001b[0m             \u001b[0;32mtry\u001b[0m\u001b[0;34m:\u001b[0m\u001b[0;34m\u001b[0m\u001b[0m\n\u001b[1;32m    954\u001b[0m                 return self.make_c_thunk(node, storage_map, compute_map,\n\u001b[0;32m--> 955\u001b[0;31m                                          no_recycling)\n\u001b[0m\u001b[1;32m    956\u001b[0m             \u001b[0;32mexcept\u001b[0m \u001b[0;34m(\u001b[0m\u001b[0mNotImplementedError\u001b[0m\u001b[0;34m,\u001b[0m \u001b[0mutils\u001b[0m\u001b[0;34m.\u001b[0m\u001b[0mMethodNotDefined\u001b[0m\u001b[0;34m)\u001b[0m\u001b[0;34m:\u001b[0m\u001b[0;34m\u001b[0m\u001b[0m\n\u001b[1;32m    957\u001b[0m                 \u001b[0;31m# We requested the c code, so don't catch the error.\u001b[0m\u001b[0;34m\u001b[0m\u001b[0;34m\u001b[0m\u001b[0m\n",
      "\u001b[0;32m/home/ryanj/miniconda2/lib/python2.7/site-packages/theano/gof/op.pyc\u001b[0m in \u001b[0;36mmake_c_thunk\u001b[0;34m(self, node, storage_map, compute_map, no_recycling)\u001b[0m\n\u001b[1;32m    856\u001b[0m         \u001b[0m_logger\u001b[0m\u001b[0;34m.\u001b[0m\u001b[0mdebug\u001b[0m\u001b[0;34m(\u001b[0m\u001b[0;34m'Trying CLinker.make_thunk'\u001b[0m\u001b[0;34m)\u001b[0m\u001b[0;34m\u001b[0m\u001b[0m\n\u001b[1;32m    857\u001b[0m         outputs = cl.make_thunk(input_storage=node_input_storage,\n\u001b[0;32m--> 858\u001b[0;31m                                 output_storage=node_output_storage)\n\u001b[0m\u001b[1;32m    859\u001b[0m         \u001b[0mthunk\u001b[0m\u001b[0;34m,\u001b[0m \u001b[0mnode_input_filters\u001b[0m\u001b[0;34m,\u001b[0m \u001b[0mnode_output_filters\u001b[0m \u001b[0;34m=\u001b[0m \u001b[0moutputs\u001b[0m\u001b[0;34m\u001b[0m\u001b[0m\n\u001b[1;32m    860\u001b[0m \u001b[0;34m\u001b[0m\u001b[0m\n",
      "\u001b[0;32m/home/ryanj/miniconda2/lib/python2.7/site-packages/theano/gof/cc.pyc\u001b[0m in \u001b[0;36mmake_thunk\u001b[0;34m(self, input_storage, output_storage, storage_map, keep_lock)\u001b[0m\n\u001b[1;32m   1215\u001b[0m         cthunk, module, in_storage, out_storage, error_storage = self.__compile__(\n\u001b[1;32m   1216\u001b[0m             \u001b[0minput_storage\u001b[0m\u001b[0;34m,\u001b[0m \u001b[0moutput_storage\u001b[0m\u001b[0;34m,\u001b[0m \u001b[0mstorage_map\u001b[0m\u001b[0;34m,\u001b[0m\u001b[0;34m\u001b[0m\u001b[0m\n\u001b[0;32m-> 1217\u001b[0;31m             keep_lock=keep_lock)\n\u001b[0m\u001b[1;32m   1218\u001b[0m \u001b[0;34m\u001b[0m\u001b[0m\n\u001b[1;32m   1219\u001b[0m         \u001b[0mres\u001b[0m \u001b[0;34m=\u001b[0m \u001b[0m_CThunk\u001b[0m\u001b[0;34m(\u001b[0m\u001b[0mcthunk\u001b[0m\u001b[0;34m,\u001b[0m \u001b[0minit_tasks\u001b[0m\u001b[0;34m,\u001b[0m \u001b[0mtasks\u001b[0m\u001b[0;34m,\u001b[0m \u001b[0merror_storage\u001b[0m\u001b[0;34m,\u001b[0m \u001b[0mmodule\u001b[0m\u001b[0;34m)\u001b[0m\u001b[0;34m\u001b[0m\u001b[0m\n",
      "\u001b[0;32m/home/ryanj/miniconda2/lib/python2.7/site-packages/theano/gof/cc.pyc\u001b[0m in \u001b[0;36m__compile__\u001b[0;34m(self, input_storage, output_storage, storage_map, keep_lock)\u001b[0m\n\u001b[1;32m   1155\u001b[0m                                             \u001b[0moutput_storage\u001b[0m\u001b[0;34m,\u001b[0m\u001b[0;34m\u001b[0m\u001b[0m\n\u001b[1;32m   1156\u001b[0m                                             \u001b[0mstorage_map\u001b[0m\u001b[0;34m,\u001b[0m\u001b[0;34m\u001b[0m\u001b[0m\n\u001b[0;32m-> 1157\u001b[0;31m                                             keep_lock=keep_lock)\n\u001b[0m\u001b[1;32m   1158\u001b[0m         return (thunk,\n\u001b[1;32m   1159\u001b[0m                 \u001b[0mmodule\u001b[0m\u001b[0;34m,\u001b[0m\u001b[0;34m\u001b[0m\u001b[0m\n",
      "\u001b[0;32m/home/ryanj/miniconda2/lib/python2.7/site-packages/theano/gof/cc.pyc\u001b[0m in \u001b[0;36mcthunk_factory\u001b[0;34m(self, error_storage, in_storage, out_storage, storage_map, keep_lock)\u001b[0m\n\u001b[1;32m   1618\u001b[0m                 \u001b[0mnode\u001b[0m\u001b[0;34m.\u001b[0m\u001b[0mop\u001b[0m\u001b[0;34m.\u001b[0m\u001b[0mprepare_node\u001b[0m\u001b[0;34m(\u001b[0m\u001b[0mnode\u001b[0m\u001b[0;34m,\u001b[0m \u001b[0mstorage_map\u001b[0m\u001b[0;34m,\u001b[0m \u001b[0mNone\u001b[0m\u001b[0;34m,\u001b[0m \u001b[0;34m'c'\u001b[0m\u001b[0;34m)\u001b[0m\u001b[0;34m\u001b[0m\u001b[0m\n\u001b[1;32m   1619\u001b[0m             module = get_module_cache().module_from_key(\n\u001b[0;32m-> 1620\u001b[0;31m                 key=key, lnk=self, keep_lock=keep_lock)\n\u001b[0m\u001b[1;32m   1621\u001b[0m \u001b[0;34m\u001b[0m\u001b[0m\n\u001b[1;32m   1622\u001b[0m         \u001b[0mvars\u001b[0m \u001b[0;34m=\u001b[0m \u001b[0mself\u001b[0m\u001b[0;34m.\u001b[0m\u001b[0minputs\u001b[0m \u001b[0;34m+\u001b[0m \u001b[0mself\u001b[0m\u001b[0;34m.\u001b[0m\u001b[0moutputs\u001b[0m \u001b[0;34m+\u001b[0m \u001b[0mself\u001b[0m\u001b[0;34m.\u001b[0m\u001b[0morphans\u001b[0m\u001b[0;34m\u001b[0m\u001b[0m\n",
      "\u001b[0;32m/home/ryanj/miniconda2/lib/python2.7/site-packages/theano/gof/cmodule.pyc\u001b[0m in \u001b[0;36mmodule_from_key\u001b[0;34m(self, key, lnk, keep_lock)\u001b[0m\n\u001b[1;32m   1145\u001b[0m         \u001b[0;31m# Is the source code already in the cache?\u001b[0m\u001b[0;34m\u001b[0m\u001b[0;34m\u001b[0m\u001b[0m\n\u001b[1;32m   1146\u001b[0m         \u001b[0mmodule_hash\u001b[0m \u001b[0;34m=\u001b[0m \u001b[0mget_module_hash\u001b[0m\u001b[0;34m(\u001b[0m\u001b[0msrc_code\u001b[0m\u001b[0;34m,\u001b[0m \u001b[0mkey\u001b[0m\u001b[0;34m)\u001b[0m\u001b[0;34m\u001b[0m\u001b[0m\n\u001b[0;32m-> 1147\u001b[0;31m         \u001b[0mmodule\u001b[0m \u001b[0;34m=\u001b[0m \u001b[0mself\u001b[0m\u001b[0;34m.\u001b[0m\u001b[0m_get_from_hash\u001b[0m\u001b[0;34m(\u001b[0m\u001b[0mmodule_hash\u001b[0m\u001b[0;34m,\u001b[0m \u001b[0mkey\u001b[0m\u001b[0;34m,\u001b[0m \u001b[0mkeep_lock\u001b[0m\u001b[0;34m=\u001b[0m\u001b[0mkeep_lock\u001b[0m\u001b[0;34m)\u001b[0m\u001b[0;34m\u001b[0m\u001b[0m\n\u001b[0m\u001b[1;32m   1148\u001b[0m         \u001b[0;32mif\u001b[0m \u001b[0mmodule\u001b[0m \u001b[0;32mis\u001b[0m \u001b[0;32mnot\u001b[0m \u001b[0mNone\u001b[0m\u001b[0;34m:\u001b[0m\u001b[0;34m\u001b[0m\u001b[0m\n\u001b[1;32m   1149\u001b[0m             \u001b[0;32mreturn\u001b[0m \u001b[0mmodule\u001b[0m\u001b[0;34m\u001b[0m\u001b[0m\n",
      "\u001b[0;32m/home/ryanj/miniconda2/lib/python2.7/site-packages/theano/gof/cmodule.pyc\u001b[0m in \u001b[0;36m_get_from_hash\u001b[0;34m(self, module_hash, key, keep_lock)\u001b[0m\n\u001b[1;32m   1045\u001b[0m             \u001b[0;32mwith\u001b[0m \u001b[0mcompilelock\u001b[0m\u001b[0;34m.\u001b[0m\u001b[0mlock_ctx\u001b[0m\u001b[0;34m(\u001b[0m\u001b[0mkeep_lock\u001b[0m\u001b[0;34m=\u001b[0m\u001b[0mkeep_lock\u001b[0m\u001b[0;34m)\u001b[0m\u001b[0;34m:\u001b[0m\u001b[0;34m\u001b[0m\u001b[0m\n\u001b[1;32m   1046\u001b[0m                 \u001b[0;32mtry\u001b[0m\u001b[0;34m:\u001b[0m\u001b[0;34m\u001b[0m\u001b[0m\n\u001b[0;32m-> 1047\u001b[0;31m                     \u001b[0mkey_data\u001b[0m\u001b[0;34m.\u001b[0m\u001b[0madd_key\u001b[0m\u001b[0;34m(\u001b[0m\u001b[0mkey\u001b[0m\u001b[0;34m,\u001b[0m \u001b[0msave_pkl\u001b[0m\u001b[0;34m=\u001b[0m\u001b[0mbool\u001b[0m\u001b[0;34m(\u001b[0m\u001b[0mkey\u001b[0m\u001b[0;34m[\u001b[0m\u001b[0;36m0\u001b[0m\u001b[0;34m]\u001b[0m\u001b[0;34m)\u001b[0m\u001b[0;34m)\u001b[0m\u001b[0;34m\u001b[0m\u001b[0m\n\u001b[0m\u001b[1;32m   1048\u001b[0m                     \u001b[0mkey_broken\u001b[0m \u001b[0;34m=\u001b[0m \u001b[0mFalse\u001b[0m\u001b[0;34m\u001b[0m\u001b[0m\n\u001b[1;32m   1049\u001b[0m                 \u001b[0;32mexcept\u001b[0m \u001b[0mpickle\u001b[0m\u001b[0;34m.\u001b[0m\u001b[0mPicklingError\u001b[0m\u001b[0;34m:\u001b[0m\u001b[0;34m\u001b[0m\u001b[0m\n",
      "\u001b[0;32m/home/ryanj/miniconda2/lib/python2.7/site-packages/theano/gof/cmodule.pyc\u001b[0m in \u001b[0;36madd_key\u001b[0;34m(self, key, save_pkl)\u001b[0m\n\u001b[1;32m    509\u001b[0m         \u001b[0mself\u001b[0m\u001b[0;34m.\u001b[0m\u001b[0mkeys\u001b[0m\u001b[0;34m.\u001b[0m\u001b[0madd\u001b[0m\u001b[0;34m(\u001b[0m\u001b[0mkey\u001b[0m\u001b[0;34m)\u001b[0m\u001b[0;34m\u001b[0m\u001b[0m\n\u001b[1;32m    510\u001b[0m         \u001b[0;32mif\u001b[0m \u001b[0msave_pkl\u001b[0m\u001b[0;34m:\u001b[0m\u001b[0;34m\u001b[0m\u001b[0m\n\u001b[0;32m--> 511\u001b[0;31m             \u001b[0mself\u001b[0m\u001b[0;34m.\u001b[0m\u001b[0msave_pkl\u001b[0m\u001b[0;34m(\u001b[0m\u001b[0;34m)\u001b[0m\u001b[0;34m\u001b[0m\u001b[0m\n\u001b[0m\u001b[1;32m    512\u001b[0m \u001b[0;34m\u001b[0m\u001b[0m\n\u001b[1;32m    513\u001b[0m     \u001b[0;32mdef\u001b[0m \u001b[0mremove_key\u001b[0m\u001b[0;34m(\u001b[0m\u001b[0mself\u001b[0m\u001b[0;34m,\u001b[0m \u001b[0mkey\u001b[0m\u001b[0;34m,\u001b[0m \u001b[0msave_pkl\u001b[0m\u001b[0;34m=\u001b[0m\u001b[0mTrue\u001b[0m\u001b[0;34m)\u001b[0m\u001b[0;34m:\u001b[0m\u001b[0;34m\u001b[0m\u001b[0m\n",
      "\u001b[0;32m/home/ryanj/miniconda2/lib/python2.7/site-packages/theano/gof/cmodule.pyc\u001b[0m in \u001b[0;36msave_pkl\u001b[0;34m(self)\u001b[0m\n\u001b[1;32m    531\u001b[0m         \u001b[0;32mtry\u001b[0m\u001b[0;34m:\u001b[0m\u001b[0;34m\u001b[0m\u001b[0m\n\u001b[1;32m    532\u001b[0m             \u001b[0;32mwith\u001b[0m \u001b[0mopen\u001b[0m\u001b[0;34m(\u001b[0m\u001b[0mself\u001b[0m\u001b[0;34m.\u001b[0m\u001b[0mkey_pkl\u001b[0m\u001b[0;34m,\u001b[0m \u001b[0;34m'wb'\u001b[0m\u001b[0;34m)\u001b[0m \u001b[0;32mas\u001b[0m \u001b[0mf\u001b[0m\u001b[0;34m:\u001b[0m\u001b[0;34m\u001b[0m\u001b[0m\n\u001b[0;32m--> 533\u001b[0;31m                 \u001b[0mpickle\u001b[0m\u001b[0;34m.\u001b[0m\u001b[0mdump\u001b[0m\u001b[0;34m(\u001b[0m\u001b[0mself\u001b[0m\u001b[0;34m,\u001b[0m \u001b[0mf\u001b[0m\u001b[0;34m,\u001b[0m \u001b[0mprotocol\u001b[0m\u001b[0;34m=\u001b[0m\u001b[0mpickle\u001b[0m\u001b[0;34m.\u001b[0m\u001b[0mHIGHEST_PROTOCOL\u001b[0m\u001b[0;34m)\u001b[0m\u001b[0;34m\u001b[0m\u001b[0m\n\u001b[0m\u001b[1;32m    534\u001b[0m         \u001b[0;32mexcept\u001b[0m \u001b[0mpickle\u001b[0m\u001b[0;34m.\u001b[0m\u001b[0mPicklingError\u001b[0m\u001b[0;34m:\u001b[0m\u001b[0;34m\u001b[0m\u001b[0m\n\u001b[1;32m    535\u001b[0m             _logger.warning(\"Cache leak due to unpickle-able key data %s\",\n",
      "\u001b[0;31mKeyboardInterrupt\u001b[0m: "
     ]
    }
   ],
   "source": [
    "model = AutoEncoder(dim=dim, encode_dim=1, \n",
    "                    initial_growth=0.25, shrink=0.65,\n",
    "                    activation='elu')#, kernel_initializer='lecun_normal')"
   ]
  },
  {
   "cell_type": "code",
   "execution_count": 504,
   "metadata": {
    "collapsed": true
   },
   "outputs": [],
   "source": [
    "model = AutoEncoder(dim=dim, encode_dim=1, \n",
    "                    initial_growth=0.25, shrink=0.25,\n",
    "                    activation='elu')#, kernel_initializer='lecun_normal')"
   ]
  },
  {
   "cell_type": "code",
   "execution_count": 505,
   "metadata": {
    "collapsed": true
   },
   "outputs": [],
   "source": [
    "model.Compile(optimizer='adamax', loss='mean_squared_error')"
   ]
  },
  {
   "cell_type": "code",
   "execution_count": 506,
   "metadata": {},
   "outputs": [
    {
     "name": "stdout",
     "output_type": "stream",
     "text": [
      "[975, 243, 60, 15, 3, 1, 3, 15, 60, 243, 975, 780]\n"
     ]
    }
   ],
   "source": [
    "print model.layer_dims"
   ]
  },
  {
   "cell_type": "code",
   "execution_count": 507,
   "metadata": {
    "collapsed": true
   },
   "outputs": [],
   "source": [
    "features_corrected_train, features_corrected_test = train_test_split(features_corrected, test_size=0.25, random_state=42)"
   ]
  },
  {
   "cell_type": "code",
   "execution_count": 522,
   "metadata": {
    "scrolled": true
   },
   "outputs": [
    {
     "name": "stdout",
     "output_type": "stream",
     "text": [
      "Train on 30000 samples, validate on 10000 samples\n",
      "Epoch 1/1000\n",
      "30000/30000 [==============================] - 8s - loss: 1.0306 - val_loss: 1.0318\n",
      "Epoch 2/1000\n",
      "30000/30000 [==============================] - 8s - loss: 1.0302 - val_loss: 1.0313\n",
      "Epoch 3/1000\n",
      "30000/30000 [==============================] - 8s - loss: 1.0301 - val_loss: 1.0312\n",
      "Epoch 4/1000\n",
      "30000/30000 [==============================] - 8s - loss: 1.0297 - val_loss: 1.0311\n",
      "Epoch 5/1000\n",
      "30000/30000 [==============================] - 8s - loss: 1.0297 - val_loss: 1.0310\n",
      "Epoch 6/1000\n",
      "30000/30000 [==============================] - 8s - loss: 1.0294 - val_loss: 1.0307\n",
      "Epoch 7/1000\n",
      "30000/30000 [==============================] - 8s - loss: 1.0294 - val_loss: 1.0304\n",
      "Epoch 8/1000\n",
      "30000/30000 [==============================] - 8s - loss: 1.0295 - val_loss: 1.0309\n",
      "Epoch 9/1000\n",
      "30000/30000 [==============================] - 8s - loss: 1.0291 - val_loss: 1.0306\n",
      "Epoch 10/1000\n",
      "30000/30000 [==============================] - 8s - loss: 1.0288 - val_loss: 1.0306\n",
      "Epoch 11/1000\n",
      "30000/30000 [==============================] - 8s - loss: 1.0290 - val_loss: 1.0307\n",
      "Epoch 12/1000\n",
      "30000/30000 [==============================] - 8s - loss: 1.0288 - val_loss: 1.0304\n",
      "Epoch 13/1000\n",
      "30000/30000 [==============================] - 8s - loss: 1.0288 - val_loss: 1.0304\n",
      "Epoch 14/1000\n",
      "30000/30000 [==============================] - 9s - loss: 1.0285 - val_loss: 1.0301\n",
      "Epoch 15/1000\n",
      "30000/30000 [==============================] - 9s - loss: 1.0285 - val_loss: 1.0299\n",
      "Epoch 16/1000\n",
      "30000/30000 [==============================] - 9s - loss: 1.0283 - val_loss: 1.0300\n",
      "Epoch 17/1000\n",
      "30000/30000 [==============================] - 9s - loss: 1.0297 - val_loss: 1.0311\n",
      "Epoch 18/1000\n",
      "30000/30000 [==============================] - 8s - loss: 1.0293 - val_loss: 1.0302\n",
      "Epoch 19/1000\n",
      "30000/30000 [==============================] - 8s - loss: 1.0283 - val_loss: 1.0295\n",
      "Epoch 20/1000\n",
      "30000/30000 [==============================] - 8s - loss: 1.0278 - val_loss: 1.0293\n",
      "Epoch 21/1000\n",
      "30000/30000 [==============================] - 8s - loss: 1.0274 - val_loss: 1.0292\n",
      "Epoch 22/1000\n",
      "30000/30000 [==============================] - 8s - loss: 1.0274 - val_loss: 1.0290\n",
      "Epoch 23/1000\n",
      "30000/30000 [==============================] - 8s - loss: 1.0273 - val_loss: 1.0292\n",
      "Epoch 24/1000\n",
      "30000/30000 [==============================] - 8s - loss: 1.0273 - val_loss: 1.0294\n",
      "Epoch 25/1000\n",
      "30000/30000 [==============================] - 8s - loss: 1.0269 - val_loss: 1.0284\n",
      "Epoch 26/1000\n",
      "30000/30000 [==============================] - 8s - loss: 1.0269 - val_loss: 1.0291\n",
      "Epoch 27/1000\n",
      "30000/30000 [==============================] - 8s - loss: 1.0266 - val_loss: 1.0289\n",
      "Epoch 28/1000\n",
      "30000/30000 [==============================] - 8s - loss: 1.0266 - val_loss: 1.0289\n",
      "Epoch 29/1000\n",
      "30000/30000 [==============================] - 8s - loss: 1.0264 - val_loss: 1.0285\n",
      "Epoch 30/1000\n",
      "30000/30000 [==============================] - 8s - loss: 1.0262 - val_loss: 1.0282\n",
      "Epoch 31/1000\n",
      "30000/30000 [==============================] - 8s - loss: 1.0258 - val_loss: 1.0283\n",
      "Epoch 32/1000\n",
      "30000/30000 [==============================] - 8s - loss: 1.0260 - val_loss: 1.0280\n",
      "Epoch 33/1000\n",
      "30000/30000 [==============================] - 8s - loss: 1.0260 - val_loss: 1.0281\n",
      "Epoch 34/1000\n",
      "30000/30000 [==============================] - 8s - loss: 1.0255 - val_loss: 1.0280\n",
      "Epoch 35/1000\n",
      "30000/30000 [==============================] - 8s - loss: 1.0254 - val_loss: 1.0280\n",
      "Epoch 36/1000\n",
      "30000/30000 [==============================] - 8s - loss: 1.0253 - val_loss: 1.0283\n",
      "Epoch 37/1000\n",
      "30000/30000 [==============================] - 8s - loss: 1.0253 - val_loss: 1.0276\n",
      "Epoch 38/1000\n",
      "30000/30000 [==============================] - 8s - loss: 1.0255 - val_loss: 1.0295\n",
      "Epoch 39/1000\n",
      "30000/30000 [==============================] - 8s - loss: 1.0254 - val_loss: 1.0278\n",
      "Epoch 40/1000\n",
      "30000/30000 [==============================] - 8s - loss: 1.0253 - val_loss: 1.0284\n",
      "Epoch 41/1000\n",
      "11500/30000 [==========>...................] - ETA: 5s - loss: 1.0250"
     ]
    },
    {
     "ename": "KeyboardInterrupt",
     "evalue": "",
     "output_type": "error",
     "traceback": [
      "\u001b[0;31m---------------------------------------------------------------------------\u001b[0m",
      "\u001b[0;31mKeyboardInterrupt\u001b[0m                         Traceback (most recent call last)",
      "\u001b[0;32m<ipython-input-522-1392cc768648>\u001b[0m in \u001b[0;36m<module>\u001b[0;34m()\u001b[0m\n\u001b[1;32m      1\u001b[0m history_raw = model.Fit(features_corrected_train, features_corrected_test,\n\u001b[0;32m----> 2\u001b[0;31m                 epochs=1000, batch_size=500, shuffle=True)\n\u001b[0m",
      "\u001b[0;32m/home/ryanj/Documents/hoomd-examples/hard_disks_pca/analysis_tools/autoencoder.py\u001b[0m in \u001b[0;36mFit\u001b[0;34m(self, features_train, features_test, **kwargs)\u001b[0m\n\u001b[1;32m     76\u001b[0m                                         \u001b[0mfeatures_train\u001b[0m\u001b[0;34m,\u001b[0m\u001b[0;34m\u001b[0m\u001b[0m\n\u001b[1;32m     77\u001b[0m                                         \u001b[0mvalidation_data\u001b[0m\u001b[0;34m=\u001b[0m\u001b[0;34m(\u001b[0m\u001b[0mfeatures_test\u001b[0m\u001b[0;34m,\u001b[0m \u001b[0mfeatures_test\u001b[0m\u001b[0;34m)\u001b[0m\u001b[0;34m,\u001b[0m\u001b[0;34m\u001b[0m\u001b[0m\n\u001b[0;32m---> 78\u001b[0;31m                                         **kwargs)\n\u001b[0m\u001b[1;32m     79\u001b[0m \u001b[0;34m\u001b[0m\u001b[0m\n\u001b[1;32m     80\u001b[0m     \u001b[0;32mdef\u001b[0m \u001b[0mEncode\u001b[0m\u001b[0;34m(\u001b[0m\u001b[0mself\u001b[0m\u001b[0;34m,\u001b[0m \u001b[0mfeatures\u001b[0m\u001b[0;34m,\u001b[0m \u001b[0;34m**\u001b[0m\u001b[0mkwargs\u001b[0m\u001b[0;34m)\u001b[0m\u001b[0;34m:\u001b[0m\u001b[0;34m\u001b[0m\u001b[0m\n",
      "\u001b[0;32m/home/ryanj/miniconda2/lib/python2.7/site-packages/keras/engine/training.pyc\u001b[0m in \u001b[0;36mfit\u001b[0;34m(self, x, y, batch_size, epochs, verbose, callbacks, validation_split, validation_data, shuffle, class_weight, sample_weight, initial_epoch, steps_per_epoch, validation_steps, **kwargs)\u001b[0m\n\u001b[1;32m   1596\u001b[0m                               \u001b[0minitial_epoch\u001b[0m\u001b[0;34m=\u001b[0m\u001b[0minitial_epoch\u001b[0m\u001b[0;34m,\u001b[0m\u001b[0;34m\u001b[0m\u001b[0m\n\u001b[1;32m   1597\u001b[0m                               \u001b[0msteps_per_epoch\u001b[0m\u001b[0;34m=\u001b[0m\u001b[0msteps_per_epoch\u001b[0m\u001b[0;34m,\u001b[0m\u001b[0;34m\u001b[0m\u001b[0m\n\u001b[0;32m-> 1598\u001b[0;31m                               validation_steps=validation_steps)\n\u001b[0m\u001b[1;32m   1599\u001b[0m \u001b[0;34m\u001b[0m\u001b[0m\n\u001b[1;32m   1600\u001b[0m     def evaluate(self, x, y,\n",
      "\u001b[0;32m/home/ryanj/miniconda2/lib/python2.7/site-packages/keras/engine/training.pyc\u001b[0m in \u001b[0;36m_fit_loop\u001b[0;34m(self, f, ins, out_labels, batch_size, epochs, verbose, callbacks, val_f, val_ins, shuffle, callback_metrics, initial_epoch, steps_per_epoch, validation_steps)\u001b[0m\n\u001b[1;32m   1181\u001b[0m                     \u001b[0mbatch_logs\u001b[0m\u001b[0;34m[\u001b[0m\u001b[0;34m'size'\u001b[0m\u001b[0;34m]\u001b[0m \u001b[0;34m=\u001b[0m \u001b[0mlen\u001b[0m\u001b[0;34m(\u001b[0m\u001b[0mbatch_ids\u001b[0m\u001b[0;34m)\u001b[0m\u001b[0;34m\u001b[0m\u001b[0m\n\u001b[1;32m   1182\u001b[0m                     \u001b[0mcallbacks\u001b[0m\u001b[0;34m.\u001b[0m\u001b[0mon_batch_begin\u001b[0m\u001b[0;34m(\u001b[0m\u001b[0mbatch_index\u001b[0m\u001b[0;34m,\u001b[0m \u001b[0mbatch_logs\u001b[0m\u001b[0;34m)\u001b[0m\u001b[0;34m\u001b[0m\u001b[0m\n\u001b[0;32m-> 1183\u001b[0;31m                     \u001b[0mouts\u001b[0m \u001b[0;34m=\u001b[0m \u001b[0mf\u001b[0m\u001b[0;34m(\u001b[0m\u001b[0mins_batch\u001b[0m\u001b[0;34m)\u001b[0m\u001b[0;34m\u001b[0m\u001b[0m\n\u001b[0m\u001b[1;32m   1184\u001b[0m                     \u001b[0;32mif\u001b[0m \u001b[0;32mnot\u001b[0m \u001b[0misinstance\u001b[0m\u001b[0;34m(\u001b[0m\u001b[0mouts\u001b[0m\u001b[0;34m,\u001b[0m \u001b[0mlist\u001b[0m\u001b[0;34m)\u001b[0m\u001b[0;34m:\u001b[0m\u001b[0;34m\u001b[0m\u001b[0m\n\u001b[1;32m   1185\u001b[0m                         \u001b[0mouts\u001b[0m \u001b[0;34m=\u001b[0m \u001b[0;34m[\u001b[0m\u001b[0mouts\u001b[0m\u001b[0;34m]\u001b[0m\u001b[0;34m\u001b[0m\u001b[0m\n",
      "\u001b[0;32m/home/ryanj/miniconda2/lib/python2.7/site-packages/keras/backend/theano_backend.pyc\u001b[0m in \u001b[0;36m__call__\u001b[0;34m(self, inputs)\u001b[0m\n\u001b[1;32m   1220\u001b[0m     \u001b[0;32mdef\u001b[0m \u001b[0m__call__\u001b[0m\u001b[0;34m(\u001b[0m\u001b[0mself\u001b[0m\u001b[0;34m,\u001b[0m \u001b[0minputs\u001b[0m\u001b[0;34m)\u001b[0m\u001b[0;34m:\u001b[0m\u001b[0;34m\u001b[0m\u001b[0m\n\u001b[1;32m   1221\u001b[0m         \u001b[0;32massert\u001b[0m \u001b[0misinstance\u001b[0m\u001b[0;34m(\u001b[0m\u001b[0minputs\u001b[0m\u001b[0;34m,\u001b[0m \u001b[0;34m(\u001b[0m\u001b[0mlist\u001b[0m\u001b[0;34m,\u001b[0m \u001b[0mtuple\u001b[0m\u001b[0;34m)\u001b[0m\u001b[0;34m)\u001b[0m\u001b[0;34m\u001b[0m\u001b[0m\n\u001b[0;32m-> 1222\u001b[0;31m         \u001b[0;32mreturn\u001b[0m \u001b[0mself\u001b[0m\u001b[0;34m.\u001b[0m\u001b[0mfunction\u001b[0m\u001b[0;34m(\u001b[0m\u001b[0;34m*\u001b[0m\u001b[0minputs\u001b[0m\u001b[0;34m)\u001b[0m\u001b[0;34m\u001b[0m\u001b[0m\n\u001b[0m\u001b[1;32m   1223\u001b[0m \u001b[0;34m\u001b[0m\u001b[0m\n\u001b[1;32m   1224\u001b[0m \u001b[0;34m\u001b[0m\u001b[0m\n",
      "\u001b[0;32m/home/ryanj/miniconda2/lib/python2.7/site-packages/theano/compile/function_module.pyc\u001b[0m in \u001b[0;36m__call__\u001b[0;34m(self, *args, **kwargs)\u001b[0m\n\u001b[1;32m    901\u001b[0m         \u001b[0;32mtry\u001b[0m\u001b[0;34m:\u001b[0m\u001b[0;34m\u001b[0m\u001b[0m\n\u001b[1;32m    902\u001b[0m             \u001b[0moutputs\u001b[0m \u001b[0;34m=\u001b[0m\u001b[0;31m\\\u001b[0m\u001b[0;34m\u001b[0m\u001b[0m\n\u001b[0;32m--> 903\u001b[0;31m                 \u001b[0mself\u001b[0m\u001b[0;34m.\u001b[0m\u001b[0mfn\u001b[0m\u001b[0;34m(\u001b[0m\u001b[0;34m)\u001b[0m \u001b[0;32mif\u001b[0m \u001b[0moutput_subset\u001b[0m \u001b[0;32mis\u001b[0m \u001b[0mNone\u001b[0m \u001b[0;32melse\u001b[0m\u001b[0;31m\\\u001b[0m\u001b[0;34m\u001b[0m\u001b[0m\n\u001b[0m\u001b[1;32m    904\u001b[0m                 \u001b[0mself\u001b[0m\u001b[0;34m.\u001b[0m\u001b[0mfn\u001b[0m\u001b[0;34m(\u001b[0m\u001b[0moutput_subset\u001b[0m\u001b[0;34m=\u001b[0m\u001b[0moutput_subset\u001b[0m\u001b[0;34m)\u001b[0m\u001b[0;34m\u001b[0m\u001b[0m\n\u001b[1;32m    905\u001b[0m         \u001b[0;32mexcept\u001b[0m \u001b[0mException\u001b[0m\u001b[0;34m:\u001b[0m\u001b[0;34m\u001b[0m\u001b[0m\n",
      "\u001b[0;32m/home/ryanj/miniconda2/lib/python2.7/site-packages/theano/gof/op.pyc\u001b[0m in \u001b[0;36mrval\u001b[0;34m(p, i, o, n)\u001b[0m\n\u001b[1;32m    890\u001b[0m             \u001b[0;31m# default arguments are stored in the closure of `rval`\u001b[0m\u001b[0;34m\u001b[0m\u001b[0;34m\u001b[0m\u001b[0m\n\u001b[1;32m    891\u001b[0m             \u001b[0;32mdef\u001b[0m \u001b[0mrval\u001b[0m\u001b[0;34m(\u001b[0m\u001b[0mp\u001b[0m\u001b[0;34m=\u001b[0m\u001b[0mp\u001b[0m\u001b[0;34m,\u001b[0m \u001b[0mi\u001b[0m\u001b[0;34m=\u001b[0m\u001b[0mnode_input_storage\u001b[0m\u001b[0;34m,\u001b[0m \u001b[0mo\u001b[0m\u001b[0;34m=\u001b[0m\u001b[0mnode_output_storage\u001b[0m\u001b[0;34m,\u001b[0m \u001b[0mn\u001b[0m\u001b[0;34m=\u001b[0m\u001b[0mnode\u001b[0m\u001b[0;34m)\u001b[0m\u001b[0;34m:\u001b[0m\u001b[0;34m\u001b[0m\u001b[0m\n\u001b[0;32m--> 892\u001b[0;31m                 \u001b[0mr\u001b[0m \u001b[0;34m=\u001b[0m \u001b[0mp\u001b[0m\u001b[0;34m(\u001b[0m\u001b[0mn\u001b[0m\u001b[0;34m,\u001b[0m \u001b[0;34m[\u001b[0m\u001b[0mx\u001b[0m\u001b[0;34m[\u001b[0m\u001b[0;36m0\u001b[0m\u001b[0;34m]\u001b[0m \u001b[0;32mfor\u001b[0m \u001b[0mx\u001b[0m \u001b[0;32min\u001b[0m \u001b[0mi\u001b[0m\u001b[0;34m]\u001b[0m\u001b[0;34m,\u001b[0m \u001b[0mo\u001b[0m\u001b[0;34m)\u001b[0m\u001b[0;34m\u001b[0m\u001b[0m\n\u001b[0m\u001b[1;32m    893\u001b[0m                 \u001b[0;32mfor\u001b[0m \u001b[0mo\u001b[0m \u001b[0;32min\u001b[0m \u001b[0mnode\u001b[0m\u001b[0;34m.\u001b[0m\u001b[0moutputs\u001b[0m\u001b[0;34m:\u001b[0m\u001b[0;34m\u001b[0m\u001b[0m\n\u001b[1;32m    894\u001b[0m                     \u001b[0mcompute_map\u001b[0m\u001b[0;34m[\u001b[0m\u001b[0mo\u001b[0m\u001b[0;34m]\u001b[0m\u001b[0;34m[\u001b[0m\u001b[0;36m0\u001b[0m\u001b[0;34m]\u001b[0m \u001b[0;34m=\u001b[0m \u001b[0mTrue\u001b[0m\u001b[0;34m\u001b[0m\u001b[0m\n",
      "\u001b[0;32m/home/ryanj/miniconda2/lib/python2.7/site-packages/theano/tensor/blas.pyc\u001b[0m in \u001b[0;36mperform\u001b[0;34m(self, node, inp, out)\u001b[0m\n\u001b[1;32m   1550\u001b[0m         \u001b[0mz\u001b[0m\u001b[0;34m,\u001b[0m \u001b[0;34m=\u001b[0m \u001b[0mout\u001b[0m\u001b[0;34m\u001b[0m\u001b[0m\n\u001b[1;32m   1551\u001b[0m         \u001b[0;32mtry\u001b[0m\u001b[0;34m:\u001b[0m\u001b[0;34m\u001b[0m\u001b[0m\n\u001b[0;32m-> 1552\u001b[0;31m             \u001b[0mz\u001b[0m\u001b[0;34m[\u001b[0m\u001b[0;36m0\u001b[0m\u001b[0;34m]\u001b[0m \u001b[0;34m=\u001b[0m \u001b[0mnp\u001b[0m\u001b[0;34m.\u001b[0m\u001b[0masarray\u001b[0m\u001b[0;34m(\u001b[0m\u001b[0mnp\u001b[0m\u001b[0;34m.\u001b[0m\u001b[0mdot\u001b[0m\u001b[0;34m(\u001b[0m\u001b[0mx\u001b[0m\u001b[0;34m,\u001b[0m \u001b[0my\u001b[0m\u001b[0;34m)\u001b[0m\u001b[0;34m)\u001b[0m\u001b[0;34m\u001b[0m\u001b[0m\n\u001b[0m\u001b[1;32m   1553\u001b[0m         \u001b[0;32mexcept\u001b[0m \u001b[0mValueError\u001b[0m \u001b[0;32mas\u001b[0m \u001b[0me\u001b[0m\u001b[0;34m:\u001b[0m\u001b[0;34m\u001b[0m\u001b[0m\n\u001b[1;32m   1554\u001b[0m             \u001b[0;31m# The error raised by numpy has no shape information, we mean to\u001b[0m\u001b[0;34m\u001b[0m\u001b[0;34m\u001b[0m\u001b[0m\n",
      "\u001b[0;31mKeyboardInterrupt\u001b[0m: "
     ]
    }
   ],
   "source": [
    "history_raw = model.Fit(features_corrected_train, features_corrected_test,\n",
    "                epochs=1000, batch_size=500, shuffle=True)"
   ]
  },
  {
   "cell_type": "code",
   "execution_count": null,
   "metadata": {
    "collapsed": true
   },
   "outputs": [],
   "source": []
  },
  {
   "cell_type": "code",
   "execution_count": 523,
   "metadata": {
    "collapsed": true
   },
   "outputs": [],
   "source": [
    "pcs = model.Encode(features_corrected)"
   ]
  },
  {
   "cell_type": "code",
   "execution_count": 61,
   "metadata": {},
   "outputs": [
    {
     "ename": "IndexError",
     "evalue": "index 1 is out of bounds for axis 1 with size 1",
     "output_type": "error",
     "traceback": [
      "\u001b[0;31m---------------------------------------------------------------------------\u001b[0m",
      "\u001b[0;31mIndexError\u001b[0m                                Traceback (most recent call last)",
      "\u001b[0;32m<ipython-input-61-446666f1900b>\u001b[0m in \u001b[0;36m<module>\u001b[0;34m()\u001b[0m\n\u001b[1;32m      6\u001b[0m \u001b[0;31m#plt.axvspan(0.716, 0.745, alpha=0.2, color='blue')\u001b[0m\u001b[0;34m\u001b[0m\u001b[0;34m\u001b[0m\u001b[0m\n\u001b[1;32m      7\u001b[0m \u001b[0;34m\u001b[0m\u001b[0m\n\u001b[0;32m----> 8\u001b[0;31m \u001b[0mplt\u001b[0m\u001b[0;34m.\u001b[0m\u001b[0mplot\u001b[0m\u001b[0;34m(\u001b[0m\u001b[0mpcs\u001b[0m\u001b[0;34m[\u001b[0m\u001b[0;34m:\u001b[0m\u001b[0;34m,\u001b[0m\u001b[0;36m0\u001b[0m\u001b[0;34m]\u001b[0m\u001b[0;34m,\u001b[0m \u001b[0mpcs\u001b[0m\u001b[0;34m[\u001b[0m\u001b[0;34m:\u001b[0m\u001b[0;34m,\u001b[0m\u001b[0;36m1\u001b[0m\u001b[0;34m]\u001b[0m\u001b[0;34m,\u001b[0m \u001b[0mmarker\u001b[0m\u001b[0;34m=\u001b[0m\u001b[0;34m'o'\u001b[0m\u001b[0;34m,\u001b[0m \u001b[0mlinewidth\u001b[0m\u001b[0;34m=\u001b[0m\u001b[0;36m0.0\u001b[0m\u001b[0;34m,\u001b[0m \u001b[0mmarkersize\u001b[0m\u001b[0;34m=\u001b[0m\u001b[0;36m10\u001b[0m\u001b[0;34m,\u001b[0m \u001b[0mcolor\u001b[0m \u001b[0;34m=\u001b[0m \u001b[0;34m'orange'\u001b[0m\u001b[0;34m,\u001b[0m \u001b[0malpha\u001b[0m\u001b[0;34m=\u001b[0m\u001b[0;36m0.1\u001b[0m\u001b[0;34m,\u001b[0m \u001b[0mmarkerfacecolor\u001b[0m\u001b[0;34m=\u001b[0m\u001b[0;34m'None'\u001b[0m\u001b[0;34m)\u001b[0m\u001b[0;34m\u001b[0m\u001b[0m\n\u001b[0m\u001b[1;32m      9\u001b[0m \u001b[0;34m\u001b[0m\u001b[0m\n\u001b[1;32m     10\u001b[0m \u001b[0;34m\u001b[0m\u001b[0m\n",
      "\u001b[0;31mIndexError\u001b[0m: index 1 is out of bounds for axis 1 with size 1"
     ]
    }
   ],
   "source": [
    "#plot the principal components\n",
    "colors = 200*['green', 'purple', 'orange', 'teal', 'black', 'red']\n",
    "\n",
    "#highlight the transition region if found\n",
    "#plt.axvspan(0.700, 0.716, alpha=0.2, color='grey')\n",
    "#plt.axvspan(0.716, 0.745, alpha=0.2, color='blue')\n",
    "\n",
    "plt.plot(pcs[:,0], pcs[:,1], marker='o', linewidth=0.0, markersize=10, color = 'orange', alpha=0.1, markerfacecolor='None') \n",
    "\n",
    "\n",
    "#backround grid details\n",
    "axes = plt.gca()\n",
    "axes.grid(b = True, which = 'both', axis = 'both', color = 'gray', linestyle = '-', alpha = 0.5, linewidth = 0.5) \n",
    "axes.set_axis_bgcolor('white')  \n",
    "\n",
    "#font scpecifications\n",
    "title_font = {'family' : 'arial', 'color'  : 'black', 'weight' : 'heavy','size': 20}\n",
    "axis_label_font = {'family' : 'arial', 'color'  : 'black', 'weight' : 'normal','size': 20}                                                   \n",
    "\n",
    "#figure size and tick style\n",
    "plt.rcParams[\"figure.figsize\"] = [6,6]\n",
    "plt.rc('axes',edgecolor='black',linewidth=1)\n",
    "plt.tick_params(which='both', axis='both', color='black', length=4, width=0.5)\n",
    "plt.rcParams['xtick.direction'] = 'in'\n",
    "plt.rcParams['ytick.direction'] = 'in'\n",
    "\n",
    "#plt.yscale('log')\n",
    "#plt.ylim(0,0.3)\n",
    "\n",
    "plt.xlabel(r'$P_{1}$', y=3, fontsize=20, fontdict = axis_label_font)\n",
    "plt.ylabel(r'$P_{1}$', fontsize=20, fontdict = axis_label_font)\n",
    "\n",
    "#title and axis labels\n",
    "plt.tick_params(axis='both', labelsize=20)\n",
    "plt.title('Autoencoder', y=1.05, fontdict = title_font)\n",
    "\n",
    "plt.show()"
   ]
  },
  {
   "cell_type": "code",
   "execution_count": 524,
   "metadata": {
    "collapsed": true
   },
   "outputs": [],
   "source": [
    "from numpy import zeros"
   ]
  },
  {
   "cell_type": "code",
   "execution_count": 525,
   "metadata": {
    "collapsed": true
   },
   "outputs": [],
   "source": [
    "def CreateDistanceMatrix(features):\n",
    "    num_features = len(features)\n",
    "    N_try = 0\n",
    "    num_features_try = N_try*(N_try-1)/2\n",
    "    while num_features_try < num_features:\n",
    "        N_try += 1\n",
    "        num_features_try = N_try*(N_try-1)/2\n",
    "    \n",
    "    if num_features_try != num_features:\n",
    "        return 'Bad data'\n",
    "    \n",
    "    #build the euclidean distance matrix\n",
    "    N = N_try\n",
    "    EDM = zeros((N,N))\n",
    "    feature_index = 0\n",
    "    for i in range(0, N):\n",
    "        for j in range(i+1, N):\n",
    "            EDM[i][j] = features[feature_index]\n",
    "            EDM[j][i] = features[feature_index]\n",
    "            feature_index += 1\n",
    "    \n",
    "    return EDM"
   ]
  },
  {
   "cell_type": "code",
   "execution_count": 526,
   "metadata": {
    "collapsed": true
   },
   "outputs": [],
   "source": [
    "from sklearn.manifold import MDS"
   ]
  },
  {
   "cell_type": "code",
   "execution_count": 527,
   "metadata": {
    "collapsed": true
   },
   "outputs": [],
   "source": [
    "mds_model = MDS(dissimilarity='precomputed')"
   ]
  },
  {
   "cell_type": "code",
   "execution_count": 54,
   "metadata": {},
   "outputs": [
    {
     "ename": "NameError",
     "evalue": "name 'pcs' is not defined",
     "output_type": "error",
     "traceback": [
      "\u001b[0;31m---------------------------------------------------------------------------\u001b[0m",
      "\u001b[0;31mNameError\u001b[0m                                 Traceback (most recent call last)",
      "\u001b[0;32m<ipython-input-54-daca8b6cb817>\u001b[0m in \u001b[0;36m<module>\u001b[0;34m()\u001b[0m\n\u001b[1;32m      3\u001b[0m \u001b[0;34m\u001b[0m\u001b[0m\n\u001b[1;32m      4\u001b[0m \u001b[0;31m#plt.plot(ED_reconstructed[:,0], ED_reconstructed[:,1], marker='o', linewidth=0.0, markersize=20, color = 'blue', alpha=1.0, markerfacecolor='blue')\u001b[0m\u001b[0;34m\u001b[0m\u001b[0;34m\u001b[0m\u001b[0m\n\u001b[0;32m----> 5\u001b[0;31m \u001b[0mplt\u001b[0m\u001b[0;34m.\u001b[0m\u001b[0mhist\u001b[0m\u001b[0;34m(\u001b[0m\u001b[0mpcs\u001b[0m\u001b[0;34m[\u001b[0m\u001b[0;34m:\u001b[0m\u001b[0;34m,\u001b[0m\u001b[0;36m0\u001b[0m\u001b[0;34m]\u001b[0m\u001b[0;34m,\u001b[0m \u001b[0mbins\u001b[0m\u001b[0;34m=\u001b[0m\u001b[0;36m500\u001b[0m\u001b[0;34m,\u001b[0m \u001b[0mcolor\u001b[0m \u001b[0;34m=\u001b[0m \u001b[0;34m'blue'\u001b[0m\u001b[0;34m)\u001b[0m\u001b[0;34m\u001b[0m\u001b[0m\n\u001b[0m\u001b[1;32m      6\u001b[0m \u001b[0;34m\u001b[0m\u001b[0m\n\u001b[1;32m      7\u001b[0m \u001b[0;31m#backround grid details\u001b[0m\u001b[0;34m\u001b[0m\u001b[0;34m\u001b[0m\u001b[0m\n",
      "\u001b[0;31mNameError\u001b[0m: name 'pcs' is not defined"
     ]
    }
   ],
   "source": [
    "#plot the principal components\n",
    "colors = 200*['green', 'purple', 'orange', 'teal', 'black', 'red']\n",
    "\n",
    "#plt.plot(ED_reconstructed[:,0], ED_reconstructed[:,1], marker='o', linewidth=0.0, markersize=20, color = 'blue', alpha=1.0, markerfacecolor='blue') \n",
    "plt.hist(pcs[:,0], bins=500, color = 'blue')\n",
    "\n",
    "#backround grid details\n",
    "axes = plt.gca()\n",
    "axes.grid(b = True, which = 'both', axis = 'both', color = 'gray', linestyle = '-', alpha = 0.5, linewidth = 0.5) \n",
    "axes.set_axis_bgcolor('white')  \n",
    "\n",
    "#font scpecifications\n",
    "title_font = {'family' : 'arial', 'color'  : 'black', 'weight' : 'heavy','size': 20}\n",
    "axis_label_font = {'family' : 'arial', 'color'  : 'black', 'weight' : 'normal','size': 20}                                                   \n",
    "\n",
    "#figure size and tick style\n",
    "plt.rcParams[\"figure.figsize\"] = [6,6]\n",
    "plt.rc('axes',edgecolor='black',linewidth=1)\n",
    "plt.tick_params(which='both', axis='both', color='black', length=4, width=0.5)\n",
    "plt.rcParams['xtick.direction'] = 'in'\n",
    "plt.rcParams['ytick.direction'] = 'in'\n",
    "\n",
    "#plt.yscale('log')\n",
    "#plt.ylim(0,0.3)\n",
    "\n",
    "plt.xlabel(r'$P_{1}$', y=3, fontsize=20, fontdict = axis_label_font)\n",
    "plt.ylabel(r'$P_{1}$', fontsize=20, fontdict = axis_label_font)\n",
    "\n",
    "#title and axis labels\n",
    "plt.tick_params(axis='both', labelsize=20)\n",
    "plt.title('Autoencoder', y=1.05, fontdict = title_font)\n",
    "\n",
    "plt.show()"
   ]
  },
  {
   "cell_type": "code",
   "execution_count": 534,
   "metadata": {
    "collapsed": true
   },
   "outputs": [],
   "source": [
    "features_reconstructed = model.Decode(array([[0.2]]))[0]\n",
    "features_reconstructed = incpca_ig.inverse_transform(features_reconstructed)\n",
    "EDM = CreateDistanceMatrix(features_reconstructed)\n",
    "ED_reconstructed = mds_model.fit_transform(EDM)"
   ]
  },
  {
   "cell_type": "code",
   "execution_count": 535,
   "metadata": {},
   "outputs": [
    {
     "name": "stderr",
     "output_type": "stream",
     "text": [
      "/home/ryanj/miniconda2/lib/python2.7/site-packages/ipykernel_launcher.py:10: MatplotlibDeprecationWarning: The set_axis_bgcolor function was deprecated in version 2.0. Use set_facecolor instead.\n",
      "  # Remove the CWD from sys.path while we load stuff.\n"
     ]
    },
    {
     "data": {
      "image/png": "[encoded data removed]",
      "text/plain": [
       "<matplotlib.figure.Figure at 0x7fd77b0faa50>"
      ]
     },
     "metadata": {},
     "output_type": "display_data"
    }
   ],
   "source": [
    "#plot the principal components\n",
    "colors = 200*['green', 'purple', 'orange', 'teal', 'black', 'red']\n",
    "\n",
    "plt.plot(ED_reconstructed[:,0], ED_reconstructed[:,1], marker='o', linewidth=0.0, markersize=20, color = 'blue', alpha=1.0, markerfacecolor='blue') \n",
    "\n",
    "\n",
    "#backround grid details\n",
    "axes = plt.gca()\n",
    "axes.grid(b = True, which = 'both', axis = 'both', color = 'gray', linestyle = '-', alpha = 0.5, linewidth = 0.5) \n",
    "axes.set_axis_bgcolor('white')  \n",
    "\n",
    "#font scpecifications\n",
    "title_font = {'family' : 'arial', 'color'  : 'black', 'weight' : 'heavy','size': 20}\n",
    "axis_label_font = {'family' : 'arial', 'color'  : 'black', 'weight' : 'normal','size': 20}                                                   \n",
    "\n",
    "#figure size and tick style\n",
    "plt.rcParams[\"figure.figsize\"] = [6,6]\n",
    "plt.rc('axes',edgecolor='black',linewidth=1)\n",
    "plt.tick_params(which='both', axis='both', color='black', length=4, width=0.5)\n",
    "plt.rcParams['xtick.direction'] = 'in'\n",
    "plt.rcParams['ytick.direction'] = 'in'\n",
    "\n",
    "#plt.yscale('log')\n",
    "#plt.ylim(0,0.3)\n",
    "\n",
    "plt.xlabel(r'$P_{1}$', y=3, fontsize=20, fontdict = axis_label_font)\n",
    "plt.ylabel(r'$P_{1}$', fontsize=20, fontdict = axis_label_font)\n",
    "\n",
    "#title and axis labels\n",
    "plt.tick_params(axis='both', labelsize=20)\n",
    "plt.title('Autoencoder', y=1.05, fontdict = title_font)\n",
    "\n",
    "plt.show()"
   ]
  },
  {
   "cell_type": "code",
   "execution_count": 488,
   "metadata": {},
   "outputs": [
    {
     "name": "stderr",
     "output_type": "stream",
     "text": [
      "/home/ryanj/miniconda2/lib/python2.7/site-packages/ipykernel_launcher.py:10: MatplotlibDeprecationWarning: The set_axis_bgcolor function was deprecated in version 2.0. Use set_facecolor instead.\n",
      "  # Remove the CWD from sys.path while we load stuff.\n"
     ]
    },
    {
     "data": {
      "image/png": "[encoded data removed]",
      "text/plain": [
       "<matplotlib.figure.Figure at 0x7fd7885c0490>"
      ]
     },
     "metadata": {},
     "output_type": "display_data"
    }
   ],
   "source": [
    "#plot the principal components\n",
    "colors = 200*['green', 'purple', 'orange', 'teal', 'black', 'red']\n",
    "\n",
    "plt.plot(ED_reconstructed[:,0], ED_reconstructed[:,1], marker='o', linewidth=0.0, markersize=20, color = 'blue', alpha=1.0, markerfacecolor='blue') \n",
    "\n",
    "\n",
    "#backround grid details\n",
    "axes = plt.gca()\n",
    "axes.grid(b = True, which = 'both', axis = 'both', color = 'gray', linestyle = '-', alpha = 0.5, linewidth = 0.5) \n",
    "axes.set_axis_bgcolor('white')  \n",
    "\n",
    "#font scpecifications\n",
    "title_font = {'family' : 'arial', 'color'  : 'black', 'weight' : 'heavy','size': 20}\n",
    "axis_label_font = {'family' : 'arial', 'color'  : 'black', 'weight' : 'normal','size': 20}                                                   \n",
    "\n",
    "#figure size and tick style\n",
    "plt.rcParams[\"figure.figsize\"] = [6,6]\n",
    "plt.rc('axes',edgecolor='black',linewidth=1)\n",
    "plt.tick_params(which='both', axis='both', color='black', length=4, width=0.5)\n",
    "plt.rcParams['xtick.direction'] = 'in'\n",
    "plt.rcParams['ytick.direction'] = 'in'\n",
    "\n",
    "#plt.yscale('log')\n",
    "#plt.ylim(0,0.3)\n",
    "\n",
    "plt.xlabel(r'$P_{1}$', y=3, fontsize=20, fontdict = axis_label_font)\n",
    "plt.ylabel(r'$P_{1}$', fontsize=20, fontdict = axis_label_font)\n",
    "\n",
    "#title and axis labels\n",
    "plt.tick_params(axis='both', labelsize=20)\n",
    "plt.title('Autoencoder', y=1.05, fontdict = title_font)\n",
    "\n",
    "plt.show()"
   ]
  },
  {
   "cell_type": "code",
   "execution_count": 484,
   "metadata": {},
   "outputs": [
    {
     "name": "stderr",
     "output_type": "stream",
     "text": [
      "/home/ryanj/miniconda2/lib/python2.7/site-packages/ipykernel_launcher.py:10: MatplotlibDeprecationWarning: The set_axis_bgcolor function was deprecated in version 2.0. Use set_facecolor instead.\n",
      "  # Remove the CWD from sys.path while we load stuff.\n"
     ]
    },
    {
     "data": {
      "image/png": "[encoded data removed]",
      "text/plain": [
       "<matplotlib.figure.Figure at 0x7fd77e1cfa90>"
      ]
     },
     "metadata": {},
     "output_type": "display_data"
    }
   ],
   "source": [
    "#plot the principal components\n",
    "colors = 200*['green', 'purple', 'orange', 'teal', 'black', 'red']\n",
    "\n",
    "plt.plot(ED_reconstructed[:,0], ED_reconstructed[:,1], marker='o', linewidth=0.0, markersize=20, color = 'blue', alpha=1.0, markerfacecolor='blue') \n",
    "\n",
    "\n",
    "#backround grid details\n",
    "axes = plt.gca()\n",
    "axes.grid(b = True, which = 'both', axis = 'both', color = 'gray', linestyle = '-', alpha = 0.5, linewidth = 0.5) \n",
    "axes.set_axis_bgcolor('white')  \n",
    "\n",
    "#font scpecifications\n",
    "title_font = {'family' : 'arial', 'color'  : 'black', 'weight' : 'heavy','size': 20}\n",
    "axis_label_font = {'family' : 'arial', 'color'  : 'black', 'weight' : 'normal','size': 20}                                                   \n",
    "\n",
    "#figure size and tick style\n",
    "plt.rcParams[\"figure.figsize\"] = [6,6]\n",
    "plt.rc('axes',edgecolor='black',linewidth=1)\n",
    "plt.tick_params(which='both', axis='both', color='black', length=4, width=0.5)\n",
    "plt.rcParams['xtick.direction'] = 'in'\n",
    "plt.rcParams['ytick.direction'] = 'in'\n",
    "\n",
    "#plt.yscale('log')\n",
    "#plt.ylim(0,0.3)\n",
    "\n",
    "plt.xlabel(r'$P_{1}$', y=3, fontsize=20, fontdict = axis_label_font)\n",
    "plt.ylabel(r'$P_{1}$', fontsize=20, fontdict = axis_label_font)\n",
    "\n",
    "#title and axis labels\n",
    "plt.tick_params(axis='both', labelsize=20)\n",
    "plt.title('Autoencoder', y=1.05, fontdict = title_font)\n",
    "\n",
    "plt.show()"
   ]
  },
  {
   "cell_type": "code",
   "execution_count": null,
   "metadata": {
    "collapsed": true
   },
   "outputs": [],
   "source": []
  },
  {
   "cell_type": "code",
   "execution_count": null,
   "metadata": {
    "collapsed": true
   },
   "outputs": [],
   "source": []
  },
  {
   "cell_type": "markdown",
   "metadata": {},
   "source": [
    "### Build a radial basis function network"
   ]
  },
  {
   "cell_type": "code",
   "execution_count": 131,
   "metadata": {
    "collapsed": true
   },
   "outputs": [],
   "source": [
    "from keras import backend as K\n",
    "from keras.utils.generic_utils import get_custom_objects"
   ]
  },
  {
   "cell_type": "code",
   "execution_count": 140,
   "metadata": {
    "collapsed": true
   },
   "outputs": [],
   "source": [
    "from keras import backend as K\n",
    "from keras.engine.topology import Layer\n",
    "from keras.initializers import Constant\n",
    "import numpy as np"
   ]
  },
  {
   "cell_type": "code",
   "execution_count": 496,
   "metadata": {
    "collapsed": true
   },
   "outputs": [],
   "source": [
    "class RadiallyPositionedBasis(Layer):\n",
    "    \n",
    "    def __init__(self, output_dim, rcs, init_sigma=0.1, **kwargs):\n",
    "        #self consistency check to ensure that the number of rcs equals \n",
    "        #the expected number of output dimensions\n",
    "        self.rcs_dim = len(rcs)\n",
    "        assert output_dim == self.rcs_dim\n",
    "        \n",
    "        self.output_dim = output_dim\n",
    "        self.rcs = K.variable(value=rcs)\n",
    "        self.init_sigma = init_sigma\n",
    "        super(RadiallyPositionedBasis, self).__init__(**kwargs)\n",
    "\n",
    "    def build(self, input_shape):\n",
    "        #check that we are only using only scalar quantities \n",
    "        assert input_shape[1] == 1\n",
    "        \n",
    "        #create the optimizable standard deviations for the gaussian basis functions\n",
    "        self.sigmas = self.add_weight(name='sigmas',\n",
    "                                     shape=(self.output_dim,),\n",
    "                                     initializer=Constant(value=self.init_sigma),\n",
    "                                     trainable=True)\n",
    "        super(RadiallyPositionedBasis, self).build(input_shape)  \n",
    "\n",
    "    def call(self, x):\n",
    "        X = K.repeat_elements(x, self.rcs_dim, axis=1)\n",
    "        return K.exp(-(self.rcs-X)**2.0)/self.sigmas\n",
    "\n",
    "    def compute_output_shape(self, input_shape):\n",
    "        return (input_shape[0], self.output_dim)\n",
    "\n",
    "    def get_config(self):\n",
    "        # have to define get_config to be able to use model_from_json\n",
    "        config = {\n",
    "            'output_dim': self.output_dim\n",
    "        }\n",
    "        base_config = super(RadiallyPositionedBasis, self).get_config()\n",
    "        return dict(list(base_config.items()) + list(config.items()))"
   ]
  },
  {
   "cell_type": "code",
   "execution_count": 572,
   "metadata": {
    "collapsed": true
   },
   "outputs": [],
   "source": [
    "from keras.layers import Input, Dense\n",
    "from keras.models import Model"
   ]
  },
  {
   "cell_type": "code",
   "execution_count": 607,
   "metadata": {},
   "outputs": [
    {
     "name": "stdout",
     "output_type": "stream",
     "text": [
      "[ 0.  1.  2.  3.  4.  5.]\n"
     ]
    }
   ],
   "source": [
    "rcs = arange(0.0, 5.0001, 1.0)\n",
    "print rcs\n",
    "\n",
    "r = Input(shape=(1,))\n",
    "signal = RadiallyPositionedBasis(len(rcs), rcs, init_sigma=0.01)(r)\n",
    "signal = Dense(len(rcs), activation='elu')(signal)\n",
    "Fr = Dense(1, activation='linear')(signal)\n",
    "\n",
    "# this model maps an input to its reconstruction\n",
    "model = Model(r, Fr)"
   ]
  },
  {
   "cell_type": "code",
   "execution_count": 608,
   "metadata": {
    "collapsed": true
   },
   "outputs": [],
   "source": [
    "from numpy import cos, transpose"
   ]
  },
  {
   "cell_type": "code",
   "execution_count": 609,
   "metadata": {
    "collapsed": true
   },
   "outputs": [],
   "source": [
    "r_train = transpose([arange(0.0,5.0,0.0001)])\n",
    "Fr_train = cos(r_train)"
   ]
  },
  {
   "cell_type": "code",
   "execution_count": 610,
   "metadata": {
    "collapsed": true
   },
   "outputs": [],
   "source": [
    "model.compile(optimizer='adamax', loss='mean_squared_error')"
   ]
  },
  {
   "cell_type": "code",
   "execution_count": 611,
   "metadata": {
    "scrolled": true
   },
   "outputs": [
    {
     "name": "stdout",
     "output_type": "stream",
     "text": [
      "Epoch 1/50\n",
      "50000/50000 [==============================] - 0s - loss: 6.5522     \n",
      "Epoch 2/50\n",
      "50000/50000 [==============================] - 0s - loss: 0.1371     \n",
      "Epoch 3/50\n",
      "50000/50000 [==============================] - 0s - loss: 0.0227     \n",
      "Epoch 4/50\n",
      "50000/50000 [==============================] - 0s - loss: 0.0027     \n",
      "Epoch 5/50\n",
      "50000/50000 [==============================] - 0s - loss: 8.8110e-04     \n",
      "Epoch 6/50\n",
      "50000/50000 [==============================] - 0s - loss: 3.0172e-04     \n",
      "Epoch 7/50\n",
      "50000/50000 [==============================] - 0s - loss: 1.5949e-04     \n",
      "Epoch 8/50\n",
      "50000/50000 [==============================] - 0s - loss: 9.3706e-05     \n",
      "Epoch 9/50\n",
      "50000/50000 [==============================] - 0s - loss: 6.1320e-05     \n",
      "Epoch 10/50\n",
      "50000/50000 [==============================] - 0s - loss: 5.2069e-05     \n",
      "Epoch 11/50\n",
      "50000/50000 [==============================] - 0s - loss: 4.3518e-05     \n",
      "Epoch 12/50\n",
      "50000/50000 [==============================] - 0s - loss: 3.7967e-05     \n",
      "Epoch 13/50\n",
      "50000/50000 [==============================] - 0s - loss: 3.3055e-05     \n",
      "Epoch 14/50\n",
      "50000/50000 [==============================] - 0s - loss: 3.2812e-05     \n",
      "Epoch 15/50\n",
      "50000/50000 [==============================] - 0s - loss: 2.9057e-05     \n",
      "Epoch 16/50\n",
      "50000/50000 [==============================] - 0s - loss: 2.8527e-05     \n",
      "Epoch 17/50\n",
      "50000/50000 [==============================] - 0s - loss: 2.7608e-05     \n",
      "Epoch 18/50\n",
      "50000/50000 [==============================] - 0s - loss: 2.3947e-05     \n",
      "Epoch 19/50\n",
      "50000/50000 [==============================] - 0s - loss: 2.3591e-05     \n",
      "Epoch 20/50\n",
      "50000/50000 [==============================] - 0s - loss: 2.2296e-05     \n",
      "Epoch 21/50\n",
      "50000/50000 [==============================] - 0s - loss: 2.1061e-05     \n",
      "Epoch 22/50\n",
      "50000/50000 [==============================] - 0s - loss: 1.8042e-05     \n",
      "Epoch 23/50\n",
      "50000/50000 [==============================] - 0s - loss: 1.7012e-05     \n",
      "Epoch 24/50\n",
      "50000/50000 [==============================] - 0s - loss: 1.5191e-05     \n",
      "Epoch 25/50\n",
      "50000/50000 [==============================] - 0s - loss: 1.4561e-05     \n",
      "Epoch 26/50\n",
      "50000/50000 [==============================] - 0s - loss: 1.3683e-05     \n",
      "Epoch 27/50\n",
      "50000/50000 [==============================] - 0s - loss: 1.1208e-05     \n",
      "Epoch 28/50\n",
      "50000/50000 [==============================] - 0s - loss: 1.1298e-05     \n",
      "Epoch 29/50\n",
      "50000/50000 [==============================] - 0s - loss: 9.6050e-06     \n",
      "Epoch 30/50\n",
      "50000/50000 [==============================] - 0s - loss: 8.6001e-06     \n",
      "Epoch 31/50\n",
      "50000/50000 [==============================] - 0s - loss: 8.3349e-06     \n",
      "Epoch 32/50\n",
      "50000/50000 [==============================] - 0s - loss: 7.6400e-06     \n",
      "Epoch 33/50\n",
      "50000/50000 [==============================] - 0s - loss: 7.5503e-06     \n",
      "Epoch 34/50\n",
      "50000/50000 [==============================] - 0s - loss: 6.0269e-06     \n",
      "Epoch 35/50\n",
      "50000/50000 [==============================] - 0s - loss: 6.1042e-06     \n",
      "Epoch 36/50\n",
      "50000/50000 [==============================] - 0s - loss: 5.4820e-06     \n",
      "Epoch 37/50\n",
      "50000/50000 [==============================] - 0s - loss: 5.7926e-06     \n",
      "Epoch 38/50\n",
      "50000/50000 [==============================] - 0s - loss: 5.0318e-06     \n",
      "Epoch 39/50\n",
      "50000/50000 [==============================] - 0s - loss: 4.7290e-06     \n",
      "Epoch 40/50\n",
      "50000/50000 [==============================] - 0s - loss: 4.6066e-06     \n",
      "Epoch 41/50\n",
      "50000/50000 [==============================] - 0s - loss: 4.4309e-06     \n",
      "Epoch 42/50\n",
      "50000/50000 [==============================] - 0s - loss: 4.3341e-06     \n",
      "Epoch 43/50\n",
      "50000/50000 [==============================] - 0s - loss: 3.9486e-06     \n",
      "Epoch 44/50\n",
      "50000/50000 [==============================] - 0s - loss: 3.9274e-06     \n",
      "Epoch 45/50\n",
      "50000/50000 [==============================] - 0s - loss: 3.8304e-06     \n",
      "Epoch 46/50\n",
      "50000/50000 [==============================] - 0s - loss: 3.4421e-06     \n",
      "Epoch 47/50\n",
      "50000/50000 [==============================] - 0s - loss: 3.7401e-06     \n",
      "Epoch 48/50\n",
      "50000/50000 [==============================] - 0s - loss: 3.3597e-06     \n",
      "Epoch 49/50\n",
      "50000/50000 [==============================] - 0s - loss: 3.2809e-06     \n",
      "Epoch 50/50\n",
      "50000/50000 [==============================] - 0s - loss: 3.6564e-06     \n"
     ]
    },
    {
     "data": {
      "text/plain": [
       "<keras.callbacks.History at 0x7f2955299510>"
      ]
     },
     "execution_count": 611,
     "metadata": {},
     "output_type": "execute_result"
    }
   ],
   "source": [
    "model.fit(r_train, Fr_train,\n",
    "                epochs=50,\n",
    "                batch_size=20,\n",
    "                shuffle=True)"
   ]
  },
  {
   "cell_type": "code",
   "execution_count": 606,
   "metadata": {
    "scrolled": true
   },
   "outputs": [
    {
     "name": "stdout",
     "output_type": "stream",
     "text": [
      "Epoch 1/50\n",
      "50000/50000 [==============================] - 0s - loss: 66.8001     \n",
      "Epoch 2/50\n",
      "50000/50000 [==============================] - 0s - loss: 2.3889     \n",
      "Epoch 3/50\n",
      "50000/50000 [==============================] - 0s - loss: 0.0704     - ETA: 0s - los\n",
      "Epoch 4/50\n",
      "50000/50000 [==============================] - 0s - loss: 1.2115e-04     \n",
      "Epoch 5/50\n",
      "50000/50000 [==============================] - 0s - loss: 1.1211e-04     \n",
      "Epoch 6/50\n",
      "50000/50000 [==============================] - 0s - loss: 9.3888e-05     \n",
      "Epoch 7/50\n",
      "50000/50000 [==============================] - 0s - loss: 7.1616e-05     \n",
      "Epoch 8/50\n",
      "50000/50000 [==============================] - 0s - loss: 5.7545e-05     \n",
      "Epoch 9/50\n",
      "50000/50000 [==============================] - 0s - loss: 4.7433e-05     \n",
      "Epoch 10/50\n",
      "50000/50000 [==============================] - 0s - loss: 4.0514e-05     \n",
      "Epoch 11/50\n",
      "50000/50000 [==============================] - 0s - loss: 3.6632e-05     \n",
      "Epoch 12/50\n",
      "50000/50000 [==============================] - 0s - loss: 3.4022e-05     \n",
      "Epoch 13/50\n",
      "50000/50000 [==============================] - 0s - loss: 3.2171e-05     \n",
      "Epoch 14/50\n",
      "50000/50000 [==============================] - 0s - loss: 3.0611e-05     \n",
      "Epoch 15/50\n",
      "50000/50000 [==============================] - 0s - loss: 3.0300e-05     \n",
      "Epoch 16/50\n",
      "50000/50000 [==============================] - 0s - loss: 2.9609e-05     \n",
      "Epoch 17/50\n",
      "50000/50000 [==============================] - 0s - loss: 2.9058e-05     \n",
      "Epoch 18/50\n",
      "50000/50000 [==============================] - 0s - loss: 2.9468e-05     \n",
      "Epoch 19/50\n",
      "50000/50000 [==============================] - 0s - loss: 2.8411e-05     \n",
      "Epoch 20/50\n",
      "50000/50000 [==============================] - 0s - loss: 2.9470e-05     \n",
      "Epoch 21/50\n",
      "50000/50000 [==============================] - 0s - loss: 2.8524e-05     \n",
      "Epoch 22/50\n",
      "50000/50000 [==============================] - 0s - loss: 2.8992e-05     \n",
      "Epoch 23/50\n",
      "50000/50000 [==============================] - 0s - loss: 2.9316e-05     \n",
      "Epoch 24/50\n",
      "50000/50000 [==============================] - 0s - loss: 2.9020e-05     \n",
      "Epoch 25/50\n",
      "50000/50000 [==============================] - 0s - loss: 2.8372e-05     \n",
      "Epoch 26/50\n",
      "50000/50000 [==============================] - 0s - loss: 2.8174e-05     \n",
      "Epoch 27/50\n",
      "50000/50000 [==============================] - 0s - loss: 2.7975e-05     \n",
      "Epoch 28/50\n",
      "50000/50000 [==============================] - 0s - loss: 2.8151e-05     \n",
      "Epoch 29/50\n",
      "50000/50000 [==============================] - 0s - loss: 2.7858e-05     \n",
      "Epoch 30/50\n",
      "50000/50000 [==============================] - 0s - loss: 2.8061e-05     \n",
      "Epoch 31/50\n",
      "50000/50000 [==============================] - 0s - loss: 2.7813e-05     \n",
      "Epoch 32/50\n",
      "50000/50000 [==============================] - 0s - loss: 2.7647e-05     \n",
      "Epoch 33/50\n",
      "50000/50000 [==============================] - 0s - loss: 2.7458e-05     \n",
      "Epoch 34/50\n",
      "50000/50000 [==============================] - 0s - loss: 2.7261e-05     \n",
      "Epoch 35/50\n",
      "50000/50000 [==============================] - 0s - loss: 2.7569e-05     \n",
      "Epoch 36/50\n",
      "50000/50000 [==============================] - 0s - loss: 2.7486e-05     \n",
      "Epoch 37/50\n",
      "50000/50000 [==============================] - 0s - loss: 2.7266e-05     \n",
      "Epoch 38/50\n",
      "50000/50000 [==============================] - 0s - loss: 2.7450e-05     \n",
      "Epoch 39/50\n",
      "50000/50000 [==============================] - 0s - loss: 2.7524e-05     \n",
      "Epoch 40/50\n",
      "50000/50000 [==============================] - 0s - loss: 2.7175e-05     \n",
      "Epoch 41/50\n",
      "50000/50000 [==============================] - 0s - loss: 2.7040e-05     \n",
      "Epoch 42/50\n",
      "50000/50000 [==============================] - 0s - loss: 2.7405e-05     \n",
      "Epoch 43/50\n",
      "50000/50000 [==============================] - 0s - loss: 2.6970e-05     \n",
      "Epoch 44/50\n",
      "50000/50000 [==============================] - 0s - loss: 2.6625e-05     \n",
      "Epoch 45/50\n",
      "50000/50000 [==============================] - 0s - loss: 2.7018e-05     \n",
      "Epoch 46/50\n",
      "50000/50000 [==============================] - 0s - loss: 2.6541e-05     \n",
      "Epoch 47/50\n",
      "50000/50000 [==============================] - 0s - loss: 2.6884e-05     \n",
      "Epoch 48/50\n",
      "50000/50000 [==============================] - 0s - loss: 2.6865e-05     \n",
      "Epoch 49/50\n",
      "50000/50000 [==============================] - 0s - loss: 2.6644e-05     \n",
      "Epoch 50/50\n",
      "50000/50000 [==============================] - 0s - loss: 2.6891e-05     \n"
     ]
    },
    {
     "data": {
      "text/plain": [
       "<keras.callbacks.History at 0x7f296b7a9550>"
      ]
     },
     "execution_count": 606,
     "metadata": {},
     "output_type": "execute_result"
    }
   ],
   "source": [
    "model.fit(r_train, Fr_train,\n",
    "                epochs=50,\n",
    "                batch_size=20,\n",
    "                shuffle=True)"
   ]
  },
  {
   "cell_type": "code",
   "execution_count": 612,
   "metadata": {
    "collapsed": true
   },
   "outputs": [],
   "source": [
    "Fr_predict = model.predict(r_train)"
   ]
  },
  {
   "cell_type": "code",
   "execution_count": 613,
   "metadata": {},
   "outputs": [
    {
     "data": {
      "text/plain": [
       "[<matplotlib.lines.Line2D at 0x7f2954c16090>]"
      ]
     },
     "execution_count": 613,
     "metadata": {},
     "output_type": "execute_result"
    },
    {
     "data": {
      "image/png": "[encoded data removed]",
      "text/plain": [
       "<matplotlib.figure.Figure at 0x7f2954c16110>"
      ]
     },
     "metadata": {},
     "output_type": "display_data"
    }
   ],
   "source": [
    "plt.plot(r_train, Fr_train)\n",
    "plt.plot(r_train, Fr_predict)"
   ]
  },
  {
   "cell_type": "code",
   "execution_count": null,
   "metadata": {
    "collapsed": true
   },
   "outputs": [],
   "source": []
  },
  {
   "cell_type": "code",
   "execution_count": null,
   "metadata": {
    "collapsed": true
   },
   "outputs": [],
   "source": []
  },
  {
   "cell_type": "code",
   "execution_count": null,
   "metadata": {
    "collapsed": true
   },
   "outputs": [],
   "source": []
  },
  {
   "cell_type": "code",
   "execution_count": 620,
   "metadata": {
    "collapsed": true
   },
   "outputs": [],
   "source": [
    "from numpy.linalg import eigvalsh, eig"
   ]
  },
  {
   "cell_type": "code",
   "execution_count": 624,
   "metadata": {},
   "outputs": [
    {
     "data": {
      "text/plain": [
       "(array([ 7.07467358, -0.88679099, -3.1878826 ]),\n",
       " array([[ 0.50578521,  0.82403773, -0.25523155],\n",
       "        [ 0.58437383, -0.54492509, -0.60130182],\n",
       "        [ 0.63457746, -0.15497893,  0.75716113]]))"
      ]
     },
     "execution_count": 624,
     "metadata": {},
     "output_type": "execute_result"
    }
   ],
   "source": [
    "W = [[1,2,3],\n",
    "     [2,1,4],\n",
    "     [3,4,1]]\n",
    "eig(W)"
   ]
  },
  {
   "cell_type": "code",
   "execution_count": 626,
   "metadata": {},
   "outputs": [
    {
     "data": {
      "text/plain": [
       "(array([ 7.07467358, -3.1878826 , -0.88679099]),\n",
       " array([[ 0.63457746,  0.75716113, -0.15497893],\n",
       "        [ 0.58437383, -0.60130182, -0.54492509],\n",
       "        [ 0.50578521, -0.25523155,  0.82403773]]))"
      ]
     },
     "execution_count": 626,
     "metadata": {},
     "output_type": "execute_result"
    }
   ],
   "source": [
    "W = [[1,4,3],\n",
    "     [4,1,2],\n",
    "     [3,2,1]]\n",
    "eig(W)"
   ]
  },
  {
   "cell_type": "code",
   "execution_count": 622,
   "metadata": {},
   "outputs": [
    {
     "data": {
      "text/plain": [
       "(array([ 7.07467358, -3.1878826 , -0.88679099]),\n",
       " array([[-0.58437383, -0.60130182,  0.54492509],\n",
       "        [-0.50578521, -0.25523155, -0.82403773],\n",
       "        [-0.63457746,  0.75716113,  0.15497893]]))"
      ]
     },
     "execution_count": 622,
     "metadata": {},
     "output_type": "execute_result"
    }
   ],
   "source": [
    "W = [[1,2,4],\n",
    "     [2,1,3],\n",
    "     [4,3,1]]\n",
    "eig(W)"
   ]
  },
  {
   "cell_type": "code",
   "execution_count": 625,
   "metadata": {},
   "outputs": [
    {
     "data": {
      "text/plain": [
       "(array([ 7.07467358, -0.88679099, -3.1878826 ]),\n",
       " array([[ 0.50578521,  0.82403773, -0.25523155],\n",
       "        [ 0.58437383, -0.54492509, -0.60130182],\n",
       "        [ 0.63457746, -0.15497893,  0.75716113]]))"
      ]
     },
     "execution_count": 625,
     "metadata": {},
     "output_type": "execute_result"
    }
   ],
   "source": [
    "W = [[1,2,3],\n",
    "     [2,1,4],\n",
    "     [3,4,1]]\n",
    "eig(W)"
   ]
  },
  {
   "cell_type": "code",
   "execution_count": null,
   "metadata": {
    "collapsed": true
   },
   "outputs": [],
   "source": [
    "50*50"
   ]
  },
  {
   "cell_type": "code",
   "execution_count": null,
   "metadata": {
    "collapsed": true
   },
   "outputs": [],
   "source": []
  },
  {
   "cell_type": "code",
   "execution_count": null,
   "metadata": {
    "collapsed": true
   },
   "outputs": [],
   "source": []
  },
  {
   "cell_type": "code",
   "execution_count": null,
   "metadata": {
    "collapsed": true
   },
   "outputs": [],
   "source": []
  },
  {
   "cell_type": "code",
   "execution_count": null,
   "metadata": {
    "collapsed": true
   },
   "outputs": [],
   "source": []
  },
  {
   "cell_type": "code",
   "execution_count": null,
   "metadata": {
    "collapsed": true
   },
   "outputs": [],
   "source": []
  },
  {
   "cell_type": "code",
   "execution_count": 201,
   "metadata": {},
   "outputs": [],
   "source": [
    "from keras.layers import Input, Dense, concatenate, Lambda\n",
    "from keras.models import Model\n",
    "\n",
    "#this is essentially a wrapper for keras that automates the building of an autencoder\n",
    "#based on the initial dimensionality, target dimensionality, and how fast the layer \n",
    "#dimensions should shrink. this also includes an initial pre-expansion as is generally\n",
    "#a good idea for autoencoders\n",
    "class AutoEncoder:\n",
    "    \n",
    "    #determine the dimensions of the autoencoder (i.e., how big each layer is)\n",
    "    def __init__(self, dim, encode_dim, num_clones,\n",
    "                 initial_growth=0.10, shrink=0.75,\n",
    "                 **kwargs):\n",
    "        \n",
    "        self.layer_dims = []\n",
    "        self.encoded_layer = 0\n",
    "        encode_data = Input(shape=(dim,)) \n",
    "        decode_data = Input(shape=(encode_dim,))\n",
    "        \n",
    "        \n",
    "        ################################################\n",
    "        ###build the encoder and decoder architecture###\n",
    "        ################################################\n",
    "\n",
    "        #initial expansion layer\n",
    "        start_dim = int(dim*(1.0 + initial_growth))\n",
    "        encoded = Dense(start_dim, **kwargs)(encode_data)\n",
    "        self.layer_dims.append(start_dim)\n",
    "        self.encoded_layer += 1\n",
    "\n",
    "        #compression layers\n",
    "        current_dim = int(start_dim*shrink)\n",
    "        while current_dim > encode_dim:\n",
    "            encoded = Dense(current_dim, **kwargs)(encoded)\n",
    "            self.layer_dims.append(current_dim)\n",
    "            self.encoded_layer += 1\n",
    "            current_dim = int(current_dim*shrink)\n",
    "        \n",
    "        #final encoding layer\n",
    "        #encoded = Dense(encode_dim, **kwargs)(encoded)\n",
    "        encoded = Dense(encode_dim, activation='linear')(encoded) \n",
    "        self.layer_dims.append(encode_dim)\n",
    "        self.encoded_layer += 1\n",
    "        \n",
    "        #first expansion layer\n",
    "        reversed_dims = self.layer_dims[::-1][1:]\n",
    "        decoded = Dense(reversed_dims[0], **kwargs)(decode_data)\n",
    "        self.layer_dims.append(reversed_dims[0])\n",
    "        self.encoded_layer += 1\n",
    "        \n",
    "        #remaining expansion layers\n",
    "        for current_dim in reversed_dims[1:]:\n",
    "            decoded = Dense(current_dim, **kwargs)(decoded)\n",
    "            self.layer_dims.append(current_dim)\n",
    "            \n",
    "        #final linear layer\n",
    "        decoded = Dense(dim, activation='linear')(decoded)\n",
    "        self.layer_dims.append(dim)\n",
    "        \n",
    "        #create encoder and decoder models\n",
    "        self.encoder = Model(encode_data, encoded)\n",
    "        self.decoder = Model(decode_data, decoded)\n",
    "        \n",
    "        #create the joint model\n",
    "        _encoded_ = self.encoder(encode_data)\n",
    "        _decoded_ = self.decoder(_encoded_)\n",
    "        self.autoencoder = Model(encode_data, _decoded_)\n",
    "        \n",
    "        \n",
    "        #########################################\n",
    "        ###build the coupled autoencoder model###\n",
    "        #########################################\n",
    "        \n",
    "        #read in joint data and split into the columns\n",
    "        joint_input = Input(shape=(dim*num_clones,))\n",
    "        split_input = []\n",
    "        for i in range(num_clones):\n",
    "            split_input.append( Lambda(lambda x : x[:,i*dim:(i+1)*dim], output_shape=(dim,))(joint_input) )\n",
    "            \n",
    "        #spit out the results and concatenate\n",
    "        split_output = [self.autoencoder(input) for input in split_input]\n",
    "        if num_clones == 1:\n",
    "            joint_output = split_output[0]\n",
    "        else:\n",
    "            joint_output = concatenate(split_output, axis=-1)\n",
    "        \n",
    "        #final model\n",
    "        self.autoencoder = Model(joint_input, joint_output)\n",
    "\n",
    "        ####create the joint model\n",
    "        ####_encoded_ = self.encoder(encode_data)\n",
    "        ####_decoded_ = self.decoder(_encoded_)\n",
    "        ####self.autoencoder = Model(encode_data, _decoded_)\n",
    "        \n",
    "        return None\n",
    "    \n",
    "    def Compile(self, **kwargs):\n",
    "        return self.autoencoder.compile(**kwargs)\n",
    "    \n",
    "    def Fit(self, features_train, features_test, **kwargs):\n",
    "        if 'validation_data' in kwargs:\n",
    "            return self.autoencoder.fit(features_train, \n",
    "                                        features_train, \n",
    "                                        **kwargs)\n",
    "        else:\n",
    "            return self.autoencoder.fit(features_train, \n",
    "                                        features_train,  \n",
    "                                        validation_data=(features_test, features_test), \n",
    "                                        **kwargs)\n",
    "        \n",
    "    def Encode(self, features, **kwargs):\n",
    "        return self.encoder.predict(features, **kwargs)\n",
    "    \n",
    "    def Decode(self, features, **kwargs):\n",
    "        return self.decoder.predict(features, **kwargs)\n",
    "    \n",
    "    def Summary(self, **kwargs):\n",
    "        return self.autoencoder.summary(**kwargs)"
   ]
  },
  {
   "cell_type": "code",
   "execution_count": 187,
   "metadata": {},
   "outputs": [
    {
     "name": "stdout",
     "output_type": "stream",
     "text": [
      "1\n",
      "2\n",
      "3\n"
     ]
    }
   ],
   "source": [
    "for input in [1,2,3]:\n",
    "    print input"
   ]
  },
  {
   "cell_type": "code",
   "execution_count": null,
   "metadata": {
    "collapsed": true
   },
   "outputs": [],
   "source": []
  }
 ],
 "metadata": {
  "kernelspec": {
   "display_name": "Python 2",
   "language": "python",
   "name": "python2"
  },
  "language_info": {
   "codemirror_mode": {
    "name": "ipython",
    "version": 2
   },
   "file_extension": ".py",
   "mimetype": "text/x-python",
   "name": "python",
   "nbconvert_exporter": "python",
   "pygments_lexer": "ipython2",
   "version": "2.7.13"
  }
 },
 "nbformat": 4,
 "nbformat_minor": 2
}
