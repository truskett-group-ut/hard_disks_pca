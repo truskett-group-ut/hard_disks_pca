{
 "cells": [
  {
   "cell_type": "code",
   "execution_count": null,
   "metadata": {
    "collapsed": true
   },
   "outputs": [],
   "source": []
  },
  {
   "cell_type": "code",
   "execution_count": null,
   "metadata": {
    "collapsed": true
   },
   "outputs": [],
   "source": [
    "from numpy import transpose, dot"
   ]
  },
  {
   "cell_type": "code",
   "execution_count": null,
   "metadata": {
    "collapsed": true
   },
   "outputs": [],
   "source": [
    "def RemoveIG(incpca_ig, d_ig, features):\n",
    "    #initial chack on things\n",
    "    features = array(features)\n",
    "    if d_ig == 0:\n",
    "        return features\n",
    "    \n",
    "    #transposed components matrix\n",
    "    ig_matrix = incpca_ig.components_[:d_ig]\n",
    "    ig_matrix_T = transpose(ig_matrix)\n",
    "\n",
    "    #remove the mean from the features\n",
    "    features = features - incpca_ig.mean_\n",
    "\n",
    "    #transform into ideal gas principal components\n",
    "    pcs_ig = dot(features, ig_matrix_T)\n",
    "\n",
    "    #transform back to feature space\n",
    "    #features = features - (dot(pcs_ig, ig_matrix) + incpca_ig.mean_)\n",
    "    features = features - dot(pcs_ig, ig_matrix)\n",
    "\n",
    "    return features"
   ]
  },
  {
   "cell_type": "markdown",
   "metadata": {},
   "source": [
    "**Test of home made transformer**"
   ]
  },
  {
   "cell_type": "code",
   "execution_count": null,
   "metadata": {
    "collapsed": true
   },
   "outputs": [],
   "source": [
    "RemoveIG(incpca_ig, 0, features_partial) - features_partial"
   ]
  },
  {
   "cell_type": "code",
   "execution_count": null,
   "metadata": {
    "collapsed": true
   },
   "outputs": [],
   "source": [
    "RemoveIG(incpca_ig, 48, features_partial)"
   ]
  },
  {
   "cell_type": "code",
   "execution_count": null,
   "metadata": {
    "collapsed": true
   },
   "outputs": [],
   "source": [
    "features_partial_ig_projection = incpca_ig.inverse_transform(incpca_ig.transform(features_partial))\n",
    "features_partial - features_partial_ig_projection"
   ]
  }
 ],
 "metadata": {
  "kernelspec": {
   "display_name": "Python 2",
   "language": "python",
   "name": "python2"
  },
  "language_info": {
   "codemirror_mode": {
    "name": "ipython",
    "version": 2
   },
   "file_extension": ".py",
   "mimetype": "text/x-python",
   "name": "python",
   "nbconvert_exporter": "python",
   "pygments_lexer": "ipython2",
   "version": "2.7.13"
  }
 },
 "nbformat": 4,
 "nbformat_minor": 2
}
